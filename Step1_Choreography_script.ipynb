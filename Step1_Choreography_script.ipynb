{
 "cells": [
  {
   "cell_type": "code",
   "execution_count": 1,
   "id": "429fea60",
   "metadata": {},
   "outputs": [
    {
     "name": "stdout",
     "output_type": "stream",
     "text": [
      "done step 1\n"
     ]
    }
   ],
   "source": [
    "#importing required libraries\n",
    "import pandas as pd #<- package used to import and organize data\n",
    "import numpy as np #<- package used to import and organize data\n",
    "import os #<- package used to work with system filepaths\n",
    "import subprocess\n",
    "from ipywidgets import widgets #<- widget tool to generate button\n",
    "from IPython.display import display #<- displays button\n",
    "# from tkinter import Tk, filedialog #<- Tkinter is a GUI package\n",
    "from tqdm.notebook import tqdm\n",
    "from ipyfilechooser import FileChooser\n",
    "\n",
    "print(\"done step 1\")"
   ]
  },
  {
   "cell_type": "code",
   "execution_count": 2,
   "id": "b2d3e6c4",
   "metadata": {},
   "outputs": [
    {
     "name": "stdout",
     "output_type": "stream",
     "text": [
      "/Users/gurmehak/Documents/RankinLab/MWT_Dashboard\n"
     ]
    }
   ],
   "source": [
    "# record the repository directory\n",
    "repo_directory = os.getcwd()\n",
    "print(repo_directory)"
   ]
  },
  {
   "cell_type": "code",
   "execution_count": 3,
   "id": "8aa35d04",
   "metadata": {},
   "outputs": [
    {
     "data": {
      "application/vnd.jupyter.widget-view+json": {
       "model_id": "b40b1fcd6c4143afaaafccc6852af2a5",
       "version_major": 2,
       "version_minor": 0
      },
      "text/plain": [
       "FileChooser(path='/Users/Gurmehak/Desktop', filename='', title='', show_hidden=False, select_desc='Select', ch…"
      ]
     },
     "metadata": {},
     "output_type": "display_data"
    }
   ],
   "source": [
    "# set starting directory to where the data is\n",
    "starting_directory='/Users/Gurmehak/Desktop/'\n",
    "chooser=FileChooser(starting_directory)\n",
    "display(chooser)"
   ]
  },
  {
   "cell_type": "code",
   "execution_count": 4,
   "id": "5851fc51",
   "metadata": {},
   "outputs": [
    {
     "name": "stdout",
     "output_type": "stream",
     "text": [
      "/Users/Gurmehak/Documents/RankinLab/test-data/Test_Datasets/PDScreen_TapHab_August15_2022/N2\n"
     ]
    }
   ],
   "source": [
    "folder_path=chooser.selected_path\n",
    "print(folder_path)"
   ]
  },
  {
   "cell_type": "code",
   "execution_count": 5,
   "id": "62a1c37a",
   "metadata": {},
   "outputs": [
    {
     "name": "stdout",
     "output_type": "stream",
     "text": [
      "/Users/Gurmehak/Documents/RankinLab/test-data/Test_Datasets/PDScreen_TapHab_August15_2022/N2\n",
      "['/Users/Gurmehak/Documents/RankinLab/test-data/Test_Datasets/PDScreen_TapHab_August15_2022/N2/20220815_103433.zip', '/Users/Gurmehak/Documents/RankinLab/test-data/Test_Datasets/PDScreen_TapHab_August15_2022/N2/20220815_122801.zip', '/Users/Gurmehak/Documents/RankinLab/test-data/Test_Datasets/PDScreen_TapHab_August15_2022/N2/20220815_121502.zip', '/Users/Gurmehak/Documents/RankinLab/test-data/Test_Datasets/PDScreen_TapHab_August15_2022/N2/20220815_102652.zip', '/Users/Gurmehak/Documents/RankinLab/test-data/Test_Datasets/PDScreen_TapHab_August15_2022/N2/20220815_101538.zip']\n",
      "done step 3\n"
     ]
    }
   ],
   "source": [
    "#folder_path = '/Users/Joseph/Desktop/lrk1_ATR_NoATR_08_15_2019'\n",
    "print(folder_path)\n",
    "os.chdir(folder_path) #<- setting your working directory so that your images will be saved here\n",
    "\n",
    "filelist = list() #<- empty list\n",
    "for root, dirs, files in os.walk(folder_path): #<- this for loop goes through your folder \n",
    "    for name in files:\n",
    "        if name.endswith('.zip'): #<- and takes out all files with a .dat (file that contains your data)\n",
    "            filepath = os.path.join(root, name) #<- Notes down the file path of each data file\n",
    "            filelist.append(filepath) #<- saves it into the list\n",
    "    \n",
    "print(filelist)\n",
    "print('done step 3')"
   ]
  },
  {
   "cell_type": "markdown",
   "id": "c0ef175d",
   "metadata": {},
   "source": [
    "# For Analyzing Tap Habituation Statistics"
   ]
  },
  {
   "cell_type": "code",
   "execution_count": null,
   "id": "81fe5239",
   "metadata": {},
   "outputs": [
    {
     "data": {
      "text/plain": [
       "'/Users/gurmehak/Documents/RankinLab/MWT_Dashboard/Chore.jar'"
      ]
     },
     "execution_count": 8,
     "metadata": {},
     "output_type": "execute_result"
    }
   ],
   "source": [
    "str(repo_directory+'/Chore.jar')"
   ]
  },
  {
   "cell_type": "code",
   "execution_count": 9,
   "id": "8feeac8a",
   "metadata": {},
   "outputs": [
    {
     "data": {
      "application/vnd.jupyter.widget-view+json": {
       "model_id": "680790633d2e4cc08cdc036c53f499f1",
       "version_major": 2,
       "version_minor": 0
      },
      "text/plain": [
       "  0%|          | 0/5 [00:00<?, ?it/s]"
      ]
     },
     "metadata": {},
     "output_type": "display_data"
    },
    {
     "name": "stdout",
     "output_type": "stream",
     "text": [
      "Reading files: 1 summary, 0 reference, 3 object.\n",
      "  Summary file has 28386 data points.\n",
      "  394 out of 2573 objects meet criteria.\n",
      "Took 28.855 seconds to load data\n",
      "Writing summary file /Users/Gurmehak/Documents/RankinLab/test-data/Test_Datasets/PDScreen_TapHab_August15_2022/N2/20220815_103433/N2_10x2_f72h20C_600s31x10s10s_C0811ac.dat\n",
      "  Write successful.\n",
      "Reading files: 1 summary, 0 reference, 3 object.\n",
      "  Summary file has 29740 data points.\n",
      "  152 out of 3216 objects meet criteria.\n",
      "Took 11.655 seconds to load data\n",
      "Writing summary file /Users/Gurmehak/Documents/RankinLab/test-data/Test_Datasets/PDScreen_TapHab_August15_2022/N2/20220815_122801/N2_10x2_f96h20C_600s31x10s10s_A0811ad.dat\n",
      "  Write successful.\n",
      "Reading files: 1 summary, 0 reference, 1 object.\n",
      "  Summary file has 22050 data points.\n",
      "  201 out of 1054 objects meet criteria.\n",
      "Took 16.143 seconds to load data\n",
      "Writing summary file /Users/Gurmehak/Documents/RankinLab/test-data/Test_Datasets/PDScreen_TapHab_August15_2022/N2/20220815_121502/N2_10x2_f72h20C_600s31x10s10s_B0811ae.dat\n",
      "  Write successful.\n",
      "Reading files: 1 summary, 0 reference, 2 object.\n",
      "  Summary file has 29714 data points.\n",
      "  114 out of 1793 objects meet criteria.\n",
      "Took 17.582 seconds to load data\n",
      "Writing summary file /Users/Gurmehak/Documents/RankinLab/test-data/Test_Datasets/PDScreen_TapHab_August15_2022/N2/20220815_102652/N2_10x2_f96h20C_600s31x10s10s_A0811aa.dat\n",
      "  Write successful.\n",
      "Reading files: 1 summary, 0 reference, 1 object.\n",
      "  Summary file has 24240 data points.\n",
      "  86 out of 552 objects meet criteria.\n",
      "Took 9.785 seconds to load data\n",
      "Writing summary file /Users/Gurmehak/Documents/RankinLab/test-data/Test_Datasets/PDScreen_TapHab_August15_2022/N2/20220815_101538/N2_10x2_f72h20C_600s31x10s10s_B0811ab.dat\n",
      "  Write successful.\n"
     ]
    }
   ],
   "source": [
    "# extract data for tap habituation to make .dat, .trv and .txt files\n",
    "# /users/Gurmehak/Desktop/\n",
    "for f in tqdm(filelist):\n",
    "    subprocess.call(['java', '-Xms13g','-jar', str(repo_directory+'/Chore.jar'), \n",
    "                     '-p', '0.027', \n",
    "                     '-s', '0.1', \n",
    "                     '-t', '20', \n",
    "                     '-M', '2', \n",
    "                     '--shadowless', \n",
    "                     '-S' ,\n",
    "                     '-o', 'nNss*b12xyMmeSakcrP', \n",
    "                     '--plugin', 'Reoutline::exp',\n",
    "                     '--plugin', 'Respine',\n",
    "                     '--plugin', 'MeasureReversal::tap::dt=1::collect=0.5::postfix=trv',\n",
    "                     '--plugin', 'MeasureReversal::puff::dt=3::collect=0.5::postfix=prv',\n",
    "                     '--plugin', 'MeasureReversal::postfix=txt',\n",
    "                     f'{f}'])"
   ]
  }
 ],
 "metadata": {
  "kernelspec": {
   "display_name": "rankinlab",
   "language": "python",
   "name": "python3"
  },
  "language_info": {
   "codemirror_mode": {
    "name": "ipython",
    "version": 3
   },
   "file_extension": ".py",
   "mimetype": "text/x-python",
   "name": "python",
   "nbconvert_exporter": "python",
   "pygments_lexer": "ipython3",
   "version": "3.11.12"
  }
 },
 "nbformat": 4,
 "nbformat_minor": 5
}
