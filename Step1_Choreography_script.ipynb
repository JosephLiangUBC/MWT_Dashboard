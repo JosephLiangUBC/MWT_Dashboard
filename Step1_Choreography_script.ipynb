{
 "cells": [
  {
   "cell_type": "code",
   "execution_count": null,
   "id": "429fea60",
   "metadata": {},
   "outputs": [],
   "source": [
    "#importing required libraries\n",
    "import pandas as pd #<- package used to import and organize data\n",
    "import numpy as np #<- package used to import and organize data\n",
    "import os #<- package used to work with system filepaths\n",
    "import subprocess\n",
    "from ipywidgets import widgets #<- widget tool to generate button\n",
    "from IPython.display import display #<- displays button\n",
    "# from tkinter import Tk, filedialog #<- Tkinter is a GUI package\n",
    "from tqdm.notebook import tqdm\n",
    "from ipyfilechooser import FileChooser\n",
    "\n",
    "print(\"done step 1\")"
   ]
  },
  {
   "cell_type": "code",
   "execution_count": null,
   "id": "b2d3e6c4",
   "metadata": {},
   "outputs": [],
   "source": [
    "# record the repository directory\n",
    "repo_directory = os.getcwd()\n",
    "print(repo_directory)"
   ]
  },
  {
   "cell_type": "code",
   "execution_count": null,
   "id": "8aa35d04",
   "metadata": {},
   "outputs": [],
   "source": [
    "# set starting directory to where the data is\n",
    "starting_directory='/Users'\n",
    "chooser=FileChooser(starting_directory)\n",
    "display(chooser)"
   ]
  },
  {
   "cell_type": "code",
   "execution_count": null,
   "id": "5851fc51",
   "metadata": {},
   "outputs": [],
   "source": [
    "folder_path=chooser.selected_path\n",
    "print(folder_path)"
   ]
  },
  {
   "cell_type": "code",
   "execution_count": null,
   "id": "62a1c37a",
   "metadata": {},
   "outputs": [],
   "source": [
    "#folder_path = '/Users/Joseph/Desktop/lrk1_ATR_NoATR_08_15_2019'\n",
    "print(folder_path)\n",
    "os.chdir(folder_path) #<- setting your working directory so that your images will be saved here\n",
    "\n",
    "filelist = list() #<- empty list\n",
    "for root, dirs, files in os.walk(folder_path): #<- this for loop goes through your folder \n",
    "    for name in files:\n",
    "        if name.endswith('.zip'): #<- and takes out all files with a .dat (file that contains your data)\n",
    "            filepath = os.path.join(root, name) #<- Notes down the file path of each data file\n",
    "            filelist.append(filepath) #<- saves it into the list\n",
    "    \n",
    "print(filelist)\n",
    "print('done step 3')"
   ]
  },
  {
   "cell_type": "markdown",
   "id": "c0ef175d",
   "metadata": {},
   "source": [
    "# For Analyzing Tap Habituation Statistics"
   ]
  },
  {
   "cell_type": "code",
   "execution_count": null,
   "id": "8feeac8a",
   "metadata": {},
   "outputs": [],
   "source": [
    "# extract data for tap habituation to make .dat, .trv and .txt files\n",
    "\n",
    "for f in tqdm(filelist):\n",
    "    subprocess.call(['java', '-Xms13g','-jar', str(repo_directory+'/Chore.jar'), \n",
    "                     '-p', '0.027', \n",
    "                     '-s', '0.1', \n",
    "                     '-t', '20', \n",
    "                     '-M', '2', \n",
    "                     '--shadowless', \n",
    "                     '-S' ,\n",
    "                     '-o', 'nNss*b12xyMmeSakcrP', \n",
    "                     '--plugin', 'Reoutline::exp',\n",
    "                     '--plugin', 'Respine',\n",
    "                     '--plugin', 'MeasureReversal::tap::dt=1::collect=0.5::postfix=trv',\n",
    "                     '--plugin', 'MeasureReversal::puff::dt=3::collect=0.5::postfix=prv',\n",
    "                     '--plugin', 'MeasureReversal::postfix=txt',\n",
    "                     f'{f}'])"
   ]
  },
  {
   "cell_type": "code",
   "execution_count": null,
   "id": "55f8c14b-670e-4b9e-96bd-f2e3ce354a2a",
   "metadata": {},
   "outputs": [],
   "source": []
  }
 ],
 "metadata": {
  "kernelspec": {
   "display_name": "Python 3 (ipykernel)",
   "language": "python",
   "name": "python3"
  },
  "language_info": {
   "codemirror_mode": {
    "name": "ipython",
    "version": 3
   },
   "file_extension": ".py",
   "mimetype": "text/x-python",
   "name": "python",
   "nbconvert_exporter": "python",
   "pygments_lexer": "ipython3",
   "version": "3.11.1"
  }
 },
 "nbformat": 4,
 "nbformat_minor": 5
}
