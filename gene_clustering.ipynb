{
 "cells": [
  {
   "cell_type": "code",
   "execution_count": 14,
   "id": "687c2162",
   "metadata": {},
   "outputs": [],
   "source": [
    "import numpy as np\n",
    "import pandas as pd\n",
    "import matplotlib.pyplot as plt\n",
    "import os\n",
    "from sqlalchemy import create_engine\n",
    "from config import load_config\n",
    "\n",
    "from sklearn.compose import make_column_transformer\n",
    "from sklearn.pipeline import make_pipeline\n",
    "from sklearn.impute import SimpleImputer\n",
    "from sklearn.preprocessing import StandardScaler, OneHotEncoder\n",
    "from sklearn.decomposition import PCA\n",
    "from sklearn.cluster import KMeans\n",
    "from sklearn.metrics import silhouette_score"
   ]
  },
  {
   "cell_type": "code",
   "execution_count": 15,
   "id": "ef363189",
   "metadata": {},
   "outputs": [],
   "source": [
    "# Loads database config values from database.ini file and validates that user and password are set.\n",
    "config = load_config()\n",
    "if (config['user'] == \"\" or config['password'] == \"\"):\n",
    "    print(\"Please set your user and password in the database.ini file.\")\n",
    "    sys.exit(1)\n",
    "    \n",
    "# Creates a connection pool to PostgreSQL database using SQLAlchemy.\n",
    "engine = create_engine(f\"postgresql+psycopg://{config['user']}:{config['password']}@{config['host']}:{config['port']}/{config['database']}\")"
   ]
  },
  {
   "cell_type": "code",
   "execution_count": 18,
   "id": "c7fca863",
   "metadata": {},
   "outputs": [
    {
     "data": {
      "text/html": [
       "<div>\n",
       "<style scoped>\n",
       "    .dataframe tbody tr th:only-of-type {\n",
       "        vertical-align: middle;\n",
       "    }\n",
       "\n",
       "    .dataframe tbody tr th {\n",
       "        vertical-align: top;\n",
       "    }\n",
       "\n",
       "    .dataframe thead th {\n",
       "        text-align: right;\n",
       "    }\n",
       "</style>\n",
       "<table border=\"1\" class=\"dataframe\">\n",
       "  <thead>\n",
       "    <tr style=\"text-align: right;\">\n",
       "      <th></th>\n",
       "      <th>index</th>\n",
       "      <th>Screen</th>\n",
       "      <th>Gene</th>\n",
       "      <th>Morphwidth</th>\n",
       "      <th>Midline</th>\n",
       "      <th>Area</th>\n",
       "      <th>Speed</th>\n",
       "      <th>Bias</th>\n",
       "      <th>Angular Speed</th>\n",
       "      <th>Aspect Ratio</th>\n",
       "      <th>...</th>\n",
       "      <th>Initial PSA Crab</th>\n",
       "      <th>Final PSA Crab</th>\n",
       "      <th>Recovery PSA Crab</th>\n",
       "      <th>Peak PSA Crab</th>\n",
       "      <th>Peak Tap Number of PSA Crab</th>\n",
       "      <th>Average PSA Crab</th>\n",
       "      <th>Sensitization of PSA Crab</th>\n",
       "      <th>Habituation of PSA Crab</th>\n",
       "      <th>Spontaneous Recovery of PSA Crab</th>\n",
       "      <th>Memory Retention of PSA Crab</th>\n",
       "    </tr>\n",
       "  </thead>\n",
       "  <tbody>\n",
       "    <tr>\n",
       "      <th>0</th>\n",
       "      <td>99</td>\n",
       "      <td>Neuron_Genes_Screen</td>\n",
       "      <td>crb-1</td>\n",
       "      <td>-68.496389</td>\n",
       "      <td>-463.636579</td>\n",
       "      <td>-184.897543</td>\n",
       "      <td>-276.539960</td>\n",
       "      <td>-295.918287</td>\n",
       "      <td>-26.005262</td>\n",
       "      <td>104.180733</td>\n",
       "      <td>...</td>\n",
       "      <td>1.426824</td>\n",
       "      <td>2.924339</td>\n",
       "      <td>2.034681</td>\n",
       "      <td>4.151277</td>\n",
       "      <td>-2.125745</td>\n",
       "      <td>4.056727</td>\n",
       "      <td>7.418909</td>\n",
       "      <td>4.978237</td>\n",
       "      <td>0.754411</td>\n",
       "      <td>-0.567230</td>\n",
       "    </tr>\n",
       "    <tr>\n",
       "      <th>1</th>\n",
       "      <td>360</td>\n",
       "      <td>Neuron_Genes_Screen</td>\n",
       "      <td>sid-1</td>\n",
       "      <td>-303.393518</td>\n",
       "      <td>-368.376289</td>\n",
       "      <td>-414.720952</td>\n",
       "      <td>-360.376960</td>\n",
       "      <td>-287.599024</td>\n",
       "      <td>-95.889295</td>\n",
       "      <td>83.325624</td>\n",
       "      <td>...</td>\n",
       "      <td>-0.665937</td>\n",
       "      <td>0.358000</td>\n",
       "      <td>0.876437</td>\n",
       "      <td>1.640464</td>\n",
       "      <td>-0.265319</td>\n",
       "      <td>1.386822</td>\n",
       "      <td>3.147869</td>\n",
       "      <td>1.858055</td>\n",
       "      <td>1.316280</td>\n",
       "      <td>1.500438</td>\n",
       "    </tr>\n",
       "    <tr>\n",
       "      <th>2</th>\n",
       "      <td>15</td>\n",
       "      <td>ASD_Screen</td>\n",
       "      <td>cdkl-1</td>\n",
       "      <td>117.311452</td>\n",
       "      <td>-120.306780</td>\n",
       "      <td>16.371823</td>\n",
       "      <td>-44.065819</td>\n",
       "      <td>-21.957771</td>\n",
       "      <td>30.007247</td>\n",
       "      <td>63.061494</td>\n",
       "      <td>...</td>\n",
       "      <td>-21.382519</td>\n",
       "      <td>-3.409448</td>\n",
       "      <td>-15.418954</td>\n",
       "      <td>-15.749503</td>\n",
       "      <td>2.556072</td>\n",
       "      <td>-15.187795</td>\n",
       "      <td>-4.094371</td>\n",
       "      <td>-14.503847</td>\n",
       "      <td>-2.925680</td>\n",
       "      <td>-6.997452</td>\n",
       "    </tr>\n",
       "    <tr>\n",
       "      <th>3</th>\n",
       "      <td>35</td>\n",
       "      <td>ASD_Screen</td>\n",
       "      <td>gex-3</td>\n",
       "      <td>-162.011769</td>\n",
       "      <td>-209.833308</td>\n",
       "      <td>-215.668982</td>\n",
       "      <td>-34.277144</td>\n",
       "      <td>18.290498</td>\n",
       "      <td>-11.594857</td>\n",
       "      <td>-27.988780</td>\n",
       "      <td>...</td>\n",
       "      <td>0.792724</td>\n",
       "      <td>-1.161596</td>\n",
       "      <td>-1.682367</td>\n",
       "      <td>0.867141</td>\n",
       "      <td>0.755929</td>\n",
       "      <td>-1.379243</td>\n",
       "      <td>-0.374859</td>\n",
       "      <td>1.231142</td>\n",
       "      <td>-2.989971</td>\n",
       "      <td>0.132965</td>\n",
       "    </tr>\n",
       "    <tr>\n",
       "      <th>4</th>\n",
       "      <td>0</td>\n",
       "      <td>ASD_Screen</td>\n",
       "      <td>C25H3.11</td>\n",
       "      <td>-156.748579</td>\n",
       "      <td>-150.981109</td>\n",
       "      <td>-272.550660</td>\n",
       "      <td>28.184561</td>\n",
       "      <td>6.113967</td>\n",
       "      <td>26.840463</td>\n",
       "      <td>-28.240984</td>\n",
       "      <td>...</td>\n",
       "      <td>-5.894009</td>\n",
       "      <td>5.849083</td>\n",
       "      <td>0.411030</td>\n",
       "      <td>2.179121</td>\n",
       "      <td>0.522233</td>\n",
       "      <td>4.328581</td>\n",
       "      <td>4.220328</td>\n",
       "      <td>-1.713132</td>\n",
       "      <td>2.492574</td>\n",
       "      <td>-4.547015</td>\n",
       "    </tr>\n",
       "  </tbody>\n",
       "</table>\n",
       "<p>5 rows × 99 columns</p>\n",
       "</div>"
      ],
      "text/plain": [
       "   index               Screen      Gene  Morphwidth     Midline        Area  \\\n",
       "0     99  Neuron_Genes_Screen     crb-1  -68.496389 -463.636579 -184.897543   \n",
       "1    360  Neuron_Genes_Screen     sid-1 -303.393518 -368.376289 -414.720952   \n",
       "2     15           ASD_Screen    cdkl-1  117.311452 -120.306780   16.371823   \n",
       "3     35           ASD_Screen     gex-3 -162.011769 -209.833308 -215.668982   \n",
       "4      0           ASD_Screen  C25H3.11 -156.748579 -150.981109 -272.550660   \n",
       "\n",
       "        Speed        Bias  Angular Speed  Aspect Ratio  ...  Initial PSA Crab  \\\n",
       "0 -276.539960 -295.918287     -26.005262    104.180733  ...          1.426824   \n",
       "1 -360.376960 -287.599024     -95.889295     83.325624  ...         -0.665937   \n",
       "2  -44.065819  -21.957771      30.007247     63.061494  ...        -21.382519   \n",
       "3  -34.277144   18.290498     -11.594857    -27.988780  ...          0.792724   \n",
       "4   28.184561    6.113967      26.840463    -28.240984  ...         -5.894009   \n",
       "\n",
       "   Final PSA Crab  Recovery PSA Crab  Peak PSA Crab  \\\n",
       "0        2.924339           2.034681       4.151277   \n",
       "1        0.358000           0.876437       1.640464   \n",
       "2       -3.409448         -15.418954     -15.749503   \n",
       "3       -1.161596          -1.682367       0.867141   \n",
       "4        5.849083           0.411030       2.179121   \n",
       "\n",
       "   Peak Tap Number of PSA Crab  Average PSA Crab  Sensitization of PSA Crab  \\\n",
       "0                    -2.125745          4.056727                   7.418909   \n",
       "1                    -0.265319          1.386822                   3.147869   \n",
       "2                     2.556072        -15.187795                  -4.094371   \n",
       "3                     0.755929         -1.379243                  -0.374859   \n",
       "4                     0.522233          4.328581                   4.220328   \n",
       "\n",
       "   Habituation of PSA Crab  Spontaneous Recovery of PSA Crab  \\\n",
       "0                 4.978237                          0.754411   \n",
       "1                 1.858055                          1.316280   \n",
       "2               -14.503847                         -2.925680   \n",
       "3                 1.231142                         -2.989971   \n",
       "4                -1.713132                          2.492574   \n",
       "\n",
       "   Memory Retention of PSA Crab  \n",
       "0                     -0.567230  \n",
       "1                      1.500438  \n",
       "2                     -6.997452  \n",
       "3                      0.132965  \n",
       "4                     -4.547015  \n",
       "\n",
       "[5 rows x 99 columns]"
      ]
     },
     "execution_count": 18,
     "metadata": {},
     "output_type": "execute_result"
    }
   ],
   "source": [
    "df = pd.read_sql(\"SELECT * FROM tstat_gene_data\", engine)\n",
    "df.head()"
   ]
  },
  {
   "cell_type": "code",
   "execution_count": 19,
   "id": "3b4297f7",
   "metadata": {},
   "outputs": [
    {
     "name": "stdout",
     "output_type": "stream",
     "text": [
      "Shape:(780, 99)\n"
     ]
    }
   ],
   "source": [
    "print(f'Shape:{df.shape}')"
   ]
  },
  {
   "cell_type": "code",
   "execution_count": 20,
   "id": "66a7ba95",
   "metadata": {},
   "outputs": [
    {
     "name": "stderr",
     "output_type": "stream",
     "text": [
      "/Users/gurmehak/miniforge3/envs/rankinlab/lib/python3.11/site-packages/pandas/core/nanops.py:1016: RuntimeWarning: invalid value encountered in subtract\n",
      "  sqr = _ensure_numeric((avg - values) ** 2)\n"
     ]
    },
    {
     "data": {
      "text/html": [
       "<div>\n",
       "<style scoped>\n",
       "    .dataframe tbody tr th:only-of-type {\n",
       "        vertical-align: middle;\n",
       "    }\n",
       "\n",
       "    .dataframe tbody tr th {\n",
       "        vertical-align: top;\n",
       "    }\n",
       "\n",
       "    .dataframe thead th {\n",
       "        text-align: right;\n",
       "    }\n",
       "</style>\n",
       "<table border=\"1\" class=\"dataframe\">\n",
       "  <thead>\n",
       "    <tr style=\"text-align: right;\">\n",
       "      <th></th>\n",
       "      <th>index</th>\n",
       "      <th>Morphwidth</th>\n",
       "      <th>Midline</th>\n",
       "      <th>Area</th>\n",
       "      <th>Speed</th>\n",
       "      <th>Bias</th>\n",
       "      <th>Angular Speed</th>\n",
       "      <th>Aspect Ratio</th>\n",
       "      <th>Kink</th>\n",
       "      <th>Curve</th>\n",
       "      <th>...</th>\n",
       "      <th>Initial PSA Crab</th>\n",
       "      <th>Final PSA Crab</th>\n",
       "      <th>Recovery PSA Crab</th>\n",
       "      <th>Peak PSA Crab</th>\n",
       "      <th>Peak Tap Number of PSA Crab</th>\n",
       "      <th>Average PSA Crab</th>\n",
       "      <th>Sensitization of PSA Crab</th>\n",
       "      <th>Habituation of PSA Crab</th>\n",
       "      <th>Spontaneous Recovery of PSA Crab</th>\n",
       "      <th>Memory Retention of PSA Crab</th>\n",
       "    </tr>\n",
       "  </thead>\n",
       "  <tbody>\n",
       "    <tr>\n",
       "      <th>count</th>\n",
       "      <td>780.000000</td>\n",
       "      <td>780.000000</td>\n",
       "      <td>780.000000</td>\n",
       "      <td>780.000000</td>\n",
       "      <td>780.000000</td>\n",
       "      <td>780.000000</td>\n",
       "      <td>780.000000</td>\n",
       "      <td>780.000000</td>\n",
       "      <td>780.000000</td>\n",
       "      <td>780.000000</td>\n",
       "      <td>...</td>\n",
       "      <td>779.000000</td>\n",
       "      <td>779.000000</td>\n",
       "      <td>779.000000</td>\n",
       "      <td>779.000000</td>\n",
       "      <td>776.000000</td>\n",
       "      <td>779.000000</td>\n",
       "      <td>779.000000</td>\n",
       "      <td>779.000000</td>\n",
       "      <td>766.000000</td>\n",
       "      <td>779.000000</td>\n",
       "    </tr>\n",
       "    <tr>\n",
       "      <th>mean</th>\n",
       "      <td>140.812821</td>\n",
       "      <td>-135.313070</td>\n",
       "      <td>-414.882377</td>\n",
       "      <td>-310.936146</td>\n",
       "      <td>-265.461395</td>\n",
       "      <td>-174.514682</td>\n",
       "      <td>-13.997782</td>\n",
       "      <td>109.406612</td>\n",
       "      <td>97.450389</td>\n",
       "      <td>1.908488</td>\n",
       "      <td>...</td>\n",
       "      <td>-1.059431</td>\n",
       "      <td>-0.177345</td>\n",
       "      <td>-0.307268</td>\n",
       "      <td>0.364911</td>\n",
       "      <td>0.772016</td>\n",
       "      <td>0.137010</td>\n",
       "      <td>1.353215</td>\n",
       "      <td>0.578235</td>\n",
       "      <td>0.670806</td>\n",
       "      <td>-0.268216</td>\n",
       "    </tr>\n",
       "    <tr>\n",
       "      <th>std</th>\n",
       "      <td>132.549333</td>\n",
       "      <td>182.396951</td>\n",
       "      <td>460.288656</td>\n",
       "      <td>355.502801</td>\n",
       "      <td>313.963731</td>\n",
       "      <td>209.060892</td>\n",
       "      <td>91.823357</td>\n",
       "      <td>137.501392</td>\n",
       "      <td>127.348327</td>\n",
       "      <td>172.022158</td>\n",
       "      <td>...</td>\n",
       "      <td>3.873783</td>\n",
       "      <td>4.843630</td>\n",
       "      <td>3.941579</td>\n",
       "      <td>4.692924</td>\n",
       "      <td>1.936667</td>\n",
       "      <td>5.226621</td>\n",
       "      <td>3.670393</td>\n",
       "      <td>3.833326</td>\n",
       "      <td>2.384252</td>\n",
       "      <td>1.442481</td>\n",
       "    </tr>\n",
       "    <tr>\n",
       "      <th>min</th>\n",
       "      <td>0.000000</td>\n",
       "      <td>-1005.656954</td>\n",
       "      <td>-2966.051419</td>\n",
       "      <td>-2721.752386</td>\n",
       "      <td>-1687.407902</td>\n",
       "      <td>-887.941204</td>\n",
       "      <td>-594.722574</td>\n",
       "      <td>-239.220612</td>\n",
       "      <td>-211.065273</td>\n",
       "      <td>-848.570463</td>\n",
       "      <td>...</td>\n",
       "      <td>-25.327189</td>\n",
       "      <td>-22.023897</td>\n",
       "      <td>-20.128498</td>\n",
       "      <td>-15.749503</td>\n",
       "      <td>-5.035088</td>\n",
       "      <td>-21.343535</td>\n",
       "      <td>-12.626542</td>\n",
       "      <td>-14.503847</td>\n",
       "      <td>-8.077057</td>\n",
       "      <td>-6.997452</td>\n",
       "    </tr>\n",
       "    <tr>\n",
       "      <th>25%</th>\n",
       "      <td>29.000000</td>\n",
       "      <td>-211.826723</td>\n",
       "      <td>-634.535155</td>\n",
       "      <td>-452.753546</td>\n",
       "      <td>-453.804519</td>\n",
       "      <td>-311.517939</td>\n",
       "      <td>-65.441568</td>\n",
       "      <td>1.792960</td>\n",
       "      <td>-1.643624</td>\n",
       "      <td>-93.938701</td>\n",
       "      <td>...</td>\n",
       "      <td>-2.742647</td>\n",
       "      <td>-2.567194</td>\n",
       "      <td>-2.200849</td>\n",
       "      <td>-2.220991</td>\n",
       "      <td>-0.527818</td>\n",
       "      <td>-2.559346</td>\n",
       "      <td>-0.889337</td>\n",
       "      <td>-1.936269</td>\n",
       "      <td>-0.562683</td>\n",
       "      <td>-1.122995</td>\n",
       "    </tr>\n",
       "    <tr>\n",
       "      <th>50%</th>\n",
       "      <td>87.000000</td>\n",
       "      <td>-84.878758</td>\n",
       "      <td>-283.226052</td>\n",
       "      <td>-212.810997</td>\n",
       "      <td>-195.291154</td>\n",
       "      <td>-149.961711</td>\n",
       "      <td>-10.348587</td>\n",
       "      <td>98.157065</td>\n",
       "      <td>88.820129</td>\n",
       "      <td>-2.147652</td>\n",
       "      <td>...</td>\n",
       "      <td>-0.555054</td>\n",
       "      <td>0.024194</td>\n",
       "      <td>-0.006218</td>\n",
       "      <td>0.621594</td>\n",
       "      <td>0.829980</td>\n",
       "      <td>0.427880</td>\n",
       "      <td>1.106600</td>\n",
       "      <td>0.466794</td>\n",
       "      <td>0.753011</td>\n",
       "      <td>-0.232950</td>\n",
       "    </tr>\n",
       "    <tr>\n",
       "      <th>75%</th>\n",
       "      <td>244.250000</td>\n",
       "      <td>-14.578659</td>\n",
       "      <td>-89.122935</td>\n",
       "      <td>-68.202670</td>\n",
       "      <td>-28.774768</td>\n",
       "      <td>-13.279750</td>\n",
       "      <td>43.279622</td>\n",
       "      <td>191.084866</td>\n",
       "      <td>174.983661</td>\n",
       "      <td>98.253577</td>\n",
       "      <td>...</td>\n",
       "      <td>1.042428</td>\n",
       "      <td>2.638462</td>\n",
       "      <td>1.954239</td>\n",
       "      <td>3.215768</td>\n",
       "      <td>1.721680</td>\n",
       "      <td>3.156860</td>\n",
       "      <td>3.252339</td>\n",
       "      <td>2.963633</td>\n",
       "      <td>1.816496</td>\n",
       "      <td>0.646409</td>\n",
       "    </tr>\n",
       "    <tr>\n",
       "      <th>max</th>\n",
       "      <td>439.000000</td>\n",
       "      <td>247.116934</td>\n",
       "      <td>281.179963</td>\n",
       "      <td>246.892884</td>\n",
       "      <td>385.971427</td>\n",
       "      <td>371.001420</td>\n",
       "      <td>247.627798</td>\n",
       "      <td>787.782873</td>\n",
       "      <td>655.452185</td>\n",
       "      <td>608.510077</td>\n",
       "      <td>...</td>\n",
       "      <td>13.148285</td>\n",
       "      <td>33.674442</td>\n",
       "      <td>16.702961</td>\n",
       "      <td>21.112297</td>\n",
       "      <td>18.237958</td>\n",
       "      <td>18.895693</td>\n",
       "      <td>21.586750</td>\n",
       "      <td>15.611046</td>\n",
       "      <td>21.327711</td>\n",
       "      <td>4.305627</td>\n",
       "    </tr>\n",
       "  </tbody>\n",
       "</table>\n",
       "<p>8 rows × 97 columns</p>\n",
       "</div>"
      ],
      "text/plain": [
       "            index   Morphwidth      Midline         Area        Speed  \\\n",
       "count  780.000000   780.000000   780.000000   780.000000   780.000000   \n",
       "mean   140.812821  -135.313070  -414.882377  -310.936146  -265.461395   \n",
       "std    132.549333   182.396951   460.288656   355.502801   313.963731   \n",
       "min      0.000000 -1005.656954 -2966.051419 -2721.752386 -1687.407902   \n",
       "25%     29.000000  -211.826723  -634.535155  -452.753546  -453.804519   \n",
       "50%     87.000000   -84.878758  -283.226052  -212.810997  -195.291154   \n",
       "75%    244.250000   -14.578659   -89.122935   -68.202670   -28.774768   \n",
       "max    439.000000   247.116934   281.179963   246.892884   385.971427   \n",
       "\n",
       "             Bias  Angular Speed  Aspect Ratio        Kink       Curve  ...  \\\n",
       "count  780.000000     780.000000    780.000000  780.000000  780.000000  ...   \n",
       "mean  -174.514682     -13.997782    109.406612   97.450389    1.908488  ...   \n",
       "std    209.060892      91.823357    137.501392  127.348327  172.022158  ...   \n",
       "min   -887.941204    -594.722574   -239.220612 -211.065273 -848.570463  ...   \n",
       "25%   -311.517939     -65.441568      1.792960   -1.643624  -93.938701  ...   \n",
       "50%   -149.961711     -10.348587     98.157065   88.820129   -2.147652  ...   \n",
       "75%    -13.279750      43.279622    191.084866  174.983661   98.253577  ...   \n",
       "max    371.001420     247.627798    787.782873  655.452185  608.510077  ...   \n",
       "\n",
       "       Initial PSA Crab  Final PSA Crab  Recovery PSA Crab  Peak PSA Crab  \\\n",
       "count        779.000000      779.000000         779.000000     779.000000   \n",
       "mean          -1.059431       -0.177345          -0.307268       0.364911   \n",
       "std            3.873783        4.843630           3.941579       4.692924   \n",
       "min          -25.327189      -22.023897         -20.128498     -15.749503   \n",
       "25%           -2.742647       -2.567194          -2.200849      -2.220991   \n",
       "50%           -0.555054        0.024194          -0.006218       0.621594   \n",
       "75%            1.042428        2.638462           1.954239       3.215768   \n",
       "max           13.148285       33.674442          16.702961      21.112297   \n",
       "\n",
       "       Peak Tap Number of PSA Crab  Average PSA Crab  \\\n",
       "count                   776.000000        779.000000   \n",
       "mean                      0.772016          0.137010   \n",
       "std                       1.936667          5.226621   \n",
       "min                      -5.035088        -21.343535   \n",
       "25%                      -0.527818         -2.559346   \n",
       "50%                       0.829980          0.427880   \n",
       "75%                       1.721680          3.156860   \n",
       "max                      18.237958         18.895693   \n",
       "\n",
       "       Sensitization of PSA Crab  Habituation of PSA Crab  \\\n",
       "count                 779.000000               779.000000   \n",
       "mean                    1.353215                 0.578235   \n",
       "std                     3.670393                 3.833326   \n",
       "min                   -12.626542               -14.503847   \n",
       "25%                    -0.889337                -1.936269   \n",
       "50%                     1.106600                 0.466794   \n",
       "75%                     3.252339                 2.963633   \n",
       "max                    21.586750                15.611046   \n",
       "\n",
       "       Spontaneous Recovery of PSA Crab  Memory Retention of PSA Crab  \n",
       "count                        766.000000                    779.000000  \n",
       "mean                           0.670806                     -0.268216  \n",
       "std                            2.384252                      1.442481  \n",
       "min                           -8.077057                     -6.997452  \n",
       "25%                           -0.562683                     -1.122995  \n",
       "50%                            0.753011                     -0.232950  \n",
       "75%                            1.816496                      0.646409  \n",
       "max                           21.327711                      4.305627  \n",
       "\n",
       "[8 rows x 97 columns]"
      ]
     },
     "execution_count": 20,
     "metadata": {},
     "output_type": "execute_result"
    }
   ],
   "source": [
    "df.describe()"
   ]
  },
  {
   "cell_type": "code",
   "execution_count": 21,
   "id": "e4ae039a",
   "metadata": {},
   "outputs": [
    {
     "name": "stderr",
     "output_type": "stream",
     "text": [
      "/var/folders/mp/57zdplyn4kl5d5l8mxcwwknr0000gn/T/ipykernel_75884/779939292.py:2: DeprecationWarning: DataFrameGroupBy.apply operated on the grouping columns. This behavior is deprecated, and in a future version of pandas the grouping columns will be excluded from the operation. Either pass `include_groups=False` to exclude the groupings or explicitly select the grouping columns after groupby to silence this warning.\n",
      "  df.groupby(\"Screen\").apply(lambda x: x.isna().sum())\n"
     ]
    },
    {
     "data": {
      "text/html": [
       "<div>\n",
       "<style scoped>\n",
       "    .dataframe tbody tr th:only-of-type {\n",
       "        vertical-align: middle;\n",
       "    }\n",
       "\n",
       "    .dataframe tbody tr th {\n",
       "        vertical-align: top;\n",
       "    }\n",
       "\n",
       "    .dataframe thead th {\n",
       "        text-align: right;\n",
       "    }\n",
       "</style>\n",
       "<table border=\"1\" class=\"dataframe\">\n",
       "  <thead>\n",
       "    <tr style=\"text-align: right;\">\n",
       "      <th></th>\n",
       "      <th>index</th>\n",
       "      <th>Screen</th>\n",
       "      <th>Gene</th>\n",
       "      <th>Morphwidth</th>\n",
       "      <th>Midline</th>\n",
       "      <th>Area</th>\n",
       "      <th>Speed</th>\n",
       "      <th>Bias</th>\n",
       "      <th>Angular Speed</th>\n",
       "      <th>Aspect Ratio</th>\n",
       "      <th>...</th>\n",
       "      <th>Initial PSA Crab</th>\n",
       "      <th>Final PSA Crab</th>\n",
       "      <th>Recovery PSA Crab</th>\n",
       "      <th>Peak PSA Crab</th>\n",
       "      <th>Peak Tap Number of PSA Crab</th>\n",
       "      <th>Average PSA Crab</th>\n",
       "      <th>Sensitization of PSA Crab</th>\n",
       "      <th>Habituation of PSA Crab</th>\n",
       "      <th>Spontaneous Recovery of PSA Crab</th>\n",
       "      <th>Memory Retention of PSA Crab</th>\n",
       "    </tr>\n",
       "    <tr>\n",
       "      <th>Screen</th>\n",
       "      <th></th>\n",
       "      <th></th>\n",
       "      <th></th>\n",
       "      <th></th>\n",
       "      <th></th>\n",
       "      <th></th>\n",
       "      <th></th>\n",
       "      <th></th>\n",
       "      <th></th>\n",
       "      <th></th>\n",
       "      <th></th>\n",
       "      <th></th>\n",
       "      <th></th>\n",
       "      <th></th>\n",
       "      <th></th>\n",
       "      <th></th>\n",
       "      <th></th>\n",
       "      <th></th>\n",
       "      <th></th>\n",
       "      <th></th>\n",
       "      <th></th>\n",
       "    </tr>\n",
       "  </thead>\n",
       "  <tbody>\n",
       "    <tr>\n",
       "      <th>ASD_Screen</th>\n",
       "      <td>0</td>\n",
       "      <td>0</td>\n",
       "      <td>0</td>\n",
       "      <td>0</td>\n",
       "      <td>0</td>\n",
       "      <td>0</td>\n",
       "      <td>0</td>\n",
       "      <td>0</td>\n",
       "      <td>0</td>\n",
       "      <td>0</td>\n",
       "      <td>...</td>\n",
       "      <td>0</td>\n",
       "      <td>0</td>\n",
       "      <td>0</td>\n",
       "      <td>0</td>\n",
       "      <td>0</td>\n",
       "      <td>0</td>\n",
       "      <td>0</td>\n",
       "      <td>0</td>\n",
       "      <td>2</td>\n",
       "      <td>0</td>\n",
       "    </tr>\n",
       "    <tr>\n",
       "      <th>ASD_WGS_Screen</th>\n",
       "      <td>0</td>\n",
       "      <td>0</td>\n",
       "      <td>0</td>\n",
       "      <td>0</td>\n",
       "      <td>0</td>\n",
       "      <td>0</td>\n",
       "      <td>0</td>\n",
       "      <td>0</td>\n",
       "      <td>0</td>\n",
       "      <td>0</td>\n",
       "      <td>...</td>\n",
       "      <td>0</td>\n",
       "      <td>0</td>\n",
       "      <td>0</td>\n",
       "      <td>0</td>\n",
       "      <td>0</td>\n",
       "      <td>0</td>\n",
       "      <td>0</td>\n",
       "      <td>0</td>\n",
       "      <td>3</td>\n",
       "      <td>0</td>\n",
       "    </tr>\n",
       "    <tr>\n",
       "      <th>G-Proteins_Screen</th>\n",
       "      <td>0</td>\n",
       "      <td>0</td>\n",
       "      <td>0</td>\n",
       "      <td>0</td>\n",
       "      <td>0</td>\n",
       "      <td>0</td>\n",
       "      <td>0</td>\n",
       "      <td>0</td>\n",
       "      <td>0</td>\n",
       "      <td>0</td>\n",
       "      <td>...</td>\n",
       "      <td>1</td>\n",
       "      <td>1</td>\n",
       "      <td>1</td>\n",
       "      <td>1</td>\n",
       "      <td>2</td>\n",
       "      <td>1</td>\n",
       "      <td>1</td>\n",
       "      <td>1</td>\n",
       "      <td>2</td>\n",
       "      <td>1</td>\n",
       "    </tr>\n",
       "    <tr>\n",
       "      <th>Glia_Genes_Screen</th>\n",
       "      <td>0</td>\n",
       "      <td>0</td>\n",
       "      <td>0</td>\n",
       "      <td>0</td>\n",
       "      <td>0</td>\n",
       "      <td>0</td>\n",
       "      <td>0</td>\n",
       "      <td>0</td>\n",
       "      <td>0</td>\n",
       "      <td>0</td>\n",
       "      <td>...</td>\n",
       "      <td>0</td>\n",
       "      <td>0</td>\n",
       "      <td>0</td>\n",
       "      <td>0</td>\n",
       "      <td>0</td>\n",
       "      <td>0</td>\n",
       "      <td>0</td>\n",
       "      <td>0</td>\n",
       "      <td>1</td>\n",
       "      <td>0</td>\n",
       "    </tr>\n",
       "    <tr>\n",
       "      <th>Neuron_Genes_Screen</th>\n",
       "      <td>0</td>\n",
       "      <td>0</td>\n",
       "      <td>0</td>\n",
       "      <td>0</td>\n",
       "      <td>0</td>\n",
       "      <td>0</td>\n",
       "      <td>0</td>\n",
       "      <td>0</td>\n",
       "      <td>0</td>\n",
       "      <td>0</td>\n",
       "      <td>...</td>\n",
       "      <td>0</td>\n",
       "      <td>0</td>\n",
       "      <td>0</td>\n",
       "      <td>0</td>\n",
       "      <td>0</td>\n",
       "      <td>0</td>\n",
       "      <td>0</td>\n",
       "      <td>0</td>\n",
       "      <td>0</td>\n",
       "      <td>0</td>\n",
       "    </tr>\n",
       "    <tr>\n",
       "      <th>PD_GWAS_Locus22_Screen</th>\n",
       "      <td>0</td>\n",
       "      <td>0</td>\n",
       "      <td>0</td>\n",
       "      <td>0</td>\n",
       "      <td>0</td>\n",
       "      <td>0</td>\n",
       "      <td>0</td>\n",
       "      <td>0</td>\n",
       "      <td>0</td>\n",
       "      <td>0</td>\n",
       "      <td>...</td>\n",
       "      <td>0</td>\n",
       "      <td>0</td>\n",
       "      <td>0</td>\n",
       "      <td>0</td>\n",
       "      <td>0</td>\n",
       "      <td>0</td>\n",
       "      <td>0</td>\n",
       "      <td>0</td>\n",
       "      <td>0</td>\n",
       "      <td>0</td>\n",
       "    </tr>\n",
       "    <tr>\n",
       "      <th>PD_GWAS_Locus71_Screen</th>\n",
       "      <td>0</td>\n",
       "      <td>0</td>\n",
       "      <td>0</td>\n",
       "      <td>0</td>\n",
       "      <td>0</td>\n",
       "      <td>0</td>\n",
       "      <td>0</td>\n",
       "      <td>0</td>\n",
       "      <td>0</td>\n",
       "      <td>0</td>\n",
       "      <td>...</td>\n",
       "      <td>0</td>\n",
       "      <td>0</td>\n",
       "      <td>0</td>\n",
       "      <td>0</td>\n",
       "      <td>0</td>\n",
       "      <td>0</td>\n",
       "      <td>0</td>\n",
       "      <td>0</td>\n",
       "      <td>0</td>\n",
       "      <td>0</td>\n",
       "    </tr>\n",
       "    <tr>\n",
       "      <th>PD_Screen</th>\n",
       "      <td>0</td>\n",
       "      <td>0</td>\n",
       "      <td>0</td>\n",
       "      <td>0</td>\n",
       "      <td>0</td>\n",
       "      <td>0</td>\n",
       "      <td>0</td>\n",
       "      <td>0</td>\n",
       "      <td>0</td>\n",
       "      <td>0</td>\n",
       "      <td>...</td>\n",
       "      <td>0</td>\n",
       "      <td>0</td>\n",
       "      <td>0</td>\n",
       "      <td>0</td>\n",
       "      <td>2</td>\n",
       "      <td>0</td>\n",
       "      <td>0</td>\n",
       "      <td>0</td>\n",
       "      <td>6</td>\n",
       "      <td>0</td>\n",
       "    </tr>\n",
       "  </tbody>\n",
       "</table>\n",
       "<p>8 rows × 99 columns</p>\n",
       "</div>"
      ],
      "text/plain": [
       "                        index  Screen  Gene  Morphwidth  Midline  Area  Speed  \\\n",
       "Screen                                                                          \n",
       "ASD_Screen                  0       0     0           0        0     0      0   \n",
       "ASD_WGS_Screen              0       0     0           0        0     0      0   \n",
       "G-Proteins_Screen           0       0     0           0        0     0      0   \n",
       "Glia_Genes_Screen           0       0     0           0        0     0      0   \n",
       "Neuron_Genes_Screen         0       0     0           0        0     0      0   \n",
       "PD_GWAS_Locus22_Screen      0       0     0           0        0     0      0   \n",
       "PD_GWAS_Locus71_Screen      0       0     0           0        0     0      0   \n",
       "PD_Screen                   0       0     0           0        0     0      0   \n",
       "\n",
       "                        Bias  Angular Speed  Aspect Ratio  ...  \\\n",
       "Screen                                                     ...   \n",
       "ASD_Screen                 0              0             0  ...   \n",
       "ASD_WGS_Screen             0              0             0  ...   \n",
       "G-Proteins_Screen          0              0             0  ...   \n",
       "Glia_Genes_Screen          0              0             0  ...   \n",
       "Neuron_Genes_Screen        0              0             0  ...   \n",
       "PD_GWAS_Locus22_Screen     0              0             0  ...   \n",
       "PD_GWAS_Locus71_Screen     0              0             0  ...   \n",
       "PD_Screen                  0              0             0  ...   \n",
       "\n",
       "                        Initial PSA Crab  Final PSA Crab  Recovery PSA Crab  \\\n",
       "Screen                                                                        \n",
       "ASD_Screen                             0               0                  0   \n",
       "ASD_WGS_Screen                         0               0                  0   \n",
       "G-Proteins_Screen                      1               1                  1   \n",
       "Glia_Genes_Screen                      0               0                  0   \n",
       "Neuron_Genes_Screen                    0               0                  0   \n",
       "PD_GWAS_Locus22_Screen                 0               0                  0   \n",
       "PD_GWAS_Locus71_Screen                 0               0                  0   \n",
       "PD_Screen                              0               0                  0   \n",
       "\n",
       "                        Peak PSA Crab  Peak Tap Number of PSA Crab  \\\n",
       "Screen                                                               \n",
       "ASD_Screen                          0                            0   \n",
       "ASD_WGS_Screen                      0                            0   \n",
       "G-Proteins_Screen                   1                            2   \n",
       "Glia_Genes_Screen                   0                            0   \n",
       "Neuron_Genes_Screen                 0                            0   \n",
       "PD_GWAS_Locus22_Screen              0                            0   \n",
       "PD_GWAS_Locus71_Screen              0                            0   \n",
       "PD_Screen                           0                            2   \n",
       "\n",
       "                        Average PSA Crab  Sensitization of PSA Crab  \\\n",
       "Screen                                                                \n",
       "ASD_Screen                             0                          0   \n",
       "ASD_WGS_Screen                         0                          0   \n",
       "G-Proteins_Screen                      1                          1   \n",
       "Glia_Genes_Screen                      0                          0   \n",
       "Neuron_Genes_Screen                    0                          0   \n",
       "PD_GWAS_Locus22_Screen                 0                          0   \n",
       "PD_GWAS_Locus71_Screen                 0                          0   \n",
       "PD_Screen                              0                          0   \n",
       "\n",
       "                        Habituation of PSA Crab  \\\n",
       "Screen                                            \n",
       "ASD_Screen                                    0   \n",
       "ASD_WGS_Screen                                0   \n",
       "G-Proteins_Screen                             1   \n",
       "Glia_Genes_Screen                             0   \n",
       "Neuron_Genes_Screen                           0   \n",
       "PD_GWAS_Locus22_Screen                        0   \n",
       "PD_GWAS_Locus71_Screen                        0   \n",
       "PD_Screen                                     0   \n",
       "\n",
       "                        Spontaneous Recovery of PSA Crab  \\\n",
       "Screen                                                     \n",
       "ASD_Screen                                             2   \n",
       "ASD_WGS_Screen                                         3   \n",
       "G-Proteins_Screen                                      2   \n",
       "Glia_Genes_Screen                                      1   \n",
       "Neuron_Genes_Screen                                    0   \n",
       "PD_GWAS_Locus22_Screen                                 0   \n",
       "PD_GWAS_Locus71_Screen                                 0   \n",
       "PD_Screen                                              6   \n",
       "\n",
       "                        Memory Retention of PSA Crab  \n",
       "Screen                                                \n",
       "ASD_Screen                                         0  \n",
       "ASD_WGS_Screen                                     0  \n",
       "G-Proteins_Screen                                  1  \n",
       "Glia_Genes_Screen                                  0  \n",
       "Neuron_Genes_Screen                                0  \n",
       "PD_GWAS_Locus22_Screen                             0  \n",
       "PD_GWAS_Locus71_Screen                             0  \n",
       "PD_Screen                                          0  \n",
       "\n",
       "[8 rows x 99 columns]"
      ]
     },
     "execution_count": 21,
     "metadata": {},
     "output_type": "execute_result"
    }
   ],
   "source": [
    "# Accessing missingness \n",
    "df.groupby(\"Screen\").apply(lambda x: x.isna().sum())"
   ]
  },
  {
   "cell_type": "code",
   "execution_count": 22,
   "id": "bdcba066",
   "metadata": {},
   "outputs": [
    {
     "data": {
      "text/html": [
       "<div>\n",
       "<style scoped>\n",
       "    .dataframe tbody tr th:only-of-type {\n",
       "        vertical-align: middle;\n",
       "    }\n",
       "\n",
       "    .dataframe tbody tr th {\n",
       "        vertical-align: top;\n",
       "    }\n",
       "\n",
       "    .dataframe thead th {\n",
       "        text-align: right;\n",
       "    }\n",
       "</style>\n",
       "<table border=\"1\" class=\"dataframe\">\n",
       "  <thead>\n",
       "    <tr style=\"text-align: right;\">\n",
       "      <th></th>\n",
       "      <th>index</th>\n",
       "      <th>Screen</th>\n",
       "      <th>Gene</th>\n",
       "      <th>Morphwidth</th>\n",
       "      <th>Midline</th>\n",
       "      <th>Area</th>\n",
       "      <th>Speed</th>\n",
       "      <th>Bias</th>\n",
       "      <th>Angular Speed</th>\n",
       "      <th>Aspect Ratio</th>\n",
       "      <th>...</th>\n",
       "      <th>Initial PSA Crab</th>\n",
       "      <th>Final PSA Crab</th>\n",
       "      <th>Recovery PSA Crab</th>\n",
       "      <th>Peak PSA Crab</th>\n",
       "      <th>Peak Tap Number of PSA Crab</th>\n",
       "      <th>Average PSA Crab</th>\n",
       "      <th>Sensitization of PSA Crab</th>\n",
       "      <th>Habituation of PSA Crab</th>\n",
       "      <th>Spontaneous Recovery of PSA Crab</th>\n",
       "      <th>Memory Retention of PSA Crab</th>\n",
       "    </tr>\n",
       "  </thead>\n",
       "  <tbody>\n",
       "    <tr>\n",
       "      <th>0</th>\n",
       "      <td>99</td>\n",
       "      <td>Neuron_Genes_Screen</td>\n",
       "      <td>crb-1</td>\n",
       "      <td>-68.496389</td>\n",
       "      <td>-463.636579</td>\n",
       "      <td>-184.897543</td>\n",
       "      <td>-276.539960</td>\n",
       "      <td>-295.918287</td>\n",
       "      <td>-26.005262</td>\n",
       "      <td>104.180733</td>\n",
       "      <td>...</td>\n",
       "      <td>1.426824</td>\n",
       "      <td>2.924339</td>\n",
       "      <td>2.034681</td>\n",
       "      <td>4.151277</td>\n",
       "      <td>-2.125745</td>\n",
       "      <td>4.056727</td>\n",
       "      <td>7.418909</td>\n",
       "      <td>4.978237</td>\n",
       "      <td>0.754411</td>\n",
       "      <td>-0.567230</td>\n",
       "    </tr>\n",
       "    <tr>\n",
       "      <th>1</th>\n",
       "      <td>360</td>\n",
       "      <td>Neuron_Genes_Screen</td>\n",
       "      <td>sid-1</td>\n",
       "      <td>-303.393518</td>\n",
       "      <td>-368.376289</td>\n",
       "      <td>-414.720952</td>\n",
       "      <td>-360.376960</td>\n",
       "      <td>-287.599024</td>\n",
       "      <td>-95.889295</td>\n",
       "      <td>83.325624</td>\n",
       "      <td>...</td>\n",
       "      <td>-0.665937</td>\n",
       "      <td>0.358000</td>\n",
       "      <td>0.876437</td>\n",
       "      <td>1.640464</td>\n",
       "      <td>-0.265319</td>\n",
       "      <td>1.386822</td>\n",
       "      <td>3.147869</td>\n",
       "      <td>1.858055</td>\n",
       "      <td>1.316280</td>\n",
       "      <td>1.500438</td>\n",
       "    </tr>\n",
       "    <tr>\n",
       "      <th>2</th>\n",
       "      <td>15</td>\n",
       "      <td>ASD_Screen</td>\n",
       "      <td>cdkl-1</td>\n",
       "      <td>117.311452</td>\n",
       "      <td>-120.306780</td>\n",
       "      <td>16.371823</td>\n",
       "      <td>-44.065819</td>\n",
       "      <td>-21.957771</td>\n",
       "      <td>30.007247</td>\n",
       "      <td>63.061494</td>\n",
       "      <td>...</td>\n",
       "      <td>-21.382519</td>\n",
       "      <td>-3.409448</td>\n",
       "      <td>-15.418954</td>\n",
       "      <td>-15.749503</td>\n",
       "      <td>2.556072</td>\n",
       "      <td>-15.187795</td>\n",
       "      <td>-4.094371</td>\n",
       "      <td>-14.503847</td>\n",
       "      <td>-2.925680</td>\n",
       "      <td>-6.997452</td>\n",
       "    </tr>\n",
       "    <tr>\n",
       "      <th>3</th>\n",
       "      <td>35</td>\n",
       "      <td>ASD_Screen</td>\n",
       "      <td>gex-3</td>\n",
       "      <td>-162.011769</td>\n",
       "      <td>-209.833308</td>\n",
       "      <td>-215.668982</td>\n",
       "      <td>-34.277144</td>\n",
       "      <td>18.290498</td>\n",
       "      <td>-11.594857</td>\n",
       "      <td>-27.988780</td>\n",
       "      <td>...</td>\n",
       "      <td>0.792724</td>\n",
       "      <td>-1.161596</td>\n",
       "      <td>-1.682367</td>\n",
       "      <td>0.867141</td>\n",
       "      <td>0.755929</td>\n",
       "      <td>-1.379243</td>\n",
       "      <td>-0.374859</td>\n",
       "      <td>1.231142</td>\n",
       "      <td>-2.989971</td>\n",
       "      <td>0.132965</td>\n",
       "    </tr>\n",
       "    <tr>\n",
       "      <th>4</th>\n",
       "      <td>0</td>\n",
       "      <td>ASD_Screen</td>\n",
       "      <td>C25H3.11</td>\n",
       "      <td>-156.748579</td>\n",
       "      <td>-150.981109</td>\n",
       "      <td>-272.550660</td>\n",
       "      <td>28.184561</td>\n",
       "      <td>6.113967</td>\n",
       "      <td>26.840463</td>\n",
       "      <td>-28.240984</td>\n",
       "      <td>...</td>\n",
       "      <td>-5.894009</td>\n",
       "      <td>5.849083</td>\n",
       "      <td>0.411030</td>\n",
       "      <td>2.179121</td>\n",
       "      <td>0.522233</td>\n",
       "      <td>4.328581</td>\n",
       "      <td>4.220328</td>\n",
       "      <td>-1.713132</td>\n",
       "      <td>2.492574</td>\n",
       "      <td>-4.547015</td>\n",
       "    </tr>\n",
       "    <tr>\n",
       "      <th>...</th>\n",
       "      <td>...</td>\n",
       "      <td>...</td>\n",
       "      <td>...</td>\n",
       "      <td>...</td>\n",
       "      <td>...</td>\n",
       "      <td>...</td>\n",
       "      <td>...</td>\n",
       "      <td>...</td>\n",
       "      <td>...</td>\n",
       "      <td>...</td>\n",
       "      <td>...</td>\n",
       "      <td>...</td>\n",
       "      <td>...</td>\n",
       "      <td>...</td>\n",
       "      <td>...</td>\n",
       "      <td>...</td>\n",
       "      <td>...</td>\n",
       "      <td>...</td>\n",
       "      <td>...</td>\n",
       "      <td>...</td>\n",
       "      <td>...</td>\n",
       "    </tr>\n",
       "    <tr>\n",
       "      <th>775</th>\n",
       "      <td>108</td>\n",
       "      <td>PD_Screen</td>\n",
       "      <td>unc-43</td>\n",
       "      <td>-101.850124</td>\n",
       "      <td>-234.169230</td>\n",
       "      <td>-210.555197</td>\n",
       "      <td>44.031732</td>\n",
       "      <td>21.936045</td>\n",
       "      <td>182.856892</td>\n",
       "      <td>76.216716</td>\n",
       "      <td>...</td>\n",
       "      <td>-0.991799</td>\n",
       "      <td>-0.748966</td>\n",
       "      <td>-1.123879</td>\n",
       "      <td>-0.719720</td>\n",
       "      <td>4.944287</td>\n",
       "      <td>-2.630912</td>\n",
       "      <td>-0.460076</td>\n",
       "      <td>-0.591010</td>\n",
       "      <td>NaN</td>\n",
       "      <td>-0.616942</td>\n",
       "    </tr>\n",
       "    <tr>\n",
       "      <th>776</th>\n",
       "      <td>109</td>\n",
       "      <td>PD_Screen</td>\n",
       "      <td>unc-57</td>\n",
       "      <td>-166.412154</td>\n",
       "      <td>-472.028220</td>\n",
       "      <td>-511.547548</td>\n",
       "      <td>-167.244925</td>\n",
       "      <td>-36.332082</td>\n",
       "      <td>65.189587</td>\n",
       "      <td>56.701590</td>\n",
       "      <td>...</td>\n",
       "      <td>-3.715259</td>\n",
       "      <td>-2.384573</td>\n",
       "      <td>-2.884097</td>\n",
       "      <td>-5.067928</td>\n",
       "      <td>4.301016</td>\n",
       "      <td>-4.279961</td>\n",
       "      <td>-2.132468</td>\n",
       "      <td>-3.364117</td>\n",
       "      <td>NaN</td>\n",
       "      <td>-0.928510</td>\n",
       "    </tr>\n",
       "    <tr>\n",
       "      <th>777</th>\n",
       "      <td>110</td>\n",
       "      <td>PD_Screen</td>\n",
       "      <td>unc-59</td>\n",
       "      <td>-113.318379</td>\n",
       "      <td>-378.428538</td>\n",
       "      <td>-265.329697</td>\n",
       "      <td>-65.391543</td>\n",
       "      <td>6.282208</td>\n",
       "      <td>46.464973</td>\n",
       "      <td>234.742202</td>\n",
       "      <td>...</td>\n",
       "      <td>-4.448462</td>\n",
       "      <td>-1.820606</td>\n",
       "      <td>-1.889704</td>\n",
       "      <td>-3.729287</td>\n",
       "      <td>3.437354</td>\n",
       "      <td>-2.217888</td>\n",
       "      <td>-1.632515</td>\n",
       "      <td>-3.809516</td>\n",
       "      <td>1.169334</td>\n",
       "      <td>-0.703254</td>\n",
       "    </tr>\n",
       "    <tr>\n",
       "      <th>778</th>\n",
       "      <td>111</td>\n",
       "      <td>PD_Screen</td>\n",
       "      <td>unc-70</td>\n",
       "      <td>-8.909107</td>\n",
       "      <td>-576.943712</td>\n",
       "      <td>-344.383937</td>\n",
       "      <td>-89.421561</td>\n",
       "      <td>-55.103890</td>\n",
       "      <td>177.586605</td>\n",
       "      <td>488.440475</td>\n",
       "      <td>...</td>\n",
       "      <td>-3.248692</td>\n",
       "      <td>1.669532</td>\n",
       "      <td>-2.706185</td>\n",
       "      <td>-2.478294</td>\n",
       "      <td>5.994874</td>\n",
       "      <td>0.188347</td>\n",
       "      <td>-0.764557</td>\n",
       "      <td>-11.143172</td>\n",
       "      <td>0.318549</td>\n",
       "      <td>-4.243795</td>\n",
       "    </tr>\n",
       "    <tr>\n",
       "      <th>779</th>\n",
       "      <td>112</td>\n",
       "      <td>PD_Screen</td>\n",
       "      <td>vps-35</td>\n",
       "      <td>-160.557702</td>\n",
       "      <td>-642.188620</td>\n",
       "      <td>-554.237138</td>\n",
       "      <td>-65.859407</td>\n",
       "      <td>55.961052</td>\n",
       "      <td>65.614759</td>\n",
       "      <td>109.012196</td>\n",
       "      <td>...</td>\n",
       "      <td>-5.246490</td>\n",
       "      <td>-3.940636</td>\n",
       "      <td>-4.217519</td>\n",
       "      <td>-6.088831</td>\n",
       "      <td>2.961342</td>\n",
       "      <td>-8.088475</td>\n",
       "      <td>-3.521189</td>\n",
       "      <td>-4.995005</td>\n",
       "      <td>-0.203224</td>\n",
       "      <td>-2.075164</td>\n",
       "    </tr>\n",
       "  </tbody>\n",
       "</table>\n",
       "<p>780 rows × 99 columns</p>\n",
       "</div>"
      ],
      "text/plain": [
       "     index               Screen      Gene  Morphwidth     Midline        Area  \\\n",
       "0       99  Neuron_Genes_Screen     crb-1  -68.496389 -463.636579 -184.897543   \n",
       "1      360  Neuron_Genes_Screen     sid-1 -303.393518 -368.376289 -414.720952   \n",
       "2       15           ASD_Screen    cdkl-1  117.311452 -120.306780   16.371823   \n",
       "3       35           ASD_Screen     gex-3 -162.011769 -209.833308 -215.668982   \n",
       "4        0           ASD_Screen  C25H3.11 -156.748579 -150.981109 -272.550660   \n",
       "..     ...                  ...       ...         ...         ...         ...   \n",
       "775    108            PD_Screen    unc-43 -101.850124 -234.169230 -210.555197   \n",
       "776    109            PD_Screen    unc-57 -166.412154 -472.028220 -511.547548   \n",
       "777    110            PD_Screen    unc-59 -113.318379 -378.428538 -265.329697   \n",
       "778    111            PD_Screen    unc-70   -8.909107 -576.943712 -344.383937   \n",
       "779    112            PD_Screen    vps-35 -160.557702 -642.188620 -554.237138   \n",
       "\n",
       "          Speed        Bias  Angular Speed  Aspect Ratio  ...  \\\n",
       "0   -276.539960 -295.918287     -26.005262    104.180733  ...   \n",
       "1   -360.376960 -287.599024     -95.889295     83.325624  ...   \n",
       "2    -44.065819  -21.957771      30.007247     63.061494  ...   \n",
       "3    -34.277144   18.290498     -11.594857    -27.988780  ...   \n",
       "4     28.184561    6.113967      26.840463    -28.240984  ...   \n",
       "..          ...         ...            ...           ...  ...   \n",
       "775   44.031732   21.936045     182.856892     76.216716  ...   \n",
       "776 -167.244925  -36.332082      65.189587     56.701590  ...   \n",
       "777  -65.391543    6.282208      46.464973    234.742202  ...   \n",
       "778  -89.421561  -55.103890     177.586605    488.440475  ...   \n",
       "779  -65.859407   55.961052      65.614759    109.012196  ...   \n",
       "\n",
       "     Initial PSA Crab  Final PSA Crab  Recovery PSA Crab  Peak PSA Crab  \\\n",
       "0            1.426824        2.924339           2.034681       4.151277   \n",
       "1           -0.665937        0.358000           0.876437       1.640464   \n",
       "2          -21.382519       -3.409448         -15.418954     -15.749503   \n",
       "3            0.792724       -1.161596          -1.682367       0.867141   \n",
       "4           -5.894009        5.849083           0.411030       2.179121   \n",
       "..                ...             ...                ...            ...   \n",
       "775         -0.991799       -0.748966          -1.123879      -0.719720   \n",
       "776         -3.715259       -2.384573          -2.884097      -5.067928   \n",
       "777         -4.448462       -1.820606          -1.889704      -3.729287   \n",
       "778         -3.248692        1.669532          -2.706185      -2.478294   \n",
       "779         -5.246490       -3.940636          -4.217519      -6.088831   \n",
       "\n",
       "     Peak Tap Number of PSA Crab  Average PSA Crab  Sensitization of PSA Crab  \\\n",
       "0                      -2.125745          4.056727                   7.418909   \n",
       "1                      -0.265319          1.386822                   3.147869   \n",
       "2                       2.556072        -15.187795                  -4.094371   \n",
       "3                       0.755929         -1.379243                  -0.374859   \n",
       "4                       0.522233          4.328581                   4.220328   \n",
       "..                           ...               ...                        ...   \n",
       "775                     4.944287         -2.630912                  -0.460076   \n",
       "776                     4.301016         -4.279961                  -2.132468   \n",
       "777                     3.437354         -2.217888                  -1.632515   \n",
       "778                     5.994874          0.188347                  -0.764557   \n",
       "779                     2.961342         -8.088475                  -3.521189   \n",
       "\n",
       "     Habituation of PSA Crab  Spontaneous Recovery of PSA Crab  \\\n",
       "0                   4.978237                          0.754411   \n",
       "1                   1.858055                          1.316280   \n",
       "2                 -14.503847                         -2.925680   \n",
       "3                   1.231142                         -2.989971   \n",
       "4                  -1.713132                          2.492574   \n",
       "..                       ...                               ...   \n",
       "775                -0.591010                               NaN   \n",
       "776                -3.364117                               NaN   \n",
       "777                -3.809516                          1.169334   \n",
       "778               -11.143172                          0.318549   \n",
       "779                -4.995005                         -0.203224   \n",
       "\n",
       "     Memory Retention of PSA Crab  \n",
       "0                       -0.567230  \n",
       "1                        1.500438  \n",
       "2                       -6.997452  \n",
       "3                        0.132965  \n",
       "4                       -4.547015  \n",
       "..                            ...  \n",
       "775                     -0.616942  \n",
       "776                     -0.928510  \n",
       "777                     -0.703254  \n",
       "778                     -4.243795  \n",
       "779                     -2.075164  \n",
       "\n",
       "[780 rows x 99 columns]"
      ]
     },
     "execution_count": 22,
     "metadata": {},
     "output_type": "execute_result"
    }
   ],
   "source": [
    "df"
   ]
  },
  {
   "cell_type": "code",
   "execution_count": 23,
   "id": "567a0d13",
   "metadata": {},
   "outputs": [
    {
     "data": {
      "text/plain": [
       "index                                 int64\n",
       "Screen                               object\n",
       "Gene                                 object\n",
       "Morphwidth                          float64\n",
       "Midline                             float64\n",
       "                                     ...   \n",
       "Average PSA Crab                    float64\n",
       "Sensitization of PSA Crab           float64\n",
       "Habituation of PSA Crab             float64\n",
       "Spontaneous Recovery of PSA Crab    float64\n",
       "Memory Retention of PSA Crab        float64\n",
       "Length: 99, dtype: object"
      ]
     },
     "execution_count": 23,
     "metadata": {},
     "output_type": "execute_result"
    }
   ],
   "source": [
    "df.dtypes"
   ]
  },
  {
   "cell_type": "code",
   "execution_count": 24,
   "id": "23761c7d",
   "metadata": {},
   "outputs": [
    {
     "data": {
      "text/plain": [
       "array([dtype('int64'), dtype('O'), dtype('float64')], dtype=object)"
      ]
     },
     "execution_count": 24,
     "metadata": {},
     "output_type": "execute_result"
    }
   ],
   "source": [
    "df.dtypes.unique()"
   ]
  },
  {
   "cell_type": "code",
   "execution_count": 25,
   "id": "0f107d66",
   "metadata": {},
   "outputs": [
    {
     "data": {
      "text/plain": [
       "float64    96\n",
       "object      2\n",
       "int64       1\n",
       "Name: count, dtype: int64"
      ]
     },
     "execution_count": 25,
     "metadata": {},
     "output_type": "execute_result"
    }
   ],
   "source": [
    "df.dtypes.value_counts()"
   ]
  },
  {
   "cell_type": "code",
   "execution_count": 26,
   "id": "d6af9ee8",
   "metadata": {},
   "outputs": [
    {
     "data": {
      "text/plain": [
       "Screen      8\n",
       "Gene      699\n",
       "dtype: int64"
      ]
     },
     "execution_count": 26,
     "metadata": {},
     "output_type": "execute_result"
    }
   ],
   "source": [
    "# Assessing uniqueness of categorical column\n",
    "\n",
    "df[['Screen', 'Gene']].nunique()"
   ]
  },
  {
   "cell_type": "code",
   "execution_count": 27,
   "id": "a99cd1f3",
   "metadata": {},
   "outputs": [],
   "source": [
    "# Drop 'infs' to make sure code doesnt break \n",
    "\n",
    "df = df[~df.isin([np.inf, -np.inf]).any(axis=1)]"
   ]
  },
  {
   "cell_type": "markdown",
   "id": "112f1f05",
   "metadata": {},
   "source": [
    "## Preprocessing \n",
    "\n",
    "- Imputation: choose a dummy value like -10 (for now picking -9999) - numeric only\n",
    "- Scaling - numeric only\n",
    "- Encoding: One Hot Encoding - categorical column only"
   ]
  },
  {
   "cell_type": "code",
   "execution_count": 28,
   "id": "3e7a37c7",
   "metadata": {},
   "outputs": [
    {
     "data": {
      "text/plain": [
       "Index(['index', 'Screen', 'Gene', 'Morphwidth', 'Midline', 'Area', 'Speed',\n",
       "       'Bias', 'Angular Speed', 'Aspect Ratio', 'Kink', 'Curve', 'Crab',\n",
       "       'Pathlength', 'Initial Response Duration',\n",
       "       'Initial Response Probability', 'Initial Response Speed',\n",
       "       'Final Response Duration', 'Final Response Probability',\n",
       "       'Final Response Speed', 'Habituation of Response Duration',\n",
       "       'Habituation of Response Probability', 'Habituation of Response Speed',\n",
       "       'Spontaneous Recovery of Response Duration',\n",
       "       'Spontaneous Recovery of Response Probability',\n",
       "       'Spontaneous Recovery of Response Speed',\n",
       "       'Memory Retention of Response Duration',\n",
       "       'Memory Retention of Response Probability',\n",
       "       'Memory Retention of Response Speed', 'Initial PSA Speed',\n",
       "       'Final PSA Speed', 'Recovery PSA Speed', 'Peak PSA Speed',\n",
       "       'Peak Tap Number of PSA Speed', 'Average PSA Speed',\n",
       "       'Sensitization of PSA Speed', 'Habituation of PSA Speed',\n",
       "       'Spontaneous Recovery of PSA Speed', 'Memory Retention of PSA Speed',\n",
       "       'Initial PSA Bias', 'Final PSA Bias', 'Recovery PSA Bias',\n",
       "       'Peak PSA Bias', 'Peak Tap Number of PSA Bias', 'Average PSA Bias',\n",
       "       'Sensitization of PSA Bias', 'Habituation of PSA Bias',\n",
       "       'Spontaneous Recovery of PSA Bias', 'Memory Retention of PSA Bias',\n",
       "       'Initial PSA Angular Speed', 'Final PSA Angular Speed',\n",
       "       'Recovery PSA Angular Speed', 'Peak PSA Angular Speed',\n",
       "       'Peak Tap Number of PSA Angular Speed', 'Average PSA Angular Speed',\n",
       "       'Sensitization of PSA Angular Speed',\n",
       "       'Habituation of PSA Angular Speed',\n",
       "       'Spontaneous Recovery of PSA Angular Speed',\n",
       "       'Memory Retention of PSA Angular Speed', 'Initial PSA Aspect Ratio',\n",
       "       'Final PSA Aspect Ratio', 'Recovery PSA Aspect Ratio',\n",
       "       'Peak PSA Aspect Ratio', 'Peak Tap Number of PSA Aspect Ratio',\n",
       "       'Average PSA Aspect Ratio', 'Sensitization of PSA Aspect Ratio',\n",
       "       'Habituation of PSA Aspect Ratio',\n",
       "       'Spontaneous Recovery of PSA Aspect Ratio',\n",
       "       'Memory Retention of PSA Aspect Ratio', 'Initial PSA Kink',\n",
       "       'Final PSA Kink', 'Recovery PSA Kink', 'Peak PSA Kink',\n",
       "       'Peak Tap Number of PSA Kink', 'Average PSA Kink',\n",
       "       'Sensitization of PSA Kink', 'Habituation of PSA Kink',\n",
       "       'Spontaneous Recovery of PSA Kink', 'Memory Retention of PSA Kink',\n",
       "       'Initial PSA Curve', 'Final PSA Curve', 'Recovery PSA Curve',\n",
       "       'Peak PSA Curve', 'Peak Tap Number of PSA Curve', 'Average PSA Curve',\n",
       "       'Sensitization of PSA Curve', 'Habituation of PSA Curve',\n",
       "       'Spontaneous Recovery of PSA Curve', 'Memory Retention of PSA Curve',\n",
       "       'Initial PSA Crab', 'Final PSA Crab', 'Recovery PSA Crab',\n",
       "       'Peak PSA Crab', 'Peak Tap Number of PSA Crab', 'Average PSA Crab',\n",
       "       'Sensitization of PSA Crab', 'Habituation of PSA Crab',\n",
       "       'Spontaneous Recovery of PSA Crab', 'Memory Retention of PSA Crab'],\n",
       "      dtype='object')"
      ]
     },
     "execution_count": 28,
     "metadata": {},
     "output_type": "execute_result"
    }
   ],
   "source": [
    "df.columns"
   ]
  },
  {
   "cell_type": "code",
   "execution_count": 29,
   "id": "8ac96b53",
   "metadata": {},
   "outputs": [],
   "source": [
    "# numeric_cols.value_counts().sum()"
   ]
  },
  {
   "cell_type": "code",
   "execution_count": 30,
   "id": "518736b3",
   "metadata": {},
   "outputs": [],
   "source": [
    "# Numerical columns: Impute missing values then scale\n",
    "numeric_cols = df.select_dtypes(include='number').columns\n",
    "si = SimpleImputer(strategy=\"constant\", fill_value=-9999)\n",
    "scaler = StandardScaler()\n",
    "numerical_transformer = make_pipeline(si, scaler)\n",
    "\n",
    "# Categorical Columns\n",
    "categorical_cols = ['Screen', 'Gene']\n",
    "ohe = OneHotEncoder(handle_unknown=\"ignore\", sparse_output=False, dtype = int)\n",
    "categorical_transformer = make_pipeline(ohe)\n",
    "\n",
    "# Apply transformations\n",
    "preprocessor = make_column_transformer(\n",
    "    (numerical_transformer, numeric_cols),\n",
    "    (categorical_transformer, categorical_cols),\n",
    "    remainder=\"passthrough\" \n",
    ")\n",
    "\n",
    "X = preprocessor.fit_transform(df)"
   ]
  },
  {
   "cell_type": "code",
   "execution_count": 31,
   "id": "7747ec1a",
   "metadata": {},
   "outputs": [
    {
     "data": {
      "text/plain": [
       "704"
      ]
     },
     "execution_count": 31,
     "metadata": {},
     "output_type": "execute_result"
    }
   ],
   "source": [
    "# Number of new columns added\n",
    "\n",
    "X.shape[1] - df.shape[1]"
   ]
  },
  {
   "cell_type": "markdown",
   "id": "26215b7b",
   "metadata": {},
   "source": [
    "## Clustering"
   ]
  },
  {
   "cell_type": "markdown",
   "id": "a3c5e614",
   "metadata": {},
   "source": [
    "Clustering - test with 6 clusters"
   ]
  },
  {
   "cell_type": "code",
   "execution_count": 32,
   "id": "18c1c6e1",
   "metadata": {},
   "outputs": [
    {
     "name": "stderr",
     "output_type": "stream",
     "text": [
      "/var/folders/mp/57zdplyn4kl5d5l8mxcwwknr0000gn/T/ipykernel_75884/1809139114.py:3: SettingWithCopyWarning: \n",
      "A value is trying to be set on a copy of a slice from a DataFrame.\n",
      "Try using .loc[row_indexer,col_indexer] = value instead\n",
      "\n",
      "See the caveats in the documentation: https://pandas.pydata.org/pandas-docs/stable/user_guide/indexing.html#returning-a-view-versus-a-copy\n",
      "  df['Cluster'] = labels\n"
     ]
    },
    {
     "data": {
      "text/plain": [
       "array([3, 3, 3, 3, 2, 2, 2, 2, 2, 2, 2, 2, 2, 2, 2, 2, 2, 2, 2, 2, 2, 2,\n",
       "       2, 2, 2, 2, 2, 2, 2, 2, 2, 2, 2, 2, 2, 2, 2, 2, 5, 2, 2, 2, 2, 2,\n",
       "       2, 2, 2, 2, 2, 2, 2, 2, 2, 2, 2, 2, 2, 2, 2, 2, 2, 2, 2, 2, 2, 2,\n",
       "       2, 2, 2, 2, 2, 2, 2, 2, 2, 2, 2, 2, 2, 2, 2, 2, 2, 2, 2, 2, 2, 2,\n",
       "       2, 2, 2, 2, 5, 3, 2, 2, 2, 2, 2, 2, 2, 2, 2, 2, 2, 2, 2, 2, 2, 2,\n",
       "       2, 2, 2, 3, 2, 2, 2, 2, 0, 2, 2, 0, 0, 3, 0, 0, 0, 0, 0, 0, 0, 0,\n",
       "       0, 0, 0, 0, 0, 0, 0, 0, 0, 0, 0, 0, 0, 0, 0, 0, 0, 0, 0, 0, 0, 0,\n",
       "       0, 0, 0, 0, 0, 0, 0, 0, 0, 0, 0, 0, 0, 0, 0, 0, 0, 0, 0, 0, 0, 0,\n",
       "       0, 0, 0, 0, 0, 0, 0, 0, 0, 0, 0, 0, 0, 0, 0, 0, 0, 0, 0, 0, 0, 0,\n",
       "       0, 0, 0, 0, 0, 0, 0, 0, 0, 0, 0, 0, 0, 0, 3, 0, 0, 3, 0, 0, 0, 0,\n",
       "       0, 0, 3, 3, 0, 0, 0, 0, 0, 0, 0, 0, 0, 0, 0, 0, 0, 0, 0, 0, 0, 0,\n",
       "       0, 0, 0, 3, 0, 0, 0, 0, 0, 0, 0, 0, 0, 0, 0, 0, 0, 0, 0, 0, 0, 0,\n",
       "       0, 0, 0, 0, 0, 0, 0, 0, 0, 0, 0, 0, 0, 0, 0, 0, 0, 0, 0, 0, 3, 0,\n",
       "       0, 0, 0, 0, 0, 0, 0, 0, 0, 0, 0, 0, 0, 0, 3, 0, 0, 0, 0, 0, 0, 0,\n",
       "       0, 0, 0, 0, 0, 0, 0, 0, 0, 0, 0, 0, 0, 0, 0, 0, 0, 0, 0, 0, 0, 0,\n",
       "       0, 0, 0, 0, 0, 0, 0, 0, 0, 0, 0, 0, 0, 0, 0, 0, 0, 0, 0, 0, 0, 0,\n",
       "       0, 0, 0, 3, 0, 0, 0, 0, 0, 0, 0, 0, 0, 0, 0, 0, 0, 0, 0, 0, 0, 0,\n",
       "       0, 0, 0, 3, 0, 0, 0, 0, 0, 0, 0, 0, 3, 0, 0, 0, 0, 0, 0, 0, 0, 3,\n",
       "       0, 0, 0, 0, 0, 0, 0, 0, 0, 0, 0, 0, 0, 0, 0, 0, 0, 0, 0, 0, 0, 0,\n",
       "       0, 0, 0, 0, 0, 0, 0, 0, 0, 0, 0, 0, 0, 0, 0, 3, 0, 0, 0, 0, 0, 0,\n",
       "       0, 0, 0, 0, 0, 0, 0, 0, 0, 0, 0, 0, 0, 0, 0, 0, 0, 0, 0, 0, 0, 0,\n",
       "       0, 0, 0, 0, 0, 0, 0, 0, 0, 0, 0, 0, 0, 0, 0, 0, 0, 0, 0, 0, 0, 0,\n",
       "       0, 0, 0, 3, 0, 0, 0, 0, 0, 0, 0, 0, 0, 0, 0, 0, 0, 0, 0, 0, 0, 3,\n",
       "       0, 0, 0, 0, 0, 0, 0, 0, 0, 0, 0, 0, 0, 0, 0, 0, 0, 0, 0, 0, 0, 0,\n",
       "       0, 0, 0, 0, 0, 0, 0, 0, 0, 3, 0, 0, 0, 0, 0, 0, 0, 0, 0, 3, 0, 0,\n",
       "       0, 0, 0, 0, 0, 0, 0, 0, 2, 2, 5, 2, 2, 2, 2, 2, 2, 2, 2, 2, 2, 2,\n",
       "       2, 2, 2, 2, 2, 2, 2, 2, 2, 4, 2, 2, 2, 2, 2, 2, 2, 2, 2, 2, 2, 2,\n",
       "       2, 2, 2, 5, 2, 2, 2, 2, 2, 2, 2, 2, 2, 5, 2, 2, 2, 2, 2, 2, 2, 2,\n",
       "       2, 2, 0, 0, 5, 0, 0, 0, 4, 0, 0, 0, 0, 0, 0, 0, 0, 0, 0, 0, 0, 0,\n",
       "       0, 0, 0, 2, 0, 0, 0, 0, 0, 0, 0, 0, 0, 1, 0, 0, 0, 0, 0, 0, 0, 2,\n",
       "       2, 2, 2, 2, 2, 2, 2, 2, 2, 2, 2, 2, 2, 2, 2, 2, 2, 2, 2, 2, 2, 2,\n",
       "       2, 2, 2, 2, 2, 2, 2, 2, 2, 2, 2, 2, 2, 2, 2, 2, 2, 2, 2, 2, 2, 2,\n",
       "       5, 2, 2, 2, 2, 2, 2, 2, 2, 2, 2, 2, 2, 2, 2, 2, 2, 2, 2, 2, 2, 2,\n",
       "       2, 2, 2, 2, 2, 2, 2, 2, 2, 2, 2, 2, 2, 2, 2, 2, 5, 2, 2, 2, 2, 2,\n",
       "       2, 4, 2, 2, 2, 2, 2, 2, 2, 2, 2, 2, 2, 2, 2, 2, 2, 2, 2, 2, 5, 2,\n",
       "       2, 2, 2, 5, 5, 5, 2, 2, 2], dtype=int32)"
      ]
     },
     "execution_count": 32,
     "metadata": {},
     "output_type": "execute_result"
    }
   ],
   "source": [
    "kmeans = KMeans(n_clusters=6, n_init='auto', random_state=100)\n",
    "labels = kmeans.fit_predict(X)\n",
    "df['Cluster'] = labels\n",
    "labels"
   ]
  },
  {
   "cell_type": "markdown",
   "id": "a1cbef12",
   "metadata": {},
   "source": [
    "# Elbow method to determine suitable k value"
   ]
  },
  {
   "cell_type": "code",
   "execution_count": 33,
   "id": "e4a0a273",
   "metadata": {},
   "outputs": [],
   "source": [
    "def plot_elbow(w, h, inertia_values, x):\n",
    "    plt.figure(figsize=(w, h))\n",
    "    plt.axvline(x=3, linestyle=\"-.\", c=\"black\")\n",
    "    plt.plot(range(1, x), inertia_values, \"-o\")\n",
    "    ax = plt.gca()\n",
    "    ax.tick_params(\"both\", labelsize=(w + h))\n",
    "    ax.set_xlabel(\"K\", fontsize=w+h)\n",
    "    ax.set_ylabel(\"Inertia\", fontsize=w+h)"
   ]
  },
  {
   "cell_type": "code",
   "execution_count": 34,
   "id": "8f6fdfa3",
   "metadata": {},
   "outputs": [
    {
     "data": {
      "image/png": "[encoded data removed]",
      "text/plain": [
       "<Figure size 600x400 with 1 Axes>"
      ]
     },
     "metadata": {},
     "output_type": "display_data"
    }
   ],
   "source": [
    "inertia_values = list()\n",
    "x = 20\n",
    "for k in range(1, x):\n",
    "    inertia_values.append(KMeans(n_clusters=k, n_init='auto').fit(X).inertia_)\n",
    "plot_elbow(6, 4, inertia_values, x)"
   ]
  },
  {
   "cell_type": "code",
   "execution_count": 35,
   "id": "3745ec55",
   "metadata": {},
   "outputs": [
    {
     "data": {
      "image/png": "[encoded data removed]",
      "text/plain": [
       "<Figure size 600x400 with 1 Axes>"
      ]
     },
     "metadata": {},
     "output_type": "display_data"
    }
   ],
   "source": [
    "inertia_values = list()\n",
    "x = 15\n",
    "for k in range(1, x):\n",
    "    inertia_values.append(KMeans(n_clusters=k, n_init='auto').fit(X).inertia_)\n",
    "plot_elbow(6, 4, inertia_values, x)"
   ]
  },
  {
   "cell_type": "markdown",
   "id": "392d3899",
   "metadata": {},
   "source": [
    "Picking k = [2,6]"
   ]
  },
  {
   "cell_type": "markdown",
   "id": "236113d0",
   "metadata": {},
   "source": [
    "## Dimensionality reduction"
   ]
  },
  {
   "cell_type": "code",
   "execution_count": 36,
   "id": "082ac1b2",
   "metadata": {},
   "outputs": [
    {
     "name": "stdout",
     "output_type": "stream",
     "text": [
      "initial shape:\n"
     ]
    },
    {
     "data": {
      "text/plain": [
       "(779, 803)"
      ]
     },
     "execution_count": 36,
     "metadata": {},
     "output_type": "execute_result"
    }
   ],
   "source": [
    "print(\"initial shape:\")\n",
    "X.shape"
   ]
  },
  {
   "cell_type": "code",
   "execution_count": 38,
   "id": "786d5aa2",
   "metadata": {},
   "outputs": [
    {
     "ename": "ValueError",
     "evalue": "x and y must have same first dimension, but have shapes (99,) and (779,)",
     "output_type": "error",
     "traceback": [
      "\u001b[31m---------------------------------------------------------------------------\u001b[39m",
      "\u001b[31mValueError\u001b[39m                                Traceback (most recent call last)",
      "\u001b[36mCell\u001b[39m\u001b[36m \u001b[39m\u001b[32mIn[38]\u001b[39m\u001b[32m, line 5\u001b[39m\n\u001b[32m      2\u001b[39m pca.fit(X)\n\u001b[32m      4\u001b[39m \u001b[38;5;28;01mimport\u001b[39;00m\u001b[38;5;250m \u001b[39m\u001b[34;01mmatplotlib\u001b[39;00m\u001b[34;01m.\u001b[39;00m\u001b[34;01mpyplot\u001b[39;00m\u001b[38;5;250m \u001b[39m\u001b[38;5;28;01mas\u001b[39;00m\u001b[38;5;250m \u001b[39m\u001b[34;01mplt\u001b[39;00m\n\u001b[32m----> \u001b[39m\u001b[32m5\u001b[39m \u001b[43mplt\u001b[49m\u001b[43m.\u001b[49m\u001b[43mplot\u001b[49m\u001b[43m(\u001b[49m\u001b[38;5;28;43mrange\u001b[39;49m\u001b[43m(\u001b[49m\u001b[32;43m1\u001b[39;49m\u001b[43m,\u001b[49m\u001b[43m \u001b[49m\u001b[32;43m100\u001b[39;49m\u001b[43m)\u001b[49m\u001b[43m,\u001b[49m\n\u001b[32m      6\u001b[39m \u001b[43m         \u001b[49m\u001b[43mpca\u001b[49m\u001b[43m.\u001b[49m\u001b[43mexplained_variance_ratio_\u001b[49m\u001b[43m.\u001b[49m\u001b[43mcumsum\u001b[49m\u001b[43m(\u001b[49m\u001b[43m)\u001b[49m\u001b[43m,\u001b[49m\u001b[43m \u001b[49m\u001b[43mmarker\u001b[49m\u001b[43m=\u001b[49m\u001b[33;43m'\u001b[39;49m\u001b[33;43mo\u001b[39;49m\u001b[33;43m'\u001b[39;49m\u001b[43m)\u001b[49m\n\u001b[32m      7\u001b[39m plt.xlabel(\u001b[33m'\u001b[39m\u001b[33mNumber of Components\u001b[39m\u001b[33m'\u001b[39m)\n\u001b[32m      8\u001b[39m plt.ylabel(\u001b[33m'\u001b[39m\u001b[33mCumulative Explained Variance\u001b[39m\u001b[33m'\u001b[39m)\n",
      "\u001b[36mFile \u001b[39m\u001b[32m~/miniforge3/envs/rankinlab/lib/python3.11/site-packages/matplotlib/pyplot.py:3827\u001b[39m, in \u001b[36mplot\u001b[39m\u001b[34m(scalex, scaley, data, *args, **kwargs)\u001b[39m\n\u001b[32m   3819\u001b[39m \u001b[38;5;129m@_copy_docstring_and_deprecators\u001b[39m(Axes.plot)\n\u001b[32m   3820\u001b[39m \u001b[38;5;28;01mdef\u001b[39;00m\u001b[38;5;250m \u001b[39m\u001b[34mplot\u001b[39m(\n\u001b[32m   3821\u001b[39m     *args: \u001b[38;5;28mfloat\u001b[39m | ArrayLike | \u001b[38;5;28mstr\u001b[39m,\n\u001b[32m   (...)\u001b[39m\u001b[32m   3825\u001b[39m     **kwargs,\n\u001b[32m   3826\u001b[39m ) -> \u001b[38;5;28mlist\u001b[39m[Line2D]:\n\u001b[32m-> \u001b[39m\u001b[32m3827\u001b[39m     \u001b[38;5;28;01mreturn\u001b[39;00m \u001b[43mgca\u001b[49m\u001b[43m(\u001b[49m\u001b[43m)\u001b[49m\u001b[43m.\u001b[49m\u001b[43mplot\u001b[49m\u001b[43m(\u001b[49m\n\u001b[32m   3828\u001b[39m \u001b[43m        \u001b[49m\u001b[43m*\u001b[49m\u001b[43margs\u001b[49m\u001b[43m,\u001b[49m\n\u001b[32m   3829\u001b[39m \u001b[43m        \u001b[49m\u001b[43mscalex\u001b[49m\u001b[43m=\u001b[49m\u001b[43mscalex\u001b[49m\u001b[43m,\u001b[49m\n\u001b[32m   3830\u001b[39m \u001b[43m        \u001b[49m\u001b[43mscaley\u001b[49m\u001b[43m=\u001b[49m\u001b[43mscaley\u001b[49m\u001b[43m,\u001b[49m\n\u001b[32m   3831\u001b[39m \u001b[43m        \u001b[49m\u001b[43m*\u001b[49m\u001b[43m*\u001b[49m\u001b[43m(\u001b[49m\u001b[43m{\u001b[49m\u001b[33;43m\"\u001b[39;49m\u001b[33;43mdata\u001b[39;49m\u001b[33;43m\"\u001b[39;49m\u001b[43m:\u001b[49m\u001b[43m \u001b[49m\u001b[43mdata\u001b[49m\u001b[43m}\u001b[49m\u001b[43m \u001b[49m\u001b[38;5;28;43;01mif\u001b[39;49;00m\u001b[43m \u001b[49m\u001b[43mdata\u001b[49m\u001b[43m \u001b[49m\u001b[38;5;129;43;01mis\u001b[39;49;00m\u001b[43m \u001b[49m\u001b[38;5;129;43;01mnot\u001b[39;49;00m\u001b[43m \u001b[49m\u001b[38;5;28;43;01mNone\u001b[39;49;00m\u001b[43m \u001b[49m\u001b[38;5;28;43;01melse\u001b[39;49;00m\u001b[43m \u001b[49m\u001b[43m{\u001b[49m\u001b[43m}\u001b[49m\u001b[43m)\u001b[49m\u001b[43m,\u001b[49m\n\u001b[32m   3832\u001b[39m \u001b[43m        \u001b[49m\u001b[43m*\u001b[49m\u001b[43m*\u001b[49m\u001b[43mkwargs\u001b[49m\u001b[43m,\u001b[49m\n\u001b[32m   3833\u001b[39m \u001b[43m    \u001b[49m\u001b[43m)\u001b[49m\n",
      "\u001b[36mFile \u001b[39m\u001b[32m~/miniforge3/envs/rankinlab/lib/python3.11/site-packages/matplotlib/axes/_axes.py:1777\u001b[39m, in \u001b[36mAxes.plot\u001b[39m\u001b[34m(self, scalex, scaley, data, *args, **kwargs)\u001b[39m\n\u001b[32m   1534\u001b[39m \u001b[38;5;250m\u001b[39m\u001b[33;03m\"\"\"\u001b[39;00m\n\u001b[32m   1535\u001b[39m \u001b[33;03mPlot y versus x as lines and/or markers.\u001b[39;00m\n\u001b[32m   1536\u001b[39m \n\u001b[32m   (...)\u001b[39m\u001b[32m   1774\u001b[39m \u001b[33;03m(``'green'``) or hex strings (``'#008000'``).\u001b[39;00m\n\u001b[32m   1775\u001b[39m \u001b[33;03m\"\"\"\u001b[39;00m\n\u001b[32m   1776\u001b[39m kwargs = cbook.normalize_kwargs(kwargs, mlines.Line2D)\n\u001b[32m-> \u001b[39m\u001b[32m1777\u001b[39m lines = [*\u001b[38;5;28mself\u001b[39m._get_lines(\u001b[38;5;28mself\u001b[39m, *args, data=data, **kwargs)]\n\u001b[32m   1778\u001b[39m \u001b[38;5;28;01mfor\u001b[39;00m line \u001b[38;5;129;01min\u001b[39;00m lines:\n\u001b[32m   1779\u001b[39m     \u001b[38;5;28mself\u001b[39m.add_line(line)\n",
      "\u001b[36mFile \u001b[39m\u001b[32m~/miniforge3/envs/rankinlab/lib/python3.11/site-packages/matplotlib/axes/_base.py:297\u001b[39m, in \u001b[36m_process_plot_var_args.__call__\u001b[39m\u001b[34m(self, axes, data, return_kwargs, *args, **kwargs)\u001b[39m\n\u001b[32m    295\u001b[39m     this += args[\u001b[32m0\u001b[39m],\n\u001b[32m    296\u001b[39m     args = args[\u001b[32m1\u001b[39m:]\n\u001b[32m--> \u001b[39m\u001b[32m297\u001b[39m \u001b[38;5;28;01myield from\u001b[39;00m \u001b[38;5;28;43mself\u001b[39;49m\u001b[43m.\u001b[49m\u001b[43m_plot_args\u001b[49m\u001b[43m(\u001b[49m\n\u001b[32m    298\u001b[39m \u001b[43m    \u001b[49m\u001b[43maxes\u001b[49m\u001b[43m,\u001b[49m\u001b[43m \u001b[49m\u001b[43mthis\u001b[49m\u001b[43m,\u001b[49m\u001b[43m \u001b[49m\u001b[43mkwargs\u001b[49m\u001b[43m,\u001b[49m\u001b[43m \u001b[49m\u001b[43mambiguous_fmt_datakey\u001b[49m\u001b[43m=\u001b[49m\u001b[43mambiguous_fmt_datakey\u001b[49m\u001b[43m,\u001b[49m\n\u001b[32m    299\u001b[39m \u001b[43m    \u001b[49m\u001b[43mreturn_kwargs\u001b[49m\u001b[43m=\u001b[49m\u001b[43mreturn_kwargs\u001b[49m\n\u001b[32m    300\u001b[39m \u001b[43m\u001b[49m\u001b[43m)\u001b[49m\n",
      "\u001b[36mFile \u001b[39m\u001b[32m~/miniforge3/envs/rankinlab/lib/python3.11/site-packages/matplotlib/axes/_base.py:494\u001b[39m, in \u001b[36m_process_plot_var_args._plot_args\u001b[39m\u001b[34m(self, axes, tup, kwargs, return_kwargs, ambiguous_fmt_datakey)\u001b[39m\n\u001b[32m    491\u001b[39m     axes.yaxis.update_units(y)\n\u001b[32m    493\u001b[39m \u001b[38;5;28;01mif\u001b[39;00m x.shape[\u001b[32m0\u001b[39m] != y.shape[\u001b[32m0\u001b[39m]:\n\u001b[32m--> \u001b[39m\u001b[32m494\u001b[39m     \u001b[38;5;28;01mraise\u001b[39;00m \u001b[38;5;167;01mValueError\u001b[39;00m(\u001b[33mf\u001b[39m\u001b[33m\"\u001b[39m\u001b[33mx and y must have same first dimension, but \u001b[39m\u001b[33m\"\u001b[39m\n\u001b[32m    495\u001b[39m                      \u001b[33mf\u001b[39m\u001b[33m\"\u001b[39m\u001b[33mhave shapes \u001b[39m\u001b[38;5;132;01m{\u001b[39;00mx.shape\u001b[38;5;132;01m}\u001b[39;00m\u001b[33m and \u001b[39m\u001b[38;5;132;01m{\u001b[39;00my.shape\u001b[38;5;132;01m}\u001b[39;00m\u001b[33m\"\u001b[39m)\n\u001b[32m    496\u001b[39m \u001b[38;5;28;01mif\u001b[39;00m x.ndim > \u001b[32m2\u001b[39m \u001b[38;5;129;01mor\u001b[39;00m y.ndim > \u001b[32m2\u001b[39m:\n\u001b[32m    497\u001b[39m     \u001b[38;5;28;01mraise\u001b[39;00m \u001b[38;5;167;01mValueError\u001b[39;00m(\u001b[33mf\u001b[39m\u001b[33m\"\u001b[39m\u001b[33mx and y can be no greater than 2D, but have \u001b[39m\u001b[33m\"\u001b[39m\n\u001b[32m    498\u001b[39m                      \u001b[33mf\u001b[39m\u001b[33m\"\u001b[39m\u001b[33mshapes \u001b[39m\u001b[38;5;132;01m{\u001b[39;00mx.shape\u001b[38;5;132;01m}\u001b[39;00m\u001b[33m and \u001b[39m\u001b[38;5;132;01m{\u001b[39;00my.shape\u001b[38;5;132;01m}\u001b[39;00m\u001b[33m\"\u001b[39m)\n",
      "\u001b[31mValueError\u001b[39m: x and y must have same first dimension, but have shapes (99,) and (779,)"
     ]
    },
    {
     "data": {
      "image/png": "[encoded data removed]",
      "text/plain": [
       "<Figure size 640x480 with 1 Axes>"
      ]
     },
     "metadata": {},
     "output_type": "display_data"
    }
   ],
   "source": [
    "pca = PCA()\n",
    "pca.fit(X)\n",
    "\n",
    "import matplotlib.pyplot as plt\n",
    "plt.plot(range(1, 100),\n",
    "         pca.explained_variance_ratio_.cumsum(), marker='o')\n",
    "plt.xlabel('Number of Components')\n",
    "plt.ylabel('Cumulative Explained Variance')\n",
    "plt.show()\n"
   ]
  },
  {
   "cell_type": "code",
   "execution_count": 39,
   "id": "678a3a87",
   "metadata": {},
   "outputs": [
    {
     "data": {
      "text/plain": [
       "779"
      ]
     },
     "execution_count": 39,
     "metadata": {},
     "output_type": "execute_result"
    }
   ],
   "source": [
    "len(pca.explained_variance_ratio_)"
   ]
  },
  {
   "cell_type": "markdown",
   "id": "154bc048",
   "metadata": {},
   "source": [
    "Picking 100 as the reduced dimesnion"
   ]
  },
  {
   "cell_type": "code",
   "execution_count": 40,
   "id": "3ae90a46",
   "metadata": {},
   "outputs": [],
   "source": [
    "pca = PCA(n_components=100)\n",
    "pca_df = pca.fit_transform(X)"
   ]
  },
  {
   "cell_type": "code",
   "execution_count": 41,
   "id": "b0598256",
   "metadata": {},
   "outputs": [
    {
     "data": {
      "text/plain": [
       "np.float64(0.9920685396849493)"
      ]
     },
     "execution_count": 41,
     "metadata": {},
     "output_type": "execute_result"
    }
   ],
   "source": [
    "pca.explained_variance_ratio_.sum()"
   ]
  },
  {
   "cell_type": "code",
   "execution_count": 42,
   "id": "2e8368d4",
   "metadata": {},
   "outputs": [
    {
     "data": {
      "text/plain": [
       "(779, 100)"
      ]
     },
     "execution_count": 42,
     "metadata": {},
     "output_type": "execute_result"
    }
   ],
   "source": [
    "pca_df.shape"
   ]
  },
  {
   "cell_type": "markdown",
   "id": "9f6dd3e5",
   "metadata": {},
   "source": [
    "kmeans after PCA"
   ]
  },
  {
   "cell_type": "code",
   "execution_count": 43,
   "id": "2dba3741",
   "metadata": {},
   "outputs": [
    {
     "name": "stderr",
     "output_type": "stream",
     "text": [
      "/var/folders/mp/57zdplyn4kl5d5l8mxcwwknr0000gn/T/ipykernel_75884/3853737570.py:3: SettingWithCopyWarning: \n",
      "A value is trying to be set on a copy of a slice from a DataFrame.\n",
      "Try using .loc[row_indexer,col_indexer] = value instead\n",
      "\n",
      "See the caveats in the documentation: https://pandas.pydata.org/pandas-docs/stable/user_guide/indexing.html#returning-a-view-versus-a-copy\n",
      "  df['Cluster'] = labels\n"
     ]
    },
    {
     "data": {
      "text/html": [
       "<div>\n",
       "<style scoped>\n",
       "    .dataframe tbody tr th:only-of-type {\n",
       "        vertical-align: middle;\n",
       "    }\n",
       "\n",
       "    .dataframe tbody tr th {\n",
       "        vertical-align: top;\n",
       "    }\n",
       "\n",
       "    .dataframe thead th {\n",
       "        text-align: right;\n",
       "    }\n",
       "</style>\n",
       "<table border=\"1\" class=\"dataframe\">\n",
       "  <thead>\n",
       "    <tr style=\"text-align: right;\">\n",
       "      <th></th>\n",
       "      <th>index</th>\n",
       "      <th>Screen</th>\n",
       "      <th>Gene</th>\n",
       "      <th>Morphwidth</th>\n",
       "      <th>Midline</th>\n",
       "      <th>Area</th>\n",
       "      <th>Speed</th>\n",
       "      <th>Bias</th>\n",
       "      <th>Angular Speed</th>\n",
       "      <th>Aspect Ratio</th>\n",
       "      <th>...</th>\n",
       "      <th>Final PSA Crab</th>\n",
       "      <th>Recovery PSA Crab</th>\n",
       "      <th>Peak PSA Crab</th>\n",
       "      <th>Peak Tap Number of PSA Crab</th>\n",
       "      <th>Average PSA Crab</th>\n",
       "      <th>Sensitization of PSA Crab</th>\n",
       "      <th>Habituation of PSA Crab</th>\n",
       "      <th>Spontaneous Recovery of PSA Crab</th>\n",
       "      <th>Memory Retention of PSA Crab</th>\n",
       "      <th>Cluster</th>\n",
       "    </tr>\n",
       "  </thead>\n",
       "  <tbody>\n",
       "    <tr>\n",
       "      <th>0</th>\n",
       "      <td>99</td>\n",
       "      <td>Neuron_Genes_Screen</td>\n",
       "      <td>crb-1</td>\n",
       "      <td>-68.496389</td>\n",
       "      <td>-463.636579</td>\n",
       "      <td>-184.897543</td>\n",
       "      <td>-276.539960</td>\n",
       "      <td>-295.918287</td>\n",
       "      <td>-26.005262</td>\n",
       "      <td>104.180733</td>\n",
       "      <td>...</td>\n",
       "      <td>2.924339</td>\n",
       "      <td>2.034681</td>\n",
       "      <td>4.151277</td>\n",
       "      <td>-2.125745</td>\n",
       "      <td>4.056727</td>\n",
       "      <td>7.418909</td>\n",
       "      <td>4.978237</td>\n",
       "      <td>0.754411</td>\n",
       "      <td>-0.567230</td>\n",
       "      <td>3</td>\n",
       "    </tr>\n",
       "    <tr>\n",
       "      <th>1</th>\n",
       "      <td>360</td>\n",
       "      <td>Neuron_Genes_Screen</td>\n",
       "      <td>sid-1</td>\n",
       "      <td>-303.393518</td>\n",
       "      <td>-368.376289</td>\n",
       "      <td>-414.720952</td>\n",
       "      <td>-360.376960</td>\n",
       "      <td>-287.599024</td>\n",
       "      <td>-95.889295</td>\n",
       "      <td>83.325624</td>\n",
       "      <td>...</td>\n",
       "      <td>0.358000</td>\n",
       "      <td>0.876437</td>\n",
       "      <td>1.640464</td>\n",
       "      <td>-0.265319</td>\n",
       "      <td>1.386822</td>\n",
       "      <td>3.147869</td>\n",
       "      <td>1.858055</td>\n",
       "      <td>1.316280</td>\n",
       "      <td>1.500438</td>\n",
       "      <td>3</td>\n",
       "    </tr>\n",
       "    <tr>\n",
       "      <th>2</th>\n",
       "      <td>15</td>\n",
       "      <td>ASD_Screen</td>\n",
       "      <td>cdkl-1</td>\n",
       "      <td>117.311452</td>\n",
       "      <td>-120.306780</td>\n",
       "      <td>16.371823</td>\n",
       "      <td>-44.065819</td>\n",
       "      <td>-21.957771</td>\n",
       "      <td>30.007247</td>\n",
       "      <td>63.061494</td>\n",
       "      <td>...</td>\n",
       "      <td>-3.409448</td>\n",
       "      <td>-15.418954</td>\n",
       "      <td>-15.749503</td>\n",
       "      <td>2.556072</td>\n",
       "      <td>-15.187795</td>\n",
       "      <td>-4.094371</td>\n",
       "      <td>-14.503847</td>\n",
       "      <td>-2.925680</td>\n",
       "      <td>-6.997452</td>\n",
       "      <td>3</td>\n",
       "    </tr>\n",
       "    <tr>\n",
       "      <th>3</th>\n",
       "      <td>35</td>\n",
       "      <td>ASD_Screen</td>\n",
       "      <td>gex-3</td>\n",
       "      <td>-162.011769</td>\n",
       "      <td>-209.833308</td>\n",
       "      <td>-215.668982</td>\n",
       "      <td>-34.277144</td>\n",
       "      <td>18.290498</td>\n",
       "      <td>-11.594857</td>\n",
       "      <td>-27.988780</td>\n",
       "      <td>...</td>\n",
       "      <td>-1.161596</td>\n",
       "      <td>-1.682367</td>\n",
       "      <td>0.867141</td>\n",
       "      <td>0.755929</td>\n",
       "      <td>-1.379243</td>\n",
       "      <td>-0.374859</td>\n",
       "      <td>1.231142</td>\n",
       "      <td>-2.989971</td>\n",
       "      <td>0.132965</td>\n",
       "      <td>3</td>\n",
       "    </tr>\n",
       "    <tr>\n",
       "      <th>5</th>\n",
       "      <td>1</td>\n",
       "      <td>ASD_Screen</td>\n",
       "      <td>F11E6.8</td>\n",
       "      <td>-242.071763</td>\n",
       "      <td>-243.122318</td>\n",
       "      <td>-342.503847</td>\n",
       "      <td>82.767232</td>\n",
       "      <td>114.517249</td>\n",
       "      <td>40.155560</td>\n",
       "      <td>-13.700774</td>\n",
       "      <td>...</td>\n",
       "      <td>0.243976</td>\n",
       "      <td>-0.192454</td>\n",
       "      <td>-0.644696</td>\n",
       "      <td>1.677256</td>\n",
       "      <td>-0.440009</td>\n",
       "      <td>0.025463</td>\n",
       "      <td>-0.853258</td>\n",
       "      <td>0.230984</td>\n",
       "      <td>-0.420310</td>\n",
       "      <td>2</td>\n",
       "    </tr>\n",
       "    <tr>\n",
       "      <th>...</th>\n",
       "      <td>...</td>\n",
       "      <td>...</td>\n",
       "      <td>...</td>\n",
       "      <td>...</td>\n",
       "      <td>...</td>\n",
       "      <td>...</td>\n",
       "      <td>...</td>\n",
       "      <td>...</td>\n",
       "      <td>...</td>\n",
       "      <td>...</td>\n",
       "      <td>...</td>\n",
       "      <td>...</td>\n",
       "      <td>...</td>\n",
       "      <td>...</td>\n",
       "      <td>...</td>\n",
       "      <td>...</td>\n",
       "      <td>...</td>\n",
       "      <td>...</td>\n",
       "      <td>...</td>\n",
       "      <td>...</td>\n",
       "      <td>...</td>\n",
       "    </tr>\n",
       "    <tr>\n",
       "      <th>775</th>\n",
       "      <td>108</td>\n",
       "      <td>PD_Screen</td>\n",
       "      <td>unc-43</td>\n",
       "      <td>-101.850124</td>\n",
       "      <td>-234.169230</td>\n",
       "      <td>-210.555197</td>\n",
       "      <td>44.031732</td>\n",
       "      <td>21.936045</td>\n",
       "      <td>182.856892</td>\n",
       "      <td>76.216716</td>\n",
       "      <td>...</td>\n",
       "      <td>-0.748966</td>\n",
       "      <td>-1.123879</td>\n",
       "      <td>-0.719720</td>\n",
       "      <td>4.944287</td>\n",
       "      <td>-2.630912</td>\n",
       "      <td>-0.460076</td>\n",
       "      <td>-0.591010</td>\n",
       "      <td>NaN</td>\n",
       "      <td>-0.616942</td>\n",
       "      <td>5</td>\n",
       "    </tr>\n",
       "    <tr>\n",
       "      <th>776</th>\n",
       "      <td>109</td>\n",
       "      <td>PD_Screen</td>\n",
       "      <td>unc-57</td>\n",
       "      <td>-166.412154</td>\n",
       "      <td>-472.028220</td>\n",
       "      <td>-511.547548</td>\n",
       "      <td>-167.244925</td>\n",
       "      <td>-36.332082</td>\n",
       "      <td>65.189587</td>\n",
       "      <td>56.701590</td>\n",
       "      <td>...</td>\n",
       "      <td>-2.384573</td>\n",
       "      <td>-2.884097</td>\n",
       "      <td>-5.067928</td>\n",
       "      <td>4.301016</td>\n",
       "      <td>-4.279961</td>\n",
       "      <td>-2.132468</td>\n",
       "      <td>-3.364117</td>\n",
       "      <td>NaN</td>\n",
       "      <td>-0.928510</td>\n",
       "      <td>5</td>\n",
       "    </tr>\n",
       "    <tr>\n",
       "      <th>777</th>\n",
       "      <td>110</td>\n",
       "      <td>PD_Screen</td>\n",
       "      <td>unc-59</td>\n",
       "      <td>-113.318379</td>\n",
       "      <td>-378.428538</td>\n",
       "      <td>-265.329697</td>\n",
       "      <td>-65.391543</td>\n",
       "      <td>6.282208</td>\n",
       "      <td>46.464973</td>\n",
       "      <td>234.742202</td>\n",
       "      <td>...</td>\n",
       "      <td>-1.820606</td>\n",
       "      <td>-1.889704</td>\n",
       "      <td>-3.729287</td>\n",
       "      <td>3.437354</td>\n",
       "      <td>-2.217888</td>\n",
       "      <td>-1.632515</td>\n",
       "      <td>-3.809516</td>\n",
       "      <td>1.169334</td>\n",
       "      <td>-0.703254</td>\n",
       "      <td>2</td>\n",
       "    </tr>\n",
       "    <tr>\n",
       "      <th>778</th>\n",
       "      <td>111</td>\n",
       "      <td>PD_Screen</td>\n",
       "      <td>unc-70</td>\n",
       "      <td>-8.909107</td>\n",
       "      <td>-576.943712</td>\n",
       "      <td>-344.383937</td>\n",
       "      <td>-89.421561</td>\n",
       "      <td>-55.103890</td>\n",
       "      <td>177.586605</td>\n",
       "      <td>488.440475</td>\n",
       "      <td>...</td>\n",
       "      <td>1.669532</td>\n",
       "      <td>-2.706185</td>\n",
       "      <td>-2.478294</td>\n",
       "      <td>5.994874</td>\n",
       "      <td>0.188347</td>\n",
       "      <td>-0.764557</td>\n",
       "      <td>-11.143172</td>\n",
       "      <td>0.318549</td>\n",
       "      <td>-4.243795</td>\n",
       "      <td>2</td>\n",
       "    </tr>\n",
       "    <tr>\n",
       "      <th>779</th>\n",
       "      <td>112</td>\n",
       "      <td>PD_Screen</td>\n",
       "      <td>vps-35</td>\n",
       "      <td>-160.557702</td>\n",
       "      <td>-642.188620</td>\n",
       "      <td>-554.237138</td>\n",
       "      <td>-65.859407</td>\n",
       "      <td>55.961052</td>\n",
       "      <td>65.614759</td>\n",
       "      <td>109.012196</td>\n",
       "      <td>...</td>\n",
       "      <td>-3.940636</td>\n",
       "      <td>-4.217519</td>\n",
       "      <td>-6.088831</td>\n",
       "      <td>2.961342</td>\n",
       "      <td>-8.088475</td>\n",
       "      <td>-3.521189</td>\n",
       "      <td>-4.995005</td>\n",
       "      <td>-0.203224</td>\n",
       "      <td>-2.075164</td>\n",
       "      <td>2</td>\n",
       "    </tr>\n",
       "  </tbody>\n",
       "</table>\n",
       "<p>779 rows × 100 columns</p>\n",
       "</div>"
      ],
      "text/plain": [
       "     index               Screen     Gene  Morphwidth     Midline        Area  \\\n",
       "0       99  Neuron_Genes_Screen    crb-1  -68.496389 -463.636579 -184.897543   \n",
       "1      360  Neuron_Genes_Screen    sid-1 -303.393518 -368.376289 -414.720952   \n",
       "2       15           ASD_Screen   cdkl-1  117.311452 -120.306780   16.371823   \n",
       "3       35           ASD_Screen    gex-3 -162.011769 -209.833308 -215.668982   \n",
       "5        1           ASD_Screen  F11E6.8 -242.071763 -243.122318 -342.503847   \n",
       "..     ...                  ...      ...         ...         ...         ...   \n",
       "775    108            PD_Screen   unc-43 -101.850124 -234.169230 -210.555197   \n",
       "776    109            PD_Screen   unc-57 -166.412154 -472.028220 -511.547548   \n",
       "777    110            PD_Screen   unc-59 -113.318379 -378.428538 -265.329697   \n",
       "778    111            PD_Screen   unc-70   -8.909107 -576.943712 -344.383937   \n",
       "779    112            PD_Screen   vps-35 -160.557702 -642.188620 -554.237138   \n",
       "\n",
       "          Speed        Bias  Angular Speed  Aspect Ratio  ...  Final PSA Crab  \\\n",
       "0   -276.539960 -295.918287     -26.005262    104.180733  ...        2.924339   \n",
       "1   -360.376960 -287.599024     -95.889295     83.325624  ...        0.358000   \n",
       "2    -44.065819  -21.957771      30.007247     63.061494  ...       -3.409448   \n",
       "3    -34.277144   18.290498     -11.594857    -27.988780  ...       -1.161596   \n",
       "5     82.767232  114.517249      40.155560    -13.700774  ...        0.243976   \n",
       "..          ...         ...            ...           ...  ...             ...   \n",
       "775   44.031732   21.936045     182.856892     76.216716  ...       -0.748966   \n",
       "776 -167.244925  -36.332082      65.189587     56.701590  ...       -2.384573   \n",
       "777  -65.391543    6.282208      46.464973    234.742202  ...       -1.820606   \n",
       "778  -89.421561  -55.103890     177.586605    488.440475  ...        1.669532   \n",
       "779  -65.859407   55.961052      65.614759    109.012196  ...       -3.940636   \n",
       "\n",
       "     Recovery PSA Crab  Peak PSA Crab  Peak Tap Number of PSA Crab  \\\n",
       "0             2.034681       4.151277                    -2.125745   \n",
       "1             0.876437       1.640464                    -0.265319   \n",
       "2           -15.418954     -15.749503                     2.556072   \n",
       "3            -1.682367       0.867141                     0.755929   \n",
       "5            -0.192454      -0.644696                     1.677256   \n",
       "..                 ...            ...                          ...   \n",
       "775          -1.123879      -0.719720                     4.944287   \n",
       "776          -2.884097      -5.067928                     4.301016   \n",
       "777          -1.889704      -3.729287                     3.437354   \n",
       "778          -2.706185      -2.478294                     5.994874   \n",
       "779          -4.217519      -6.088831                     2.961342   \n",
       "\n",
       "     Average PSA Crab  Sensitization of PSA Crab  Habituation of PSA Crab  \\\n",
       "0            4.056727                   7.418909                 4.978237   \n",
       "1            1.386822                   3.147869                 1.858055   \n",
       "2          -15.187795                  -4.094371               -14.503847   \n",
       "3           -1.379243                  -0.374859                 1.231142   \n",
       "5           -0.440009                   0.025463                -0.853258   \n",
       "..                ...                        ...                      ...   \n",
       "775         -2.630912                  -0.460076                -0.591010   \n",
       "776         -4.279961                  -2.132468                -3.364117   \n",
       "777         -2.217888                  -1.632515                -3.809516   \n",
       "778          0.188347                  -0.764557               -11.143172   \n",
       "779         -8.088475                  -3.521189                -4.995005   \n",
       "\n",
       "     Spontaneous Recovery of PSA Crab  Memory Retention of PSA Crab  Cluster  \n",
       "0                            0.754411                     -0.567230        3  \n",
       "1                            1.316280                      1.500438        3  \n",
       "2                           -2.925680                     -6.997452        3  \n",
       "3                           -2.989971                      0.132965        3  \n",
       "5                            0.230984                     -0.420310        2  \n",
       "..                                ...                           ...      ...  \n",
       "775                               NaN                     -0.616942        5  \n",
       "776                               NaN                     -0.928510        5  \n",
       "777                          1.169334                     -0.703254        2  \n",
       "778                          0.318549                     -4.243795        2  \n",
       "779                         -0.203224                     -2.075164        2  \n",
       "\n",
       "[779 rows x 100 columns]"
      ]
     },
     "execution_count": 43,
     "metadata": {},
     "output_type": "execute_result"
    }
   ],
   "source": [
    "kmeans = KMeans(n_clusters=6, n_init='auto', random_state=100)\n",
    "labels = kmeans.fit_predict(pca_df)\n",
    "df['Cluster'] = labels\n",
    "df"
   ]
  },
  {
   "cell_type": "code",
   "execution_count": 44,
   "id": "14f29f38",
   "metadata": {},
   "outputs": [],
   "source": [
    "# kmeans_df = pca_df.copy()\n",
    "# kemans_df['Cluster'] = labels"
   ]
  },
  {
   "cell_type": "markdown",
   "id": "9cb9c901",
   "metadata": {},
   "source": [
    "Top features contributing to the clusters"
   ]
  },
  {
   "cell_type": "code",
   "execution_count": 45,
   "id": "7bc6eb2a",
   "metadata": {},
   "outputs": [
    {
     "data": {
      "text/html": [
       "<div>\n",
       "<style scoped>\n",
       "    .dataframe tbody tr th:only-of-type {\n",
       "        vertical-align: middle;\n",
       "    }\n",
       "\n",
       "    .dataframe tbody tr th {\n",
       "        vertical-align: top;\n",
       "    }\n",
       "\n",
       "    .dataframe thead th {\n",
       "        text-align: right;\n",
       "    }\n",
       "</style>\n",
       "<table border=\"1\" class=\"dataframe\">\n",
       "  <thead>\n",
       "    <tr style=\"text-align: right;\">\n",
       "      <th></th>\n",
       "      <th>feature</th>\n",
       "      <th>weight</th>\n",
       "    </tr>\n",
       "  </thead>\n",
       "  <tbody>\n",
       "    <tr>\n",
       "      <th>52</th>\n",
       "      <td>pipeline-1__Average PSA Angular Speed</td>\n",
       "      <td>0.131660</td>\n",
       "    </tr>\n",
       "    <tr>\n",
       "      <th>36</th>\n",
       "      <td>pipeline-1__Memory Retention of PSA Speed</td>\n",
       "      <td>0.131660</td>\n",
       "    </tr>\n",
       "    <tr>\n",
       "      <th>47</th>\n",
       "      <td>pipeline-1__Initial PSA Angular Speed</td>\n",
       "      <td>0.131660</td>\n",
       "    </tr>\n",
       "    <tr>\n",
       "      <th>76</th>\n",
       "      <td>pipeline-1__Memory Retention of PSA Kink</td>\n",
       "      <td>0.131660</td>\n",
       "    </tr>\n",
       "    <tr>\n",
       "      <th>92</th>\n",
       "      <td>pipeline-1__Average PSA Crab</td>\n",
       "      <td>0.131660</td>\n",
       "    </tr>\n",
       "    <tr>\n",
       "      <th>...</th>\n",
       "      <td>...</td>\n",
       "      <td>...</td>\n",
       "    </tr>\n",
       "    <tr>\n",
       "      <th>99</th>\n",
       "      <td>pipeline-2__Screen_G-Proteins_Screen</td>\n",
       "      <td>-0.004619</td>\n",
       "    </tr>\n",
       "    <tr>\n",
       "      <th>731</th>\n",
       "      <td>pipeline-2__Gene_tir-1</td>\n",
       "      <td>-0.004704</td>\n",
       "    </tr>\n",
       "    <tr>\n",
       "      <th>2</th>\n",
       "      <td>pipeline-1__Midline</td>\n",
       "      <td>-0.007688</td>\n",
       "    </tr>\n",
       "    <tr>\n",
       "      <th>3</th>\n",
       "      <td>pipeline-1__Area</td>\n",
       "      <td>-0.007910</td>\n",
       "    </tr>\n",
       "    <tr>\n",
       "      <th>1</th>\n",
       "      <td>pipeline-1__Morphwidth</td>\n",
       "      <td>-0.007963</td>\n",
       "    </tr>\n",
       "  </tbody>\n",
       "</table>\n",
       "<p>803 rows × 2 columns</p>\n",
       "</div>"
      ],
      "text/plain": [
       "                                       feature    weight\n",
       "52       pipeline-1__Average PSA Angular Speed  0.131660\n",
       "36   pipeline-1__Memory Retention of PSA Speed  0.131660\n",
       "47       pipeline-1__Initial PSA Angular Speed  0.131660\n",
       "76    pipeline-1__Memory Retention of PSA Kink  0.131660\n",
       "92                pipeline-1__Average PSA Crab  0.131660\n",
       "..                                         ...       ...\n",
       "99        pipeline-2__Screen_G-Proteins_Screen -0.004619\n",
       "731                     pipeline-2__Gene_tir-1 -0.004704\n",
       "2                          pipeline-1__Midline -0.007688\n",
       "3                             pipeline-1__Area -0.007910\n",
       "1                       pipeline-1__Morphwidth -0.007963\n",
       "\n",
       "[803 rows x 2 columns]"
      ]
     },
     "execution_count": 45,
     "metadata": {},
     "output_type": "execute_result"
    }
   ],
   "source": [
    "pc1_df = pd.DataFrame({\n",
    "    'feature': preprocessor.get_feature_names_out(),\n",
    "    'weight': pca.components_[0]\n",
    "})\n",
    "\n",
    "pc1_df.sort_values(ascending=False, by='weight')"
   ]
  },
  {
   "cell_type": "code",
   "execution_count": 46,
   "id": "4501cdeb",
   "metadata": {},
   "outputs": [
    {
     "data": {
      "text/plain": [
       "array([[-1.06666394e+00, -9.28900042e+00, -1.14264693e+01, ...,\n",
       "         5.74959922e-02,  1.44918612e-02, -3.76476611e-02],\n",
       "       [-1.05736249e+00, -9.97534917e+00, -1.10166369e+01, ...,\n",
       "        -1.20867509e-02, -4.27391095e-03, -6.86867801e-02],\n",
       "       [-1.26939627e+00, -7.36489392e+00, -1.22722451e+01, ...,\n",
       "         1.82353977e-01,  5.05753587e-02, -2.31876720e-02],\n",
       "       ...,\n",
       "       [ 3.84570234e-01,  2.61860106e+00, -5.30829695e-01, ...,\n",
       "        -7.73363150e-02, -6.94719096e-03, -1.76301105e-02],\n",
       "       [ 2.48376485e-01,  1.92378105e+00, -9.70192017e-01, ...,\n",
       "        -1.36710760e-02,  5.96960212e-02, -4.37927087e-02],\n",
       "       [ 3.56725920e-01,  3.04172349e+00, -7.62926578e-01, ...,\n",
       "        -2.94995525e-02,  7.72814684e-02, -2.17441530e-02]],\n",
       "      shape=(779, 100))"
      ]
     },
     "execution_count": 46,
     "metadata": {},
     "output_type": "execute_result"
    }
   ],
   "source": [
    "pca_df"
   ]
  },
  {
   "cell_type": "code",
   "execution_count": 47,
   "id": "e52b6be4",
   "metadata": {},
   "outputs": [],
   "source": [
    "# plt.figure(figsize=(10, 7))\n",
    "# plt.scatter(pca_df[:, 0], pca_df[:, 1], c=labels, cmap='viridis', alpha=0.5)\n",
    "# plt.title('K-Means Clusters on First 2 PCA Components')\n",
    "# plt.xlabel('Principal Component 1')\n",
    "# plt.ylabel('Principal Component 2')\n",
    "# plt.colorbar(label='Cluster')\n",
    "# plt.show()"
   ]
  },
  {
   "cell_type": "code",
   "execution_count": 48,
   "id": "4fb865ae",
   "metadata": {},
   "outputs": [
    {
     "name": "stderr",
     "output_type": "stream",
     "text": [
      "/var/folders/mp/57zdplyn4kl5d5l8mxcwwknr0000gn/T/ipykernel_75884/1245591598.py:1: SettingWithCopyWarning: \n",
      "A value is trying to be set on a copy of a slice from a DataFrame.\n",
      "Try using .loc[row_indexer,col_indexer] = value instead\n",
      "\n",
      "See the caveats in the documentation: https://pandas.pydata.org/pandas-docs/stable/user_guide/indexing.html#returning-a-view-versus-a-copy\n",
      "  df[\"cluster\"] = labels\n"
     ]
    }
   ],
   "source": [
    "df[\"cluster\"] = labels"
   ]
  },
  {
   "cell_type": "code",
   "execution_count": 49,
   "id": "3f63f271",
   "metadata": {},
   "outputs": [
    {
     "data": {
      "image/png": "[encoded data removed]",
      "text/plain": [
       "<Figure size 800x600 with 1 Axes>"
      ]
     },
     "metadata": {},
     "output_type": "display_data"
    }
   ],
   "source": [
    "pca_df_vis = PCA(n_components=2, random_state=100)\n",
    "labels_vis = pca_df_vis.fit_transform(pca_df)                     \n",
    "centers_vis = pca_df_vis.transform(kmeans.cluster_centers_)\n",
    "method = \"PCA(2)\"\n",
    "\n",
    "plt.figure(figsize=(8,6))\n",
    "plt.scatter(labels_vis[:, 0], labels_vis[:, 1], c=labels, cmap=\"tab10\", alpha=0.7, s=15, linewidths=0)\n",
    "plt.scatter(centers_vis[:, 0], centers_vis[:, 1], marker=\"X\", s=10, c=\"black\", label=\"Centroid\")\n",
    "plt.title(f\"Clusters (assigned in 100D)\")\n",
    "# plt.xlabel(\"PCA 1\"); plt.ylabel(\"PCA 2\")\n",
    "plt.legend()\n",
    "plt.tight_layout()\n",
    "plt.show()\n"
   ]
  },
  {
   "cell_type": "markdown",
   "id": "36eb434a",
   "metadata": {},
   "source": [
    "# ------------- Finish --------"
   ]
  },
  {
   "cell_type": "code",
   "execution_count": 91,
   "id": "a6b19872",
   "metadata": {},
   "outputs": [],
   "source": [
    "df = df[~df.isin([np.inf, -np.inf]).any(axis=1)]\n",
    "\n",
    "numeric_cols = df.select_dtypes(include='number').columns\n",
    "si = SimpleImputer(strategy=\"constant\", fill_value=-9999)\n",
    "scaler = StandardScaler()\n",
    "numerical_transformer = make_pipeline(si, scaler)\n",
    "\n",
    "# Categorical Columns\n",
    "categorical_cols = ['Gene', 'Screen']\n",
    "ohe = OneHotEncoder(handle_unknown=\"ignore\", sparse_output=False, dtype = int)\n",
    "categorical_transformer = make_pipeline(ohe)\n",
    "\n",
    "# Apply transformations\n",
    "preprocessor = make_column_transformer(\n",
    "    (numerical_transformer, numeric_cols),\n",
    "    (categorical_transformer, categorical_cols),\n",
    "    remainder=\"passthrough\" \n",
    ")\n",
    "\n",
    "X = preprocessor.fit_transform(df)\n",
    "\n",
    "# pca = PCA()\n",
    "# pca.fit(X)\n",
    "\n",
    "# PCA + KMeans\n",
    "pca = PCA(n_components=99)\n",
    "pca_df = pca.fit_transform(X)\n",
    "\n",
    "kmeans = KMeans(n_clusters=6, n_init='auto', random_state=100)\n",
    "labels = kmeans.fit_predict(pca_df)\n",
    "\n",
    "df['Cluster'] = labels"
   ]
  },
  {
   "cell_type": "code",
   "execution_count": 93,
   "id": "2413f6ec",
   "metadata": {},
   "outputs": [
    {
     "data": {
      "text/plain": [
       "(779, 101)"
      ]
     },
     "execution_count": 93,
     "metadata": {},
     "output_type": "execute_result"
    }
   ],
   "source": [
    "df.shape"
   ]
  },
  {
   "cell_type": "code",
   "execution_count": 92,
   "id": "5b23952b",
   "metadata": {},
   "outputs": [
    {
     "data": {
      "text/plain": [
       "(779, 99)"
      ]
     },
     "execution_count": 92,
     "metadata": {},
     "output_type": "execute_result"
    }
   ],
   "source": [
    "pca_df.shape"
   ]
  },
  {
   "cell_type": "markdown",
   "id": "24b4c0b1",
   "metadata": {},
   "source": [
    "# ---- TESTING VISUALIZATION METHODS -----"
   ]
  },
  {
   "cell_type": "code",
   "execution_count": 63,
   "id": "8a1af1a2",
   "metadata": {},
   "outputs": [
    {
     "data": {
      "image/png": "[encoded data removed]",
      "text/plain": [
       "<Figure size 1000x600 with 2 Axes>"
      ]
     },
     "metadata": {},
     "output_type": "display_data"
    }
   ],
   "source": [
    "import seaborn as sns\n",
    "import pandas as pd\n",
    "import matplotlib.pyplot as plt\n",
    "\n",
    "# Convert PCA output to DataFrame\n",
    "pca_df_vis = pd.DataFrame(pca_df, index=df[\"Gene\"], columns=[f\"PC{i+1}\" for i in range(pca_df.shape[1])])\n",
    "\n",
    "# Add cluster labels\n",
    "pca_df_vis[\"Cluster\"] = labels\n",
    "\n",
    "# Sort by cluster to group genes visually\n",
    "pca_sorted = pca_df_vis.sort_values(\"Cluster\")\n",
    "\n",
    "# Plot heatmap\n",
    "plt.figure(figsize=(10, 6))\n",
    "sns.heatmap(pca_sorted.drop(\"Cluster\", axis=1),\n",
    "            cmap=\"vlag\",\n",
    "            yticklabels=False,\n",
    "            cbar_kws={'label': 'PCA Feature Value'})\n",
    "plt.title(\"Genes Grouped by KMeans Cluster\", fontsize=14)\n",
    "plt.xlabel(\"Principal Components\")\n",
    "plt.ylabel(\"Genes (sorted by cluster)\")\n",
    "plt.show()\n"
   ]
  },
  {
   "cell_type": "code",
   "execution_count": 59,
   "id": "e61992a7",
   "metadata": {},
   "outputs": [
    {
     "name": "stderr",
     "output_type": "stream",
     "text": [
      "/var/folders/mp/57zdplyn4kl5d5l8mxcwwknr0000gn/T/ipykernel_75884/1649001951.py:11: UserWarning: No artists with labels found to put in legend.  Note that artists whose label start with an underscore are ignored when legend() is called with no argument.\n",
      "  plt.legend()\n"
     ]
    },
    {
     "data": {
      "image/png": "[encoded data removed]",
      "text/plain": [
       "<Figure size 800x600 with 1 Axes>"
      ]
     },
     "metadata": {},
     "output_type": "display_data"
    }
   ],
   "source": [
    "pca_df_vis = PCA(n_components=99, random_state=100) # n_components=2 for 2D plot\n",
    "labels_vis = pca_df_vis.fit_transform(X)                     \n",
    "# centers_vis = pca_df_vis.transform(kmeans.cluster_centers_)\n",
    "# method = \"PCA(2)\"\n",
    "\n",
    "plt.figure(figsize=(8,6))\n",
    "plt.scatter(labels_vis[:, 0], labels_vis[:, 1], c=labels, cmap=\"tab10\", alpha=0.7, s=15, linewidths=0)\n",
    "# plt.scatter(centers_vis[:, 0], centers_vis[:, 1], marker=\"X\", s=10, c=\"black\", label=\"Centroid\")\n",
    "plt.title(f\"Clusters (assigned in 100D)\")\n",
    "# plt.xlabel(\"PCA 1\"); plt.ylabel(\"PCA 2\")\n",
    "plt.legend()\n",
    "plt.tight_layout()\n",
    "plt.show()"
   ]
  },
  {
   "cell_type": "code",
   "execution_count": 66,
   "id": "44e11357",
   "metadata": {},
   "outputs": [
    {
     "data": {
      "image/png": "[encoded data removed]",
      "text/plain": [
       "<Figure size 800x600 with 1 Axes>"
      ]
     },
     "metadata": {},
     "output_type": "display_data"
    }
   ],
   "source": [
    "from sklearn.decomposition import PCA\n",
    "import matplotlib.pyplot as plt\n",
    "\n",
    "# Reduce to 2 components for visualization\n",
    "pca_2d = PCA(n_components=2, random_state=100)\n",
    "X_2d = pca_2d.fit_transform(pca_df)\n",
    "\n",
    "plt.figure(figsize=(8,6))\n",
    "plt.scatter(X_2d[:, 0], X_2d[:, 1], c=labels, cmap='tab10', s=30, alpha=0.7)\n",
    "plt.title(\"Gene Clusters (PCA 2D projection)\")\n",
    "plt.xlabel(\"PC1\")\n",
    "plt.ylabel(\"PC2\")\n",
    "\n",
    "# Optional: annotate top genes per cluster\n",
    "for cluster in range(len(set(labels))):\n",
    "    cluster_genes = df.loc[labels == cluster, \"Gene\"].head(3)\n",
    "    cluster_coords = X_2d[labels == cluster].mean(axis=0)\n",
    "    plt.text(cluster_coords[0], cluster_coords[1], f\"Cluster {cluster}\\n\" + \"\\n\".join(cluster_genes),\n",
    "             fontsize=8, bbox=dict(facecolor='white', alpha=0.7))\n",
    "\n",
    "plt.show()\n"
   ]
  },
  {
   "cell_type": "code",
   "execution_count": 78,
   "id": "20cf59ea",
   "metadata": {},
   "outputs": [
    {
     "data": {
      "text/plain": [
       "<Axes: xlabel='tSNE1', ylabel='tSNE2'>"
      ]
     },
     "execution_count": 78,
     "metadata": {},
     "output_type": "execute_result"
    },
    {
     "data": {
      "image/png": "[encoded data removed]",
      "text/plain": [
       "<Figure size 640x480 with 1 Axes>"
      ]
     },
     "metadata": {},
     "output_type": "display_data"
    }
   ],
   "source": [
    "from sklearn.manifold import TSNE\n",
    "tsne = TSNE(n_components=2, random_state=100)\n",
    "tsne_df = pd.DataFrame(tsne.fit_transform(X), columns=['tSNE1', 'tSNE2'])\n",
    "tsne_df['Cluster'] = labels\n",
    "sns.scatterplot(data=tsne_df, x='tSNE1', y='tSNE2', hue='Cluster', palette='tab10') \n"
   ]
  },
  {
   "cell_type": "code",
   "execution_count": 94,
   "id": "7a377765",
   "metadata": {},
   "outputs": [
    {
     "data": {
      "image/png": "[encoded data removed]",
      "text/plain": [
       "<Figure size 800x600 with 1 Axes>"
      ]
     },
     "metadata": {},
     "output_type": "display_data"
    }
   ],
   "source": [
    "tsne = TSNE(n_components=2, random_state=42, perplexity=30)\n",
    "tsne_df = pd.DataFrame(tsne.fit_transform(pca_df), columns=['tSNE1', 'tSNE2'])\n",
    "tsne_df['Cluster'] = labels\n",
    "\n",
    "# Plot - represent high dimensionality through t-sne and cluster (colours) through kmeans\n",
    "plt.figure(figsize=(8,6))\n",
    "sns.scatterplot(data=tsne_df, x='tSNE1', y='tSNE2', hue='Cluster', palette='tab10') \n",
    "plt.title(\"t-SNE visualization of KMeans clusters\")\n",
    "plt.show()\n"
   ]
  },
  {
   "cell_type": "code",
   "execution_count": 79,
   "id": "9b332b8d",
   "metadata": {},
   "outputs": [
    {
     "data": {
      "text/plain": [
       "(779, 3)"
      ]
     },
     "execution_count": 79,
     "metadata": {},
     "output_type": "execute_result"
    }
   ],
   "source": [
    "tsne_df.shape"
   ]
  },
  {
   "cell_type": "code",
   "execution_count": 80,
   "id": "4f9883e5",
   "metadata": {},
   "outputs": [
    {
     "data": {
      "text/plain": [
       "(779, 101)"
      ]
     },
     "execution_count": 80,
     "metadata": {},
     "output_type": "execute_result"
    }
   ],
   "source": [
    "df.shape"
   ]
  },
  {
   "cell_type": "code",
   "execution_count": 85,
   "id": "9799e7d0",
   "metadata": {},
   "outputs": [
    {
     "data": {
      "text/plain": [
       "'0      Neuron_Genes_Screen\\n1      Neuron_Genes_Screen\\n2               ASD_Screen\\n3               ASD_Screen\\n5               ASD_Screen\\n              ...         \\n775              PD_Screen\\n776              PD_Screen\\n777              PD_Screen\\n778              PD_Screen\\n779              PD_Screen\\nName: Screen, Length: 779, dtype: object-0        crb-1\\n1        sid-1\\n2       cdkl-1\\n3        gex-3\\n5      F11E6.8\\n        ...   \\n775     unc-43\\n776     unc-57\\n777     unc-59\\n778     unc-70\\n779     vps-35\\nName: Gene, Length: 779, dtype: object'"
      ]
     },
     "execution_count": 85,
     "metadata": {},
     "output_type": "execute_result"
    }
   ],
   "source": [
    "f\"{df['Screen']}-{df['Gene']}\""
   ]
  },
  {
   "cell_type": "code",
   "execution_count": 87,
   "id": "1956d797",
   "metadata": {},
   "outputs": [],
   "source": [
    "import plotly.express as px"
   ]
  },
  {
   "cell_type": "code",
   "execution_count": 97,
   "id": "d1fbab7a",
   "metadata": {},
   "outputs": [
    {
     "ename": "ValueError",
     "evalue": "Mime type rendering requires nbformat>=4.2.0 but it is not installed",
     "output_type": "error",
     "traceback": [
      "\u001b[31m---------------------------------------------------------------------------\u001b[39m",
      "\u001b[31mValueError\u001b[39m                                Traceback (most recent call last)",
      "\u001b[36mFile \u001b[39m\u001b[32m~/miniforge3/envs/rankinlab/lib/python3.11/site-packages/IPython/core/formatters.py:984\u001b[39m, in \u001b[36mIPythonDisplayFormatter.__call__\u001b[39m\u001b[34m(self, obj)\u001b[39m\n\u001b[32m    982\u001b[39m method = get_real_method(obj, \u001b[38;5;28mself\u001b[39m.print_method)\n\u001b[32m    983\u001b[39m \u001b[38;5;28;01mif\u001b[39;00m method \u001b[38;5;129;01mis\u001b[39;00m \u001b[38;5;129;01mnot\u001b[39;00m \u001b[38;5;28;01mNone\u001b[39;00m:\n\u001b[32m--> \u001b[39m\u001b[32m984\u001b[39m     \u001b[43mmethod\u001b[49m\u001b[43m(\u001b[49m\u001b[43m)\u001b[49m\n\u001b[32m    985\u001b[39m     \u001b[38;5;28;01mreturn\u001b[39;00m \u001b[38;5;28;01mTrue\u001b[39;00m\n",
      "\u001b[36mFile \u001b[39m\u001b[32m~/miniforge3/envs/rankinlab/lib/python3.11/site-packages/plotly/basedatatypes.py:846\u001b[39m, in \u001b[36mBaseFigure._ipython_display_\u001b[39m\u001b[34m(self)\u001b[39m\n\u001b[32m    843\u001b[39m \u001b[38;5;28;01mimport\u001b[39;00m\u001b[38;5;250m \u001b[39m\u001b[34;01mplotly\u001b[39;00m\u001b[34;01m.\u001b[39;00m\u001b[34;01mio\u001b[39;00m\u001b[38;5;250m \u001b[39m\u001b[38;5;28;01mas\u001b[39;00m\u001b[38;5;250m \u001b[39m\u001b[34;01mpio\u001b[39;00m\n\u001b[32m    845\u001b[39m \u001b[38;5;28;01mif\u001b[39;00m pio.renderers.render_on_display \u001b[38;5;129;01mand\u001b[39;00m pio.renderers.default:\n\u001b[32m--> \u001b[39m\u001b[32m846\u001b[39m     \u001b[43mpio\u001b[49m\u001b[43m.\u001b[49m\u001b[43mshow\u001b[49m\u001b[43m(\u001b[49m\u001b[38;5;28;43mself\u001b[39;49m\u001b[43m)\u001b[49m\n\u001b[32m    847\u001b[39m \u001b[38;5;28;01melse\u001b[39;00m:\n\u001b[32m    848\u001b[39m     \u001b[38;5;28mprint\u001b[39m(\u001b[38;5;28mrepr\u001b[39m(\u001b[38;5;28mself\u001b[39m))\n",
      "\u001b[36mFile \u001b[39m\u001b[32m~/miniforge3/envs/rankinlab/lib/python3.11/site-packages/plotly/io/_renderers.py:425\u001b[39m, in \u001b[36mshow\u001b[39m\u001b[34m(fig, renderer, validate, **kwargs)\u001b[39m\n\u001b[32m    420\u001b[39m     \u001b[38;5;28;01mraise\u001b[39;00m \u001b[38;5;167;01mValueError\u001b[39;00m(\n\u001b[32m    421\u001b[39m         \u001b[33m\"\u001b[39m\u001b[33mMime type rendering requires ipython but it is not installed\u001b[39m\u001b[33m\"\u001b[39m\n\u001b[32m    422\u001b[39m     )\n\u001b[32m    424\u001b[39m \u001b[38;5;28;01mif\u001b[39;00m \u001b[38;5;129;01mnot\u001b[39;00m nbformat \u001b[38;5;129;01mor\u001b[39;00m Version(nbformat.__version__) < Version(\u001b[33m\"\u001b[39m\u001b[33m4.2.0\u001b[39m\u001b[33m\"\u001b[39m):\n\u001b[32m--> \u001b[39m\u001b[32m425\u001b[39m     \u001b[38;5;28;01mraise\u001b[39;00m \u001b[38;5;167;01mValueError\u001b[39;00m(\n\u001b[32m    426\u001b[39m         \u001b[33m\"\u001b[39m\u001b[33mMime type rendering requires nbformat>=4.2.0 but it is not installed\u001b[39m\u001b[33m\"\u001b[39m\n\u001b[32m    427\u001b[39m     )\n\u001b[32m    429\u001b[39m display_jupyter_version_warnings()\n\u001b[32m    431\u001b[39m ipython_display.display(bundle, raw=\u001b[38;5;28;01mTrue\u001b[39;00m)\n",
      "\u001b[31mValueError\u001b[39m: Mime type rendering requires nbformat>=4.2.0 but it is not installed"
     ]
    },
    {
     "data": {
      "application/vnd.plotly.v1+json": {
       "config": {
        "plotlyServerURL": "https://plot.ly"
       },
       "data": [
        {
         "customdata": [
          [
           "crb-1-Neuron_Genes_Screen",
           3
          ],
          [
           "sid-1-Neuron_Genes_Screen",
           3
          ],
          [
           "cdkl-1-ASD_Screen",
           3
          ],
          [
           "gex-3-ASD_Screen",
           3
          ],
          [
           null,
           2
          ],
          [
           "F11E6.8-ASD_Screen",
           2
          ],
          [
           "M03D4.4-ASD_Screen",
           2
          ],
          [
           "N2-ASD_Screen",
           2
          ],
          [
           "R151.1-ASD_Screen",
           2
          ],
          [
           "ZK858.6-ASD_Screen",
           2
          ],
          [
           "anc-1-ASD_Screen",
           2
          ],
          [
           "aps-2-ASD_Screen",
           2
          ],
          [
           "bar-1-ASD_Screen",
           2
          ],
          [
           "bcl-11-ASD_Screen",
           2
          ],
          [
           "bra-1-ASD_Screen",
           2
          ],
          [
           "cbp-1-ASD_Screen",
           2
          ],
          [
           "cca-1-ASD_Screen",
           2
          ],
          [
           "cdh-1-ASD_Screen",
           2
          ],
          [
           "cdh-4-ASD_Screen",
           2
          ],
          [
           "chd-1-ASD_Screen",
           2
          ],
          [
           "chd-7-ASD_Screen",
           2
          ],
          [
           "cls-3-ASD_Screen",
           2
          ],
          [
           "cnt-2-ASD_Screen",
           2
          ],
          [
           "cor-1-ASD_Screen",
           2
          ],
          [
           "daf-18-ASD_Screen",
           2
          ],
          [
           "daf-6-ASD_Screen",
           2
          ],
          [
           "dhc-1-ASD_Screen",
           2
          ],
          [
           "dhcr-7-ASD_Screen",
           2
          ],
          [
           "dhp-1-ASD_Screen",
           2
          ],
          [
           "dip-2-ASD_Screen",
           2
          ],
          [
           "dkf-1-ASD_Screen",
           2
          ],
          [
           "dys-1-ASD_Screen",
           2
          ],
          [
           "epi-1-ASD_Screen",
           2
          ],
          [
           "exc-7-ASD_Screen",
           2
          ],
          [
           "fkh-7-ASD_Screen",
           2
          ],
          [
           "gab-1-ASD_Screen",
           2
          ],
          [
           "gap-2-ASD_Screen",
           2
          ],
          [
           "glr-1-ASD_Screen",
           2
          ],
          [
           "glr-2-ASD_Screen",
           5
          ],
          [
           "gpa-16-ASD_Screen",
           2
          ],
          [
           "gyf-1-ASD_Screen",
           2
          ],
          [
           "hcp-1-ASD_Screen",
           2
          ],
          [
           "hda-4-ASD_Screen",
           2
          ],
          [
           "hgap-1-ASD_Screen",
           2
          ],
          [
           "hmp-2-ASD_Screen",
           2
          ],
          [
           "ifbp-1-ASD_Screen",
           2
          ],
          [
           "igcm-1-ASD_Screen",
           2
          ],
          [
           "ins-7-ASD_Screen",
           2
          ],
          [
           "irk-3-ASD_Screen",
           2
          ],
          [
           "irx-1-ASD_Screen",
           2
          ],
          [
           "jac-1-ASD_Screen",
           2
          ],
          [
           "jmjd-1.1-ASD_Screen",
           2
          ],
          [
           "jmjd-3.3-ASD_Screen",
           2
          ],
          [
           "kqt-1-ASD_Screen",
           2
          ],
          [
           "let-19-ASD_Screen",
           2
          ],
          [
           "let-526-ASD_Screen",
           2
          ],
          [
           "lron-8-ASD_Screen",
           2
          ],
          [
           "magu-3-ASD_Screen",
           2
          ],
          [
           "math-33-ASD_Screen",
           2
          ],
          [
           "mbk-1-ASD_Screen",
           2
          ],
          [
           "met-1-ASD_Screen",
           2
          ],
          [
           "mrck-1-ASD_Screen",
           2
          ],
          [
           "mtm-5-ASD_Screen",
           2
          ],
          [
           "nab-1-ASD_Screen",
           2
          ],
          [
           "nhx-5-ASD_Screen",
           2
          ],
          [
           "nlg-1-ASD_Screen",
           2
          ],
          [
           "nmr-2-ASD_Screen",
           2
          ],
          [
           "npax-2-ASD_Screen",
           2
          ],
          [
           "nrx-1-ASD_Screen",
           2
          ],
          [
           "pax-2-ASD_Screen",
           2
          ],
          [
           "pcaf-1-ASD_Screen",
           2
          ],
          [
           "pop-1-ASD_Screen",
           2
          ],
          [
           "pph-5-ASD_Screen",
           2
          ],
          [
           "ptr-10-ASD_Screen",
           2
          ],
          [
           "ptr-6-ASD_Screen",
           2
          ],
          [
           "rbr-2-ASD_Screen",
           2
          ],
          [
           "rme-6-ASD_Screen",
           2
          ],
          [
           "row-1-ASD_Screen",
           2
          ],
          [
           "set-11-ASD_Screen",
           2
          ],
          [
           "set-16-ASD_Screen",
           2
          ],
          [
           "set-24-ASD_Screen",
           2
          ],
          [
           "set-4-ASD_Screen",
           2
          ],
          [
           "set-9-ASD_Screen",
           2
          ],
          [
           "shn-1-ASD_Screen",
           2
          ],
          [
           "sin-3-ASD_Screen",
           2
          ],
          [
           "slo-1-ASD_Screen",
           2
          ],
          [
           "smg-4-ASD_Screen",
           2
          ],
          [
           "snf-11-ASD_Screen",
           2
          ],
          [
           "spas-1-ASD_Screen",
           2
          ],
          [
           "tbx-38-ASD_Screen",
           2
          ],
          [
           "ubr-4-ASD_Screen",
           2
          ],
          [
           "unc-10-ASD_Screen",
           2
          ],
          [
           "unc-16-ASD_Screen",
           5
          ],
          [
           "unc-18-ASD_Screen",
           3
          ],
          [
           "unc-2-ASD_Screen",
           2
          ],
          [
           "unc-36-ASD_Screen",
           2
          ],
          [
           "unc-4-ASD_Screen",
           2
          ],
          [
           "unc-75-ASD_Screen",
           2
          ],
          [
           "vab-10-ASD_Screen",
           2
          ],
          [
           "ztf-11-ASD_Screen",
           2
          ],
          [
           "ztf-6-ASD_Screen",
           2
          ],
          [
           "N2-Glia_Genes_Screen",
           2
          ],
          [
           "acd-1xdelm-2-Glia_Genes_Screen",
           2
          ],
          [
           "acd-1xdelm-2xdelm-1-Glia_Genes_Screen",
           2
          ],
          [
           "alr-1-Glia_Genes_Screen",
           2
          ],
          [
           "ced-1-Glia_Genes_Screen",
           2
          ],
          [
           "ced-12-Glia_Genes_Screen",
           2
          ],
          [
           "cnd-1-Glia_Genes_Screen",
           2
          ],
          [
           "dyf-11-Glia_Genes_Screen",
           2
          ],
          [
           "gcy-18-Glia_Genes_Screen",
           2
          ],
          [
           "gcy-23-Glia_Genes_Screen",
           2
          ],
          [
           "gcy-8-Glia_Genes_Screen",
           2
          ],
          [
           "lgc-34-Glia_Genes_Screen",
           2
          ],
          [
           "mls-2-Glia_Genes_Screen",
           3
          ],
          [
           "ngn-1-Glia_Genes_Screen",
           2
          ],
          [
           "pde-1-Glia_Genes_Screen",
           2
          ],
          [
           "psr-1-Glia_Genes_Screen",
           2
          ],
          [
           "scrm-1-Glia_Genes_Screen",
           2
          ],
          [
           "tax-2-Glia_Genes_Screen",
           0
          ],
          [
           "F07A11.4-Neuron_Genes_Screen",
           2
          ],
          [
           "ttx-1-Glia_Genes_Screen",
           2
          ],
          [
           "vab-3-Glia_Genes_Screen",
           0
          ],
          [
           "C03A3.3-Neuron_Genes_Screen",
           0
          ],
          [
           "C03B1.5-Neuron_Genes_Screen",
           3
          ],
          [
           "C04B4.2-Neuron_Genes_Screen",
           0
          ],
          [
           "C04E6.5-Neuron_Genes_Screen",
           4
          ],
          [
           "C27B7.7-Neuron_Genes_Screen",
           0
          ],
          [
           "C44H4.6-Neuron_Genes_Screen",
           0
          ],
          [
           "C49C3.21-Neuron_Genes_Screen",
           0
          ],
          [
           "D1081.4-Neuron_Genes_Screen",
           0
          ],
          [
           "F09A5.2-Neuron_Genes_Screen",
           0
          ],
          [
           "F09C12.2-Neuron_Genes_Screen",
           0
          ],
          [
           "F11E6.8-Neuron_Genes_Screen",
           0
          ],
          [
           "F16B12.5-Neuron_Genes_Screen",
           4
          ],
          [
           "F31E3.2-Neuron_Genes_Screen",
           0
          ],
          [
           "F38B6.6-Neuron_Genes_Screen",
           4
          ],
          [
           "F39E9.6-Neuron_Genes_Screen",
           4
          ],
          [
           "F43B10.1-Neuron_Genes_Screen",
           0
          ],
          [
           "F47G4.4-Neuron_Genes_Screen",
           4
          ],
          [
           "F52B5.2-Neuron_Genes_Screen",
           0
          ],
          [
           "F55D12.5-Neuron_Genes_Screen",
           4
          ],
          [
           "F59E12.3-Neuron_Genes_Screen",
           0
          ],
          [
           "M195.2-Neuron_Genes_Screen",
           0
          ],
          [
           "N2-Neuron_Genes_Screen",
           4
          ],
          [
           "R05G6.10-Neuron_Genes_Screen",
           0
          ],
          [
           "T01C3.3-Neuron_Genes_Screen",
           4
          ],
          [
           "T02C1.1-Neuron_Genes_Screen",
           0
          ],
          [
           "T15B12.1-Neuron_Genes_Screen",
           4
          ],
          [
           "W04B5.5-Neuron_Genes_Screen",
           4
          ],
          [
           "Y106G6H.14-Neuron_Genes_Screen",
           4
          ],
          [
           "Y45F10B.8-Neuron_Genes_Screen",
           0
          ],
          [
           "Y47G6A.14-Neuron_Genes_Screen",
           0
          ],
          [
           "Y4C6A.1-Neuron_Genes_Screen",
           0
          ],
          [
           "Y52B11A.4-Neuron_Genes_Screen",
           4
          ],
          [
           "Y64G10A.7-Neuron_Genes_Screen",
           0
          ],
          [
           "ZC477.2-Neuron_Genes_Screen",
           0
          ],
          [
           "ZK1248.15-Neuron_Genes_Screen",
           0
          ],
          [
           "ZK909.3-Neuron_Genes_Screen",
           0
          ],
          [
           "aak-2-Neuron_Genes_Screen",
           0
          ],
          [
           "abl-1-Neuron_Genes_Screen",
           0
          ],
          [
           "acy-1-Neuron_Genes_Screen",
           4
          ],
          [
           "adm-2-Neuron_Genes_Screen",
           4
          ],
          [
           "adr-1-Neuron_Genes_Screen",
           4
          ],
          [
           "aex-1-Neuron_Genes_Screen",
           0
          ],
          [
           "aex-3-Neuron_Genes_Screen",
           4
          ],
          [
           "aex-5-Neuron_Genes_Screen",
           4
          ],
          [
           "aex-6-Neuron_Genes_Screen",
           4
          ],
          [
           "age-1-Neuron_Genes_Screen",
           0
          ],
          [
           "ahr-1-Neuron_Genes_Screen",
           4
          ],
          [
           "aka-1-Neuron_Genes_Screen",
           0
          ],
          [
           "akt-1-Neuron_Genes_Screen",
           0
          ],
          [
           "akt-2-Neuron_Genes_Screen",
           0
          ],
          [
           "ape-1-Neuron_Genes_Screen",
           0
          ],
          [
           "arg-1-Neuron_Genes_Screen",
           0
          ],
          [
           "arl-5-Neuron_Genes_Screen",
           4
          ],
          [
           "atg-16.2-Neuron_Genes_Screen",
           4
          ],
          [
           "atl-1-Neuron_Genes_Screen",
           4
          ],
          [
           "atm-1-Neuron_Genes_Screen",
           0
          ],
          [
           "atn-1-Neuron_Genes_Screen",
           4
          ],
          [
           "atrn-1-Neuron_Genes_Screen",
           4
          ],
          [
           "bbs-8-Neuron_Genes_Screen",
           4
          ],
          [
           "cam-1-Neuron_Genes_Screen",
           0
          ],
          [
           "cav-1-Neuron_Genes_Screen",
           0
          ],
          [
           "cav-2-Neuron_Genes_Screen",
           4
          ],
          [
           "cbp-1-Neuron_Genes_Screen",
           0
          ],
          [
           "cdc-7-Neuron_Genes_Screen",
           0
          ],
          [
           "cdh-1-Neuron_Genes_Screen",
           4
          ],
          [
           "cdh-10-Neuron_Genes_Screen",
           0
          ],
          [
           "cdh-3-Neuron_Genes_Screen",
           0
          ],
          [
           "cdh-4-Neuron_Genes_Screen",
           0
          ],
          [
           "cdh-5-Neuron_Genes_Screen",
           0
          ],
          [
           "cdk-14-Neuron_Genes_Screen",
           0
          ],
          [
           "cdkl-1-Neuron_Genes_Screen",
           0
          ],
          [
           "ced-10-Neuron_Genes_Screen",
           0
          ],
          [
           "ced-6-Neuron_Genes_Screen",
           4
          ],
          [
           "cerk-1-Neuron_Genes_Screen",
           4
          ],
          [
           "cex-1-Neuron_Genes_Screen",
           4
          ],
          [
           "cfz-2-Neuron_Genes_Screen",
           4
          ],
          [
           "che-14-Neuron_Genes_Screen",
           4
          ],
          [
           "che-3-Neuron_Genes_Screen",
           0
          ],
          [
           "chpf-2-Neuron_Genes_Screen",
           0
          ],
          [
           "citk-1-Neuron_Genes_Screen",
           4
          ],
          [
           "citk-2-Neuron_Genes_Screen",
           0
          ],
          [
           "ckk-1-Neuron_Genes_Screen",
           4
          ],
          [
           "ckr-1-Neuron_Genes_Screen",
           0
          ],
          [
           "cla-1-Neuron_Genes_Screen",
           0
          ],
          [
           "clec-4-Neuron_Genes_Screen",
           4
          ],
          [
           "clec-43-Neuron_Genes_Screen",
           0
          ],
          [
           "clec-78-Neuron_Genes_Screen",
           0
          ],
          [
           "clh-4-Neuron_Genes_Screen",
           4
          ],
          [
           "cls-3-Neuron_Genes_Screen",
           0
          ],
          [
           "cmk-1-Neuron_Genes_Screen",
           0
          ],
          [
           "cng-1-Neuron_Genes_Screen",
           3
          ],
          [
           "cnt-2-Neuron_Genes_Screen",
           0
          ],
          [
           "cnx-1-Neuron_Genes_Screen",
           4
          ],
          [
           "copd-1-Neuron_Genes_Screen",
           3
          ],
          [
           "cor-1-Neuron_Genes_Screen",
           4
          ],
          [
           "cpd-2-Neuron_Genes_Screen",
           0
          ],
          [
           "cpn-3-Neuron_Genes_Screen",
           0
          ],
          [
           "cpna-3-Neuron_Genes_Screen",
           4
          ],
          [
           "cul-5-Neuron_Genes_Screen",
           4
          ],
          [
           "cul-6-Neuron_Genes_Screen",
           4
          ],
          [
           "cwn-2-Neuron_Genes_Screen",
           3
          ],
          [
           "daf-10-Neuron_Genes_Screen",
           3
          ],
          [
           "daf-11-Neuron_Genes_Screen",
           0
          ],
          [
           "daf-18-Neuron_Genes_Screen",
           0
          ],
          [
           "dapk-1-Neuron_Genes_Screen",
           0
          ],
          [
           "dat-1-Neuron_Genes_Screen",
           4
          ],
          [
           "dbl-1-Neuron_Genes_Screen",
           4
          ],
          [
           "dbn-1-Neuron_Genes_Screen",
           4
          ],
          [
           "dep-1-Neuron_Genes_Screen",
           0
          ],
          [
           "dgk-1-Neuron_Genes_Screen",
           0
          ],
          [
           "dgk-2-Neuron_Genes_Screen",
           0
          ],
          [
           "dgk-3-Neuron_Genes_Screen",
           0
          ],
          [
           "dgk-4-Neuron_Genes_Screen",
           0
          ],
          [
           "dgk-5-Neuron_Genes_Screen",
           0
          ],
          [
           "dig-1-Neuron_Genes_Screen",
           0
          ],
          [
           "dlk-1-Neuron_Genes_Screen",
           0
          ],
          [
           "dnj-7-Neuron_Genes_Screen",
           0
          ],
          [
           "dop-1-Neuron_Genes_Screen",
           0
          ],
          [
           "dop-2-Neuron_Genes_Screen",
           0
          ],
          [
           "dop-2xdop-1xdop-3-Neuron_Genes_Screen",
           0
          ],
          [
           "dop-3-Neuron_Genes_Screen",
           4
          ],
          [
           "dsh-1-Neuron_Genes_Screen",
           4
          ],
          [
           "dsl-1-Neuron_Genes_Screen",
           0
          ],
          [
           "dyc-1-Neuron_Genes_Screen",
           3
          ],
          [
           "dyf-2-Neuron_Genes_Screen",
           4
          ],
          [
           "dyf-5-Neuron_Genes_Screen",
           0
          ],
          [
           "dyn-1-Neuron_Genes_Screen",
           0
          ],
          [
           "dys-1-Neuron_Genes_Screen",
           0
          ],
          [
           "eak-6-Neuron_Genes_Screen",
           0
          ],
          [
           "eat-16-Neuron_Genes_Screen",
           4
          ],
          [
           "eat-5-Neuron_Genes_Screen",
           0
          ],
          [
           "ebp-2-Neuron_Genes_Screen",
           0
          ],
          [
           "ect-2-Neuron_Genes_Screen",
           4
          ],
          [
           "efa-6-Neuron_Genes_Screen",
           0
          ],
          [
           "efk-1-Neuron_Genes_Screen",
           0
          ],
          [
           "egl-10-Neuron_Genes_Screen",
           0
          ],
          [
           "egl-15-Neuron_Genes_Screen",
           0
          ],
          [
           "egl-19-Neuron_Genes_Screen",
           0
          ],
          [
           "egl-20-Neuron_Genes_Screen",
           0
          ],
          [
           "egl-21-Neuron_Genes_Screen",
           0
          ],
          [
           "egl-30-Neuron_Genes_Screen",
           0
          ],
          [
           "egl-8-Neuron_Genes_Screen",
           0
          ],
          [
           "ehs-1-Neuron_Genes_Screen",
           0
          ],
          [
           "elks-1-Neuron_Genes_Screen",
           0
          ],
          [
           "elp-1-Neuron_Genes_Screen",
           0
          ],
          [
           "emb-30-Neuron_Genes_Screen",
           4
          ],
          [
           "exc-5-Neuron_Genes_Screen",
           0
          ],
          [
           "fer-1-Neuron_Genes_Screen",
           0
          ],
          [
           "flp-12-Neuron_Genes_Screen",
           0
          ],
          [
           "flp-17-Neuron_Genes_Screen",
           0
          ],
          [
           "flp-19-Neuron_Genes_Screen",
           0
          ],
          [
           "flp-6-Neuron_Genes_Screen",
           0
          ],
          [
           "flp-9-Neuron_Genes_Screen",
           4
          ],
          [
           "frm-7-Neuron_Genes_Screen",
           0
          ],
          [
           "frm-8-Neuron_Genes_Screen",
           0
          ],
          [
           "frpr-10-Neuron_Genes_Screen",
           0
          ],
          [
           "frpr-18-Neuron_Genes_Screen",
           0
          ],
          [
           "fsn-1-Neuron_Genes_Screen",
           0
          ],
          [
           "gap-2-Neuron_Genes_Screen",
           4
          ],
          [
           "gck-2-Neuron_Genes_Screen",
           0
          ],
          [
           "gipc-1-Neuron_Genes_Screen",
           0
          ],
          [
           "gipc-2-Neuron_Genes_Screen",
           0
          ],
          [
           "glc-3-Neuron_Genes_Screen",
           3
          ],
          [
           "glr-2-Neuron_Genes_Screen",
           0
          ],
          [
           "goa-1-Neuron_Genes_Screen",
           0
          ],
          [
           "gpa-1-Neuron_Genes_Screen",
           0
          ],
          [
           "gpa-11-Neuron_Genes_Screen",
           0
          ],
          [
           "gpa-12-Neuron_Genes_Screen",
           0
          ],
          [
           "gpa-13-Neuron_Genes_Screen",
           0
          ],
          [
           "gpa-15-Neuron_Genes_Screen",
           0
          ],
          [
           "gpa-3-Neuron_Genes_Screen",
           0
          ],
          [
           "gpa-4-Neuron_Genes_Screen",
           0
          ],
          [
           "gpa-5-Neuron_Genes_Screen",
           0
          ],
          [
           "gpa-6-Neuron_Genes_Screen",
           0
          ],
          [
           "gpa-7-Neuron_Genes_Screen",
           0
          ],
          [
           "gpa-8-Neuron_Genes_Screen",
           0
          ],
          [
           "gpa-9-Neuron_Genes_Screen",
           0
          ],
          [
           "gpap-1-Neuron_Genes_Screen",
           0
          ],
          [
           "gpc-1-Neuron_Genes_Screen",
           3
          ],
          [
           "gpr-2-Neuron_Genes_Screen",
           4
          ],
          [
           "grk-1-Neuron_Genes_Screen",
           4
          ],
          [
           "grk-2-Neuron_Genes_Screen",
           0
          ],
          [
           "gsa-1-Neuron_Genes_Screen",
           4
          ],
          [
           "hecw-1-Neuron_Genes_Screen",
           0
          ],
          [
           "herc-1-Neuron_Genes_Screen",
           4
          ],
          [
           "hid-1-Neuron_Genes_Screen",
           4
          ],
          [
           "hpk-1-Neuron_Genes_Screen",
           0
          ],
          [
           "hum-5-Neuron_Genes_Screen",
           0
          ],
          [
           "hum-6-Neuron_Genes_Screen",
           0
          ],
          [
           "hum-8-Neuron_Genes_Screen",
           4
          ],
          [
           "ift-139-Neuron_Genes_Screen",
           4
          ],
          [
           "ifta-1-Neuron_Genes_Screen",
           0
          ],
          [
           "igcm-3-Neuron_Genes_Screen",
           0
          ],
          [
           "ikb-1-Neuron_Genes_Screen",
           4
          ],
          [
           "ina-1-Neuron_Genes_Screen",
           0
          ],
          [
           "inft-1-Neuron_Genes_Screen",
           4
          ],
          [
           "ins-11-Neuron_Genes_Screen",
           4
          ],
          [
           "ins-18-Neuron_Genes_Screen",
           0
          ],
          [
           "ins-22-Neuron_Genes_Screen",
           0
          ],
          [
           "ins-31-Neuron_Genes_Screen",
           0
          ],
          [
           "ins-35-Neuron_Genes_Screen",
           0
          ],
          [
           "ins-4-Neuron_Genes_Screen",
           0
          ],
          [
           "inx-10-Neuron_Genes_Screen",
           0
          ],
          [
           "inx-11-Neuron_Genes_Screen",
           0
          ],
          [
           "inx-14-Neuron_Genes_Screen",
           4
          ],
          [
           "inx-19-Neuron_Genes_Screen",
           0
          ],
          [
           "inx-21-Neuron_Genes_Screen",
           0
          ],
          [
           "inx-22-Neuron_Genes_Screen",
           4
          ],
          [
           "inx-4-Neuron_Genes_Screen",
           0
          ],
          [
           "inx-5-Neuron_Genes_Screen",
           0
          ],
          [
           "inx-6-Neuron_Genes_Screen",
           0
          ],
          [
           "inx-8-Neuron_Genes_Screen",
           0
          ],
          [
           "inx-9-Neuron_Genes_Screen",
           4
          ],
          [
           "ipp-5-Neuron_Genes_Screen",
           4
          ],
          [
           "itsn-1-Neuron_Genes_Screen",
           0
          ],
          [
           "kal-1-Neuron_Genes_Screen",
           4
          ],
          [
           "kcnl-1-Neuron_Genes_Screen",
           0
          ],
          [
           "kgb-1-Neuron_Genes_Screen",
           0
          ],
          [
           "kgb-2-Neuron_Genes_Screen",
           0
          ],
          [
           "kin-2-Neuron_Genes_Screen",
           4
          ],
          [
           "klc-1-Neuron_Genes_Screen",
           0
          ],
          [
           "klp-11-Neuron_Genes_Screen",
           0
          ],
          [
           "klp-15-Neuron_Genes_Screen",
           4
          ],
          [
           "klp-16-Neuron_Genes_Screen",
           0
          ],
          [
           "ksr-1-Neuron_Genes_Screen",
           0
          ],
          [
           "let-60-Neuron_Genes_Screen",
           0
          ],
          [
           "let-756-Neuron_Genes_Screen",
           4
          ],
          [
           "let-92-Neuron_Genes_Screen",
           0
          ],
          [
           "lin-2-Neuron_Genes_Screen",
           4
          ],
          [
           "lin-23-Neuron_Genes_Screen",
           0
          ],
          [
           "lin-3-Neuron_Genes_Screen",
           4
          ],
          [
           "lin-44-Neuron_Genes_Screen",
           4
          ],
          [
           "lip-1-Neuron_Genes_Screen",
           0
          ],
          [
           "lrch-1-Neuron_Genes_Screen",
           3
          ],
          [
           "lron-15-Neuron_Genes_Screen",
           4
          ],
          [
           "lron-3-Neuron_Genes_Screen",
           4
          ],
          [
           "lron-6-Neuron_Genes_Screen",
           0
          ],
          [
           "madd-4-Neuron_Genes_Screen",
           0
          ],
          [
           "magi-1-Neuron_Genes_Screen",
           4
          ],
          [
           "mbk-1-Neuron_Genes_Screen",
           0
          ],
          [
           "mek-1-Neuron_Genes_Screen",
           0
          ],
          [
           "mekk-3-Neuron_Genes_Screen",
           4
          ],
          [
           "mics-1-Neuron_Genes_Screen",
           0
          ],
          [
           "mkk-4-Neuron_Genes_Screen",
           4
          ],
          [
           "mlk-1-Neuron_Genes_Screen",
           0
          ],
          [
           "mod-5-Neuron_Genes_Screen",
           0
          ],
          [
           "mpz-4-Neuron_Genes_Screen",
           4
          ],
          [
           "mrp-1-Neuron_Genes_Screen",
           0
          ],
          [
           "mrp-2-Neuron_Genes_Screen",
           0
          ],
          [
           "mrp-3-Neuron_Genes_Screen",
           4
          ],
          [
           "mrp-4-Neuron_Genes_Screen",
           0
          ],
          [
           "mrp-6-Neuron_Genes_Screen",
           0
          ],
          [
           "mtm-5-Neuron_Genes_Screen",
           4
          ],
          [
           "mtm-6-Neuron_Genes_Screen",
           4
          ],
          [
           "nck-1-Neuron_Genes_Screen",
           0
          ],
          [
           "ncs-1-Neuron_Genes_Screen",
           3
          ],
          [
           "nep-1-Neuron_Genes_Screen",
           4
          ],
          [
           "neto-1-Neuron_Genes_Screen",
           0
          ],
          [
           "nex-1-Neuron_Genes_Screen",
           0
          ],
          [
           "nex-3-Neuron_Genes_Screen",
           0
          ],
          [
           "nex-4-Neuron_Genes_Screen",
           4
          ],
          [
           "nhl-1-Neuron_Genes_Screen",
           4
          ],
          [
           "nhl-3-Neuron_Genes_Screen",
           0
          ],
          [
           "nhr-99-Neuron_Genes_Screen",
           0
          ],
          [
           "nimk-1-Neuron_Genes_Screen",
           3
          ],
          [
           "nipi-3-Neuron_Genes_Screen",
           4
          ],
          [
           "nlg-1-Neuron_Genes_Screen",
           4
          ],
          [
           "nlp-1-Neuron_Genes_Screen",
           0
          ],
          [
           "nlp-15-Neuron_Genes_Screen",
           0
          ],
          [
           "nlp-18-Neuron_Genes_Screen",
           4
          ],
          [
           "nlp-20-Neuron_Genes_Screen",
           4
          ],
          [
           "nlp-3-Neuron_Genes_Screen",
           4
          ],
          [
           "nlp-5-Neuron_Genes_Screen",
           0
          ],
          [
           "nmur-1-Neuron_Genes_Screen",
           3
          ],
          [
           "nmur-2-Neuron_Genes_Screen",
           0
          ],
          [
           "npr-14-Neuron_Genes_Screen",
           4
          ],
          [
           "npr-16-Neuron_Genes_Screen",
           0
          ],
          [
           "npr-18-Neuron_Genes_Screen",
           0
          ],
          [
           "npr-19-Neuron_Genes_Screen",
           4
          ],
          [
           "npr-25-Neuron_Genes_Screen",
           0
          ],
          [
           "npr-32-Neuron_Genes_Screen",
           0
          ],
          [
           "npr-8-Neuron_Genes_Screen",
           4
          ],
          [
           "npr-9-Neuron_Genes_Screen",
           0
          ],
          [
           "nra-1-Neuron_Genes_Screen",
           0
          ],
          [
           "nsy-1-Neuron_Genes_Screen",
           0
          ],
          [
           "ntr-1-Neuron_Genes_Screen",
           0
          ],
          [
           "oct-1-Neuron_Genes_Screen",
           0
          ],
          [
           "octr-1-Neuron_Genes_Screen",
           0
          ],
          [
           "odr-1-Neuron_Genes_Screen",
           4
          ],
          [
           "ogt-1-Neuron_Genes_Screen",
           4
          ],
          [
           "old-1-Neuron_Genes_Screen",
           4
          ],
          [
           "old-2-Neuron_Genes_Screen",
           4
          ],
          [
           "osm-6-Neuron_Genes_Screen",
           4
          ],
          [
           "osm-9-Neuron_Genes_Screen",
           4
          ],
          [
           "oxi-1-Neuron_Genes_Screen",
           0
          ],
          [
           "pak-2-Neuron_Genes_Screen",
           4
          ],
          [
           "par-1-Neuron_Genes_Screen",
           0
          ],
          [
           "pde-4-Neuron_Genes_Screen",
           0
          ],
          [
           "pdr-1-Neuron_Genes_Screen",
           4
          ],
          [
           "pept-2-Neuron_Genes_Screen",
           0
          ],
          [
           "pes-1-Neuron_Genes_Screen",
           0
          ],
          [
           "pes-7-Neuron_Genes_Screen",
           0
          ],
          [
           "pes-9-Neuron_Genes_Screen",
           0
          ],
          [
           "pfn-3-Neuron_Genes_Screen",
           4
          ],
          [
           "piki-1-Neuron_Genes_Screen",
           0
          ],
          [
           "pkc-1-Neuron_Genes_Screen",
           0
          ],
          [
           "pkg-2-Neuron_Genes_Screen",
           4
          ],
          [
           "pkhm-2-Neuron_Genes_Screen",
           4
          ],
          [
           "plc-2-Neuron_Genes_Screen",
           0
          ],
          [
           "plc-4-Neuron_Genes_Screen",
           0
          ],
          [
           "pld-1-Neuron_Genes_Screen",
           0
          ],
          [
           "plk-3-Neuron_Genes_Screen",
           3
          ],
          [
           "pll-1-Neuron_Genes_Screen",
           4
          ],
          [
           "plpp-1.1-Neuron_Genes_Screen",
           4
          ],
          [
           "plx-1-Neuron_Genes_Screen",
           0
          ],
          [
           "pmk-3-Neuron_Genes_Screen",
           0
          ],
          [
           "ppl-3-Neuron_Genes_Screen",
           0
          ],
          [
           "prk-2-Neuron_Genes_Screen",
           0
          ],
          [
           "prmn-1-Neuron_Genes_Screen",
           0
          ],
          [
           "ptp-3-Neuron_Genes_Screen",
           0
          ],
          [
           "qui-1-Neuron_Genes_Screen",
           0
          ],
          [
           "rab-10-Neuron_Genes_Screen",
           0
          ],
          [
           "rab-3-Neuron_Genes_Screen",
           0
          ],
          [
           "rab-5-Neuron_Genes_Screen",
           0
          ],
          [
           "rabr-1-Neuron_Genes_Screen",
           4
          ],
          [
           "rabr-3-Neuron_Genes_Screen",
           4
          ],
          [
           "rbf-1-Neuron_Genes_Screen",
           4
          ],
          [
           "rbx-2-Neuron_Genes_Screen",
           4
          ],
          [
           "rga-5-Neuron_Genes_Screen",
           4
          ],
          [
           "rgl-1-Neuron_Genes_Screen",
           0
          ],
          [
           "rgs-1-Neuron_Genes_Screen",
           0
          ],
          [
           "rgs-10-Neuron_Genes_Screen",
           0
          ],
          [
           "rgs-2-Neuron_Genes_Screen",
           0
          ],
          [
           "rgs-4-Neuron_Genes_Screen",
           0
          ],
          [
           "rgs-5-Neuron_Genes_Screen",
           0
          ],
          [
           "rgs-6-Neuron_Genes_Screen",
           0
          ],
          [
           "ric-19-Neuron_Genes_Screen",
           0
          ],
          [
           "ric-4-Neuron_Genes_Screen",
           4
          ],
          [
           "ric-8-Neuron_Genes_Screen",
           4
          ],
          [
           "rig-3-Neuron_Genes_Screen",
           0
          ],
          [
           "rin-1-Neuron_Genes_Screen",
           0
          ],
          [
           "riok-3-Neuron_Genes_Screen",
           4
          ],
          [
           "rme-6-Neuron_Genes_Screen",
           4
          ],
          [
           "rnf-1-Neuron_Genes_Screen",
           0
          ],
          [
           "rnf-5-Neuron_Genes_Screen",
           4
          ],
          [
           "rpm-1-Neuron_Genes_Screen",
           4
          ],
          [
           "rpy-1-Neuron_Genes_Screen",
           0
          ],
          [
           "rsd-3-Neuron_Genes_Screen",
           4
          ],
          [
           "rsef-1-Neuron_Genes_Screen",
           0
          ],
          [
           "sac-2-Neuron_Genes_Screen",
           4
          ],
          [
           "scd-2-Neuron_Genes_Screen",
           0
          ],
          [
           "scrm-3-Neuron_Genes_Screen",
           0
          ],
          [
           "sek-1-Neuron_Genes_Screen",
           0
          ],
          [
           "sek-6-Neuron_Genes_Screen",
           0
          ],
          [
           "sel-5-Neuron_Genes_Screen",
           0
          ],
          [
           "ser-1-Neuron_Genes_Screen",
           0
          ],
          [
           "ser-2-Neuron_Genes_Screen",
           0
          ],
          [
           "shn-1-Neuron_Genes_Screen",
           0
          ],
          [
           "skr-1-Neuron_Genes_Screen",
           4
          ],
          [
           "skr-5-Neuron_Genes_Screen",
           4
          ],
          [
           "sli-1-Neuron_Genes_Screen",
           0
          ],
          [
           "slt-1-Neuron_Genes_Screen",
           4
          ],
          [
           "sma-1-Neuron_Genes_Screen",
           4
          ],
          [
           "sma-6-Neuron_Genes_Screen",
           0
          ],
          [
           "smg-1-Neuron_Genes_Screen",
           0
          ],
          [
           "sms-5-Neuron_Genes_Screen",
           3
          ],
          [
           "snb-1-Neuron_Genes_Screen",
           0
          ],
          [
           "snb-1xunc-17-Neuron_Genes_Screen",
           0
          ],
          [
           "snb-5-Neuron_Genes_Screen",
           4
          ],
          [
           "snf-10-Neuron_Genes_Screen",
           0
          ],
          [
           "snf-11-Neuron_Genes_Screen",
           0
          ],
          [
           "snf-9-Neuron_Genes_Screen",
           0
          ],
          [
           "snt-5-Neuron_Genes_Screen",
           4
          ],
          [
           "snt-6-Neuron_Genes_Screen",
           4
          ],
          [
           "soc-1-Neuron_Genes_Screen",
           4
          ],
          [
           "soc-2-Neuron_Genes_Screen",
           0
          ],
          [
           "spe-8-Neuron_Genes_Screen",
           0
          ],
          [
           "sph-1-Neuron_Genes_Screen",
           0
          ],
          [
           "sphk-1-Neuron_Genes_Screen",
           4
          ],
          [
           "ssr-2-Neuron_Genes_Screen",
           4
          ],
          [
           "stn-1-Neuron_Genes_Screen",
           4
          ],
          [
           "stn-2-Neuron_Genes_Screen",
           0
          ],
          [
           "strd-1-Neuron_Genes_Screen",
           0
          ],
          [
           "swan-2-Neuron_Genes_Screen",
           3
          ],
          [
           "syd-1-Neuron_Genes_Screen",
           0
          ],
          [
           "syd-2-Neuron_Genes_Screen",
           4
          ],
          [
           "syg-2-Neuron_Genes_Screen",
           0
          ],
          [
           "sym-1-Neuron_Genes_Screen",
           0
          ],
          [
           "sym-4-Neuron_Genes_Screen",
           4
          ],
          [
           "tag-180-Neuron_Genes_Screen",
           0
          ],
          [
           "tag-325-Neuron_Genes_Screen",
           0
          ],
          [
           "tag-344-Neuron_Genes_Screen",
           0
          ],
          [
           "tap-1-Neuron_Genes_Screen",
           4
          ],
          [
           "tax-2-Neuron_Genes_Screen",
           0
          ],
          [
           "test-1-Neuron_Genes_Screen",
           4
          ],
          [
           "tig-2-Neuron_Genes_Screen",
           0
          ],
          [
           "tir-1-Neuron_Genes_Screen",
           0
          ],
          [
           "tkr-2-Neuron_Genes_Screen",
           4
          ],
          [
           "tli-1-Neuron_Genes_Screen",
           4
          ],
          [
           "tns-1-Neuron_Genes_Screen",
           0
          ],
          [
           "trf-1-Neuron_Genes_Screen",
           0
          ],
          [
           "trhr-1-Neuron_Genes_Screen",
           0
          ],
          [
           "ttx-7-Neuron_Genes_Screen",
           4
          ],
          [
           "tub-1-Neuron_Genes_Screen",
           0
          ],
          [
           "tyra-3-Neuron_Genes_Screen",
           0
          ],
          [
           "ubc-1-Neuron_Genes_Screen",
           4
          ],
          [
           "ubc-16-Neuron_Genes_Screen",
           0
          ],
          [
           "ubc-24-Neuron_Genes_Screen",
           4
          ],
          [
           "ubc-25-Neuron_Genes_Screen",
           0
          ],
          [
           "ubr-5-Neuron_Genes_Screen",
           0
          ],
          [
           "ucr-2.3-Neuron_Genes_Screen",
           0
          ],
          [
           "unc-129-Neuron_Genes_Screen",
           4
          ],
          [
           "unc-13-Neuron_Genes_Screen",
           0
          ],
          [
           "unc-130-Neuron_Genes_Screen",
           4
          ],
          [
           "unc-22-Neuron_Genes_Screen",
           4
          ],
          [
           "unc-29-Neuron_Genes_Screen",
           3
          ],
          [
           "unc-36-Neuron_Genes_Screen",
           4
          ],
          [
           "unc-40-Neuron_Genes_Screen",
           4
          ],
          [
           "unc-41-Neuron_Genes_Screen",
           4
          ],
          [
           "unc-5-Neuron_Genes_Screen",
           4
          ],
          [
           "unc-89-Neuron_Genes_Screen",
           0
          ],
          [
           "unknown-Neuron_Genes_Screen",
           4
          ],
          [
           "vab-1-Neuron_Genes_Screen",
           4
          ],
          [
           "vap-1-Neuron_Genes_Screen",
           4
          ],
          [
           "ver-1-Neuron_Genes_Screen",
           0
          ],
          [
           "ver-4-Neuron_Genes_Screen",
           3
          ],
          [
           "vit-4-Neuron_Genes_Screen",
           0
          ],
          [
           "vps-20-Neuron_Genes_Screen",
           0
          ],
          [
           "wdfy-2-Neuron_Genes_Screen",
           0
          ],
          [
           "wdr-5.2-Neuron_Genes_Screen",
           0
          ],
          [
           "wrk-1-Neuron_Genes_Screen",
           0
          ],
          [
           "wsp-1-Neuron_Genes_Screen",
           4
          ],
          [
           "wwp-1-Neuron_Genes_Screen",
           0
          ],
          [
           "xol-1-Neuron_Genes_Screen",
           0
          ],
          [
           "zig-12-Neuron_Genes_Screen",
           4
          ],
          [
           "zig-3-Neuron_Genes_Screen",
           0
          ],
          [
           "zig-7-Neuron_Genes_Screen",
           2
          ],
          [
           "AMshABLATE-Glia_Genes_Screen",
           2
          ],
          [
           "ced-10-Glia_Genes_Screen",
           5
          ],
          [
           "ced-5-Glia_Genes_Screen",
           2
          ],
          [
           "delm-1-Glia_Genes_Screen",
           2
          ],
          [
           "delm-2-Glia_Genes_Screen",
           2
          ],
          [
           "dyf-7-Glia_Genes_Screen",
           2
          ],
          [
           "ifa-4-Glia_Genes_Screen",
           2
          ],
          [
           "lgc-55-Glia_Genes_Screen",
           2
          ],
          [
           "lit-1-Glia_Genes_Screen",
           2
          ],
          [
           "mgl-2-Glia_Genes_Screen",
           2
          ],
          [
           "mgl-2xmgl-1-Glia_Genes_Screen",
           2
          ],
          [
           "mir-235-Glia_Genes_Screen",
           2
          ],
          [
           "ptp-3-Glia_Genes_Screen",
           2
          ],
          [
           "syg-1-Glia_Genes_Screen",
           2
          ],
          [
           "tax-4-Glia_Genes_Screen",
           2
          ],
          [
           "unc-6-Glia_Genes_Screen",
           2
          ],
          [
           "ver-1-Glia_Genes_Screen",
           2
          ],
          [
           "ztf-16-Glia_Genes_Screen",
           2
          ],
          [
           "F33H2.3-ASD_WGS_Screen",
           2
          ],
          [
           "N2-ASD_WGS_Screen",
           2
          ],
          [
           "egl-13-ASD_WGS_Screen",
           2
          ],
          [
           "egl-3-ASD_WGS_Screen",
           2
          ],
          [
           "exp-2-ASD_WGS_Screen",
           5
          ],
          [
           "flp-20-ASD_WGS_Screen",
           2
          ],
          [
           "fubl-1-ASD_WGS_Screen",
           2
          ],
          [
           "fubl-2-ASD_WGS_Screen",
           2
          ],
          [
           "gtbp-1-ASD_WGS_Screen",
           2
          ],
          [
           "hlh-2-ASD_WGS_Screen",
           2
          ],
          [
           "hrpu-1-ASD_WGS_Screen",
           2
          ],
          [
           "ife-2-ASD_WGS_Screen",
           2
          ],
          [
           "ife-5-ASD_WGS_Screen",
           2
          ],
          [
           "kin-18-ASD_WGS_Screen",
           2
          ],
          [
           "kin-3-ASD_WGS_Screen",
           2
          ],
          [
           "kin-32-ASD_WGS_Screen",
           2
          ],
          [
           "kvs-1-ASD_WGS_Screen",
           2
          ],
          [
           "kvs-2-ASD_WGS_Screen",
           2
          ],
          [
           "kvs-4-ASD_WGS_Screen",
           2
          ],
          [
           "kvs-5-ASD_WGS_Screen",
           2
          ],
          [
           "lgc-36-ASD_WGS_Screen",
           5
          ],
          [
           "lgc-37-ASD_WGS_Screen",
           2
          ],
          [
           "lin-59-ASD_WGS_Screen",
           2
          ],
          [
           "mca-3-ASD_WGS_Screen",
           2
          ],
          [
           "nhr-6-ASD_WGS_Screen",
           2
          ],
          [
           "nmr-1-ASD_WGS_Screen",
           2
          ],
          [
           "nrx-1-ASD_WGS_Screen",
           2
          ],
          [
           "par-1-ASD_WGS_Screen",
           2
          ],
          [
           "set-2-ASD_WGS_Screen",
           2
          ],
          [
           "set-4-ASD_WGS_Screen",
           2
          ],
          [
           "snt-3-ASD_WGS_Screen",
           5
          ],
          [
           "unc-3-ASD_WGS_Screen",
           2
          ],
          [
           "wdfy-3-ASD_WGS_Screen",
           2
          ],
          [
           "wdr-20-ASD_WGS_Screen",
           2
          ],
          [
           "F56C9.1-PD_GWAS_Locus71_Screen",
           2
          ],
          [
           "N2-PD_GWAS_Locus71_Screen",
           2
          ],
          [
           "clec-51-PD_GWAS_Locus71_Screen",
           2
          ],
          [
           "clec-52-PD_GWAS_Locus71_Screen",
           2
          ],
          [
           "dog-1-PD_GWAS_Locus71_Screen",
           2
          ],
          [
           "let-19-PD_GWAS_Locus71_Screen",
           2
          ],
          [
           "tbx-2-PD_GWAS_Locus71_Screen",
           2
          ],
          [
           "tlk-1-PD_GWAS_Locus71_Screen",
           0
          ],
          [
           "N2-G-Proteins_Screen",
           0
          ],
          [
           "T01C3.3-G-Proteins_Screen",
           5
          ],
          [
           "Y64G10A.7-G-Proteins_Screen",
           0
          ],
          [
           "aap-1-G-Proteins_Screen",
           0
          ],
          [
           "acy-1-G-Proteins_Screen",
           0
          ],
          [
           "acy-4-G-Proteins_Screen",
           0
          ],
          [
           "afmd-1-G-Proteins_Screen",
           0
          ],
          [
           "arr-1-G-Proteins_Screen",
           0
          ],
          [
           "avr-14-G-Proteins_Screen",
           0
          ],
          [
           "camt-1-G-Proteins_Screen",
           0
          ],
          [
           "daf-18-G-Proteins_Screen",
           0
          ],
          [
           "dgk-1-G-Proteins_Screen",
           0
          ],
          [
           "eat-16-G-Proteins_Screen",
           0
          ],
          [
           "egl-10-G-Proteins_Screen",
           0
          ],
          [
           "egl-3-G-Proteins_Screen",
           0
          ],
          [
           "egl-30-G-Proteins_Screen",
           0
          ],
          [
           "egl-5-G-Proteins_Screen",
           0
          ],
          [
           "egl-8-G-Proteins_Screen",
           0
          ],
          [
           "fat-3-G-Proteins_Screen",
           0
          ],
          [
           "goa-1-G-Proteins_Screen",
           0
          ],
          [
           "gpr-1-G-Proteins_Screen",
           0
          ],
          [
           "gpr-2-G-Proteins_Screen",
           0
          ],
          [
           "grk-2-G-Proteins_Screen",
           0
          ],
          [
           "gsa-1-G-Proteins_Screen",
           0
          ],
          [
           "kin-2-G-Proteins_Screen",
           0
          ],
          [
           "mod-5-G-Proteins_Screen",
           0
          ],
          [
           "pde-1-G-Proteins_Screen",
           0
          ],
          [
           "pde-1xpde-5xpde-3xpde-2-G-Proteins_Screen",
           0
          ],
          [
           "pde-4-G-Proteins_Screen",
           0
          ],
          [
           "rgs-1-G-Proteins_Screen",
           0
          ],
          [
           "rgs-7-G-Proteins_Screen",
           0
          ],
          [
           "sek-6-G-Proteins_Screen",
           0
          ],
          [
           "tax-6-G-Proteins_Screen",
           1
          ],
          [
           "tir-1-G-Proteins_Screen",
           0
          ],
          [
           "twk-18-G-Proteins_Screen",
           0
          ],
          [
           "unc-103-G-Proteins_Screen",
           0
          ],
          [
           "unc-119-G-Proteins_Screen",
           0
          ],
          [
           "unc-13-G-Proteins_Screen",
           0
          ],
          [
           "unc-2-G-Proteins_Screen",
           0
          ],
          [
           "unknown-G-Proteins_Screen",
           0
          ],
          [
           "zig-12-G-Proteins_Screen",
           2
          ],
          [
           "N2-PD_GWAS_Locus22_Screen",
           2
          ],
          [
           "R02F2.1-PD_GWAS_Locus22_Screen",
           2
          ],
          [
           "gtbp-1-PD_GWAS_Locus22_Screen",
           2
          ],
          [
           "pro-3-PD_GWAS_Locus22_Screen",
           2
          ],
          [
           "scav-1-PD_GWAS_Locus22_Screen",
           2
          ],
          [
           "scav-3-PD_GWAS_Locus22_Screen",
           2
          ],
          [
           "uso-1-PD_GWAS_Locus22_Screen",
           2
          ],
          [
           "C29E4.10-PD_Screen",
           2
          ],
          [
           "F32D8.13-PD_Screen",
           2
          ],
          [
           "F53B2.5-PD_Screen",
           2
          ],
          [
           "F54B11.5-PD_Screen",
           2
          ],
          [
           "N2-PD_Screen",
           2
          ],
          [
           "T08G11.1-PD_Screen",
           2
          ],
          [
           "T20F7.3-PD_Screen",
           2
          ],
          [
           "W07B8.4-PD_Screen",
           2
          ],
          [
           "Y18D10A.22-PD_Screen",
           2
          ],
          [
           "acr-12-PD_Screen",
           2
          ],
          [
           "acr-3-PD_Screen",
           2
          ],
          [
           "acr-6-PD_Screen",
           2
          ],
          [
           "acr-8-PD_Screen",
           2
          ],
          [
           "bas-1-PD_Screen",
           2
          ],
          [
           "cat-1-PD_Screen",
           2
          ],
          [
           "cat-2-PD_Screen",
           2
          ],
          [
           "cat-4-PD_Screen",
           2
          ],
          [
           "catp-7-PD_Screen",
           2
          ],
          [
           "chd-1-PD_Screen",
           2
          ],
          [
           "chd-7-PD_Screen",
           2
          ],
          [
           "clh-5-PD_Screen",
           2
          ],
          [
           "cpr-1-PD_Screen",
           2
          ],
          [
           "cpr-2-PD_Screen",
           2
          ],
          [
           "cpr-3-PD_Screen",
           2
          ],
          [
           "cpr-4-PD_Screen",
           2
          ],
          [
           "cpr-5-PD_Screen",
           2
          ],
          [
           "cpr-6-PD_Screen",
           2
          ],
          [
           "cpr-8-PD_Screen",
           2
          ],
          [
           "cpr-9-PD_Screen",
           2
          ],
          [
           "crls-1-PD_Screen",
           2
          ],
          [
           "csb-1-PD_Screen",
           2
          ],
          [
           "dat-1-PD_Screen",
           2
          ],
          [
           "djr-1.1-PD_Screen",
           2
          ],
          [
           "djr-1.2-PD_Screen",
           2
          ],
          [
           "dma-1-PD_Screen",
           2
          ],
          [
           "dnj-25-PD_Screen",
           2
          ],
          [
           "dop-1-PD_Screen",
           2
          ],
          [
           "dop-3-PD_Screen",
           5
          ],
          [
           "dpy-22-PD_Screen",
           2
          ],
          [
           "dve-1-PD_Screen",
           2
          ],
          [
           "exp-2-PD_Screen",
           2
          ],
          [
           "gba-1-PD_Screen",
           2
          ],
          [
           "gba-2-PD_Screen",
           2
          ],
          [
           "gba-3-PD_Screen",
           2
          ],
          [
           "gba-4-PD_Screen",
           2
          ],
          [
           "gbf-1-PD_Screen",
           2
          ],
          [
           "gck-3-PD_Screen",
           2
          ],
          [
           "gipc-1-PD_Screen",
           2
          ],
          [
           "gipc-2-PD_Screen",
           2
          ],
          [
           "glo-1-PD_Screen",
           2
          ],
          [
           "gly-10-PD_Screen",
           2
          ],
          [
           "gly-5-PD_Screen",
           2
          ],
          [
           "gly-7-PD_Screen",
           2
          ],
          [
           "gyf-1-PD_Screen",
           2
          ],
          [
           "har-1-PD_Screen",
           2
          ],
          [
           "hipr-1-PD_Screen",
           2
          ],
          [
           "igcm-2-PD_Screen",
           2
          ],
          [
           "ima-2-PD_Screen",
           2
          ],
          [
           "immt-1-PD_Screen",
           2
          ],
          [
           "immt-2-PD_Screen",
           2
          ],
          [
           "imp-1-PD_Screen",
           2
          ],
          [
           "ipla-3-PD_Screen",
           2
          ],
          [
           "klp-12-PD_Screen",
           2
          ],
          [
           "klu-1-PD_Screen",
           2
          ],
          [
           "kvs-1-PD_Screen",
           2
          ],
          [
           "kvs-2-PD_Screen",
           2
          ],
          [
           "kvs-3-PD_Screen",
           2
          ],
          [
           "kvs-4-PD_Screen",
           2
          ],
          [
           "kvs-5-PD_Screen",
           2
          ],
          [
           "let-19-PD_Screen",
           2
          ],
          [
           "lfe-2-PD_Screen",
           2
          ],
          [
           "lrk-1-PD_Screen",
           2
          ],
          [
           "mbk-1-PD_Screen",
           2
          ],
          [
           "mbl-1-PD_Screen",
           2
          ],
          [
           "mbr-1-PD_Screen",
           2
          ],
          [
           "mex-3-PD_Screen",
           5
          ],
          [
           "mig-15-PD_Screen",
           2
          ],
          [
           "mig-32-PD_Screen",
           2
          ],
          [
           "miro-1-PD_Screen",
           2
          ],
          [
           "mop-25.1-PD_Screen",
           2
          ],
          [
           "mop-25.2-PD_Screen",
           2
          ],
          [
           "ncs-4-PD_Screen",
           2
          ],
          [
           "ncs-5-PD_Screen",
           2
          ],
          [
           "ncs-7-PD_Screen",
           2
          ],
          [
           "pamn-1-PD_Screen",
           2
          ],
          [
           "pdr-1-PD_Screen",
           2
          ],
          [
           "pgrn-1-PD_Screen",
           2
          ],
          [
           "pink-1-PD_Screen",
           2
          ],
          [
           "ptl-1-PD_Screen",
           2
          ],
          [
           "rme-8-PD_Screen",
           2
          ],
          [
           "rskd-1-PD_Screen",
           2
          ],
          [
           "sac-2-PD_Screen",
           2
          ],
          [
           "scav-1-PD_Screen",
           2
          ],
          [
           "scav-2-PD_Screen",
           2
          ],
          [
           "scav-5-PD_Screen",
           2
          ],
          [
           "sek-4-PD_Screen",
           2
          ],
          [
           "sek-5-PD_Screen",
           2
          ],
          [
           "set-2-PD_Screen",
           2
          ],
          [
           "sipa-1-PD_Screen",
           2
          ],
          [
           "smrc-1-PD_Screen",
           2
          ],
          [
           "snb-5-PD_Screen",
           2
          ],
          [
           "snb-7-PD_Screen",
           5
          ],
          [
           "src-1-PD_Screen",
           2
          ],
          [
           "ubh-1-PD_Screen",
           2
          ],
          [
           "ubh-2-PD_Screen",
           2
          ],
          [
           "ubh-3-PD_Screen",
           2
          ],
          [
           "unc-10-PD_Screen",
           5
          ],
          [
           "unc-26-PD_Screen",
           5
          ],
          [
           "unc-43-PD_Screen",
           5
          ],
          [
           "unc-57-PD_Screen",
           2
          ],
          [
           "unc-59-PD_Screen",
           2
          ],
          [
           "unc-70-PD_Screen",
           2
          ]
         ],
         "hovertemplate": "Gene-Screen=%{customdata[0]}<br>Cluster=%{marker.color}<extra></extra>",
         "legendgroup": "",
         "marker": {
          "color": {
           "bdata": "AwAAAAMAAAADAAAAAwAAAAIAAAACAAAAAgAAAAIAAAACAAAAAgAAAAIAAAACAAAAAgAAAAIAAAACAAAAAgAAAAIAAAACAAAAAgAAAAIAAAACAAAAAgAAAAIAAAACAAAAAgAAAAIAAAACAAAAAgAAAAIAAAACAAAAAgAAAAIAAAACAAAAAgAAAAIAAAACAAAAAgAAAAIAAAAFAAAAAgAAAAIAAAACAAAAAgAAAAIAAAACAAAAAgAAAAIAAAACAAAAAgAAAAIAAAACAAAAAgAAAAIAAAACAAAAAgAAAAIAAAACAAAAAgAAAAIAAAACAAAAAgAAAAIAAAACAAAAAgAAAAIAAAACAAAAAgAAAAIAAAACAAAAAgAAAAIAAAACAAAAAgAAAAIAAAACAAAAAgAAAAIAAAACAAAAAgAAAAIAAAACAAAAAgAAAAIAAAACAAAAAgAAAAIAAAACAAAAAgAAAAIAAAACAAAAAgAAAAIAAAAFAAAAAwAAAAIAAAACAAAAAgAAAAIAAAACAAAAAgAAAAIAAAACAAAAAgAAAAIAAAACAAAAAgAAAAIAAAACAAAAAgAAAAIAAAACAAAAAgAAAAIAAAADAAAAAgAAAAIAAAACAAAAAgAAAAAAAAACAAAAAgAAAAAAAAAAAAAAAwAAAAAAAAAEAAAAAAAAAAAAAAAAAAAAAAAAAAAAAAAAAAAAAAAAAAQAAAAAAAAABAAAAAQAAAAAAAAABAAAAAAAAAAEAAAAAAAAAAAAAAAEAAAAAAAAAAQAAAAAAAAABAAAAAQAAAAEAAAAAAAAAAAAAAAAAAAABAAAAAAAAAAAAAAAAAAAAAAAAAAAAAAAAAAAAAQAAAAEAAAABAAAAAAAAAAEAAAABAAAAAQAAAAAAAAABAAAAAAAAAAAAAAAAAAAAAAAAAAAAAAABAAAAAQAAAAEAAAAAAAAAAQAAAAEAAAABAAAAAAAAAAAAAAABAAAAAAAAAAAAAAABAAAAAAAAAAAAAAAAAAAAAAAAAAAAAAAAAAAAAAAAAAEAAAABAAAAAQAAAAEAAAABAAAAAAAAAAAAAAABAAAAAAAAAAEAAAAAAAAAAAAAAAEAAAAAAAAAAAAAAAEAAAAAAAAAAAAAAADAAAAAAAAAAQAAAADAAAABAAAAAAAAAAAAAAABAAAAAQAAAAEAAAAAwAAAAMAAAAAAAAAAAAAAAAAAAAEAAAABAAAAAQAAAAAAAAAAAAAAAAAAAAAAAAAAAAAAAAAAAAAAAAAAAAAAAAAAAAAAAAAAAAAAAAAAAAEAAAABAAAAAAAAAADAAAABAAAAAAAAAAAAAAAAAAAAAAAAAAEAAAAAAAAAAAAAAAEAAAAAAAAAAAAAAAAAAAAAAAAAAAAAAAAAAAAAAAAAAAAAAAAAAAAAAAAAAAAAAAAAAAABAAAAAAAAAAAAAAAAAAAAAAAAAAAAAAAAAAAAAQAAAAAAAAAAAAAAAAAAAAAAAAAAAAAAAQAAAAAAAAAAAAAAAAAAAADAAAAAAAAAAAAAAAAAAAAAAAAAAAAAAAAAAAAAAAAAAAAAAAAAAAAAAAAAAAAAAAAAAAAAAAAAAAAAAAAAAAAAwAAAAQAAAAEAAAAAAAAAAQAAAAAAAAABAAAAAQAAAAAAAAAAAAAAAAAAAAEAAAABAAAAAAAAAAAAAAABAAAAAAAAAAEAAAABAAAAAAAAAAAAAAAAAAAAAAAAAAAAAAAAAAAAAAAAAAEAAAAAAAAAAAAAAAEAAAAAAAAAAAAAAAAAAAAAAAAAAQAAAAEAAAAAAAAAAQAAAAAAAAAAAAAAAAAAAAEAAAAAAAAAAAAAAAEAAAAAAAAAAAAAAAAAAAABAAAAAAAAAAEAAAAAAAAAAQAAAAEAAAAAAAAAAMAAAAEAAAABAAAAAAAAAAAAAAABAAAAAAAAAAAAAAABAAAAAAAAAAEAAAAAAAAAAAAAAAEAAAAAAAAAAAAAAAEAAAAAAAAAAAAAAAEAAAABAAAAAAAAAADAAAABAAAAAAAAAAAAAAAAAAAAAQAAAAEAAAAAAAAAAAAAAADAAAABAAAAAQAAAAAAAAAAAAAAAQAAAAEAAAABAAAAAAAAAADAAAAAAAAAAQAAAAAAAAAAAAAAAQAAAAAAAAAAAAAAAQAAAAAAAAAAAAAAAAAAAAAAAAAAAAAAAAAAAAEAAAABAAAAAQAAAAEAAAABAAAAAQAAAAAAAAABAAAAAAAAAAAAAAABAAAAAAAAAAAAAAAAAAAAAAAAAAEAAAAAAAAAAAAAAAEAAAABAAAAAAAAAAAAAAAAAAAAAMAAAAEAAAABAAAAAAAAAAAAAAAAAAAAAAAAAAAAAAAAAAAAAAAAAAAAAAAAAAAAAAAAAAEAAAABAAAAAQAAAAEAAAABAAAAAAAAAAAAAAAAAAAAAAAAAAAAAAAAAAAAAAAAAAAAAAABAAAAAQAAAAAAAAAAAAAAAQAAAAEAAAAAAAAAAQAAAAEAAAAAAAAAAQAAAAAAAAABAAAAAAAAAAAAAAAAAAAAAAAAAAAAAAAAAAAAAAAAAAAAAAABAAAAAQAAAAAAAAABAAAAAQAAAAAAAAAAAAAAAMAAAAAAAAAAAAAAAQAAAAAAAAAAAAAAAAAAAAEAAAABAAAAAQAAAAAAAAAAAAAAAAAAAAEAAAABAAAAAQAAAAAAAAAAAAAAAMAAAAAAAAABAAAAAAAAAAAAAAABAAAAAAAAAAAAAAAAAAAAAQAAAAAAAAABAAAAAAAAAAAAAAABAAAAAQAAAAAAAAAAAAAAAAAAAAEAAAAAAAAAAAAAAAEAAAAAAAAAAQAAAAAAAAAAAAAAAAAAAAEAAAAAAAAAAQAAAAEAAAAAwAAAAQAAAAEAAAABAAAAAQAAAAAAAAABAAAAAQAAAAEAAAAAAAAAAMAAAAAAAAAAAAAAAAAAAAAAAAAAAAAAAQAAAAAAAAAAAAAAAQAAAAAAAAAAgAAAAIAAAAFAAAAAgAAAAIAAAACAAAAAgAAAAIAAAACAAAAAgAAAAIAAAACAAAAAgAAAAIAAAACAAAAAgAAAAIAAAACAAAAAgAAAAIAAAACAAAAAgAAAAIAAAAFAAAAAgAAAAIAAAACAAAAAgAAAAIAAAACAAAAAgAAAAIAAAACAAAAAgAAAAIAAAACAAAAAgAAAAIAAAACAAAABQAAAAIAAAACAAAAAgAAAAIAAAACAAAAAgAAAAIAAAACAAAAAgAAAAUAAAACAAAAAgAAAAIAAAACAAAAAgAAAAIAAAACAAAAAgAAAAIAAAACAAAAAAAAAAAAAAAFAAAAAAAAAAAAAAAAAAAAAAAAAAAAAAAAAAAAAAAAAAAAAAAAAAAAAAAAAAAAAAAAAAAAAAAAAAAAAAAAAAAAAAAAAAAAAAAAAAAAAAAAAAAAAAAAAAAAAAAAAAAAAAAAAAAAAAAAAAAAAAAAAAAAAAAAAAAAAAAAAAAAAQAAAAAAAAAAAAAAAAAAAAAAAAAAAAAAAAAAAAAAAAACAAAAAgAAAAIAAAACAAAAAgAAAAIAAAACAAAAAgAAAAIAAAACAAAAAgAAAAIAAAACAAAAAgAAAAIAAAACAAAAAgAAAAIAAAACAAAAAgAAAAIAAAACAAAAAgAAAAIAAAACAAAAAgAAAAIAAAACAAAAAgAAAAIAAAACAAAAAgAAAAIAAAACAAAAAgAAAAIAAAACAAAAAgAAAAIAAAACAAAAAgAAAAIAAAACAAAAAgAAAAIAAAAFAAAAAgAAAAIAAAACAAAAAgAAAAIAAAACAAAAAgAAAAIAAAACAAAAAgAAAAIAAAACAAAAAgAAAAIAAAACAAAAAgAAAAIAAAACAAAAAgAAAAIAAAACAAAAAgAAAAIAAAACAAAAAgAAAAIAAAACAAAAAgAAAAIAAAACAAAAAgAAAAIAAAACAAAAAgAAAAIAAAACAAAAAgAAAAUAAAACAAAAAgAAAAIAAAACAAAAAgAAAAIAAAACAAAAAgAAAAIAAAACAAAAAgAAAAIAAAACAAAAAgAAAAIAAAACAAAAAgAAAAIAAAACAAAAAgAAAAIAAAACAAAAAgAAAAIAAAACAAAABQAAAAIAAAACAAAAAgAAAAIAAAAFAAAABQAAAAUAAAACAAAAAgAAAAIAAAA=",
           "dtype": "i4"
          },
          "coloraxis": "coloraxis",
          "line": {
           "width": 0
          },
          "opacity": 0.8,
          "size": 6,
          "symbol": "circle"
         },
         "mode": "markers",
         "name": "",
         "orientation": "v",
         "showlegend": false,
         "type": "scatter",
         "x": {
          "bdata": "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",
          "dtype": "f4"
         },
         "xaxis": "x",
         "y": {
          "bdata": "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",
          "dtype": "f4"
         },
         "yaxis": "y"
        }
       ],
       "layout": {
        "coloraxis": {
         "colorbar": {
          "title": {
           "text": "Cluster"
          }
         },
         "colorscale": [
          [
           0,
           "#440154"
          ],
          [
           0.1111111111111111,
           "#482878"
          ],
          [
           0.2222222222222222,
           "#3e4989"
          ],
          [
           0.3333333333333333,
           "#31688e"
          ],
          [
           0.4444444444444444,
           "#26828e"
          ],
          [
           0.5555555555555556,
           "#1f9e89"
          ],
          [
           0.6666666666666666,
           "#35b779"
          ],
          [
           0.7777777777777778,
           "#6ece58"
          ],
          [
           0.8888888888888888,
           "#b5de2b"
          ],
          [
           1,
           "#fde725"
          ]
         ]
        },
        "legend": {
         "tracegroupgap": 0
        },
        "template": {
         "data": {
          "bar": [
           {
            "error_x": {
             "color": "#2a3f5f"
            },
            "error_y": {
             "color": "#2a3f5f"
            },
            "marker": {
             "line": {
              "color": "#E5ECF6",
              "width": 0.5
             },
             "pattern": {
              "fillmode": "overlay",
              "size": 10,
              "solidity": 0.2
             }
            },
            "type": "bar"
           }
          ],
          "barpolar": [
           {
            "marker": {
             "line": {
              "color": "#E5ECF6",
              "width": 0.5
             },
             "pattern": {
              "fillmode": "overlay",
              "size": 10,
              "solidity": 0.2
             }
            },
            "type": "barpolar"
           }
          ],
          "carpet": [
           {
            "aaxis": {
             "endlinecolor": "#2a3f5f",
             "gridcolor": "white",
             "linecolor": "white",
             "minorgridcolor": "white",
             "startlinecolor": "#2a3f5f"
            },
            "baxis": {
             "endlinecolor": "#2a3f5f",
             "gridcolor": "white",
             "linecolor": "white",
             "minorgridcolor": "white",
             "startlinecolor": "#2a3f5f"
            },
            "type": "carpet"
           }
          ],
          "choropleth": [
           {
            "colorbar": {
             "outlinewidth": 0,
             "ticks": ""
            },
            "type": "choropleth"
           }
          ],
          "contour": [
           {
            "colorbar": {
             "outlinewidth": 0,
             "ticks": ""
            },
            "colorscale": [
             [
              0,
              "#0d0887"
             ],
             [
              0.1111111111111111,
              "#46039f"
             ],
             [
              0.2222222222222222,
              "#7201a8"
             ],
             [
              0.3333333333333333,
              "#9c179e"
             ],
             [
              0.4444444444444444,
              "#bd3786"
             ],
             [
              0.5555555555555556,
              "#d8576b"
             ],
             [
              0.6666666666666666,
              "#ed7953"
             ],
             [
              0.7777777777777778,
              "#fb9f3a"
             ],
             [
              0.8888888888888888,
              "#fdca26"
             ],
             [
              1,
              "#f0f921"
             ]
            ],
            "type": "contour"
           }
          ],
          "contourcarpet": [
           {
            "colorbar": {
             "outlinewidth": 0,
             "ticks": ""
            },
            "type": "contourcarpet"
           }
          ],
          "heatmap": [
           {
            "colorbar": {
             "outlinewidth": 0,
             "ticks": ""
            },
            "colorscale": [
             [
              0,
              "#0d0887"
             ],
             [
              0.1111111111111111,
              "#46039f"
             ],
             [
              0.2222222222222222,
              "#7201a8"
             ],
             [
              0.3333333333333333,
              "#9c179e"
             ],
             [
              0.4444444444444444,
              "#bd3786"
             ],
             [
              0.5555555555555556,
              "#d8576b"
             ],
             [
              0.6666666666666666,
              "#ed7953"
             ],
             [
              0.7777777777777778,
              "#fb9f3a"
             ],
             [
              0.8888888888888888,
              "#fdca26"
             ],
             [
              1,
              "#f0f921"
             ]
            ],
            "type": "heatmap"
           }
          ],
          "histogram": [
           {
            "marker": {
             "pattern": {
              "fillmode": "overlay",
              "size": 10,
              "solidity": 0.2
             }
            },
            "type": "histogram"
           }
          ],
          "histogram2d": [
           {
            "colorbar": {
             "outlinewidth": 0,
             "ticks": ""
            },
            "colorscale": [
             [
              0,
              "#0d0887"
             ],
             [
              0.1111111111111111,
              "#46039f"
             ],
             [
              0.2222222222222222,
              "#7201a8"
             ],
             [
              0.3333333333333333,
              "#9c179e"
             ],
             [
              0.4444444444444444,
              "#bd3786"
             ],
             [
              0.5555555555555556,
              "#d8576b"
             ],
             [
              0.6666666666666666,
              "#ed7953"
             ],
             [
              0.7777777777777778,
              "#fb9f3a"
             ],
             [
              0.8888888888888888,
              "#fdca26"
             ],
             [
              1,
              "#f0f921"
             ]
            ],
            "type": "histogram2d"
           }
          ],
          "histogram2dcontour": [
           {
            "colorbar": {
             "outlinewidth": 0,
             "ticks": ""
            },
            "colorscale": [
             [
              0,
              "#0d0887"
             ],
             [
              0.1111111111111111,
              "#46039f"
             ],
             [
              0.2222222222222222,
              "#7201a8"
             ],
             [
              0.3333333333333333,
              "#9c179e"
             ],
             [
              0.4444444444444444,
              "#bd3786"
             ],
             [
              0.5555555555555556,
              "#d8576b"
             ],
             [
              0.6666666666666666,
              "#ed7953"
             ],
             [
              0.7777777777777778,
              "#fb9f3a"
             ],
             [
              0.8888888888888888,
              "#fdca26"
             ],
             [
              1,
              "#f0f921"
             ]
            ],
            "type": "histogram2dcontour"
           }
          ],
          "mesh3d": [
           {
            "colorbar": {
             "outlinewidth": 0,
             "ticks": ""
            },
            "type": "mesh3d"
           }
          ],
          "parcoords": [
           {
            "line": {
             "colorbar": {
              "outlinewidth": 0,
              "ticks": ""
             }
            },
            "type": "parcoords"
           }
          ],
          "pie": [
           {
            "automargin": true,
            "type": "pie"
           }
          ],
          "scatter": [
           {
            "fillpattern": {
             "fillmode": "overlay",
             "size": 10,
             "solidity": 0.2
            },
            "type": "scatter"
           }
          ],
          "scatter3d": [
           {
            "line": {
             "colorbar": {
              "outlinewidth": 0,
              "ticks": ""
             }
            },
            "marker": {
             "colorbar": {
              "outlinewidth": 0,
              "ticks": ""
             }
            },
            "type": "scatter3d"
           }
          ],
          "scattercarpet": [
           {
            "marker": {
             "colorbar": {
              "outlinewidth": 0,
              "ticks": ""
             }
            },
            "type": "scattercarpet"
           }
          ],
          "scattergeo": [
           {
            "marker": {
             "colorbar": {
              "outlinewidth": 0,
              "ticks": ""
             }
            },
            "type": "scattergeo"
           }
          ],
          "scattergl": [
           {
            "marker": {
             "colorbar": {
              "outlinewidth": 0,
              "ticks": ""
             }
            },
            "type": "scattergl"
           }
          ],
          "scattermap": [
           {
            "marker": {
             "colorbar": {
              "outlinewidth": 0,
              "ticks": ""
             }
            },
            "type": "scattermap"
           }
          ],
          "scattermapbox": [
           {
            "marker": {
             "colorbar": {
              "outlinewidth": 0,
              "ticks": ""
             }
            },
            "type": "scattermapbox"
           }
          ],
          "scatterpolar": [
           {
            "marker": {
             "colorbar": {
              "outlinewidth": 0,
              "ticks": ""
             }
            },
            "type": "scatterpolar"
           }
          ],
          "scatterpolargl": [
           {
            "marker": {
             "colorbar": {
              "outlinewidth": 0,
              "ticks": ""
             }
            },
            "type": "scatterpolargl"
           }
          ],
          "scatterternary": [
           {
            "marker": {
             "colorbar": {
              "outlinewidth": 0,
              "ticks": ""
             }
            },
            "type": "scatterternary"
           }
          ],
          "surface": [
           {
            "colorbar": {
             "outlinewidth": 0,
             "ticks": ""
            },
            "colorscale": [
             [
              0,
              "#0d0887"
             ],
             [
              0.1111111111111111,
              "#46039f"
             ],
             [
              0.2222222222222222,
              "#7201a8"
             ],
             [
              0.3333333333333333,
              "#9c179e"
             ],
             [
              0.4444444444444444,
              "#bd3786"
             ],
             [
              0.5555555555555556,
              "#d8576b"
             ],
             [
              0.6666666666666666,
              "#ed7953"
             ],
             [
              0.7777777777777778,
              "#fb9f3a"
             ],
             [
              0.8888888888888888,
              "#fdca26"
             ],
             [
              1,
              "#f0f921"
             ]
            ],
            "type": "surface"
           }
          ],
          "table": [
           {
            "cells": {
             "fill": {
              "color": "#EBF0F8"
             },
             "line": {
              "color": "white"
             }
            },
            "header": {
             "fill": {
              "color": "#C8D4E3"
             },
             "line": {
              "color": "white"
             }
            },
            "type": "table"
           }
          ]
         },
         "layout": {
          "annotationdefaults": {
           "arrowcolor": "#2a3f5f",
           "arrowhead": 0,
           "arrowwidth": 1
          },
          "autotypenumbers": "strict",
          "coloraxis": {
           "colorbar": {
            "outlinewidth": 0,
            "ticks": ""
           }
          },
          "colorscale": {
           "diverging": [
            [
             0,
             "#8e0152"
            ],
            [
             0.1,
             "#c51b7d"
            ],
            [
             0.2,
             "#de77ae"
            ],
            [
             0.3,
             "#f1b6da"
            ],
            [
             0.4,
             "#fde0ef"
            ],
            [
             0.5,
             "#f7f7f7"
            ],
            [
             0.6,
             "#e6f5d0"
            ],
            [
             0.7,
             "#b8e186"
            ],
            [
             0.8,
             "#7fbc41"
            ],
            [
             0.9,
             "#4d9221"
            ],
            [
             1,
             "#276419"
            ]
           ],
           "sequential": [
            [
             0,
             "#0d0887"
            ],
            [
             0.1111111111111111,
             "#46039f"
            ],
            [
             0.2222222222222222,
             "#7201a8"
            ],
            [
             0.3333333333333333,
             "#9c179e"
            ],
            [
             0.4444444444444444,
             "#bd3786"
            ],
            [
             0.5555555555555556,
             "#d8576b"
            ],
            [
             0.6666666666666666,
             "#ed7953"
            ],
            [
             0.7777777777777778,
             "#fb9f3a"
            ],
            [
             0.8888888888888888,
             "#fdca26"
            ],
            [
             1,
             "#f0f921"
            ]
           ],
           "sequentialminus": [
            [
             0,
             "#0d0887"
            ],
            [
             0.1111111111111111,
             "#46039f"
            ],
            [
             0.2222222222222222,
             "#7201a8"
            ],
            [
             0.3333333333333333,
             "#9c179e"
            ],
            [
             0.4444444444444444,
             "#bd3786"
            ],
            [
             0.5555555555555556,
             "#d8576b"
            ],
            [
             0.6666666666666666,
             "#ed7953"
            ],
            [
             0.7777777777777778,
             "#fb9f3a"
            ],
            [
             0.8888888888888888,
             "#fdca26"
            ],
            [
             1,
             "#f0f921"
            ]
           ]
          },
          "colorway": [
           "#636efa",
           "#EF553B",
           "#00cc96",
           "#ab63fa",
           "#FFA15A",
           "#19d3f3",
           "#FF6692",
           "#B6E880",
           "#FF97FF",
           "#FECB52"
          ],
          "font": {
           "color": "#2a3f5f"
          },
          "geo": {
           "bgcolor": "white",
           "lakecolor": "white",
           "landcolor": "#E5ECF6",
           "showlakes": true,
           "showland": true,
           "subunitcolor": "white"
          },
          "hoverlabel": {
           "align": "left"
          },
          "hovermode": "closest",
          "mapbox": {
           "style": "light"
          },
          "paper_bgcolor": "white",
          "plot_bgcolor": "#E5ECF6",
          "polar": {
           "angularaxis": {
            "gridcolor": "white",
            "linecolor": "white",
            "ticks": ""
           },
           "bgcolor": "#E5ECF6",
           "radialaxis": {
            "gridcolor": "white",
            "linecolor": "white",
            "ticks": ""
           }
          },
          "scene": {
           "xaxis": {
            "backgroundcolor": "#E5ECF6",
            "gridcolor": "white",
            "gridwidth": 2,
            "linecolor": "white",
            "showbackground": true,
            "ticks": "",
            "zerolinecolor": "white"
           },
           "yaxis": {
            "backgroundcolor": "#E5ECF6",
            "gridcolor": "white",
            "gridwidth": 2,
            "linecolor": "white",
            "showbackground": true,
            "ticks": "",
            "zerolinecolor": "white"
           },
           "zaxis": {
            "backgroundcolor": "#E5ECF6",
            "gridcolor": "white",
            "gridwidth": 2,
            "linecolor": "white",
            "showbackground": true,
            "ticks": "",
            "zerolinecolor": "white"
           }
          },
          "shapedefaults": {
           "line": {
            "color": "#2a3f5f"
           }
          },
          "ternary": {
           "aaxis": {
            "gridcolor": "white",
            "linecolor": "white",
            "ticks": ""
           },
           "baxis": {
            "gridcolor": "white",
            "linecolor": "white",
            "ticks": ""
           },
           "bgcolor": "#E5ECF6",
           "caxis": {
            "gridcolor": "white",
            "linecolor": "white",
            "ticks": ""
           }
          },
          "title": {
           "x": 0.05
          },
          "xaxis": {
           "automargin": true,
           "gridcolor": "white",
           "linecolor": "white",
           "ticks": "",
           "title": {
            "standoff": 15
           },
           "zerolinecolor": "white",
           "zerolinewidth": 2
          },
          "yaxis": {
           "automargin": true,
           "gridcolor": "white",
           "linecolor": "white",
           "ticks": "",
           "title": {
            "standoff": 15
           },
           "zerolinecolor": "white",
           "zerolinewidth": 2
          }
         }
        },
        "title": {
         "text": "t-SNE Visualization of Gene Clusters (KMeans labels)"
        },
        "xaxis": {
         "anchor": "y",
         "domain": [
          0,
          1
         ],
         "title": {
          "text": "tSNE1"
         }
        },
        "yaxis": {
         "anchor": "x",
         "domain": [
          0,
          1
         ],
         "title": {
          "text": "tSNE2"
         }
        }
       }
      },
      "text/html": [
       "<div>                        <script type=\"text/javascript\">window.PlotlyConfig = {MathJaxConfig: 'local'};</script>\n",
       "        <script charset=\"utf-8\" src=\"https://cdn.plot.ly/plotly-3.0.1.min.js\"></script>                <div id=\"97b5327a-e315-433e-8f84-db5fed81eda0\" class=\"plotly-graph-div\" style=\"height:100%; width:100%;\"></div>            <script type=\"text/javascript\">                window.PLOTLYENV=window.PLOTLYENV || {};                                if (document.getElementById(\"97b5327a-e315-433e-8f84-db5fed81eda0\")) {                    Plotly.newPlot(                        \"97b5327a-e315-433e-8f84-db5fed81eda0\",                        [{\"customdata\":[[\"crb-1-Neuron_Genes_Screen\",3],[\"sid-1-Neuron_Genes_Screen\",3],[\"cdkl-1-ASD_Screen\",3],[\"gex-3-ASD_Screen\",3],[null,2],[\"F11E6.8-ASD_Screen\",2],[\"M03D4.4-ASD_Screen\",2],[\"N2-ASD_Screen\",2],[\"R151.1-ASD_Screen\",2],[\"ZK858.6-ASD_Screen\",2],[\"anc-1-ASD_Screen\",2],[\"aps-2-ASD_Screen\",2],[\"bar-1-ASD_Screen\",2],[\"bcl-11-ASD_Screen\",2],[\"bra-1-ASD_Screen\",2],[\"cbp-1-ASD_Screen\",2],[\"cca-1-ASD_Screen\",2],[\"cdh-1-ASD_Screen\",2],[\"cdh-4-ASD_Screen\",2],[\"chd-1-ASD_Screen\",2],[\"chd-7-ASD_Screen\",2],[\"cls-3-ASD_Screen\",2],[\"cnt-2-ASD_Screen\",2],[\"cor-1-ASD_Screen\",2],[\"daf-18-ASD_Screen\",2],[\"daf-6-ASD_Screen\",2],[\"dhc-1-ASD_Screen\",2],[\"dhcr-7-ASD_Screen\",2],[\"dhp-1-ASD_Screen\",2],[\"dip-2-ASD_Screen\",2],[\"dkf-1-ASD_Screen\",2],[\"dys-1-ASD_Screen\",2],[\"epi-1-ASD_Screen\",2],[\"exc-7-ASD_Screen\",2],[\"fkh-7-ASD_Screen\",2],[\"gab-1-ASD_Screen\",2],[\"gap-2-ASD_Screen\",2],[\"glr-1-ASD_Screen\",2],[\"glr-2-ASD_Screen\",5],[\"gpa-16-ASD_Screen\",2],[\"gyf-1-ASD_Screen\",2],[\"hcp-1-ASD_Screen\",2],[\"hda-4-ASD_Screen\",2],[\"hgap-1-ASD_Screen\",2],[\"hmp-2-ASD_Screen\",2],[\"ifbp-1-ASD_Screen\",2],[\"igcm-1-ASD_Screen\",2],[\"ins-7-ASD_Screen\",2],[\"irk-3-ASD_Screen\",2],[\"irx-1-ASD_Screen\",2],[\"jac-1-ASD_Screen\",2],[\"jmjd-1.1-ASD_Screen\",2],[\"jmjd-3.3-ASD_Screen\",2],[\"kqt-1-ASD_Screen\",2],[\"let-19-ASD_Screen\",2],[\"let-526-ASD_Screen\",2],[\"lron-8-ASD_Screen\",2],[\"magu-3-ASD_Screen\",2],[\"math-33-ASD_Screen\",2],[\"mbk-1-ASD_Screen\",2],[\"met-1-ASD_Screen\",2],[\"mrck-1-ASD_Screen\",2],[\"mtm-5-ASD_Screen\",2],[\"nab-1-ASD_Screen\",2],[\"nhx-5-ASD_Screen\",2],[\"nlg-1-ASD_Screen\",2],[\"nmr-2-ASD_Screen\",2],[\"npax-2-ASD_Screen\",2],[\"nrx-1-ASD_Screen\",2],[\"pax-2-ASD_Screen\",2],[\"pcaf-1-ASD_Screen\",2],[\"pop-1-ASD_Screen\",2],[\"pph-5-ASD_Screen\",2],[\"ptr-10-ASD_Screen\",2],[\"ptr-6-ASD_Screen\",2],[\"rbr-2-ASD_Screen\",2],[\"rme-6-ASD_Screen\",2],[\"row-1-ASD_Screen\",2],[\"set-11-ASD_Screen\",2],[\"set-16-ASD_Screen\",2],[\"set-24-ASD_Screen\",2],[\"set-4-ASD_Screen\",2],[\"set-9-ASD_Screen\",2],[\"shn-1-ASD_Screen\",2],[\"sin-3-ASD_Screen\",2],[\"slo-1-ASD_Screen\",2],[\"smg-4-ASD_Screen\",2],[\"snf-11-ASD_Screen\",2],[\"spas-1-ASD_Screen\",2],[\"tbx-38-ASD_Screen\",2],[\"ubr-4-ASD_Screen\",2],[\"unc-10-ASD_Screen\",2],[\"unc-16-ASD_Screen\",5],[\"unc-18-ASD_Screen\",3],[\"unc-2-ASD_Screen\",2],[\"unc-36-ASD_Screen\",2],[\"unc-4-ASD_Screen\",2],[\"unc-75-ASD_Screen\",2],[\"vab-10-ASD_Screen\",2],[\"ztf-11-ASD_Screen\",2],[\"ztf-6-ASD_Screen\",2],[\"N2-Glia_Genes_Screen\",2],[\"acd-1xdelm-2-Glia_Genes_Screen\",2],[\"acd-1xdelm-2xdelm-1-Glia_Genes_Screen\",2],[\"alr-1-Glia_Genes_Screen\",2],[\"ced-1-Glia_Genes_Screen\",2],[\"ced-12-Glia_Genes_Screen\",2],[\"cnd-1-Glia_Genes_Screen\",2],[\"dyf-11-Glia_Genes_Screen\",2],[\"gcy-18-Glia_Genes_Screen\",2],[\"gcy-23-Glia_Genes_Screen\",2],[\"gcy-8-Glia_Genes_Screen\",2],[\"lgc-34-Glia_Genes_Screen\",2],[\"mls-2-Glia_Genes_Screen\",3],[\"ngn-1-Glia_Genes_Screen\",2],[\"pde-1-Glia_Genes_Screen\",2],[\"psr-1-Glia_Genes_Screen\",2],[\"scrm-1-Glia_Genes_Screen\",2],[\"tax-2-Glia_Genes_Screen\",0],[\"F07A11.4-Neuron_Genes_Screen\",2],[\"ttx-1-Glia_Genes_Screen\",2],[\"vab-3-Glia_Genes_Screen\",0],[\"C03A3.3-Neuron_Genes_Screen\",0],[\"C03B1.5-Neuron_Genes_Screen\",3],[\"C04B4.2-Neuron_Genes_Screen\",0],[\"C04E6.5-Neuron_Genes_Screen\",4],[\"C27B7.7-Neuron_Genes_Screen\",0],[\"C44H4.6-Neuron_Genes_Screen\",0],[\"C49C3.21-Neuron_Genes_Screen\",0],[\"D1081.4-Neuron_Genes_Screen\",0],[\"F09A5.2-Neuron_Genes_Screen\",0],[\"F09C12.2-Neuron_Genes_Screen\",0],[\"F11E6.8-Neuron_Genes_Screen\",0],[\"F16B12.5-Neuron_Genes_Screen\",4],[\"F31E3.2-Neuron_Genes_Screen\",0],[\"F38B6.6-Neuron_Genes_Screen\",4],[\"F39E9.6-Neuron_Genes_Screen\",4],[\"F43B10.1-Neuron_Genes_Screen\",0],[\"F47G4.4-Neuron_Genes_Screen\",4],[\"F52B5.2-Neuron_Genes_Screen\",0],[\"F55D12.5-Neuron_Genes_Screen\",4],[\"F59E12.3-Neuron_Genes_Screen\",0],[\"M195.2-Neuron_Genes_Screen\",0],[\"N2-Neuron_Genes_Screen\",4],[\"R05G6.10-Neuron_Genes_Screen\",0],[\"T01C3.3-Neuron_Genes_Screen\",4],[\"T02C1.1-Neuron_Genes_Screen\",0],[\"T15B12.1-Neuron_Genes_Screen\",4],[\"W04B5.5-Neuron_Genes_Screen\",4],[\"Y106G6H.14-Neuron_Genes_Screen\",4],[\"Y45F10B.8-Neuron_Genes_Screen\",0],[\"Y47G6A.14-Neuron_Genes_Screen\",0],[\"Y4C6A.1-Neuron_Genes_Screen\",0],[\"Y52B11A.4-Neuron_Genes_Screen\",4],[\"Y64G10A.7-Neuron_Genes_Screen\",0],[\"ZC477.2-Neuron_Genes_Screen\",0],[\"ZK1248.15-Neuron_Genes_Screen\",0],[\"ZK909.3-Neuron_Genes_Screen\",0],[\"aak-2-Neuron_Genes_Screen\",0],[\"abl-1-Neuron_Genes_Screen\",0],[\"acy-1-Neuron_Genes_Screen\",4],[\"adm-2-Neuron_Genes_Screen\",4],[\"adr-1-Neuron_Genes_Screen\",4],[\"aex-1-Neuron_Genes_Screen\",0],[\"aex-3-Neuron_Genes_Screen\",4],[\"aex-5-Neuron_Genes_Screen\",4],[\"aex-6-Neuron_Genes_Screen\",4],[\"age-1-Neuron_Genes_Screen\",0],[\"ahr-1-Neuron_Genes_Screen\",4],[\"aka-1-Neuron_Genes_Screen\",0],[\"akt-1-Neuron_Genes_Screen\",0],[\"akt-2-Neuron_Genes_Screen\",0],[\"ape-1-Neuron_Genes_Screen\",0],[\"arg-1-Neuron_Genes_Screen\",0],[\"arl-5-Neuron_Genes_Screen\",4],[\"atg-16.2-Neuron_Genes_Screen\",4],[\"atl-1-Neuron_Genes_Screen\",4],[\"atm-1-Neuron_Genes_Screen\",0],[\"atn-1-Neuron_Genes_Screen\",4],[\"atrn-1-Neuron_Genes_Screen\",4],[\"bbs-8-Neuron_Genes_Screen\",4],[\"cam-1-Neuron_Genes_Screen\",0],[\"cav-1-Neuron_Genes_Screen\",0],[\"cav-2-Neuron_Genes_Screen\",4],[\"cbp-1-Neuron_Genes_Screen\",0],[\"cdc-7-Neuron_Genes_Screen\",0],[\"cdh-1-Neuron_Genes_Screen\",4],[\"cdh-10-Neuron_Genes_Screen\",0],[\"cdh-3-Neuron_Genes_Screen\",0],[\"cdh-4-Neuron_Genes_Screen\",0],[\"cdh-5-Neuron_Genes_Screen\",0],[\"cdk-14-Neuron_Genes_Screen\",0],[\"cdkl-1-Neuron_Genes_Screen\",0],[\"ced-10-Neuron_Genes_Screen\",0],[\"ced-6-Neuron_Genes_Screen\",4],[\"cerk-1-Neuron_Genes_Screen\",4],[\"cex-1-Neuron_Genes_Screen\",4],[\"cfz-2-Neuron_Genes_Screen\",4],[\"che-14-Neuron_Genes_Screen\",4],[\"che-3-Neuron_Genes_Screen\",0],[\"chpf-2-Neuron_Genes_Screen\",0],[\"citk-1-Neuron_Genes_Screen\",4],[\"citk-2-Neuron_Genes_Screen\",0],[\"ckk-1-Neuron_Genes_Screen\",4],[\"ckr-1-Neuron_Genes_Screen\",0],[\"cla-1-Neuron_Genes_Screen\",0],[\"clec-4-Neuron_Genes_Screen\",4],[\"clec-43-Neuron_Genes_Screen\",0],[\"clec-78-Neuron_Genes_Screen\",0],[\"clh-4-Neuron_Genes_Screen\",4],[\"cls-3-Neuron_Genes_Screen\",0],[\"cmk-1-Neuron_Genes_Screen\",0],[\"cng-1-Neuron_Genes_Screen\",3],[\"cnt-2-Neuron_Genes_Screen\",0],[\"cnx-1-Neuron_Genes_Screen\",4],[\"copd-1-Neuron_Genes_Screen\",3],[\"cor-1-Neuron_Genes_Screen\",4],[\"cpd-2-Neuron_Genes_Screen\",0],[\"cpn-3-Neuron_Genes_Screen\",0],[\"cpna-3-Neuron_Genes_Screen\",4],[\"cul-5-Neuron_Genes_Screen\",4],[\"cul-6-Neuron_Genes_Screen\",4],[\"cwn-2-Neuron_Genes_Screen\",3],[\"daf-10-Neuron_Genes_Screen\",3],[\"daf-11-Neuron_Genes_Screen\",0],[\"daf-18-Neuron_Genes_Screen\",0],[\"dapk-1-Neuron_Genes_Screen\",0],[\"dat-1-Neuron_Genes_Screen\",4],[\"dbl-1-Neuron_Genes_Screen\",4],[\"dbn-1-Neuron_Genes_Screen\",4],[\"dep-1-Neuron_Genes_Screen\",0],[\"dgk-1-Neuron_Genes_Screen\",0],[\"dgk-2-Neuron_Genes_Screen\",0],[\"dgk-3-Neuron_Genes_Screen\",0],[\"dgk-4-Neuron_Genes_Screen\",0],[\"dgk-5-Neuron_Genes_Screen\",0],[\"dig-1-Neuron_Genes_Screen\",0],[\"dlk-1-Neuron_Genes_Screen\",0],[\"dnj-7-Neuron_Genes_Screen\",0],[\"dop-1-Neuron_Genes_Screen\",0],[\"dop-2-Neuron_Genes_Screen\",0],[\"dop-2xdop-1xdop-3-Neuron_Genes_Screen\",0],[\"dop-3-Neuron_Genes_Screen\",4],[\"dsh-1-Neuron_Genes_Screen\",4],[\"dsl-1-Neuron_Genes_Screen\",0],[\"dyc-1-Neuron_Genes_Screen\",3],[\"dyf-2-Neuron_Genes_Screen\",4],[\"dyf-5-Neuron_Genes_Screen\",0],[\"dyn-1-Neuron_Genes_Screen\",0],[\"dys-1-Neuron_Genes_Screen\",0],[\"eak-6-Neuron_Genes_Screen\",0],[\"eat-16-Neuron_Genes_Screen\",4],[\"eat-5-Neuron_Genes_Screen\",0],[\"ebp-2-Neuron_Genes_Screen\",0],[\"ect-2-Neuron_Genes_Screen\",4],[\"efa-6-Neuron_Genes_Screen\",0],[\"efk-1-Neuron_Genes_Screen\",0],[\"egl-10-Neuron_Genes_Screen\",0],[\"egl-15-Neuron_Genes_Screen\",0],[\"egl-19-Neuron_Genes_Screen\",0],[\"egl-20-Neuron_Genes_Screen\",0],[\"egl-21-Neuron_Genes_Screen\",0],[\"egl-30-Neuron_Genes_Screen\",0],[\"egl-8-Neuron_Genes_Screen\",0],[\"ehs-1-Neuron_Genes_Screen\",0],[\"elks-1-Neuron_Genes_Screen\",0],[\"elp-1-Neuron_Genes_Screen\",0],[\"emb-30-Neuron_Genes_Screen\",4],[\"exc-5-Neuron_Genes_Screen\",0],[\"fer-1-Neuron_Genes_Screen\",0],[\"flp-12-Neuron_Genes_Screen\",0],[\"flp-17-Neuron_Genes_Screen\",0],[\"flp-19-Neuron_Genes_Screen\",0],[\"flp-6-Neuron_Genes_Screen\",0],[\"flp-9-Neuron_Genes_Screen\",4],[\"frm-7-Neuron_Genes_Screen\",0],[\"frm-8-Neuron_Genes_Screen\",0],[\"frpr-10-Neuron_Genes_Screen\",0],[\"frpr-18-Neuron_Genes_Screen\",0],[\"fsn-1-Neuron_Genes_Screen\",0],[\"gap-2-Neuron_Genes_Screen\",4],[\"gck-2-Neuron_Genes_Screen\",0],[\"gipc-1-Neuron_Genes_Screen\",0],[\"gipc-2-Neuron_Genes_Screen\",0],[\"glc-3-Neuron_Genes_Screen\",3],[\"glr-2-Neuron_Genes_Screen\",0],[\"goa-1-Neuron_Genes_Screen\",0],[\"gpa-1-Neuron_Genes_Screen\",0],[\"gpa-11-Neuron_Genes_Screen\",0],[\"gpa-12-Neuron_Genes_Screen\",0],[\"gpa-13-Neuron_Genes_Screen\",0],[\"gpa-15-Neuron_Genes_Screen\",0],[\"gpa-3-Neuron_Genes_Screen\",0],[\"gpa-4-Neuron_Genes_Screen\",0],[\"gpa-5-Neuron_Genes_Screen\",0],[\"gpa-6-Neuron_Genes_Screen\",0],[\"gpa-7-Neuron_Genes_Screen\",0],[\"gpa-8-Neuron_Genes_Screen\",0],[\"gpa-9-Neuron_Genes_Screen\",0],[\"gpap-1-Neuron_Genes_Screen\",0],[\"gpc-1-Neuron_Genes_Screen\",3],[\"gpr-2-Neuron_Genes_Screen\",4],[\"grk-1-Neuron_Genes_Screen\",4],[\"grk-2-Neuron_Genes_Screen\",0],[\"gsa-1-Neuron_Genes_Screen\",4],[\"hecw-1-Neuron_Genes_Screen\",0],[\"herc-1-Neuron_Genes_Screen\",4],[\"hid-1-Neuron_Genes_Screen\",4],[\"hpk-1-Neuron_Genes_Screen\",0],[\"hum-5-Neuron_Genes_Screen\",0],[\"hum-6-Neuron_Genes_Screen\",0],[\"hum-8-Neuron_Genes_Screen\",4],[\"ift-139-Neuron_Genes_Screen\",4],[\"ifta-1-Neuron_Genes_Screen\",0],[\"igcm-3-Neuron_Genes_Screen\",0],[\"ikb-1-Neuron_Genes_Screen\",4],[\"ina-1-Neuron_Genes_Screen\",0],[\"inft-1-Neuron_Genes_Screen\",4],[\"ins-11-Neuron_Genes_Screen\",4],[\"ins-18-Neuron_Genes_Screen\",0],[\"ins-22-Neuron_Genes_Screen\",0],[\"ins-31-Neuron_Genes_Screen\",0],[\"ins-35-Neuron_Genes_Screen\",0],[\"ins-4-Neuron_Genes_Screen\",0],[\"inx-10-Neuron_Genes_Screen\",0],[\"inx-11-Neuron_Genes_Screen\",0],[\"inx-14-Neuron_Genes_Screen\",4],[\"inx-19-Neuron_Genes_Screen\",0],[\"inx-21-Neuron_Genes_Screen\",0],[\"inx-22-Neuron_Genes_Screen\",4],[\"inx-4-Neuron_Genes_Screen\",0],[\"inx-5-Neuron_Genes_Screen\",0],[\"inx-6-Neuron_Genes_Screen\",0],[\"inx-8-Neuron_Genes_Screen\",0],[\"inx-9-Neuron_Genes_Screen\",4],[\"ipp-5-Neuron_Genes_Screen\",4],[\"itsn-1-Neuron_Genes_Screen\",0],[\"kal-1-Neuron_Genes_Screen\",4],[\"kcnl-1-Neuron_Genes_Screen\",0],[\"kgb-1-Neuron_Genes_Screen\",0],[\"kgb-2-Neuron_Genes_Screen\",0],[\"kin-2-Neuron_Genes_Screen\",4],[\"klc-1-Neuron_Genes_Screen\",0],[\"klp-11-Neuron_Genes_Screen\",0],[\"klp-15-Neuron_Genes_Screen\",4],[\"klp-16-Neuron_Genes_Screen\",0],[\"ksr-1-Neuron_Genes_Screen\",0],[\"let-60-Neuron_Genes_Screen\",0],[\"let-756-Neuron_Genes_Screen\",4],[\"let-92-Neuron_Genes_Screen\",0],[\"lin-2-Neuron_Genes_Screen\",4],[\"lin-23-Neuron_Genes_Screen\",0],[\"lin-3-Neuron_Genes_Screen\",4],[\"lin-44-Neuron_Genes_Screen\",4],[\"lip-1-Neuron_Genes_Screen\",0],[\"lrch-1-Neuron_Genes_Screen\",3],[\"lron-15-Neuron_Genes_Screen\",4],[\"lron-3-Neuron_Genes_Screen\",4],[\"lron-6-Neuron_Genes_Screen\",0],[\"madd-4-Neuron_Genes_Screen\",0],[\"magi-1-Neuron_Genes_Screen\",4],[\"mbk-1-Neuron_Genes_Screen\",0],[\"mek-1-Neuron_Genes_Screen\",0],[\"mekk-3-Neuron_Genes_Screen\",4],[\"mics-1-Neuron_Genes_Screen\",0],[\"mkk-4-Neuron_Genes_Screen\",4],[\"mlk-1-Neuron_Genes_Screen\",0],[\"mod-5-Neuron_Genes_Screen\",0],[\"mpz-4-Neuron_Genes_Screen\",4],[\"mrp-1-Neuron_Genes_Screen\",0],[\"mrp-2-Neuron_Genes_Screen\",0],[\"mrp-3-Neuron_Genes_Screen\",4],[\"mrp-4-Neuron_Genes_Screen\",0],[\"mrp-6-Neuron_Genes_Screen\",0],[\"mtm-5-Neuron_Genes_Screen\",4],[\"mtm-6-Neuron_Genes_Screen\",4],[\"nck-1-Neuron_Genes_Screen\",0],[\"ncs-1-Neuron_Genes_Screen\",3],[\"nep-1-Neuron_Genes_Screen\",4],[\"neto-1-Neuron_Genes_Screen\",0],[\"nex-1-Neuron_Genes_Screen\",0],[\"nex-3-Neuron_Genes_Screen\",0],[\"nex-4-Neuron_Genes_Screen\",4],[\"nhl-1-Neuron_Genes_Screen\",4],[\"nhl-3-Neuron_Genes_Screen\",0],[\"nhr-99-Neuron_Genes_Screen\",0],[\"nimk-1-Neuron_Genes_Screen\",3],[\"nipi-3-Neuron_Genes_Screen\",4],[\"nlg-1-Neuron_Genes_Screen\",4],[\"nlp-1-Neuron_Genes_Screen\",0],[\"nlp-15-Neuron_Genes_Screen\",0],[\"nlp-18-Neuron_Genes_Screen\",4],[\"nlp-20-Neuron_Genes_Screen\",4],[\"nlp-3-Neuron_Genes_Screen\",4],[\"nlp-5-Neuron_Genes_Screen\",0],[\"nmur-1-Neuron_Genes_Screen\",3],[\"nmur-2-Neuron_Genes_Screen\",0],[\"npr-14-Neuron_Genes_Screen\",4],[\"npr-16-Neuron_Genes_Screen\",0],[\"npr-18-Neuron_Genes_Screen\",0],[\"npr-19-Neuron_Genes_Screen\",4],[\"npr-25-Neuron_Genes_Screen\",0],[\"npr-32-Neuron_Genes_Screen\",0],[\"npr-8-Neuron_Genes_Screen\",4],[\"npr-9-Neuron_Genes_Screen\",0],[\"nra-1-Neuron_Genes_Screen\",0],[\"nsy-1-Neuron_Genes_Screen\",0],[\"ntr-1-Neuron_Genes_Screen\",0],[\"oct-1-Neuron_Genes_Screen\",0],[\"octr-1-Neuron_Genes_Screen\",0],[\"odr-1-Neuron_Genes_Screen\",4],[\"ogt-1-Neuron_Genes_Screen\",4],[\"old-1-Neuron_Genes_Screen\",4],[\"old-2-Neuron_Genes_Screen\",4],[\"osm-6-Neuron_Genes_Screen\",4],[\"osm-9-Neuron_Genes_Screen\",4],[\"oxi-1-Neuron_Genes_Screen\",0],[\"pak-2-Neuron_Genes_Screen\",4],[\"par-1-Neuron_Genes_Screen\",0],[\"pde-4-Neuron_Genes_Screen\",0],[\"pdr-1-Neuron_Genes_Screen\",4],[\"pept-2-Neuron_Genes_Screen\",0],[\"pes-1-Neuron_Genes_Screen\",0],[\"pes-7-Neuron_Genes_Screen\",0],[\"pes-9-Neuron_Genes_Screen\",0],[\"pfn-3-Neuron_Genes_Screen\",4],[\"piki-1-Neuron_Genes_Screen\",0],[\"pkc-1-Neuron_Genes_Screen\",0],[\"pkg-2-Neuron_Genes_Screen\",4],[\"pkhm-2-Neuron_Genes_Screen\",4],[\"plc-2-Neuron_Genes_Screen\",0],[\"plc-4-Neuron_Genes_Screen\",0],[\"pld-1-Neuron_Genes_Screen\",0],[\"plk-3-Neuron_Genes_Screen\",3],[\"pll-1-Neuron_Genes_Screen\",4],[\"plpp-1.1-Neuron_Genes_Screen\",4],[\"plx-1-Neuron_Genes_Screen\",0],[\"pmk-3-Neuron_Genes_Screen\",0],[\"ppl-3-Neuron_Genes_Screen\",0],[\"prk-2-Neuron_Genes_Screen\",0],[\"prmn-1-Neuron_Genes_Screen\",0],[\"ptp-3-Neuron_Genes_Screen\",0],[\"qui-1-Neuron_Genes_Screen\",0],[\"rab-10-Neuron_Genes_Screen\",0],[\"rab-3-Neuron_Genes_Screen\",0],[\"rab-5-Neuron_Genes_Screen\",0],[\"rabr-1-Neuron_Genes_Screen\",4],[\"rabr-3-Neuron_Genes_Screen\",4],[\"rbf-1-Neuron_Genes_Screen\",4],[\"rbx-2-Neuron_Genes_Screen\",4],[\"rga-5-Neuron_Genes_Screen\",4],[\"rgl-1-Neuron_Genes_Screen\",0],[\"rgs-1-Neuron_Genes_Screen\",0],[\"rgs-10-Neuron_Genes_Screen\",0],[\"rgs-2-Neuron_Genes_Screen\",0],[\"rgs-4-Neuron_Genes_Screen\",0],[\"rgs-5-Neuron_Genes_Screen\",0],[\"rgs-6-Neuron_Genes_Screen\",0],[\"ric-19-Neuron_Genes_Screen\",0],[\"ric-4-Neuron_Genes_Screen\",4],[\"ric-8-Neuron_Genes_Screen\",4],[\"rig-3-Neuron_Genes_Screen\",0],[\"rin-1-Neuron_Genes_Screen\",0],[\"riok-3-Neuron_Genes_Screen\",4],[\"rme-6-Neuron_Genes_Screen\",4],[\"rnf-1-Neuron_Genes_Screen\",0],[\"rnf-5-Neuron_Genes_Screen\",4],[\"rpm-1-Neuron_Genes_Screen\",4],[\"rpy-1-Neuron_Genes_Screen\",0],[\"rsd-3-Neuron_Genes_Screen\",4],[\"rsef-1-Neuron_Genes_Screen\",0],[\"sac-2-Neuron_Genes_Screen\",4],[\"scd-2-Neuron_Genes_Screen\",0],[\"scrm-3-Neuron_Genes_Screen\",0],[\"sek-1-Neuron_Genes_Screen\",0],[\"sek-6-Neuron_Genes_Screen\",0],[\"sel-5-Neuron_Genes_Screen\",0],[\"ser-1-Neuron_Genes_Screen\",0],[\"ser-2-Neuron_Genes_Screen\",0],[\"shn-1-Neuron_Genes_Screen\",0],[\"skr-1-Neuron_Genes_Screen\",4],[\"skr-5-Neuron_Genes_Screen\",4],[\"sli-1-Neuron_Genes_Screen\",0],[\"slt-1-Neuron_Genes_Screen\",4],[\"sma-1-Neuron_Genes_Screen\",4],[\"sma-6-Neuron_Genes_Screen\",0],[\"smg-1-Neuron_Genes_Screen\",0],[\"sms-5-Neuron_Genes_Screen\",3],[\"snb-1-Neuron_Genes_Screen\",0],[\"snb-1xunc-17-Neuron_Genes_Screen\",0],[\"snb-5-Neuron_Genes_Screen\",4],[\"snf-10-Neuron_Genes_Screen\",0],[\"snf-11-Neuron_Genes_Screen\",0],[\"snf-9-Neuron_Genes_Screen\",0],[\"snt-5-Neuron_Genes_Screen\",4],[\"snt-6-Neuron_Genes_Screen\",4],[\"soc-1-Neuron_Genes_Screen\",4],[\"soc-2-Neuron_Genes_Screen\",0],[\"spe-8-Neuron_Genes_Screen\",0],[\"sph-1-Neuron_Genes_Screen\",0],[\"sphk-1-Neuron_Genes_Screen\",4],[\"ssr-2-Neuron_Genes_Screen\",4],[\"stn-1-Neuron_Genes_Screen\",4],[\"stn-2-Neuron_Genes_Screen\",0],[\"strd-1-Neuron_Genes_Screen\",0],[\"swan-2-Neuron_Genes_Screen\",3],[\"syd-1-Neuron_Genes_Screen\",0],[\"syd-2-Neuron_Genes_Screen\",4],[\"syg-2-Neuron_Genes_Screen\",0],[\"sym-1-Neuron_Genes_Screen\",0],[\"sym-4-Neuron_Genes_Screen\",4],[\"tag-180-Neuron_Genes_Screen\",0],[\"tag-325-Neuron_Genes_Screen\",0],[\"tag-344-Neuron_Genes_Screen\",0],[\"tap-1-Neuron_Genes_Screen\",4],[\"tax-2-Neuron_Genes_Screen\",0],[\"test-1-Neuron_Genes_Screen\",4],[\"tig-2-Neuron_Genes_Screen\",0],[\"tir-1-Neuron_Genes_Screen\",0],[\"tkr-2-Neuron_Genes_Screen\",4],[\"tli-1-Neuron_Genes_Screen\",4],[\"tns-1-Neuron_Genes_Screen\",0],[\"trf-1-Neuron_Genes_Screen\",0],[\"trhr-1-Neuron_Genes_Screen\",0],[\"ttx-7-Neuron_Genes_Screen\",4],[\"tub-1-Neuron_Genes_Screen\",0],[\"tyra-3-Neuron_Genes_Screen\",0],[\"ubc-1-Neuron_Genes_Screen\",4],[\"ubc-16-Neuron_Genes_Screen\",0],[\"ubc-24-Neuron_Genes_Screen\",4],[\"ubc-25-Neuron_Genes_Screen\",0],[\"ubr-5-Neuron_Genes_Screen\",0],[\"ucr-2.3-Neuron_Genes_Screen\",0],[\"unc-129-Neuron_Genes_Screen\",4],[\"unc-13-Neuron_Genes_Screen\",0],[\"unc-130-Neuron_Genes_Screen\",4],[\"unc-22-Neuron_Genes_Screen\",4],[\"unc-29-Neuron_Genes_Screen\",3],[\"unc-36-Neuron_Genes_Screen\",4],[\"unc-40-Neuron_Genes_Screen\",4],[\"unc-41-Neuron_Genes_Screen\",4],[\"unc-5-Neuron_Genes_Screen\",4],[\"unc-89-Neuron_Genes_Screen\",0],[\"unknown-Neuron_Genes_Screen\",4],[\"vab-1-Neuron_Genes_Screen\",4],[\"vap-1-Neuron_Genes_Screen\",4],[\"ver-1-Neuron_Genes_Screen\",0],[\"ver-4-Neuron_Genes_Screen\",3],[\"vit-4-Neuron_Genes_Screen\",0],[\"vps-20-Neuron_Genes_Screen\",0],[\"wdfy-2-Neuron_Genes_Screen\",0],[\"wdr-5.2-Neuron_Genes_Screen\",0],[\"wrk-1-Neuron_Genes_Screen\",0],[\"wsp-1-Neuron_Genes_Screen\",4],[\"wwp-1-Neuron_Genes_Screen\",0],[\"xol-1-Neuron_Genes_Screen\",0],[\"zig-12-Neuron_Genes_Screen\",4],[\"zig-3-Neuron_Genes_Screen\",0],[\"zig-7-Neuron_Genes_Screen\",2],[\"AMshABLATE-Glia_Genes_Screen\",2],[\"ced-10-Glia_Genes_Screen\",5],[\"ced-5-Glia_Genes_Screen\",2],[\"delm-1-Glia_Genes_Screen\",2],[\"delm-2-Glia_Genes_Screen\",2],[\"dyf-7-Glia_Genes_Screen\",2],[\"ifa-4-Glia_Genes_Screen\",2],[\"lgc-55-Glia_Genes_Screen\",2],[\"lit-1-Glia_Genes_Screen\",2],[\"mgl-2-Glia_Genes_Screen\",2],[\"mgl-2xmgl-1-Glia_Genes_Screen\",2],[\"mir-235-Glia_Genes_Screen\",2],[\"ptp-3-Glia_Genes_Screen\",2],[\"syg-1-Glia_Genes_Screen\",2],[\"tax-4-Glia_Genes_Screen\",2],[\"unc-6-Glia_Genes_Screen\",2],[\"ver-1-Glia_Genes_Screen\",2],[\"ztf-16-Glia_Genes_Screen\",2],[\"F33H2.3-ASD_WGS_Screen\",2],[\"N2-ASD_WGS_Screen\",2],[\"egl-13-ASD_WGS_Screen\",2],[\"egl-3-ASD_WGS_Screen\",2],[\"exp-2-ASD_WGS_Screen\",5],[\"flp-20-ASD_WGS_Screen\",2],[\"fubl-1-ASD_WGS_Screen\",2],[\"fubl-2-ASD_WGS_Screen\",2],[\"gtbp-1-ASD_WGS_Screen\",2],[\"hlh-2-ASD_WGS_Screen\",2],[\"hrpu-1-ASD_WGS_Screen\",2],[\"ife-2-ASD_WGS_Screen\",2],[\"ife-5-ASD_WGS_Screen\",2],[\"kin-18-ASD_WGS_Screen\",2],[\"kin-3-ASD_WGS_Screen\",2],[\"kin-32-ASD_WGS_Screen\",2],[\"kvs-1-ASD_WGS_Screen\",2],[\"kvs-2-ASD_WGS_Screen\",2],[\"kvs-4-ASD_WGS_Screen\",2],[\"kvs-5-ASD_WGS_Screen\",2],[\"lgc-36-ASD_WGS_Screen\",5],[\"lgc-37-ASD_WGS_Screen\",2],[\"lin-59-ASD_WGS_Screen\",2],[\"mca-3-ASD_WGS_Screen\",2],[\"nhr-6-ASD_WGS_Screen\",2],[\"nmr-1-ASD_WGS_Screen\",2],[\"nrx-1-ASD_WGS_Screen\",2],[\"par-1-ASD_WGS_Screen\",2],[\"set-2-ASD_WGS_Screen\",2],[\"set-4-ASD_WGS_Screen\",2],[\"snt-3-ASD_WGS_Screen\",5],[\"unc-3-ASD_WGS_Screen\",2],[\"wdfy-3-ASD_WGS_Screen\",2],[\"wdr-20-ASD_WGS_Screen\",2],[\"F56C9.1-PD_GWAS_Locus71_Screen\",2],[\"N2-PD_GWAS_Locus71_Screen\",2],[\"clec-51-PD_GWAS_Locus71_Screen\",2],[\"clec-52-PD_GWAS_Locus71_Screen\",2],[\"dog-1-PD_GWAS_Locus71_Screen\",2],[\"let-19-PD_GWAS_Locus71_Screen\",2],[\"tbx-2-PD_GWAS_Locus71_Screen\",2],[\"tlk-1-PD_GWAS_Locus71_Screen\",0],[\"N2-G-Proteins_Screen\",0],[\"T01C3.3-G-Proteins_Screen\",5],[\"Y64G10A.7-G-Proteins_Screen\",0],[\"aap-1-G-Proteins_Screen\",0],[\"acy-1-G-Proteins_Screen\",0],[\"acy-4-G-Proteins_Screen\",0],[\"afmd-1-G-Proteins_Screen\",0],[\"arr-1-G-Proteins_Screen\",0],[\"avr-14-G-Proteins_Screen\",0],[\"camt-1-G-Proteins_Screen\",0],[\"daf-18-G-Proteins_Screen\",0],[\"dgk-1-G-Proteins_Screen\",0],[\"eat-16-G-Proteins_Screen\",0],[\"egl-10-G-Proteins_Screen\",0],[\"egl-3-G-Proteins_Screen\",0],[\"egl-30-G-Proteins_Screen\",0],[\"egl-5-G-Proteins_Screen\",0],[\"egl-8-G-Proteins_Screen\",0],[\"fat-3-G-Proteins_Screen\",0],[\"goa-1-G-Proteins_Screen\",0],[\"gpr-1-G-Proteins_Screen\",0],[\"gpr-2-G-Proteins_Screen\",0],[\"grk-2-G-Proteins_Screen\",0],[\"gsa-1-G-Proteins_Screen\",0],[\"kin-2-G-Proteins_Screen\",0],[\"mod-5-G-Proteins_Screen\",0],[\"pde-1-G-Proteins_Screen\",0],[\"pde-1xpde-5xpde-3xpde-2-G-Proteins_Screen\",0],[\"pde-4-G-Proteins_Screen\",0],[\"rgs-1-G-Proteins_Screen\",0],[\"rgs-7-G-Proteins_Screen\",0],[\"sek-6-G-Proteins_Screen\",0],[\"tax-6-G-Proteins_Screen\",1],[\"tir-1-G-Proteins_Screen\",0],[\"twk-18-G-Proteins_Screen\",0],[\"unc-103-G-Proteins_Screen\",0],[\"unc-119-G-Proteins_Screen\",0],[\"unc-13-G-Proteins_Screen\",0],[\"unc-2-G-Proteins_Screen\",0],[\"unknown-G-Proteins_Screen\",0],[\"zig-12-G-Proteins_Screen\",2],[\"N2-PD_GWAS_Locus22_Screen\",2],[\"R02F2.1-PD_GWAS_Locus22_Screen\",2],[\"gtbp-1-PD_GWAS_Locus22_Screen\",2],[\"pro-3-PD_GWAS_Locus22_Screen\",2],[\"scav-1-PD_GWAS_Locus22_Screen\",2],[\"scav-3-PD_GWAS_Locus22_Screen\",2],[\"uso-1-PD_GWAS_Locus22_Screen\",2],[\"C29E4.10-PD_Screen\",2],[\"F32D8.13-PD_Screen\",2],[\"F53B2.5-PD_Screen\",2],[\"F54B11.5-PD_Screen\",2],[\"N2-PD_Screen\",2],[\"T08G11.1-PD_Screen\",2],[\"T20F7.3-PD_Screen\",2],[\"W07B8.4-PD_Screen\",2],[\"Y18D10A.22-PD_Screen\",2],[\"acr-12-PD_Screen\",2],[\"acr-3-PD_Screen\",2],[\"acr-6-PD_Screen\",2],[\"acr-8-PD_Screen\",2],[\"bas-1-PD_Screen\",2],[\"cat-1-PD_Screen\",2],[\"cat-2-PD_Screen\",2],[\"cat-4-PD_Screen\",2],[\"catp-7-PD_Screen\",2],[\"chd-1-PD_Screen\",2],[\"chd-7-PD_Screen\",2],[\"clh-5-PD_Screen\",2],[\"cpr-1-PD_Screen\",2],[\"cpr-2-PD_Screen\",2],[\"cpr-3-PD_Screen\",2],[\"cpr-4-PD_Screen\",2],[\"cpr-5-PD_Screen\",2],[\"cpr-6-PD_Screen\",2],[\"cpr-8-PD_Screen\",2],[\"cpr-9-PD_Screen\",2],[\"crls-1-PD_Screen\",2],[\"csb-1-PD_Screen\",2],[\"dat-1-PD_Screen\",2],[\"djr-1.1-PD_Screen\",2],[\"djr-1.2-PD_Screen\",2],[\"dma-1-PD_Screen\",2],[\"dnj-25-PD_Screen\",2],[\"dop-1-PD_Screen\",2],[\"dop-3-PD_Screen\",5],[\"dpy-22-PD_Screen\",2],[\"dve-1-PD_Screen\",2],[\"exp-2-PD_Screen\",2],[\"gba-1-PD_Screen\",2],[\"gba-2-PD_Screen\",2],[\"gba-3-PD_Screen\",2],[\"gba-4-PD_Screen\",2],[\"gbf-1-PD_Screen\",2],[\"gck-3-PD_Screen\",2],[\"gipc-1-PD_Screen\",2],[\"gipc-2-PD_Screen\",2],[\"glo-1-PD_Screen\",2],[\"gly-10-PD_Screen\",2],[\"gly-5-PD_Screen\",2],[\"gly-7-PD_Screen\",2],[\"gyf-1-PD_Screen\",2],[\"har-1-PD_Screen\",2],[\"hipr-1-PD_Screen\",2],[\"igcm-2-PD_Screen\",2],[\"ima-2-PD_Screen\",2],[\"immt-1-PD_Screen\",2],[\"immt-2-PD_Screen\",2],[\"imp-1-PD_Screen\",2],[\"ipla-3-PD_Screen\",2],[\"klp-12-PD_Screen\",2],[\"klu-1-PD_Screen\",2],[\"kvs-1-PD_Screen\",2],[\"kvs-2-PD_Screen\",2],[\"kvs-3-PD_Screen\",2],[\"kvs-4-PD_Screen\",2],[\"kvs-5-PD_Screen\",2],[\"let-19-PD_Screen\",2],[\"lfe-2-PD_Screen\",2],[\"lrk-1-PD_Screen\",2],[\"mbk-1-PD_Screen\",2],[\"mbl-1-PD_Screen\",2],[\"mbr-1-PD_Screen\",2],[\"mex-3-PD_Screen\",5],[\"mig-15-PD_Screen\",2],[\"mig-32-PD_Screen\",2],[\"miro-1-PD_Screen\",2],[\"mop-25.1-PD_Screen\",2],[\"mop-25.2-PD_Screen\",2],[\"ncs-4-PD_Screen\",2],[\"ncs-5-PD_Screen\",2],[\"ncs-7-PD_Screen\",2],[\"pamn-1-PD_Screen\",2],[\"pdr-1-PD_Screen\",2],[\"pgrn-1-PD_Screen\",2],[\"pink-1-PD_Screen\",2],[\"ptl-1-PD_Screen\",2],[\"rme-8-PD_Screen\",2],[\"rskd-1-PD_Screen\",2],[\"sac-2-PD_Screen\",2],[\"scav-1-PD_Screen\",2],[\"scav-2-PD_Screen\",2],[\"scav-5-PD_Screen\",2],[\"sek-4-PD_Screen\",2],[\"sek-5-PD_Screen\",2],[\"set-2-PD_Screen\",2],[\"sipa-1-PD_Screen\",2],[\"smrc-1-PD_Screen\",2],[\"snb-5-PD_Screen\",2],[\"snb-7-PD_Screen\",5],[\"src-1-PD_Screen\",2],[\"ubh-1-PD_Screen\",2],[\"ubh-2-PD_Screen\",2],[\"ubh-3-PD_Screen\",2],[\"unc-10-PD_Screen\",5],[\"unc-26-PD_Screen\",5],[\"unc-43-PD_Screen\",5],[\"unc-57-PD_Screen\",2],[\"unc-59-PD_Screen\",2],[\"unc-70-PD_Screen\",2]],\"hovertemplate\":\"Gene-Screen=%{customdata[0]}\\u003cbr\\u003eCluster=%{marker.color}\\u003cextra\\u003e\\u003c\\u002fextra\\u003e\",\"legendgroup\":\"\",\"marker\":{\"color\":{\"dtype\":\"i4\",\"bdata\":\"AwAAAAMAAAADAAAAAwAAAAIAAAACAAAAAgAAAAIAAAACAAAAAgAAAAIAAAACAAAAAgAAAAIAAAACAAAAAgAAAAIAAAACAAAAAgAAAAIAAAACAAAAAgAAAAIAAAACAAAAAgAAAAIAAAACAAAAAgAAAAIAAAACAAAAAgAAAAIAAAACAAAAAgAAAAIAAAACAAAAAgAAAAIAAAAFAAAAAgAAAAIAAAACAAAAAgAAAAIAAAACAAAAAgAAAAIAAAACAAAAAgAAAAIAAAACAAAAAgAAAAIAAAACAAAAAgAAAAIAAAACAAAAAgAAAAIAAAACAAAAAgAAAAIAAAACAAAAAgAAAAIAAAACAAAAAgAAAAIAAAACAAAAAgAAAAIAAAACAAAAAgAAAAIAAAACAAAAAgAAAAIAAAACAAAAAgAAAAIAAAACAAAAAgAAAAIAAAACAAAAAgAAAAIAAAACAAAAAgAAAAIAAAACAAAAAgAAAAIAAAAFAAAAAwAAAAIAAAACAAAAAgAAAAIAAAACAAAAAgAAAAIAAAACAAAAAgAAAAIAAAACAAAAAgAAAAIAAAACAAAAAgAAAAIAAAACAAAAAgAAAAIAAAADAAAAAgAAAAIAAAACAAAAAgAAAAAAAAACAAAAAgAAAAAAAAAAAAAAAwAAAAAAAAAEAAAAAAAAAAAAAAAAAAAAAAAAAAAAAAAAAAAAAAAAAAQAAAAAAAAABAAAAAQAAAAAAAAABAAAAAAAAAAEAAAAAAAAAAAAAAAEAAAAAAAAAAQAAAAAAAAABAAAAAQAAAAEAAAAAAAAAAAAAAAAAAAABAAAAAAAAAAAAAAAAAAAAAAAAAAAAAAAAAAAAAQAAAAEAAAABAAAAAAAAAAEAAAABAAAAAQAAAAAAAAABAAAAAAAAAAAAAAAAAAAAAAAAAAAAAAABAAAAAQAAAAEAAAAAAAAAAQAAAAEAAAABAAAAAAAAAAAAAAABAAAAAAAAAAAAAAABAAAAAAAAAAAAAAAAAAAAAAAAAAAAAAAAAAAAAAAAAAEAAAABAAAAAQAAAAEAAAABAAAAAAAAAAAAAAABAAAAAAAAAAEAAAAAAAAAAAAAAAEAAAAAAAAAAAAAAAEAAAAAAAAAAAAAAADAAAAAAAAAAQAAAADAAAABAAAAAAAAAAAAAAABAAAAAQAAAAEAAAAAwAAAAMAAAAAAAAAAAAAAAAAAAAEAAAABAAAAAQAAAAAAAAAAAAAAAAAAAAAAAAAAAAAAAAAAAAAAAAAAAAAAAAAAAAAAAAAAAAAAAAAAAAEAAAABAAAAAAAAAADAAAABAAAAAAAAAAAAAAAAAAAAAAAAAAEAAAAAAAAAAAAAAAEAAAAAAAAAAAAAAAAAAAAAAAAAAAAAAAAAAAAAAAAAAAAAAAAAAAAAAAAAAAAAAAAAAAABAAAAAAAAAAAAAAAAAAAAAAAAAAAAAAAAAAAAAQAAAAAAAAAAAAAAAAAAAAAAAAAAAAAAAQAAAAAAAAAAAAAAAAAAAADAAAAAAAAAAAAAAAAAAAAAAAAAAAAAAAAAAAAAAAAAAAAAAAAAAAAAAAAAAAAAAAAAAAAAAAAAAAAAAAAAAAAAwAAAAQAAAAEAAAAAAAAAAQAAAAAAAAABAAAAAQAAAAAAAAAAAAAAAAAAAAEAAAABAAAAAAAAAAAAAAABAAAAAAAAAAEAAAABAAAAAAAAAAAAAAAAAAAAAAAAAAAAAAAAAAAAAAAAAAEAAAAAAAAAAAAAAAEAAAAAAAAAAAAAAAAAAAAAAAAAAQAAAAEAAAAAAAAAAQAAAAAAAAAAAAAAAAAAAAEAAAAAAAAAAAAAAAEAAAAAAAAAAAAAAAAAAAABAAAAAAAAAAEAAAAAAAAAAQAAAAEAAAAAAAAAAMAAAAEAAAABAAAAAAAAAAAAAAABAAAAAAAAAAAAAAABAAAAAAAAAAEAAAAAAAAAAAAAAAEAAAAAAAAAAAAAAAEAAAAAAAAAAAAAAAEAAAABAAAAAAAAAADAAAABAAAAAAAAAAAAAAAAAAAAAQAAAAEAAAAAAAAAAAAAAADAAAABAAAAAQAAAAAAAAAAAAAAAQAAAAEAAAABAAAAAAAAAADAAAAAAAAAAQAAAAAAAAAAAAAAAQAAAAAAAAAAAAAAAQAAAAAAAAAAAAAAAAAAAAAAAAAAAAAAAAAAAAEAAAABAAAAAQAAAAEAAAABAAAAAQAAAAAAAAABAAAAAAAAAAAAAAABAAAAAAAAAAAAAAAAAAAAAAAAAAEAAAAAAAAAAAAAAAEAAAABAAAAAAAAAAAAAAAAAAAAAMAAAAEAAAABAAAAAAAAAAAAAAAAAAAAAAAAAAAAAAAAAAAAAAAAAAAAAAAAAAAAAAAAAAEAAAABAAAAAQAAAAEAAAABAAAAAAAAAAAAAAAAAAAAAAAAAAAAAAAAAAAAAAAAAAAAAAABAAAAAQAAAAAAAAAAAAAAAQAAAAEAAAAAAAAAAQAAAAEAAAAAAAAAAQAAAAAAAAABAAAAAAAAAAAAAAAAAAAAAAAAAAAAAAAAAAAAAAAAAAAAAAABAAAAAQAAAAAAAAABAAAAAQAAAAAAAAAAAAAAAMAAAAAAAAAAAAAAAQAAAAAAAAAAAAAAAAAAAAEAAAABAAAAAQAAAAAAAAAAAAAAAAAAAAEAAAABAAAAAQAAAAAAAAAAAAAAAMAAAAAAAAABAAAAAAAAAAAAAAABAAAAAAAAAAAAAAAAAAAAAQAAAAAAAAABAAAAAAAAAAAAAAABAAAAAQAAAAAAAAAAAAAAAAAAAAEAAAAAAAAAAAAAAAEAAAAAAAAAAQAAAAAAAAAAAAAAAAAAAAEAAAAAAAAAAQAAAAEAAAAAwAAAAQAAAAEAAAABAAAAAQAAAAAAAAABAAAAAQAAAAEAAAAAAAAAAMAAAAAAAAAAAAAAAAAAAAAAAAAAAAAAAQAAAAAAAAAAAAAAAQAAAAAAAAAAgAAAAIAAAAFAAAAAgAAAAIAAAACAAAAAgAAAAIAAAACAAAAAgAAAAIAAAACAAAAAgAAAAIAAAACAAAAAgAAAAIAAAACAAAAAgAAAAIAAAACAAAAAgAAAAIAAAAFAAAAAgAAAAIAAAACAAAAAgAAAAIAAAACAAAAAgAAAAIAAAACAAAAAgAAAAIAAAACAAAAAgAAAAIAAAACAAAABQAAAAIAAAACAAAAAgAAAAIAAAACAAAAAgAAAAIAAAACAAAAAgAAAAUAAAACAAAAAgAAAAIAAAACAAAAAgAAAAIAAAACAAAAAgAAAAIAAAACAAAAAAAAAAAAAAAFAAAAAAAAAAAAAAAAAAAAAAAAAAAAAAAAAAAAAAAAAAAAAAAAAAAAAAAAAAAAAAAAAAAAAAAAAAAAAAAAAAAAAAAAAAAAAAAAAAAAAAAAAAAAAAAAAAAAAAAAAAAAAAAAAAAAAAAAAAAAAAAAAAAAAAAAAAAAAAAAAAAAAQAAAAAAAAAAAAAAAAAAAAAAAAAAAAAAAAAAAAAAAAACAAAAAgAAAAIAAAACAAAAAgAAAAIAAAACAAAAAgAAAAIAAAACAAAAAgAAAAIAAAACAAAAAgAAAAIAAAACAAAAAgAAAAIAAAACAAAAAgAAAAIAAAACAAAAAgAAAAIAAAACAAAAAgAAAAIAAAACAAAAAgAAAAIAAAACAAAAAgAAAAIAAAACAAAAAgAAAAIAAAACAAAAAgAAAAIAAAACAAAAAgAAAAIAAAACAAAAAgAAAAIAAAAFAAAAAgAAAAIAAAACAAAAAgAAAAIAAAACAAAAAgAAAAIAAAACAAAAAgAAAAIAAAACAAAAAgAAAAIAAAACAAAAAgAAAAIAAAACAAAAAgAAAAIAAAACAAAAAgAAAAIAAAACAAAAAgAAAAIAAAACAAAAAgAAAAIAAAACAAAAAgAAAAIAAAACAAAAAgAAAAIAAAACAAAAAgAAAAUAAAACAAAAAgAAAAIAAAACAAAAAgAAAAIAAAACAAAAAgAAAAIAAAACAAAAAgAAAAIAAAACAAAAAgAAAAIAAAACAAAAAgAAAAIAAAACAAAAAgAAAAIAAAACAAAAAgAAAAIAAAACAAAABQAAAAIAAAACAAAAAgAAAAIAAAAFAAAABQAAAAUAAAACAAAAAgAAAAIAAAA=\"},\"coloraxis\":\"coloraxis\",\"symbol\":\"circle\",\"line\":{\"width\":0},\"opacity\":0.8,\"size\":6},\"mode\":\"markers\",\"name\":\"\",\"orientation\":\"v\",\"showlegend\":false,\"x\":{\"dtype\":\"f4\",\"bdata\":\"zg3JweWgxcH1VsvB7YTDwZYwQ8HsnYnAESXfwAmNqMAmkhLBQvkbwe0+ssA2qhzB1PeHwMR3v8CX\\u002fyHBQPNUwV\\u002f57sBrMEfBA6lhwYN2DcHYwq7A\\u002fu9ZwKMtHMG62FfBSmn5wHyA28BAztHAnb2mwAcHO8EQMZzB4CtowWVDxcGVdz\\u002fBIJJhwUH5OsH48jrBeSgmwXMDXcG6aaDBt8+NwBK\\u002fT8F0nRnBn4BJwVcqAcGeME7B6hFCwfV\\u002fTMHtKSTBQ2C1wKPcSMG3f+\\u002fAUoqawOLyQ8BjCm3AZZQMwe3YqsBKG0HBZUwgwd1jNMFu7lnBjh0cwatYaMEoQE7BMihxwTlfw8E5MrLAJOfBwA4YNMGNk1DBcl8dwdrKq8A5p8jAHEtVwceaNMG5r7fAUC33v8dGW8DzgA3BaD9bwYekA8GvADHB9KCwwNUUP8GAnjbAhD9IwWgtJcEjfJzA7zPDwUc5IMBZUB\\u002fAYZGbweadN8BZhKvB2tzFwaRhwcGpF8HBccQowfG3r8CB9KjALM8ywbUr4L\\u002fZk8rA2tzUwLYrq8ASvOrAfqpywN5Rv8Hvj1LAjaJUwKmAfsCtYHLASxOywH6jxMCDysLBXjdcwNBAP8A6ti3AJtjzwNaztEHVP6XAu42ywLQ3wUEI3NZBLgHIwRprmkF459PAOuKUQVPfA0K4U5BBefCpQRU7nUFm+IhBF+4UQnTOLMEL9MtB5wrrwDJDBcHYmpVBGDInwe2vm0Fmb0PBDSKrQcua10Extd7A8fuNQSEuJMGdMedAruVhwbG0TMGY0xLBXFumQbCHs0EIGs9BsF4AwTMrwkFT+JBBUw6YQXLiwkGdpLVBaCHiQVVyTMGRchnB933zwOkpBEKpKuPADrRUwWaQLcFNepxB4rgXwY3Cm0Gd+6hBJFCWQS5ar0EnSRVCftgbwSfRE8EEyvTA8aGtQdzS2UBCwGzBRwfqwEAimUEDw8VBvbcOwf0znUExaA9CjGcLweGsskHS0L5BlUjAQexvDULgo51BpUOQQVsswUHHGRjB4vgmwTHxBMFh8ovBzm9FwUu6kUGTpqdBN2sEwUxz5UHr5A\\u002fB+UO8Qfl240HoYCvBLRy2QZW5sUFjlxrBwgKoQYmankFiwsbBK+ybQe39DMGrKs3BzP0zwZRVEEJnOqNBQUcawedW9MBChbbAwdjIwYI70sHZ1aBB0YGUQb\\u002fPyEEaPVLBASs0wVpH5MDOW8pAvH\\u002fHQZa7eEE7mqBBwlfNQVq\\u002fu0GxB8RBhQmGQY4EuEES+cFBqWKaQYsIt0HXMGLBvHI+wVzSmUHHsc3BsTYewe1Dg0Gp4JtBbs7FQY2lrkFx+GvBRj8QQmOks0E+uubAbAoGQjwaykG0Hw1C6QCmQdu9pkFuvbZBTaz5QfxV1EHlKc5BYgETQq88DkI\\u002f0QVCHbPswHYV0kESRr9BvZGJQeVQzEG3qulAJcKTQalwvMDqKbFBEaTlQSs8tkF5ZItBT1OsQQNsCMG4zr9BAiC2QQE+DkIvOczBbsRyQQs40EEQz85BAomzQQlXrUHORNRBaT+NQVigu0GuS8FBIu3hQRd4vkFHNrFBa6HQQSj\\u002fDEKSZrlBpHTIwXYxFcEuG5bB7+evQVfoL8FN4r1B8C2MwRmmc8ES6MJBpY\\u002fJQRjczkH2Co\\u002fBC\\u002fCPwdaMxkFgHtNBvYaJwdcwjUFUijnBbPo0wcv4ykECsK5BWwfkQUtG1EHLFLRBQvMSQs6q7EHSo5vB3ljTQUKCE0KkMzHBnBXOQTTP30HXeOxBMBLTQeYyYcGufyXBX0jTQWY7MsFUofJBVLYPQpU9nUEkB+TAe6gQQvW700HZnAbBxYcZQpCM8UGnc75BD1iewRVytkEFwhbBh6MPQr6FMsEIDobBjy8HQhes0MFqgozBFxVgwX\\u002f4CULEddVBA3yCwSEQrEFn\\u002fMhBnef6wJBtBkKQG2nB3q4VQgRR1EFdBXbBEWvuQV2I8kA4lzLBRiS8QV5Pz0HjOZDBtdQgwQlCDkIA9czBCDuHwUknu0EuvPZBZbfFQbJ6isBOhUvB2g+xQa7V2EF1oMvB2NWAwbnnm8FwA8BBDSkLQisGTcEEH5PBu0Q6wSWQfEHsw8DBJxmvQdF0NMGqYXhB79nrQQp74cDHMABC5enNQf5bbMHn\\u002fvFBuf+4QVu+BkLXyt9BnDzpQDkT4UGtEMfAZZBYwXhGVsHGm4DB78Rvwah1AsF8kuJBqhh2wRxb9EG+FAVCYnhgwTqqDkK7EwFCO+LEQZwy+UDEhEjBxrb\\u002fQfQ510Hj1znBEbzowHha7UEX\\u002fvVBNff0QWqJxMHA98TACBRAwcTB80FkJd9BRSG4QXwn6UEFPPhBnY4CQhhKDULgeopBBBETQkvb9kHwTEvBgTSgwbUjPsFMGzbBUpTIwLM68UEd2PdBeQbLQdCEz0FT5NZBytrLQf8D+kHYp9FBSnuCwT\\u002fhgMGCVQFCHuoBQmDKncFo4zXBSxMHQnmafcFdJoDBUjzfQSa4JMEuywJC+7ZfwUtO6kFvZ9JB63bdQc6IEEK7aPBBNK7zQYxdAkKmB+5BZVOQwQdbYsFvxvtBxHQ5wZ4lJsG\\u002fXvlBkubkQWR01cH+a8BBMPPmQb9ZS8Ga6glCacjoQStJ+EF5HHTBb921wLdfg8EWkpBBvdcAQYjf4UEhwbXAg42KwQitPcEoc9ZBdtzZQQUp0MHIsLFBBkJBwb1KAULkCvRBMUNXwaqz9kGjgfNBiAHSQXsBeMH38vpA4DxTwSPIzUGHcANC+aOywNzsWsFfku1Byef3QWSxEULlPYLBOifsQbR5+kCnKK3ANqTbQbZXTcFzjv5BiekAQocSAEJBtorBK6jjQavgmMA0FHvBI8LCwdD3i8HBa4LBsS6iwITNmMBYQgpCNEORweuKSsGqw13BPRLmQX7szMGdNQBCZXX2QaNt1EHMjt1BhXIDQmX0csEhDwNC3dEDQl\\u002fijsDMveFBtYvCwHqMwMFN9pvB1JMLwfb21cDMtHDA8g3fwPcJS8ApPIzB5VzAwY+dg8E3UTPAfn2PwPn9CMGFBwTBmFSUwTZkm8CXbOfAwdX4P71xEz5LJBJANfTAwYpSIUAP1hBAR+V4P5yFGkAihHdATljBwYY4SMENOMs\\u002f8vjPP3\\u002fsmr5M746\\u002ffJ6oP7PU87\\u002f95HI+6pvVv5J7FMC0hVs\\u002fm8afwYYXKEBFUoDBT+IJPwBuIMGNh5vAz3nhP4GCWUAVlmpAU6zUPnEEocH345E\\u002fItIrQOw6c8CX5VC\\u002flDhdwAX5WcCTLoLA0iKdwYdJGz8JtSE\\u002fceDOQalRx0Hl557BeIq4QauqukHkg8NBNd8ZQLHSvkF9Gc5BEzkEQjhZxkG3YMpAqwuwQTQ02kHxKb9BqXn5QbFiz0HF5NZBcuqtQY10skH978hBOzzLQdHc30E\\u002ft69Bh86dQaf+00E4tsZByy+TQSpgsEGY7tJBm2zQQSvFzEB0y8BAT6W4Pxbk4kEKKcJBdb61Qe7rz0HDHs5BDvPGQWizyUC9Tqa\\u002fw0AfwHKzUcERLI7BeWSDwHnXTcAFsxjA2xVHweA1P8G5IGbBCqlGwemIVsHsB3bBIXcFwUtpGsGcX2TBoP9qwXHPbsE73T7BUmhGwa8xjMH0Ao7BwkaNwactkMHjq7VABARiwXGUMcGinTPBvViAwQ3hb8HlDE3BZLJSwZDljsER8rVAoG3PwFNR5MCwiwHBhJuBwWfFc8HWi1XB+TLUwMSXacE+34jBHZU7wTefT8FxopvB+l\\u002fBwfKmPcFc2PvAnGgRwWx8RsH4WvbAb4oiwdziNMFvh1fBYEt4wXDn0cB3Sf\\u002fA2lNowf9racFVXdfAUoAgwSJoIMF+DzDBy6j0wFIEOsFuZBLB0M+YwR4xFsGQlRjBmM1jwYAszcDXgerAn46GwRLS\\u002f8CgQb9AVsB4wa+3NcG41R\\u002fBc89PwVvb9cBm7yTBnShTwdE7ncG67UbBt4ZMwe75XsEOdQnBqHUKwVN3XsG+\\u002fgRA4RbCwVEIhsHOdknBlcQTweLKRcEqcD\\u002fBkTUKwVFZhcFXWibB1OaIwQEcIsHmcE\\u002fBTPYOwdX6J8GOvIrB2hIfwZZrRsGf\\u002fzrBYoGrwQebP8FP2wDBA8D1wAJjm8FliKvBiP2ewfjxm8EdZ5DBRvS+waO\\u002fQsE=\"},\"xaxis\":\"x\",\"y\":{\"dtype\":\"f4\",\"bdata\":\"Is7mwL6f9MAd683AobTNwO2yBkKqz+BBv4vqQRdT30HII+hB3sfRQXoy9kHzZOJBWK\\u002fkQS\\u002fG9UElZM5BbcDWQWfxAEKAMwZCu7HWQXt+80GCfvpB+\\u002fzaQXpP50Gx+uJByLroQUut+UEY5f5BYEXmQSGA8EEPCodB+svqQd4lSUGJ7+NBy+\\u002faQRKZ9EHTHttB1y\\u002f1Qd4h80Hgqkw\\u002fYafvQWb3AkI479RBDJ\\u002fgQI466UESfgNC007jQbdS4kHSEQRCUPHgQVbd70ESz+9Bo0TpQcl36kHUTf1BNQDiQSkb70EMhNxBMZUCQsalAkLIYvlB6inVQUXo1UGE5dlBOVjgQZcyOkFxuQJCF5TlQfZL50GlxNhBVJoAQjHM6kF+SvpBAOL4QSf1+0FLtHBB7Lr0QVPo60FS3OxBpbb+QdZL8EH69gRCkEYFQti49kGa7+xB8\\u002fTRQaiw+EFoM\\u002f9BivQ6Qf7T9UHjZuVBPlChQXBt5EEPrAnAhMHOwGhuVUFHJl1BBKjGQRCw\\u002f0FkUQJC5YX9QdborkHsprtBI2m9QYo5p0EbOppBx2+rQf9QZ0EFB0JBxdGsQTr0sEE1c7FBm1O0QdncpUHetdnAopOnQf1Mt0FM0rhB2VCnQbYIHMA0O61B0BuyQTlupT+4jNZAPAcEwTG5TcDd2QbC0KjmwFzHg0CpufbAcPR7wHkZOMDV2bzAKtOTwOo6vsERs7HA4NcAwr0OCcLZohTB4oe\\u002fwQQpfcC+3rvBTPgWwOF160CrNc7B41KuwA7kA8LuugPBy1AHwjuHCMKqa\\u002f3BXcTIwGfVhz\\u002fYW7zAwpgDwiSdIEB7oXTBNfegwLw5dz+NJD5AkdYdwFPIuMFSXsvB7HcLwq4rSkD5WwnChLa4wS7xsME+8VbBSR\\u002fNwegQS8HZRsLAVwjEwDURIcCb7pTAQYUFwsWM+8GEgfXBxVDSwGqKDcG+yAzCMw3OwVHn1cBZCbU\\u002fT\\u002frnwZEE7MAIjrHAJU0PwoCt0r8nxWxA9eUDP5mDl8B8ffvA654swdFpekByu+\\u002fBxG3Hwd2mCcI01evBg5zBwcqnLsGFBTrBcGIAwtfvSMCRygPC8FQ0wCnTTcCmnLXBwPtHv6b7jsAG+PbBem60v8I7TcE8GgvB60qwwNS1ysFXcfrAXu\\u002fGwU3mxcDN6rrAX4kEwnMA7MHEu93BXgAUwfkrA8GUqEnBjhJ1wer9HkAnog\\u002fCeg\\u002fKwVSD\\u002fcEgjxhA06eZwK5d+8DoKa6+damLwPKxSsCG5fi\\u002fRedJwe\\u002fZY8DrPKzAYKl1wYmgOD9yyQvCiuvGwZdwa8G9yQvBvpgNwgECQcGnwb\\u002fAIP7pvjbDrkBraQfCEPjVwIOb5sC2LQfCkGOsP5Ff7b+Z6ZbAtawfwZSYBsGw3YLAembdQHMRtcDQXltAswUtwXHsAsHnRpw\\u002fxy8Dwp6r3z+DnVHA\\u002f9BhwWVOxD0vxQnBnK2NwAaN4MFEAyVBb59BwJy66sAfyWfByOhLvzyS1MHnmiC\\u002fpiTUwAhFA8FDguzAvH8uwU5VTsB\\u002fv5LAWAQJwbMpKUC5y+0\\u002fPtInwX00AsGc17DAsfQnvvwyF8FqawHB4AXev+gD3cAwqwrB6Hv1wO5v2cGCytzBntEmQQBIDcKc0gjB5offwYI4CMLm\\u002fe3Ae+Slvnl9Gj+PfuHBRAvuwQbp8cCwrczAbdDRwccpG8FC5OHBA14GwqcEAcEh9z3BVXnWvrxhakAvp4\\u002fAz8YDwYZ6lD9aaeXBWRn\\u002fwCPbD8HOZ+nBaxANwYvs58ACHy8\\u002fXeF0vg4j+cEJRv3BWqNVP2jm78GRdnLBBH0SwYXnzUBEptzBtNAWwbllZUB5GvXBKTb+wJF8gsAs9hbBPsnWwVzbJcGJd9fBAWQjwTPb5cFeobzBBIs2Px3M4cBxg7vBUGjCwRgdJsFtJpc\\u002f3uvTwbtfUMHq2EzBeGTnwViaUD\\u002fSLcrBjGAdwR8IJsEdecjB+gPXwGtJC8Ezqd7BifM\\u002fwfEXFcF1bPDBiM3bwYeLI8EeagzBo13jwWRGUsHwh0rBOfNQwS\\u002fOAcLz4NHBaFEXwRQSMUBb3gPBCSXjwX\\u002fJ8MF7+UbBrbkKwWVI08EH+uTBOrgOwse4OsGq0OHA3fZUwV6R2MHCIQLB0hPDwOE978Fpr0nBiLw0wdhUzsGNtEfBJY9ywQX\\u002fLMHzBArBVagGwTURLkDfTw3CWmjMwQAS8sFHeMXBIA\\u002fEwZod38EZ+g3Bc8\\u002fXweYya0B3KEbBpmfVwYrgUcEAK0rBzXFswfZIBcEPZ+fBKZ\\u002f4wC0qLcHtyePBJ6rjwRnDEcEL1qa\\u002fQahfwWVWB8GEmPnBRQPtwUxkcr+R59A\\u002f9lRCwVLtA8ELHARAVuLxwFkFT8FetWbB7ln9wKNqVUBfQeLBKWrZwRqP6cEkde\\u002fBzNQOwtoWkL\\u002fEGPrAEBk5wazMccFFsXzB5+MpwYQqUL8cxW\\u002fB1AfNwV5sC8IFYGvBWRVHwcco58GPi9fBjsc4wYVbB8LYLQXCJRhmwWde5cF\\u002fB7y9gyrMwS1VDcHTLzbBkmsTwXmEO8E\\u002fQp4\\u002fI5NlwUPdbcEhRALBNu7cwZxK28GMZ0W\\u002flzYJwvwfDsKZx3jA0xYzwYTx8cC3SHPB6GQCwbohE8LHiEzBd9IdwQRdET6gI\\u002f3B0of4wdM248HUHIHBnbcLwYRBHcGbm\\u002f7BCOvMwTCC88FlyGzBwzZOwXVe9cBC72fBelrbwTUiMsG8uhvBhyj2wa\\u002fPij8x8Cy+EOBkwfDi8sErrwXBG\\u002fjbwcf0YcGrMDzBbbn+weiz58Hxpm3BpviawPVHRcHGGQnCWWcawXUIB8ErVNjBUnxRwarJ+cFUpEfAf6\\u002fjv\\u002fzfIsB20cHB8yw\\u002fwTEN28GHvAHCbxn8wBdHAcI4xw3CsMDSwY6mB8KbuT\\u002fBKw\\u002fOwWaR3sGnYeHBN4A5wdIr4cDgGvq\\u002fGEsawTIRUsHWbjnBGYQXwY6Q\\u002fcGO1VzBlzNbwd+0AsIb4H7BLV+iQd3NXUHAQCg\\u002fvH\\u002fCQUNAukFZqkxBVsS8QXr\\u002ftEHHYb9BmK5FQf8dwkF7JLJB61CnQcWHs0HInrBBUSyYQTv0s0HDWbBB0diQQaBrm0GLHJtB8FFIQfJPgUEWK5o\\u002fPeObQYiFjUF3hpJBVPZEQcZM7ECqBo1BOlCQQaIBf0E4fWxBLIGRQVv3W0HeD5BBe3dgQfSSU0Fvq5RBHEk7P7lRkEHqpM5BEU6CQbo7u0GWuJNBhUCFQSRQiUENtpBBu9iUQYj5dj88wotBdO2NQaE8hEHRjKZBnnd1QbqMcEGo5odBMbGQQdi4s0EXArRBgckIQfEw0UDmSI8+XgQMQQtYBUFwtxZBxu6vP4Ma7UBt3BFBixx5QBKk9kClpxhAvVjJQP3bJUEECRZBLUveQD\\u002fDDEElYSRBTN3uQMkx9UDm2epARYkaQQPGL0HsCiZBvpTPQGasJUHXdQ5BHT2bv4h5B0GKyxBB8+kbQamyFEAl8wNBNsuzPzRKM0Es\\u002fQpBcFTRQFj+\\u002fkDpRd1AMV4LQXtMGUCuWaFBLbOSQbjpt0GjtnNBvGdJQbQilEHzT5BBTqqdQUT2TEEbCqxBsBuZQROaWEExCJFBUGJfQdFvhUFS8FxB1kFzQRlwgEHLDJhBGvNlQYtIu0FwAbRBG8KzQX9+uUFpXC5AzBKeQSGdP0FbCgZB3md5QcKZfkF5GaNBuFikQaTQsEF4+S1AhWduQfOmdEEmD0ZBJDqSQUduhUEg5iVB8vdFQYu+aUG+GoBBpNGLQX9siEG+Q08\\u002fhbE3QUpOpkFTCy9BxHg9QUIxbUFEtmVBXjxaQbzuaEFuEWlBGFdrQWUke0FA\\u002fYlBTwmSQcZEfEGGUDxB2+ZjQUTrOEFjs0xBJgSGQVJJc0FKH2tB1EiBQZPWTkFHQk1B0UV3QcxOLUFymkhBYMWQQQKRK0HGagRBFcxfQV+\\u002fZ0F4p2tBVUITQSCJckGuxmdB8KeiQaA\\u002fkD+u8atBi7mmQXPDfUEquW9Bmx1SQdBvc0FEoPY\\u002fMDE4QfFZhEGsGCZBEvNyQcfAckFhvAdBEXY5QQ3eukHrPwVBH1SFQaIJd0FONIFBHGNWQQBlH0EAU4dB5f6RQRJ2fUFxFQpBJ24JwMoMXEG2mEBB+GU9QQM4oEFfHgrAGviZP2iPgj8kgJFBKvhpQSRsF0E=\"},\"yaxis\":\"y\",\"type\":\"scatter\"}],                        {\"template\":{\"data\":{\"histogram2dcontour\":[{\"type\":\"histogram2dcontour\",\"colorbar\":{\"outlinewidth\":0,\"ticks\":\"\"},\"colorscale\":[[0.0,\"#0d0887\"],[0.1111111111111111,\"#46039f\"],[0.2222222222222222,\"#7201a8\"],[0.3333333333333333,\"#9c179e\"],[0.4444444444444444,\"#bd3786\"],[0.5555555555555556,\"#d8576b\"],[0.6666666666666666,\"#ed7953\"],[0.7777777777777778,\"#fb9f3a\"],[0.8888888888888888,\"#fdca26\"],[1.0,\"#f0f921\"]]}],\"choropleth\":[{\"type\":\"choropleth\",\"colorbar\":{\"outlinewidth\":0,\"ticks\":\"\"}}],\"histogram2d\":[{\"type\":\"histogram2d\",\"colorbar\":{\"outlinewidth\":0,\"ticks\":\"\"},\"colorscale\":[[0.0,\"#0d0887\"],[0.1111111111111111,\"#46039f\"],[0.2222222222222222,\"#7201a8\"],[0.3333333333333333,\"#9c179e\"],[0.4444444444444444,\"#bd3786\"],[0.5555555555555556,\"#d8576b\"],[0.6666666666666666,\"#ed7953\"],[0.7777777777777778,\"#fb9f3a\"],[0.8888888888888888,\"#fdca26\"],[1.0,\"#f0f921\"]]}],\"heatmap\":[{\"type\":\"heatmap\",\"colorbar\":{\"outlinewidth\":0,\"ticks\":\"\"},\"colorscale\":[[0.0,\"#0d0887\"],[0.1111111111111111,\"#46039f\"],[0.2222222222222222,\"#7201a8\"],[0.3333333333333333,\"#9c179e\"],[0.4444444444444444,\"#bd3786\"],[0.5555555555555556,\"#d8576b\"],[0.6666666666666666,\"#ed7953\"],[0.7777777777777778,\"#fb9f3a\"],[0.8888888888888888,\"#fdca26\"],[1.0,\"#f0f921\"]]}],\"contourcarpet\":[{\"type\":\"contourcarpet\",\"colorbar\":{\"outlinewidth\":0,\"ticks\":\"\"}}],\"contour\":[{\"type\":\"contour\",\"colorbar\":{\"outlinewidth\":0,\"ticks\":\"\"},\"colorscale\":[[0.0,\"#0d0887\"],[0.1111111111111111,\"#46039f\"],[0.2222222222222222,\"#7201a8\"],[0.3333333333333333,\"#9c179e\"],[0.4444444444444444,\"#bd3786\"],[0.5555555555555556,\"#d8576b\"],[0.6666666666666666,\"#ed7953\"],[0.7777777777777778,\"#fb9f3a\"],[0.8888888888888888,\"#fdca26\"],[1.0,\"#f0f921\"]]}],\"surface\":[{\"type\":\"surface\",\"colorbar\":{\"outlinewidth\":0,\"ticks\":\"\"},\"colorscale\":[[0.0,\"#0d0887\"],[0.1111111111111111,\"#46039f\"],[0.2222222222222222,\"#7201a8\"],[0.3333333333333333,\"#9c179e\"],[0.4444444444444444,\"#bd3786\"],[0.5555555555555556,\"#d8576b\"],[0.6666666666666666,\"#ed7953\"],[0.7777777777777778,\"#fb9f3a\"],[0.8888888888888888,\"#fdca26\"],[1.0,\"#f0f921\"]]}],\"mesh3d\":[{\"type\":\"mesh3d\",\"colorbar\":{\"outlinewidth\":0,\"ticks\":\"\"}}],\"scatter\":[{\"fillpattern\":{\"fillmode\":\"overlay\",\"size\":10,\"solidity\":0.2},\"type\":\"scatter\"}],\"parcoords\":[{\"type\":\"parcoords\",\"line\":{\"colorbar\":{\"outlinewidth\":0,\"ticks\":\"\"}}}],\"scatterpolargl\":[{\"type\":\"scatterpolargl\",\"marker\":{\"colorbar\":{\"outlinewidth\":0,\"ticks\":\"\"}}}],\"bar\":[{\"error_x\":{\"color\":\"#2a3f5f\"},\"error_y\":{\"color\":\"#2a3f5f\"},\"marker\":{\"line\":{\"color\":\"#E5ECF6\",\"width\":0.5},\"pattern\":{\"fillmode\":\"overlay\",\"size\":10,\"solidity\":0.2}},\"type\":\"bar\"}],\"scattergeo\":[{\"type\":\"scattergeo\",\"marker\":{\"colorbar\":{\"outlinewidth\":0,\"ticks\":\"\"}}}],\"scatterpolar\":[{\"type\":\"scatterpolar\",\"marker\":{\"colorbar\":{\"outlinewidth\":0,\"ticks\":\"\"}}}],\"histogram\":[{\"marker\":{\"pattern\":{\"fillmode\":\"overlay\",\"size\":10,\"solidity\":0.2}},\"type\":\"histogram\"}],\"scattergl\":[{\"type\":\"scattergl\",\"marker\":{\"colorbar\":{\"outlinewidth\":0,\"ticks\":\"\"}}}],\"scatter3d\":[{\"type\":\"scatter3d\",\"line\":{\"colorbar\":{\"outlinewidth\":0,\"ticks\":\"\"}},\"marker\":{\"colorbar\":{\"outlinewidth\":0,\"ticks\":\"\"}}}],\"scattermap\":[{\"type\":\"scattermap\",\"marker\":{\"colorbar\":{\"outlinewidth\":0,\"ticks\":\"\"}}}],\"scattermapbox\":[{\"type\":\"scattermapbox\",\"marker\":{\"colorbar\":{\"outlinewidth\":0,\"ticks\":\"\"}}}],\"scatterternary\":[{\"type\":\"scatterternary\",\"marker\":{\"colorbar\":{\"outlinewidth\":0,\"ticks\":\"\"}}}],\"scattercarpet\":[{\"type\":\"scattercarpet\",\"marker\":{\"colorbar\":{\"outlinewidth\":0,\"ticks\":\"\"}}}],\"carpet\":[{\"aaxis\":{\"endlinecolor\":\"#2a3f5f\",\"gridcolor\":\"white\",\"linecolor\":\"white\",\"minorgridcolor\":\"white\",\"startlinecolor\":\"#2a3f5f\"},\"baxis\":{\"endlinecolor\":\"#2a3f5f\",\"gridcolor\":\"white\",\"linecolor\":\"white\",\"minorgridcolor\":\"white\",\"startlinecolor\":\"#2a3f5f\"},\"type\":\"carpet\"}],\"table\":[{\"cells\":{\"fill\":{\"color\":\"#EBF0F8\"},\"line\":{\"color\":\"white\"}},\"header\":{\"fill\":{\"color\":\"#C8D4E3\"},\"line\":{\"color\":\"white\"}},\"type\":\"table\"}],\"barpolar\":[{\"marker\":{\"line\":{\"color\":\"#E5ECF6\",\"width\":0.5},\"pattern\":{\"fillmode\":\"overlay\",\"size\":10,\"solidity\":0.2}},\"type\":\"barpolar\"}],\"pie\":[{\"automargin\":true,\"type\":\"pie\"}]},\"layout\":{\"autotypenumbers\":\"strict\",\"colorway\":[\"#636efa\",\"#EF553B\",\"#00cc96\",\"#ab63fa\",\"#FFA15A\",\"#19d3f3\",\"#FF6692\",\"#B6E880\",\"#FF97FF\",\"#FECB52\"],\"font\":{\"color\":\"#2a3f5f\"},\"hovermode\":\"closest\",\"hoverlabel\":{\"align\":\"left\"},\"paper_bgcolor\":\"white\",\"plot_bgcolor\":\"#E5ECF6\",\"polar\":{\"bgcolor\":\"#E5ECF6\",\"angularaxis\":{\"gridcolor\":\"white\",\"linecolor\":\"white\",\"ticks\":\"\"},\"radialaxis\":{\"gridcolor\":\"white\",\"linecolor\":\"white\",\"ticks\":\"\"}},\"ternary\":{\"bgcolor\":\"#E5ECF6\",\"aaxis\":{\"gridcolor\":\"white\",\"linecolor\":\"white\",\"ticks\":\"\"},\"baxis\":{\"gridcolor\":\"white\",\"linecolor\":\"white\",\"ticks\":\"\"},\"caxis\":{\"gridcolor\":\"white\",\"linecolor\":\"white\",\"ticks\":\"\"}},\"coloraxis\":{\"colorbar\":{\"outlinewidth\":0,\"ticks\":\"\"}},\"colorscale\":{\"sequential\":[[0.0,\"#0d0887\"],[0.1111111111111111,\"#46039f\"],[0.2222222222222222,\"#7201a8\"],[0.3333333333333333,\"#9c179e\"],[0.4444444444444444,\"#bd3786\"],[0.5555555555555556,\"#d8576b\"],[0.6666666666666666,\"#ed7953\"],[0.7777777777777778,\"#fb9f3a\"],[0.8888888888888888,\"#fdca26\"],[1.0,\"#f0f921\"]],\"sequentialminus\":[[0.0,\"#0d0887\"],[0.1111111111111111,\"#46039f\"],[0.2222222222222222,\"#7201a8\"],[0.3333333333333333,\"#9c179e\"],[0.4444444444444444,\"#bd3786\"],[0.5555555555555556,\"#d8576b\"],[0.6666666666666666,\"#ed7953\"],[0.7777777777777778,\"#fb9f3a\"],[0.8888888888888888,\"#fdca26\"],[1.0,\"#f0f921\"]],\"diverging\":[[0,\"#8e0152\"],[0.1,\"#c51b7d\"],[0.2,\"#de77ae\"],[0.3,\"#f1b6da\"],[0.4,\"#fde0ef\"],[0.5,\"#f7f7f7\"],[0.6,\"#e6f5d0\"],[0.7,\"#b8e186\"],[0.8,\"#7fbc41\"],[0.9,\"#4d9221\"],[1,\"#276419\"]]},\"xaxis\":{\"gridcolor\":\"white\",\"linecolor\":\"white\",\"ticks\":\"\",\"title\":{\"standoff\":15},\"zerolinecolor\":\"white\",\"automargin\":true,\"zerolinewidth\":2},\"yaxis\":{\"gridcolor\":\"white\",\"linecolor\":\"white\",\"ticks\":\"\",\"title\":{\"standoff\":15},\"zerolinecolor\":\"white\",\"automargin\":true,\"zerolinewidth\":2},\"scene\":{\"xaxis\":{\"backgroundcolor\":\"#E5ECF6\",\"gridcolor\":\"white\",\"linecolor\":\"white\",\"showbackground\":true,\"ticks\":\"\",\"zerolinecolor\":\"white\",\"gridwidth\":2},\"yaxis\":{\"backgroundcolor\":\"#E5ECF6\",\"gridcolor\":\"white\",\"linecolor\":\"white\",\"showbackground\":true,\"ticks\":\"\",\"zerolinecolor\":\"white\",\"gridwidth\":2},\"zaxis\":{\"backgroundcolor\":\"#E5ECF6\",\"gridcolor\":\"white\",\"linecolor\":\"white\",\"showbackground\":true,\"ticks\":\"\",\"zerolinecolor\":\"white\",\"gridwidth\":2}},\"shapedefaults\":{\"line\":{\"color\":\"#2a3f5f\"}},\"annotationdefaults\":{\"arrowcolor\":\"#2a3f5f\",\"arrowhead\":0,\"arrowwidth\":1},\"geo\":{\"bgcolor\":\"white\",\"landcolor\":\"#E5ECF6\",\"subunitcolor\":\"white\",\"showland\":true,\"showlakes\":true,\"lakecolor\":\"white\"},\"title\":{\"x\":0.05},\"mapbox\":{\"style\":\"light\"}}},\"xaxis\":{\"anchor\":\"y\",\"domain\":[0.0,1.0],\"title\":{\"text\":\"tSNE1\"}},\"yaxis\":{\"anchor\":\"x\",\"domain\":[0.0,1.0],\"title\":{\"text\":\"tSNE2\"}},\"coloraxis\":{\"colorbar\":{\"title\":{\"text\":\"Cluster\"}},\"colorscale\":[[0.0,\"#440154\"],[0.1111111111111111,\"#482878\"],[0.2222222222222222,\"#3e4989\"],[0.3333333333333333,\"#31688e\"],[0.4444444444444444,\"#26828e\"],[0.5555555555555556,\"#1f9e89\"],[0.6666666666666666,\"#35b779\"],[0.7777777777777778,\"#6ece58\"],[0.8888888888888888,\"#b5de2b\"],[1.0,\"#fde725\"]]},\"legend\":{\"tracegroupgap\":0},\"title\":{\"text\":\"t-SNE Visualization of Gene Clusters (KMeans labels)\"}},                        {\"responsive\": true}                    )                };            </script>        </div>"
      ],
      "text/plain": [
       "Figure({\n",
       "    'data': [{'customdata': array([['crb-1-Neuron_Genes_Screen', 3],\n",
       "                                   ['sid-1-Neuron_Genes_Screen', 3],\n",
       "                                   ['cdkl-1-ASD_Screen', 3],\n",
       "                                   ...,\n",
       "                                   ['unc-57-PD_Screen', 2],\n",
       "                                   ['unc-59-PD_Screen', 2],\n",
       "                                   ['unc-70-PD_Screen', 2]], shape=(779, 2), dtype=object),\n",
       "              'hovertemplate': 'Gene-Screen=%{customdata[0]}<br>Cluster=%{marker.color}<extra></extra>',\n",
       "              'legendgroup': '',\n",
       "              'marker': {'color': {'bdata': ('AwAAAAMAAAADAAAAAwAAAAIAAAACAA' ... 'AABQAAAAUAAAACAAAAAgAAAAIAAAA='),\n",
       "                                   'dtype': 'i4'},\n",
       "                         'coloraxis': 'coloraxis',\n",
       "                         'line': {'width': 0},\n",
       "                         'opacity': 0.8,\n",
       "                         'size': 6,\n",
       "                         'symbol': 'circle'},\n",
       "              'mode': 'markers',\n",
       "              'name': '',\n",
       "              'orientation': 'v',\n",
       "              'showlegend': False,\n",
       "              'type': 'scatter',\n",
       "              'x': {'bdata': ('zg3JweWgxcH1VsvB7YTDwZYwQ8HsnY' ... 'vBiP2ewfjxm8EdZ5DBRvS+waO/QsE='),\n",
       "                    'dtype': 'f4'},\n",
       "              'xaxis': 'x',\n",
       "              'y': {'bdata': ('Is7mwL6f9MAd683AobTNwO2yBkKqz+' ... 'rAGviZP2iPgj8kgJFBKvhpQSRsF0E='),\n",
       "                    'dtype': 'f4'},\n",
       "              'yaxis': 'y'}],\n",
       "    'layout': {'coloraxis': {'colorbar': {'title': {'text': 'Cluster'}},\n",
       "                             'colorscale': [[0.0, '#440154'], [0.1111111111111111,\n",
       "                                            '#482878'], [0.2222222222222222,\n",
       "                                            '#3e4989'], [0.3333333333333333,\n",
       "                                            '#31688e'], [0.4444444444444444,\n",
       "                                            '#26828e'], [0.5555555555555556,\n",
       "                                            '#1f9e89'], [0.6666666666666666,\n",
       "                                            '#35b779'], [0.7777777777777778,\n",
       "                                            '#6ece58'], [0.8888888888888888,\n",
       "                                            '#b5de2b'], [1.0, '#fde725']]},\n",
       "               'legend': {'tracegroupgap': 0},\n",
       "               'template': '...',\n",
       "               'title': {'text': 't-SNE Visualization of Gene Clusters (KMeans labels)'},\n",
       "               'xaxis': {'anchor': 'y', 'domain': [0.0, 1.0], 'title': {'text': 'tSNE1'}},\n",
       "               'yaxis': {'anchor': 'x', 'domain': [0.0, 1.0], 'title': {'text': 'tSNE2'}}}\n",
       "})"
      ]
     },
     "execution_count": 97,
     "metadata": {},
     "output_type": "execute_result"
    }
   ],
   "source": [
    "tsne_df['Gene-Screen'] = df['Gene'] + \"-\" + df['Screen']\n",
    "\n",
    "fig = px.scatter(\n",
    "    tsne_df,\n",
    "    x=\"tSNE1\",\n",
    "    y=\"tSNE2\",\n",
    "    color=\"Cluster\",\n",
    "    hover_data={\"Gene-Screen\": True, \"Cluster\": True, \"tSNE1\":False, \"tSNE2\":False},\n",
    "    title=\"t-SNE Visualization of Gene Clusters (KMeans labels)\",\n",
    "    color_continuous_scale=\"Viridis\"\n",
    ")\n",
    "\n",
    "fig.update_traces(marker=dict(size=6, opacity=0.8, line=dict(width=0)))\n",
    "# fig.show()"
   ]
  },
  {
   "cell_type": "code",
   "execution_count": null,
   "id": "482a9eef",
   "metadata": {},
   "outputs": [
    {
     "ename": "ValueError",
     "evalue": "Value of 'hover_data_0' is not the name of a column in 'data_frame'. Expected one of ['tSNE1', 'tSNE2', 'Cluster', 'Gene-Screen'] but received: Gene",
     "output_type": "error",
     "traceback": [
      "\u001b[31m---------------------------------------------------------------------------\u001b[39m",
      "\u001b[31mValueError\u001b[39m                                Traceback (most recent call last)",
      "\u001b[36mCell\u001b[39m\u001b[36m \u001b[39m\u001b[32mIn[98]\u001b[39m\u001b[32m, line 1\u001b[39m\n\u001b[32m----> \u001b[39m\u001b[32m1\u001b[39m fig = \u001b[43mpx\u001b[49m\u001b[43m.\u001b[49m\u001b[43mscatter\u001b[49m\u001b[43m(\u001b[49m\n\u001b[32m      2\u001b[39m \u001b[43m    \u001b[49m\u001b[43mtsne_df\u001b[49m\u001b[43m,\u001b[49m\n\u001b[32m      3\u001b[39m \u001b[43m    \u001b[49m\u001b[43mx\u001b[49m\u001b[43m=\u001b[49m\u001b[33;43m\"\u001b[39;49m\u001b[33;43mtSNE1\u001b[39;49m\u001b[33;43m\"\u001b[39;49m\u001b[43m,\u001b[49m\n\u001b[32m      4\u001b[39m \u001b[43m    \u001b[49m\u001b[43my\u001b[49m\u001b[43m=\u001b[49m\u001b[33;43m\"\u001b[39;49m\u001b[33;43mtSNE2\u001b[39;49m\u001b[33;43m\"\u001b[39;49m\u001b[43m,\u001b[49m\n\u001b[32m      5\u001b[39m \u001b[43m    \u001b[49m\u001b[43mcolor\u001b[49m\u001b[43m=\u001b[49m\u001b[43mtsne_df\u001b[49m\u001b[43m[\u001b[49m\u001b[33;43m\"\u001b[39;49m\u001b[33;43mCluster\u001b[39;49m\u001b[33;43m\"\u001b[39;49m\u001b[43m]\u001b[49m\u001b[43m.\u001b[49m\u001b[43mastype\u001b[49m\u001b[43m(\u001b[49m\u001b[38;5;28;43mstr\u001b[39;49m\u001b[43m)\u001b[49m\u001b[43m,\u001b[49m\u001b[43m  \u001b[49m\u001b[38;5;66;43;03m# as string → discrete palette\u001b[39;49;00m\n\u001b[32m      6\u001b[39m \u001b[43m    \u001b[49m\u001b[43mhover_data\u001b[49m\u001b[43m=\u001b[49m\u001b[43m[\u001b[49m\u001b[33;43m\"\u001b[39;49m\u001b[33;43mGene\u001b[39;49m\u001b[33;43m\"\u001b[39;49m\u001b[43m,\u001b[49m\u001b[43m \u001b[49m\u001b[33;43m\"\u001b[39;49m\u001b[33;43mCluster\u001b[39;49m\u001b[33;43m\"\u001b[39;49m\u001b[43m]\u001b[49m\u001b[43m,\u001b[49m\n\u001b[32m      7\u001b[39m \u001b[43m    \u001b[49m\u001b[43mtitle\u001b[49m\u001b[43m=\u001b[49m\u001b[33;43m\"\u001b[39;49m\u001b[33;43mt-SNE Gene Clusters (Interactive)\u001b[39;49m\u001b[33;43m\"\u001b[39;49m\n\u001b[32m      8\u001b[39m \u001b[43m)\u001b[49m\n",
      "\u001b[36mFile \u001b[39m\u001b[32m~/miniforge3/envs/rankinlab/lib/python3.11/site-packages/plotly/express/_chart_types.py:69\u001b[39m, in \u001b[36mscatter\u001b[39m\u001b[34m(data_frame, x, y, color, symbol, size, hover_name, hover_data, custom_data, text, facet_row, facet_col, facet_col_wrap, facet_row_spacing, facet_col_spacing, error_x, error_x_minus, error_y, error_y_minus, animation_frame, animation_group, category_orders, labels, orientation, color_discrete_sequence, color_discrete_map, color_continuous_scale, range_color, color_continuous_midpoint, symbol_sequence, symbol_map, opacity, size_max, marginal_x, marginal_y, trendline, trendline_options, trendline_color_override, trendline_scope, log_x, log_y, range_x, range_y, render_mode, title, subtitle, template, width, height)\u001b[39m\n\u001b[32m     14\u001b[39m \u001b[38;5;28;01mdef\u001b[39;00m\u001b[38;5;250m \u001b[39m\u001b[34mscatter\u001b[39m(\n\u001b[32m     15\u001b[39m     data_frame=\u001b[38;5;28;01mNone\u001b[39;00m,\n\u001b[32m     16\u001b[39m     x=\u001b[38;5;28;01mNone\u001b[39;00m,\n\u001b[32m   (...)\u001b[39m\u001b[32m     63\u001b[39m     height=\u001b[38;5;28;01mNone\u001b[39;00m,\n\u001b[32m     64\u001b[39m ) -> go.Figure:\n\u001b[32m     65\u001b[39m \u001b[38;5;250m    \u001b[39m\u001b[33;03m\"\"\"\u001b[39;00m\n\u001b[32m     66\u001b[39m \u001b[33;03m    In a scatter plot, each row of `data_frame` is represented by a symbol\u001b[39;00m\n\u001b[32m     67\u001b[39m \u001b[33;03m    mark in 2D space.\u001b[39;00m\n\u001b[32m     68\u001b[39m \u001b[33;03m    \"\"\"\u001b[39;00m\n\u001b[32m---> \u001b[39m\u001b[32m69\u001b[39m     \u001b[38;5;28;01mreturn\u001b[39;00m \u001b[43mmake_figure\u001b[49m\u001b[43m(\u001b[49m\u001b[43margs\u001b[49m\u001b[43m=\u001b[49m\u001b[38;5;28;43mlocals\u001b[39;49m\u001b[43m(\u001b[49m\u001b[43m)\u001b[49m\u001b[43m,\u001b[49m\u001b[43m \u001b[49m\u001b[43mconstructor\u001b[49m\u001b[43m=\u001b[49m\u001b[43mgo\u001b[49m\u001b[43m.\u001b[49m\u001b[43mScatter\u001b[49m\u001b[43m)\u001b[49m\n",
      "\u001b[36mFile \u001b[39m\u001b[32m~/miniforge3/envs/rankinlab/lib/python3.11/site-packages/plotly/express/_core.py:2483\u001b[39m, in \u001b[36mmake_figure\u001b[39m\u001b[34m(args, constructor, trace_patch, layout_patch)\u001b[39m\n\u001b[32m   2480\u001b[39m layout_patch = layout_patch \u001b[38;5;129;01mor\u001b[39;00m {}\n\u001b[32m   2481\u001b[39m apply_default_cascade(args)\n\u001b[32m-> \u001b[39m\u001b[32m2483\u001b[39m args = \u001b[43mbuild_dataframe\u001b[49m\u001b[43m(\u001b[49m\u001b[43margs\u001b[49m\u001b[43m,\u001b[49m\u001b[43m \u001b[49m\u001b[43mconstructor\u001b[49m\u001b[43m)\u001b[49m\n\u001b[32m   2484\u001b[39m \u001b[38;5;28;01mif\u001b[39;00m constructor \u001b[38;5;129;01min\u001b[39;00m [go.Treemap, go.Sunburst, go.Icicle] \u001b[38;5;129;01mand\u001b[39;00m args[\u001b[33m\"\u001b[39m\u001b[33mpath\u001b[39m\u001b[33m\"\u001b[39m] \u001b[38;5;129;01mis\u001b[39;00m \u001b[38;5;129;01mnot\u001b[39;00m \u001b[38;5;28;01mNone\u001b[39;00m:\n\u001b[32m   2485\u001b[39m     args = process_dataframe_hierarchy(args)\n",
      "\u001b[36mFile \u001b[39m\u001b[32m~/miniforge3/envs/rankinlab/lib/python3.11/site-packages/plotly/express/_core.py:1729\u001b[39m, in \u001b[36mbuild_dataframe\u001b[39m\u001b[34m(args, constructor)\u001b[39m\n\u001b[32m   1726\u001b[39m     args[\u001b[33m\"\u001b[39m\u001b[33mcolor\u001b[39m\u001b[33m\"\u001b[39m] = \u001b[38;5;28;01mNone\u001b[39;00m\n\u001b[32m   1727\u001b[39m \u001b[38;5;66;03m# now that things have been prepped, we do the systematic rewriting of `args`\u001b[39;00m\n\u001b[32m-> \u001b[39m\u001b[32m1729\u001b[39m df_output, wide_id_vars = \u001b[43mprocess_args_into_dataframe\u001b[49m\u001b[43m(\u001b[49m\n\u001b[32m   1730\u001b[39m \u001b[43m    \u001b[49m\u001b[43margs\u001b[49m\u001b[43m,\u001b[49m\n\u001b[32m   1731\u001b[39m \u001b[43m    \u001b[49m\u001b[43mwide_mode\u001b[49m\u001b[43m,\u001b[49m\n\u001b[32m   1732\u001b[39m \u001b[43m    \u001b[49m\u001b[43mvar_name\u001b[49m\u001b[43m,\u001b[49m\n\u001b[32m   1733\u001b[39m \u001b[43m    \u001b[49m\u001b[43mvalue_name\u001b[49m\u001b[43m,\u001b[49m\n\u001b[32m   1734\u001b[39m \u001b[43m    \u001b[49m\u001b[43mis_pd_like\u001b[49m\u001b[43m,\u001b[49m\n\u001b[32m   1735\u001b[39m \u001b[43m    \u001b[49m\u001b[43mnative_namespace\u001b[49m\u001b[43m,\u001b[49m\n\u001b[32m   1736\u001b[39m \u001b[43m\u001b[49m\u001b[43m)\u001b[49m\n\u001b[32m   1737\u001b[39m df_output: nw.DataFrame\n\u001b[32m   1738\u001b[39m \u001b[38;5;66;03m# now that `df_output` exists and `args` contains only references, we complete\u001b[39;00m\n\u001b[32m   1739\u001b[39m \u001b[38;5;66;03m# the special-case and wide-mode handling by further rewriting args and/or mutating\u001b[39;00m\n\u001b[32m   1740\u001b[39m \u001b[38;5;66;03m# df_output\u001b[39;00m\n",
      "\u001b[36mFile \u001b[39m\u001b[32m~/miniforge3/envs/rankinlab/lib/python3.11/site-packages/plotly/express/_core.py:1330\u001b[39m, in \u001b[36mprocess_args_into_dataframe\u001b[39m\u001b[34m(args, wide_mode, var_name, value_name, is_pd_like, native_namespace)\u001b[39m\n\u001b[32m   1328\u001b[39m         \u001b[38;5;28;01mif\u001b[39;00m argument == \u001b[33m\"\u001b[39m\u001b[33mindex\u001b[39m\u001b[33m\"\u001b[39m:\n\u001b[32m   1329\u001b[39m             err_msg += \u001b[33m\"\u001b[39m\u001b[38;5;130;01m\\n\u001b[39;00m\u001b[33m To use the index, pass it in directly as `df.index`.\u001b[39m\u001b[33m\"\u001b[39m\n\u001b[32m-> \u001b[39m\u001b[32m1330\u001b[39m         \u001b[38;5;28;01mraise\u001b[39;00m \u001b[38;5;167;01mValueError\u001b[39;00m(err_msg)\n\u001b[32m   1331\u001b[39m \u001b[38;5;28;01melif\u001b[39;00m length \u001b[38;5;129;01mand\u001b[39;00m (actual_len := \u001b[38;5;28mlen\u001b[39m(df_input)) != length:\n\u001b[32m   1332\u001b[39m     \u001b[38;5;28;01mraise\u001b[39;00m \u001b[38;5;167;01mValueError\u001b[39;00m(\n\u001b[32m   1333\u001b[39m         \u001b[33m\"\u001b[39m\u001b[33mAll arguments should have the same length. \u001b[39m\u001b[33m\"\u001b[39m\n\u001b[32m   1334\u001b[39m         \u001b[33m\"\u001b[39m\u001b[33mThe length of column argument `df[\u001b[39m\u001b[38;5;132;01m%s\u001b[39;00m\u001b[33m]` is \u001b[39m\u001b[38;5;132;01m%d\u001b[39;00m\u001b[33m, whereas the \u001b[39m\u001b[33m\"\u001b[39m\n\u001b[32m   (...)\u001b[39m\u001b[32m   1341\u001b[39m         )\n\u001b[32m   1342\u001b[39m     )\n",
      "\u001b[31mValueError\u001b[39m: Value of 'hover_data_0' is not the name of a column in 'data_frame'. Expected one of ['tSNE1', 'tSNE2', 'Cluster', 'Gene-Screen'] but received: Gene"
     ]
    }
   ],
   "source": []
  },
  {
   "cell_type": "markdown",
   "id": "0b230f91",
   "metadata": {},
   "source": [
    "# ------ other methods -----"
   ]
  },
  {
   "cell_type": "markdown",
   "id": "8842b88c",
   "metadata": {},
   "source": [
    "dbscan"
   ]
  },
  {
   "cell_type": "code",
   "execution_count": null,
   "id": "993e82b7",
   "metadata": {},
   "outputs": [
    {
     "name": "stderr",
     "output_type": "stream",
     "text": [
      "/Users/gurmehak/miniforge3/envs/rankinlab/lib/python3.11/site-packages/sklearn/utils/deprecation.py:132: FutureWarning: 'force_all_finite' was renamed to 'ensure_all_finite' in 1.6 and will be removed in 1.8.\n",
      "  warnings.warn(\n",
      "/Users/gurmehak/miniforge3/envs/rankinlab/lib/python3.11/site-packages/sklearn/utils/deprecation.py:132: FutureWarning: 'force_all_finite' was renamed to 'ensure_all_finite' in 1.6 and will be removed in 1.8.\n",
      "  warnings.warn(\n"
     ]
    }
   ],
   "source": [
    "import hdbscan\n",
    "clusterer = hdbscan.HDBSCAN(min_cluster_size=10, min_samples=10, metric=\"euclidean\")\n",
    "labels = clusterer.fit_predict(pca_df)  "
   ]
  },
  {
   "cell_type": "code",
   "execution_count": null,
   "id": "e3f4455d",
   "metadata": {},
   "outputs": [
    {
     "name": "stderr",
     "output_type": "stream",
     "text": [
      "/var/folders/mp/57zdplyn4kl5d5l8mxcwwknr0000gn/T/ipykernel_96775/2082770077.py:1: SettingWithCopyWarning: \n",
      "A value is trying to be set on a copy of a slice from a DataFrame.\n",
      "Try using .loc[row_indexer,col_indexer] = value instead\n",
      "\n",
      "See the caveats in the documentation: https://pandas.pydata.org/pandas-docs/stable/user_guide/indexing.html#returning-a-view-versus-a-copy\n",
      "  df[\"cluster2\"] = labels\n"
     ]
    }
   ],
   "source": [
    "df[\"cluster2\"] = labels"
   ]
  },
  {
   "cell_type": "code",
   "execution_count": null,
   "id": "dcc6c263",
   "metadata": {},
   "outputs": [
    {
     "data": {
      "image/png": "[encoded data removed]",
      "text/plain": [
       "<Figure size 800x600 with 1 Axes>"
      ]
     },
     "metadata": {},
     "output_type": "display_data"
    }
   ],
   "source": [
    "pca_vis = PCA(n_components=2, random_state=100)\n",
    "Z = pca_vis.fit_transform(pca_df)\n",
    "\n",
    "plt.figure(figsize=(8,6))\n",
    "plt.scatter(Z[:,0], Z[:,1], c=labels, cmap=\"tab10\", s=12, alpha=0.7)\n",
    "plt.title(\"HDBSCAN Clusters (with noise as -1)\")\n",
    "plt.show()"
   ]
  },
  {
   "cell_type": "code",
   "execution_count": null,
   "id": "f7b26ade",
   "metadata": {},
   "outputs": [],
   "source": []
  },
  {
   "cell_type": "code",
   "execution_count": null,
   "id": "127b5aa2",
   "metadata": {},
   "outputs": [],
   "source": [
    "# display pca1, pca2\n",
    "# import plotly.express as px\n",
    "\n",
    "# coords = PCA(n_components=2).fit_transform(X)\n",
    "\n",
    "# pca_df = pd.DataFrame(coords, columns=[\"PC1\",\"PC2\"])\n",
    "# pca_df[\"Cluster\"] = labels\n",
    "# pca_df[\"Gene\"] = df[\"Gene\"].values\n",
    "# pca_df[\"Screen\"] = df[\"Screen\"].values\n",
    "\n",
    "# fig = px.scatter(\n",
    "#     pca_df, x=\"PC1\", y=\"PC2\", color=\"Cluster\",\n",
    "#     hover_data=[\"Gene\",\"Screen\"], opacity=0.9\n",
    "# )\n",
    "# fig.show()"
   ]
  },
  {
   "cell_type": "code",
   "execution_count": null,
   "id": "0e42b438",
   "metadata": {},
   "outputs": [],
   "source": [
    "# def discrete_scatter(x1, x2, y=None, markers=None, s=8, ax=None,\n",
    "#                      labels=None, padding=.2, alpha=1, c=None, markeredgewidth=0.6, \n",
    "#                      label_points=False, x1_annot=-0.1, x2_annot=0.2):\n",
    "#     \"\"\"Adaption of matplotlib.pyplot.scatter to plot classes or clusters.\n",
    "#     Parameters\n",
    "#     ----------\n",
    "#     x1 : nd-array\n",
    "#         input data, first axis\n",
    "#     x2 : nd-array\n",
    "#         input data, second axis\n",
    "#     y : nd-array\n",
    "#         input data, discrete labels\n",
    "#     cmap : colormap\n",
    "#         Colormap to use.\n",
    "#     markers : list of string\n",
    "#         List of markers to use, or None (which defaults to 'o').\n",
    "#     s : int or float\n",
    "#         Size of the marker\n",
    "#     padding : float\n",
    "#         Fraction of the dataset range to use for padding the axes.\n",
    "#     alpha : float\n",
    "#         Alpha value for all points.\n",
    "#     \"\"\"\n",
    "#     if ax is None:\n",
    "#         ax = plt.gca()\n",
    "\n",
    "#     if y is None:\n",
    "#         y = np.zeros(len(x1))        \n",
    "\n",
    "#     # unique_y = np.unique(y)\n",
    "#     unique_y, inds = np.unique(y, return_index=True)    \n",
    "\n",
    "#     if markers is None:\n",
    "#         markers = ['o', '^', 'v', 'D', 's', '*', 'p', 'h', 'H', '8', '<', '>'] * 10\n",
    "\n",
    "#     if len(markers) == 1:\n",
    "#         markers = markers * len(unique_y)\n",
    "\n",
    "#     if labels is None:\n",
    "#         labels = unique_y\n",
    "\n",
    "#     # lines in the matplotlib sense, not actual lines\n",
    "#     lines = []\n",
    "\n",
    "\n",
    "#     if len(unique_y) == 1: \n",
    "#         cr = [-1]\n",
    "#     else: \n",
    "#         cr = sorted([y[index] for index in sorted(inds)])\n",
    "\n",
    "#     if c is not None and len(c) == 1: \n",
    "#         cr = c\n",
    "    \n",
    "#     for (i, (yy, color_ind)) in enumerate(zip(unique_y, cr)):\n",
    "#         mask = y == yy\n",
    "#         # print(f'color_ind= {color_ind} and i = {i}')\n",
    "#         # if c is none, use color cycle\n",
    "#         color = colors[color_ind]\n",
    "#         # print('color: ', color)\n",
    "#         # use light edge for dark markers\n",
    "#         if np.mean(colorConverter.to_rgb(color)) < .2:\n",
    "#             markeredgecolor = \"grey\"\n",
    "#         else:\n",
    "#             markeredgecolor = \"black\"\n",
    "\n",
    "#         lines.append(ax.plot(x1[mask], x2[mask], markers[i], markersize=s,\n",
    "#                              label=labels[i], alpha=alpha, c=color,                             \n",
    "#                              markeredgewidth=markeredgewidth,\n",
    "#                              markeredgecolor=markeredgecolor)[0])\n",
    "#     if label_points: \n",
    "#         labs = [str(label) for label in list(range(0,len(x1)))]\n",
    "#         for i, txt in enumerate(labs):\n",
    "#             font_size=9\n",
    "#             ax.annotate(txt, (x1[i]+0.2, x2[i]+0.2), xytext= (x1[i]+x1_annot, x2[i]+x2_annot), c='k', size = font_size)\n",
    "\n",
    "#     return lines    \n",
    "\n",
    "# def plot_kmeans_circles(kmeans, X, n_clusters=3, ax=None):\n",
    "#     km_labels = kmeans.fit_predict(X)\n",
    "#     centers = kmeans.cluster_centers_\n",
    "#     # plot the input data\n",
    "#     ax = ax or plt.gca()\n",
    "#     ax.axis('equal')\n",
    "#     discrete_scatter(X[:,0], X[:,1], km_labels, c=km_labels, markers='o', markeredgewidth=0.2, ax=ax);\n",
    "#     discrete_scatter(\n",
    "#         centers[:, 0], centers[:, 1], y=[0,1,2], markers=\"*\", s=18\n",
    "#     );\n",
    "#     radii = [cdist(X[km_labels == i], [center]).max()\n",
    "#              for i, center in enumerate(centers)]\n",
    "#     for center, radius in zip(centers, radii):\n",
    "#         ax.add_patch(plt.Circle(center, radius, fc='gray', alpha=0.4))"
   ]
  },
  {
   "cell_type": "code",
   "execution_count": null,
   "id": "ad52a80c",
   "metadata": {},
   "outputs": [],
   "source": [
    "# import seaborn as sns\n",
    "\n",
    "# # Create DataFrame with clusters\n",
    "# df = pd.DataFrame(X, columns=['Feature1', 'Feature2'])\n",
    "# df['Cluster'] = labels\n",
    "\n",
    "# # Scatter plot with seaborn\n",
    "# plt.figure(figsize=(8, 6))\n",
    "# sns.scatterplot(data=df, x='Feature1', y='Feature2', hue='Cluster', palette='viridis')\n",
    "# plt.scatter(centroids[:, 0], centroids[:, 1], marker='X', s=200, c='red')\n",
    "# plt.title('K-Means Clustering with Seaborn')\n",
    "# plt.show()"
   ]
  },
  {
   "cell_type": "code",
   "execution_count": null,
   "id": "926fa08b",
   "metadata": {},
   "outputs": [],
   "source": [
    "d = pd.read_sql(\"SELECT * FROM tap_response_data\", engine)"
   ]
  },
  {
   "cell_type": "code",
   "execution_count": null,
   "id": "d39cb439",
   "metadata": {},
   "outputs": [
    {
     "data": {
      "text/html": [
       "<div>\n",
       "<style scoped>\n",
       "    .dataframe tbody tr th:only-of-type {\n",
       "        vertical-align: middle;\n",
       "    }\n",
       "\n",
       "    .dataframe tbody tr th {\n",
       "        vertical-align: top;\n",
       "    }\n",
       "\n",
       "    .dataframe thead th {\n",
       "        text-align: right;\n",
       "    }\n",
       "</style>\n",
       "<table border=\"1\" class=\"dataframe\">\n",
       "  <thead>\n",
       "    <tr style=\"text-align: right;\">\n",
       "      <th></th>\n",
       "      <th>Screen</th>\n",
       "      <th>dataset</th>\n",
       "      <th>Gene</th>\n",
       "      <th>Allele</th>\n",
       "      <th>Plate_id</th>\n",
       "      <th>Date</th>\n",
       "      <th>taps</th>\n",
       "      <th>plate</th>\n",
       "      <th>time</th>\n",
       "      <th>Duration</th>\n",
       "      <th>dist</th>\n",
       "      <th>Probability</th>\n",
       "      <th>Speed</th>\n",
       "      <th>PSA Speed</th>\n",
       "      <th>PSA Bias</th>\n",
       "      <th>PSA Aspect Ratio</th>\n",
       "      <th>PSA Kink</th>\n",
       "      <th>PSA Curve</th>\n",
       "      <th>PSA Crab</th>\n",
       "    </tr>\n",
       "  </thead>\n",
       "  <tbody>\n",
       "    <tr>\n",
       "      <th>0</th>\n",
       "      <td>PD_Screen</td>\n",
       "      <td>C29E4.10_ok2752</td>\n",
       "      <td>C29E4.10</td>\n",
       "      <td>ok2752</td>\n",
       "      <td>20230710_104441_B0706ea</td>\n",
       "      <td>20230710</td>\n",
       "      <td>1.0</td>\n",
       "      <td>1.0</td>\n",
       "      <td>599.983</td>\n",
       "      <td>3.49</td>\n",
       "      <td>0.579</td>\n",
       "      <td>0.645833</td>\n",
       "      <td>0.165903</td>\n",
       "      <td>0.064750</td>\n",
       "      <td>0.157500</td>\n",
       "      <td>0.435900</td>\n",
       "      <td>68.320000</td>\n",
       "      <td>38.920000</td>\n",
       "      <td>0.010860</td>\n",
       "    </tr>\n",
       "    <tr>\n",
       "      <th>1</th>\n",
       "      <td>PD_Screen</td>\n",
       "      <td>C29E4.10_ok2752</td>\n",
       "      <td>C29E4.10</td>\n",
       "      <td>ok2752</td>\n",
       "      <td>20230710_104441_B0706ea</td>\n",
       "      <td>20230710</td>\n",
       "      <td>2.0</td>\n",
       "      <td>1.0</td>\n",
       "      <td>609.886</td>\n",
       "      <td>3.08</td>\n",
       "      <td>0.632</td>\n",
       "      <td>0.519231</td>\n",
       "      <td>0.205195</td>\n",
       "      <td>0.155022</td>\n",
       "      <td>0.441944</td>\n",
       "      <td>0.424056</td>\n",
       "      <td>68.833333</td>\n",
       "      <td>38.350000</td>\n",
       "      <td>0.022233</td>\n",
       "    </tr>\n",
       "    <tr>\n",
       "      <th>2</th>\n",
       "      <td>PD_Screen</td>\n",
       "      <td>C29E4.10_ok2752</td>\n",
       "      <td>C29E4.10</td>\n",
       "      <td>ok2752</td>\n",
       "      <td>20230710_104441_B0706ea</td>\n",
       "      <td>20230710</td>\n",
       "      <td>3.0</td>\n",
       "      <td>1.0</td>\n",
       "      <td>619.955</td>\n",
       "      <td>1.96</td>\n",
       "      <td>0.441</td>\n",
       "      <td>0.622642</td>\n",
       "      <td>0.225000</td>\n",
       "      <td>0.196569</td>\n",
       "      <td>0.761885</td>\n",
       "      <td>0.347308</td>\n",
       "      <td>56.380769</td>\n",
       "      <td>35.723077</td>\n",
       "      <td>0.023438</td>\n",
       "    </tr>\n",
       "    <tr>\n",
       "      <th>3</th>\n",
       "      <td>PD_Screen</td>\n",
       "      <td>C29E4.10_ok2752</td>\n",
       "      <td>C29E4.10</td>\n",
       "      <td>ok2752</td>\n",
       "      <td>20230710_104441_B0706ea</td>\n",
       "      <td>20230710</td>\n",
       "      <td>4.0</td>\n",
       "      <td>1.0</td>\n",
       "      <td>629.982</td>\n",
       "      <td>1.82</td>\n",
       "      <td>0.433</td>\n",
       "      <td>0.569444</td>\n",
       "      <td>0.237912</td>\n",
       "      <td>0.173472</td>\n",
       "      <td>0.796500</td>\n",
       "      <td>0.332111</td>\n",
       "      <td>53.738889</td>\n",
       "      <td>34.622222</td>\n",
       "      <td>0.019378</td>\n",
       "    </tr>\n",
       "    <tr>\n",
       "      <th>4</th>\n",
       "      <td>PD_Screen</td>\n",
       "      <td>C29E4.10_ok2752</td>\n",
       "      <td>C29E4.10</td>\n",
       "      <td>ok2752</td>\n",
       "      <td>20230710_104441_B0706ea</td>\n",
       "      <td>20230710</td>\n",
       "      <td>5.0</td>\n",
       "      <td>1.0</td>\n",
       "      <td>639.913</td>\n",
       "      <td>1.88</td>\n",
       "      <td>0.455</td>\n",
       "      <td>0.558824</td>\n",
       "      <td>0.242021</td>\n",
       "      <td>0.181033</td>\n",
       "      <td>0.818444</td>\n",
       "      <td>0.314889</td>\n",
       "      <td>51.277778</td>\n",
       "      <td>34.488889</td>\n",
       "      <td>0.019711</td>\n",
       "    </tr>\n",
       "  </tbody>\n",
       "</table>\n",
       "</div>"
      ],
      "text/plain": [
       "      Screen          dataset      Gene  Allele                 Plate_id  \\\n",
       "0  PD_Screen  C29E4.10_ok2752  C29E4.10  ok2752  20230710_104441_B0706ea   \n",
       "1  PD_Screen  C29E4.10_ok2752  C29E4.10  ok2752  20230710_104441_B0706ea   \n",
       "2  PD_Screen  C29E4.10_ok2752  C29E4.10  ok2752  20230710_104441_B0706ea   \n",
       "3  PD_Screen  C29E4.10_ok2752  C29E4.10  ok2752  20230710_104441_B0706ea   \n",
       "4  PD_Screen  C29E4.10_ok2752  C29E4.10  ok2752  20230710_104441_B0706ea   \n",
       "\n",
       "       Date  taps  plate     time  Duration   dist  Probability     Speed  \\\n",
       "0  20230710   1.0    1.0  599.983      3.49  0.579     0.645833  0.165903   \n",
       "1  20230710   2.0    1.0  609.886      3.08  0.632     0.519231  0.205195   \n",
       "2  20230710   3.0    1.0  619.955      1.96  0.441     0.622642  0.225000   \n",
       "3  20230710   4.0    1.0  629.982      1.82  0.433     0.569444  0.237912   \n",
       "4  20230710   5.0    1.0  639.913      1.88  0.455     0.558824  0.242021   \n",
       "\n",
       "   PSA Speed  PSA Bias  PSA Aspect Ratio   PSA Kink  PSA Curve  PSA Crab  \n",
       "0   0.064750  0.157500          0.435900  68.320000  38.920000  0.010860  \n",
       "1   0.155022  0.441944          0.424056  68.833333  38.350000  0.022233  \n",
       "2   0.196569  0.761885          0.347308  56.380769  35.723077  0.023438  \n",
       "3   0.173472  0.796500          0.332111  53.738889  34.622222  0.019378  \n",
       "4   0.181033  0.818444          0.314889  51.277778  34.488889  0.019711  "
      ]
     },
     "execution_count": 89,
     "metadata": {},
     "output_type": "execute_result"
    }
   ],
   "source": [
    "d.head()"
   ]
  },
  {
   "cell_type": "code",
   "execution_count": null,
   "id": "2bbd5462",
   "metadata": {},
   "outputs": [
    {
     "data": {
      "text/html": [
       "<div>\n",
       "<style scoped>\n",
       "    .dataframe tbody tr th:only-of-type {\n",
       "        vertical-align: middle;\n",
       "    }\n",
       "\n",
       "    .dataframe tbody tr th {\n",
       "        vertical-align: top;\n",
       "    }\n",
       "\n",
       "    .dataframe thead th {\n",
       "        text-align: right;\n",
       "    }\n",
       "</style>\n",
       "<table border=\"1\" class=\"dataframe\">\n",
       "  <thead>\n",
       "    <tr style=\"text-align: right;\">\n",
       "      <th></th>\n",
       "      <th>Screen</th>\n",
       "      <th>dataset</th>\n",
       "      <th>Gene</th>\n",
       "      <th>Allele</th>\n",
       "      <th>Plate_id</th>\n",
       "      <th>Date</th>\n",
       "      <th>taps</th>\n",
       "      <th>plate</th>\n",
       "      <th>time</th>\n",
       "      <th>Duration</th>\n",
       "      <th>dist</th>\n",
       "      <th>Probability</th>\n",
       "      <th>Speed</th>\n",
       "      <th>PSA Speed</th>\n",
       "      <th>PSA Bias</th>\n",
       "      <th>PSA Aspect Ratio</th>\n",
       "      <th>PSA Kink</th>\n",
       "      <th>PSA Curve</th>\n",
       "      <th>PSA Crab</th>\n",
       "    </tr>\n",
       "  </thead>\n",
       "  <tbody>\n",
       "  </tbody>\n",
       "</table>\n",
       "</div>"
      ],
      "text/plain": [
       "Empty DataFrame\n",
       "Columns: [Screen, dataset, Gene, Allele, Plate_id, Date, taps, plate, time, Duration, dist, Probability, Speed, PSA Speed, PSA Bias, PSA Aspect Ratio, PSA Kink, PSA Curve, PSA Crab]\n",
       "Index: []"
      ]
     },
     "execution_count": 90,
     "metadata": {},
     "output_type": "execute_result"
    }
   ],
   "source": [
    "d[d['taps']=='inf']"
   ]
  },
  {
   "cell_type": "code",
   "execution_count": null,
   "id": "6002f4ab",
   "metadata": {},
   "outputs": [
    {
     "data": {
      "text/plain": [
       "array([ 5., 15.,  6., 16.,  1.,  2.,  3.,  4.,  7.,  8.,  9., 10., 11.,\n",
       "       12., 13., 14., 17., 18., 19., 20., 21., 22., 23., 24., 25., 26.,\n",
       "       27., 28., 29., 30., 31.])"
      ]
     },
     "execution_count": 91,
     "metadata": {},
     "output_type": "execute_result"
    }
   ],
   "source": [
    "d[d['Screen']=='ASD_Screen']['taps'].unique()"
   ]
  },
  {
   "cell_type": "code",
   "execution_count": null,
   "id": "1b820361",
   "metadata": {},
   "outputs": [
    {
     "data": {
      "text/html": [
       "<div>\n",
       "<style scoped>\n",
       "    .dataframe tbody tr th:only-of-type {\n",
       "        vertical-align: middle;\n",
       "    }\n",
       "\n",
       "    .dataframe tbody tr th {\n",
       "        vertical-align: top;\n",
       "    }\n",
       "\n",
       "    .dataframe thead th {\n",
       "        text-align: right;\n",
       "    }\n",
       "</style>\n",
       "<table border=\"1\" class=\"dataframe\">\n",
       "  <thead>\n",
       "    <tr style=\"text-align: right;\">\n",
       "      <th></th>\n",
       "      <th>Screen</th>\n",
       "      <th>dataset</th>\n",
       "      <th>Gene</th>\n",
       "      <th>Allele</th>\n",
       "      <th>Plate_id</th>\n",
       "      <th>Date</th>\n",
       "      <th>taps</th>\n",
       "      <th>plate</th>\n",
       "      <th>time</th>\n",
       "      <th>Duration</th>\n",
       "      <th>dist</th>\n",
       "      <th>Probability</th>\n",
       "      <th>Speed</th>\n",
       "      <th>PSA Speed</th>\n",
       "      <th>PSA Bias</th>\n",
       "      <th>PSA Aspect Ratio</th>\n",
       "      <th>PSA Kink</th>\n",
       "      <th>PSA Curve</th>\n",
       "      <th>PSA Crab</th>\n",
       "    </tr>\n",
       "  </thead>\n",
       "  <tbody>\n",
       "    <tr>\n",
       "      <th>41075</th>\n",
       "      <td>ASD_Screen</td>\n",
       "      <td>pax-2_ok3078</td>\n",
       "      <td>pax-2</td>\n",
       "      <td>ok3078</td>\n",
       "      <td>20190626_161516_C0626mc</td>\n",
       "      <td>20190626</td>\n",
       "      <td>5.0</td>\n",
       "      <td>NaN</td>\n",
       "      <td>NaN</td>\n",
       "      <td>NaN</td>\n",
       "      <td>NaN</td>\n",
       "      <td>NaN</td>\n",
       "      <td>NaN</td>\n",
       "      <td>0.205877</td>\n",
       "      <td>0.915825</td>\n",
       "      <td>0.280421</td>\n",
       "      <td>41.207018</td>\n",
       "      <td>32.101754</td>\n",
       "      <td>0.028354</td>\n",
       "    </tr>\n",
       "    <tr>\n",
       "      <th>42226</th>\n",
       "      <td>ASD_Screen</td>\n",
       "      <td>N2</td>\n",
       "      <td>N2</td>\n",
       "      <td>N2</td>\n",
       "      <td>20150516_111130_C0516ac</td>\n",
       "      <td>20150516</td>\n",
       "      <td>15.0</td>\n",
       "      <td>2.0</td>\n",
       "      <td>739.982</td>\n",
       "      <td>0.89</td>\n",
       "      <td>0.200</td>\n",
       "      <td>0.764706</td>\n",
       "      <td>0.224719</td>\n",
       "      <td>0.209274</td>\n",
       "      <td>0.868098</td>\n",
       "      <td>0.275967</td>\n",
       "      <td>46.537705</td>\n",
       "      <td>28.739344</td>\n",
       "      <td>0.016470</td>\n",
       "    </tr>\n",
       "    <tr>\n",
       "      <th>42467</th>\n",
       "      <td>ASD_Screen</td>\n",
       "      <td>pax-2_ok3078</td>\n",
       "      <td>pax-2</td>\n",
       "      <td>ok3078</td>\n",
       "      <td>20190626_161516_C0626mc</td>\n",
       "      <td>20190626</td>\n",
       "      <td>6.0</td>\n",
       "      <td>NaN</td>\n",
       "      <td>NaN</td>\n",
       "      <td>NaN</td>\n",
       "      <td>NaN</td>\n",
       "      <td>NaN</td>\n",
       "      <td>NaN</td>\n",
       "      <td>0.215569</td>\n",
       "      <td>0.906276</td>\n",
       "      <td>0.303103</td>\n",
       "      <td>45.151724</td>\n",
       "      <td>33.386207</td>\n",
       "      <td>0.026966</td>\n",
       "    </tr>\n",
       "    <tr>\n",
       "      <th>43031</th>\n",
       "      <td>ASD_Screen</td>\n",
       "      <td>N2</td>\n",
       "      <td>N2</td>\n",
       "      <td>N2</td>\n",
       "      <td>20150516_111130_C0516ac</td>\n",
       "      <td>20150516</td>\n",
       "      <td>16.0</td>\n",
       "      <td>2.0</td>\n",
       "      <td>749.984</td>\n",
       "      <td>0.39</td>\n",
       "      <td>0.099</td>\n",
       "      <td>0.478261</td>\n",
       "      <td>0.253846</td>\n",
       "      <td>0.180963</td>\n",
       "      <td>0.896952</td>\n",
       "      <td>0.295065</td>\n",
       "      <td>47.566129</td>\n",
       "      <td>31.946774</td>\n",
       "      <td>0.017098</td>\n",
       "    </tr>\n",
       "    <tr>\n",
       "      <th>43497</th>\n",
       "      <td>ASD_Screen</td>\n",
       "      <td>C25H3.11_gk425293</td>\n",
       "      <td>C25H3.11</td>\n",
       "      <td>gk425293</td>\n",
       "      <td>20151117_092907_B1117ba</td>\n",
       "      <td>20151117</td>\n",
       "      <td>1.0</td>\n",
       "      <td>1.0</td>\n",
       "      <td>599.931</td>\n",
       "      <td>2.98</td>\n",
       "      <td>0.558</td>\n",
       "      <td>0.941176</td>\n",
       "      <td>0.187248</td>\n",
       "      <td>0.088615</td>\n",
       "      <td>0.142758</td>\n",
       "      <td>0.424273</td>\n",
       "      <td>72.345455</td>\n",
       "      <td>37.306061</td>\n",
       "      <td>0.013364</td>\n",
       "    </tr>\n",
       "    <tr>\n",
       "      <th>...</th>\n",
       "      <td>...</td>\n",
       "      <td>...</td>\n",
       "      <td>...</td>\n",
       "      <td>...</td>\n",
       "      <td>...</td>\n",
       "      <td>...</td>\n",
       "      <td>...</td>\n",
       "      <td>...</td>\n",
       "      <td>...</td>\n",
       "      <td>...</td>\n",
       "      <td>...</td>\n",
       "      <td>...</td>\n",
       "      <td>...</td>\n",
       "      <td>...</td>\n",
       "      <td>...</td>\n",
       "      <td>...</td>\n",
       "      <td>...</td>\n",
       "      <td>...</td>\n",
       "      <td>...</td>\n",
       "    </tr>\n",
       "    <tr>\n",
       "      <th>68939</th>\n",
       "      <td>ASD_Screen</td>\n",
       "      <td>ztf-6_tm1803</td>\n",
       "      <td>ztf-6</td>\n",
       "      <td>tm1803</td>\n",
       "      <td>20160526_161911_C0526ed</td>\n",
       "      <td>20160526</td>\n",
       "      <td>27.0</td>\n",
       "      <td>5.0</td>\n",
       "      <td>859.994</td>\n",
       "      <td>1.56</td>\n",
       "      <td>0.228</td>\n",
       "      <td>0.600000</td>\n",
       "      <td>0.146154</td>\n",
       "      <td>0.059477</td>\n",
       "      <td>0.476129</td>\n",
       "      <td>0.264113</td>\n",
       "      <td>38.230645</td>\n",
       "      <td>28.759677</td>\n",
       "      <td>0.008105</td>\n",
       "    </tr>\n",
       "    <tr>\n",
       "      <th>68940</th>\n",
       "      <td>ASD_Screen</td>\n",
       "      <td>ztf-6_tm1803</td>\n",
       "      <td>ztf-6</td>\n",
       "      <td>tm1803</td>\n",
       "      <td>20160526_161911_C0526ed</td>\n",
       "      <td>20160526</td>\n",
       "      <td>28.0</td>\n",
       "      <td>5.0</td>\n",
       "      <td>869.960</td>\n",
       "      <td>1.45</td>\n",
       "      <td>0.237</td>\n",
       "      <td>0.250000</td>\n",
       "      <td>0.163448</td>\n",
       "      <td>0.059987</td>\n",
       "      <td>0.287565</td>\n",
       "      <td>0.236790</td>\n",
       "      <td>42.790323</td>\n",
       "      <td>27.633871</td>\n",
       "      <td>0.008202</td>\n",
       "    </tr>\n",
       "    <tr>\n",
       "      <th>68941</th>\n",
       "      <td>ASD_Screen</td>\n",
       "      <td>ztf-6_tm1803</td>\n",
       "      <td>ztf-6</td>\n",
       "      <td>tm1803</td>\n",
       "      <td>20160526_161911_C0526ed</td>\n",
       "      <td>20160526</td>\n",
       "      <td>29.0</td>\n",
       "      <td>5.0</td>\n",
       "      <td>879.999</td>\n",
       "      <td>1.63</td>\n",
       "      <td>0.224</td>\n",
       "      <td>0.333333</td>\n",
       "      <td>0.137423</td>\n",
       "      <td>0.055465</td>\n",
       "      <td>0.367177</td>\n",
       "      <td>0.279661</td>\n",
       "      <td>41.704839</td>\n",
       "      <td>28.587097</td>\n",
       "      <td>0.009513</td>\n",
       "    </tr>\n",
       "    <tr>\n",
       "      <th>68942</th>\n",
       "      <td>ASD_Screen</td>\n",
       "      <td>ztf-6_tm1803</td>\n",
       "      <td>ztf-6</td>\n",
       "      <td>tm1803</td>\n",
       "      <td>20160526_161911_C0526ed</td>\n",
       "      <td>20160526</td>\n",
       "      <td>30.0</td>\n",
       "      <td>5.0</td>\n",
       "      <td>889.958</td>\n",
       "      <td>3.43</td>\n",
       "      <td>0.656</td>\n",
       "      <td>0.333333</td>\n",
       "      <td>0.191254</td>\n",
       "      <td>0.059658</td>\n",
       "      <td>0.500258</td>\n",
       "      <td>0.315242</td>\n",
       "      <td>50.106452</td>\n",
       "      <td>29.301613</td>\n",
       "      <td>0.009466</td>\n",
       "    </tr>\n",
       "    <tr>\n",
       "      <th>68943</th>\n",
       "      <td>ASD_Screen</td>\n",
       "      <td>ztf-6_tm1803</td>\n",
       "      <td>ztf-6</td>\n",
       "      <td>tm1803</td>\n",
       "      <td>20160526_161911_C0526ed</td>\n",
       "      <td>20160526</td>\n",
       "      <td>31.0</td>\n",
       "      <td>5.0</td>\n",
       "      <td>1189.993</td>\n",
       "      <td>5.40</td>\n",
       "      <td>0.902</td>\n",
       "      <td>0.142857</td>\n",
       "      <td>0.167037</td>\n",
       "      <td>0.056550</td>\n",
       "      <td>0.270158</td>\n",
       "      <td>0.386184</td>\n",
       "      <td>65.247368</td>\n",
       "      <td>36.905263</td>\n",
       "      <td>0.011847</td>\n",
       "    </tr>\n",
       "  </tbody>\n",
       "</table>\n",
       "<p>25450 rows × 19 columns</p>\n",
       "</div>"
      ],
      "text/plain": [
       "           Screen            dataset      Gene    Allele  \\\n",
       "41075  ASD_Screen       pax-2_ok3078     pax-2    ok3078   \n",
       "42226  ASD_Screen                 N2        N2        N2   \n",
       "42467  ASD_Screen       pax-2_ok3078     pax-2    ok3078   \n",
       "43031  ASD_Screen                 N2        N2        N2   \n",
       "43497  ASD_Screen  C25H3.11_gk425293  C25H3.11  gk425293   \n",
       "...           ...                ...       ...       ...   \n",
       "68939  ASD_Screen       ztf-6_tm1803     ztf-6    tm1803   \n",
       "68940  ASD_Screen       ztf-6_tm1803     ztf-6    tm1803   \n",
       "68941  ASD_Screen       ztf-6_tm1803     ztf-6    tm1803   \n",
       "68942  ASD_Screen       ztf-6_tm1803     ztf-6    tm1803   \n",
       "68943  ASD_Screen       ztf-6_tm1803     ztf-6    tm1803   \n",
       "\n",
       "                      Plate_id      Date  taps  plate      time  Duration  \\\n",
       "41075  20190626_161516_C0626mc  20190626   5.0    NaN       NaN       NaN   \n",
       "42226  20150516_111130_C0516ac  20150516  15.0    2.0   739.982      0.89   \n",
       "42467  20190626_161516_C0626mc  20190626   6.0    NaN       NaN       NaN   \n",
       "43031  20150516_111130_C0516ac  20150516  16.0    2.0   749.984      0.39   \n",
       "43497  20151117_092907_B1117ba  20151117   1.0    1.0   599.931      2.98   \n",
       "...                        ...       ...   ...    ...       ...       ...   \n",
       "68939  20160526_161911_C0526ed  20160526  27.0    5.0   859.994      1.56   \n",
       "68940  20160526_161911_C0526ed  20160526  28.0    5.0   869.960      1.45   \n",
       "68941  20160526_161911_C0526ed  20160526  29.0    5.0   879.999      1.63   \n",
       "68942  20160526_161911_C0526ed  20160526  30.0    5.0   889.958      3.43   \n",
       "68943  20160526_161911_C0526ed  20160526  31.0    5.0  1189.993      5.40   \n",
       "\n",
       "        dist  Probability     Speed  PSA Speed  PSA Bias  PSA Aspect Ratio  \\\n",
       "41075    NaN          NaN       NaN   0.205877  0.915825          0.280421   \n",
       "42226  0.200     0.764706  0.224719   0.209274  0.868098          0.275967   \n",
       "42467    NaN          NaN       NaN   0.215569  0.906276          0.303103   \n",
       "43031  0.099     0.478261  0.253846   0.180963  0.896952          0.295065   \n",
       "43497  0.558     0.941176  0.187248   0.088615  0.142758          0.424273   \n",
       "...      ...          ...       ...        ...       ...               ...   \n",
       "68939  0.228     0.600000  0.146154   0.059477  0.476129          0.264113   \n",
       "68940  0.237     0.250000  0.163448   0.059987  0.287565          0.236790   \n",
       "68941  0.224     0.333333  0.137423   0.055465  0.367177          0.279661   \n",
       "68942  0.656     0.333333  0.191254   0.059658  0.500258          0.315242   \n",
       "68943  0.902     0.142857  0.167037   0.056550  0.270158          0.386184   \n",
       "\n",
       "        PSA Kink  PSA Curve  PSA Crab  \n",
       "41075  41.207018  32.101754  0.028354  \n",
       "42226  46.537705  28.739344  0.016470  \n",
       "42467  45.151724  33.386207  0.026966  \n",
       "43031  47.566129  31.946774  0.017098  \n",
       "43497  72.345455  37.306061  0.013364  \n",
       "...          ...        ...       ...  \n",
       "68939  38.230645  28.759677  0.008105  \n",
       "68940  42.790323  27.633871  0.008202  \n",
       "68941  41.704839  28.587097  0.009513  \n",
       "68942  50.106452  29.301613  0.009466  \n",
       "68943  65.247368  36.905263  0.011847  \n",
       "\n",
       "[25450 rows x 19 columns]"
      ]
     },
     "execution_count": 92,
     "metadata": {},
     "output_type": "execute_result"
    }
   ],
   "source": [
    "d[d['Screen']=='ASD_Screen']"
   ]
  },
  {
   "cell_type": "code",
   "execution_count": null,
   "id": "8b45966c",
   "metadata": {},
   "outputs": [
    {
     "data": {
      "text/html": [
       "<div>\n",
       "<style scoped>\n",
       "    .dataframe tbody tr th:only-of-type {\n",
       "        vertical-align: middle;\n",
       "    }\n",
       "\n",
       "    .dataframe tbody tr th {\n",
       "        vertical-align: top;\n",
       "    }\n",
       "\n",
       "    .dataframe thead th {\n",
       "        text-align: right;\n",
       "    }\n",
       "</style>\n",
       "<table border=\"1\" class=\"dataframe\">\n",
       "  <thead>\n",
       "    <tr style=\"text-align: right;\">\n",
       "      <th></th>\n",
       "      <th>Screen</th>\n",
       "      <th>dataset</th>\n",
       "      <th>Gene</th>\n",
       "      <th>Allele</th>\n",
       "      <th>Plate_id</th>\n",
       "      <th>Date</th>\n",
       "      <th>Experiment</th>\n",
       "      <th>Initial PSA Speed</th>\n",
       "      <th>Final PSA Speed</th>\n",
       "      <th>Recovery PSA Speed</th>\n",
       "      <th>...</th>\n",
       "      <th>Initial PSA Crab</th>\n",
       "      <th>Final PSA Crab</th>\n",
       "      <th>Recovery PSA Crab</th>\n",
       "      <th>Peak PSA Crab</th>\n",
       "      <th>Peak Tap Number of PSA Crab</th>\n",
       "      <th>Average PSA Crab</th>\n",
       "      <th>Sensitization of PSA Crab</th>\n",
       "      <th>Habituation of PSA Crab</th>\n",
       "      <th>Spontaneous Recovery of PSA Crab</th>\n",
       "      <th>Memory Retention of PSA Crab</th>\n",
       "    </tr>\n",
       "  </thead>\n",
       "  <tbody>\n",
       "    <tr>\n",
       "      <th>0</th>\n",
       "      <td>PD_Screen</td>\n",
       "      <td>N2</td>\n",
       "      <td>N2</td>\n",
       "      <td>N2</td>\n",
       "      <td>20221102_154144_C1029bc</td>\n",
       "      <td>20221102</td>\n",
       "      <td>1</td>\n",
       "      <td>0.100768</td>\n",
       "      <td>0.143539</td>\n",
       "      <td>0.076825</td>\n",
       "      <td>...</td>\n",
       "      <td>0.012729</td>\n",
       "      <td>0.010293</td>\n",
       "      <td>0.010635</td>\n",
       "      <td>0.015019</td>\n",
       "      <td>4.0</td>\n",
       "      <td>0.011424</td>\n",
       "      <td>0.002291</td>\n",
       "      <td>0.004727</td>\n",
       "      <td>-16.447811</td>\n",
       "      <td>0.000342</td>\n",
       "    </tr>\n",
       "    <tr>\n",
       "      <th>1</th>\n",
       "      <td>PD_Screen</td>\n",
       "      <td>N2</td>\n",
       "      <td>N2</td>\n",
       "      <td>N2</td>\n",
       "      <td>20220510_183526_C0506ab</td>\n",
       "      <td>20220510</td>\n",
       "      <td>2</td>\n",
       "      <td>0.083806</td>\n",
       "      <td>0.183861</td>\n",
       "      <td>0.115679</td>\n",
       "      <td>...</td>\n",
       "      <td>0.009874</td>\n",
       "      <td>0.011680</td>\n",
       "      <td>0.016489</td>\n",
       "      <td>0.048561</td>\n",
       "      <td>2.0</td>\n",
       "      <td>0.012998</td>\n",
       "      <td>0.038687</td>\n",
       "      <td>0.036882</td>\n",
       "      <td>66.995650</td>\n",
       "      <td>0.004810</td>\n",
       "    </tr>\n",
       "    <tr>\n",
       "      <th>2</th>\n",
       "      <td>PD_Screen</td>\n",
       "      <td>N2</td>\n",
       "      <td>N2</td>\n",
       "      <td>N2</td>\n",
       "      <td>20220510_185420_A0506aa</td>\n",
       "      <td>20220510</td>\n",
       "      <td>3</td>\n",
       "      <td>0.100892</td>\n",
       "      <td>0.168071</td>\n",
       "      <td>0.119136</td>\n",
       "      <td>...</td>\n",
       "      <td>0.013081</td>\n",
       "      <td>0.012847</td>\n",
       "      <td>0.015069</td>\n",
       "      <td>0.021390</td>\n",
       "      <td>3.0</td>\n",
       "      <td>0.014382</td>\n",
       "      <td>0.008308</td>\n",
       "      <td>0.008543</td>\n",
       "      <td>15.197878</td>\n",
       "      <td>0.002223</td>\n",
       "    </tr>\n",
       "    <tr>\n",
       "      <th>3</th>\n",
       "      <td>PD_Screen</td>\n",
       "      <td>N2</td>\n",
       "      <td>N2</td>\n",
       "      <td>N2</td>\n",
       "      <td>20220510_192657_B0506ac</td>\n",
       "      <td>20220510</td>\n",
       "      <td>4</td>\n",
       "      <td>0.138958</td>\n",
       "      <td>0.145975</td>\n",
       "      <td>0.074537</td>\n",
       "      <td>...</td>\n",
       "      <td>0.017281</td>\n",
       "      <td>0.011028</td>\n",
       "      <td>0.008795</td>\n",
       "      <td>0.021743</td>\n",
       "      <td>2.0</td>\n",
       "      <td>0.012513</td>\n",
       "      <td>0.004462</td>\n",
       "      <td>0.010714</td>\n",
       "      <td>-49.106798</td>\n",
       "      <td>-0.002234</td>\n",
       "    </tr>\n",
       "    <tr>\n",
       "      <th>4</th>\n",
       "      <td>PD_Screen</td>\n",
       "      <td>N2</td>\n",
       "      <td>N2</td>\n",
       "      <td>N2</td>\n",
       "      <td>20220510_202509_C0506ae</td>\n",
       "      <td>20220510</td>\n",
       "      <td>5</td>\n",
       "      <td>0.126012</td>\n",
       "      <td>0.182081</td>\n",
       "      <td>0.104284</td>\n",
       "      <td>...</td>\n",
       "      <td>0.022540</td>\n",
       "      <td>0.016527</td>\n",
       "      <td>0.017939</td>\n",
       "      <td>0.026257</td>\n",
       "      <td>2.0</td>\n",
       "      <td>0.017477</td>\n",
       "      <td>0.003716</td>\n",
       "      <td>0.009729</td>\n",
       "      <td>-20.411737</td>\n",
       "      <td>0.001412</td>\n",
       "    </tr>\n",
       "  </tbody>\n",
       "</table>\n",
       "<p>5 rows × 77 columns</p>\n",
       "</div>"
      ],
      "text/plain": [
       "      Screen dataset Gene Allele                 Plate_id      Date  \\\n",
       "0  PD_Screen      N2   N2     N2  20221102_154144_C1029bc  20221102   \n",
       "1  PD_Screen      N2   N2     N2  20220510_183526_C0506ab  20220510   \n",
       "2  PD_Screen      N2   N2     N2  20220510_185420_A0506aa  20220510   \n",
       "3  PD_Screen      N2   N2     N2  20220510_192657_B0506ac  20220510   \n",
       "4  PD_Screen      N2   N2     N2  20220510_202509_C0506ae  20220510   \n",
       "\n",
       "   Experiment  Initial PSA Speed  Final PSA Speed  Recovery PSA Speed  ...  \\\n",
       "0           1           0.100768         0.143539            0.076825  ...   \n",
       "1           2           0.083806         0.183861            0.115679  ...   \n",
       "2           3           0.100892         0.168071            0.119136  ...   \n",
       "3           4           0.138958         0.145975            0.074537  ...   \n",
       "4           5           0.126012         0.182081            0.104284  ...   \n",
       "\n",
       "   Initial PSA Crab  Final PSA Crab  Recovery PSA Crab  Peak PSA Crab  \\\n",
       "0          0.012729        0.010293           0.010635       0.015019   \n",
       "1          0.009874        0.011680           0.016489       0.048561   \n",
       "2          0.013081        0.012847           0.015069       0.021390   \n",
       "3          0.017281        0.011028           0.008795       0.021743   \n",
       "4          0.022540        0.016527           0.017939       0.026257   \n",
       "\n",
       "   Peak Tap Number of PSA Crab  Average PSA Crab  Sensitization of PSA Crab  \\\n",
       "0                          4.0          0.011424                   0.002291   \n",
       "1                          2.0          0.012998                   0.038687   \n",
       "2                          3.0          0.014382                   0.008308   \n",
       "3                          2.0          0.012513                   0.004462   \n",
       "4                          2.0          0.017477                   0.003716   \n",
       "\n",
       "   Habituation of PSA Crab  Spontaneous Recovery of PSA Crab  \\\n",
       "0                 0.004727                        -16.447811   \n",
       "1                 0.036882                         66.995650   \n",
       "2                 0.008543                         15.197878   \n",
       "3                 0.010714                        -49.106798   \n",
       "4                 0.009729                        -20.411737   \n",
       "\n",
       "   Memory Retention of PSA Crab  \n",
       "0                      0.000342  \n",
       "1                      0.004810  \n",
       "2                      0.002223  \n",
       "3                     -0.002234  \n",
       "4                      0.001412  \n",
       "\n",
       "[5 rows x 77 columns]"
      ]
     },
     "execution_count": 93,
     "metadata": {},
     "output_type": "execute_result"
    }
   ],
   "source": [
    "psa = pd.read_sql(\"SELECT * FROM psa_summarised_data\", engine)\n",
    "psa.head()"
   ]
  },
  {
   "cell_type": "code",
   "execution_count": null,
   "id": "dae21746",
   "metadata": {},
   "outputs": [
    {
     "data": {
      "text/html": [
       "<div>\n",
       "<style scoped>\n",
       "    .dataframe tbody tr th:only-of-type {\n",
       "        vertical-align: middle;\n",
       "    }\n",
       "\n",
       "    .dataframe tbody tr th {\n",
       "        vertical-align: top;\n",
       "    }\n",
       "\n",
       "    .dataframe thead th {\n",
       "        text-align: right;\n",
       "    }\n",
       "</style>\n",
       "<table border=\"1\" class=\"dataframe\">\n",
       "  <thead>\n",
       "    <tr style=\"text-align: right;\">\n",
       "      <th></th>\n",
       "      <th>Screen</th>\n",
       "      <th>dataset</th>\n",
       "      <th>Gene</th>\n",
       "      <th>Allele</th>\n",
       "      <th>Plate_id</th>\n",
       "      <th>Date</th>\n",
       "      <th>Experiment</th>\n",
       "      <th>Initial PSA Speed</th>\n",
       "      <th>Final PSA Speed</th>\n",
       "      <th>Recovery PSA Speed</th>\n",
       "      <th>...</th>\n",
       "      <th>Initial PSA Crab</th>\n",
       "      <th>Final PSA Crab</th>\n",
       "      <th>Recovery PSA Crab</th>\n",
       "      <th>Peak PSA Crab</th>\n",
       "      <th>Peak Tap Number of PSA Crab</th>\n",
       "      <th>Average PSA Crab</th>\n",
       "      <th>Sensitization of PSA Crab</th>\n",
       "      <th>Habituation of PSA Crab</th>\n",
       "      <th>Spontaneous Recovery of PSA Crab</th>\n",
       "      <th>Memory Retention of PSA Crab</th>\n",
       "    </tr>\n",
       "  </thead>\n",
       "  <tbody>\n",
       "  </tbody>\n",
       "</table>\n",
       "<p>0 rows × 77 columns</p>\n",
       "</div>"
      ],
      "text/plain": [
       "Empty DataFrame\n",
       "Columns: [Screen, dataset, Gene, Allele, Plate_id, Date, Experiment, Initial PSA Speed, Final PSA Speed, Recovery PSA Speed, Peak PSA Speed, Peak Tap Number of PSA Speed, Average PSA Speed, Sensitization of PSA Speed, Habituation of PSA Speed, Spontaneous Recovery of PSA Speed, Memory Retention of PSA Speed, Initial PSA Bias, Final PSA Bias, Recovery PSA Bias, Peak PSA Bias, Peak Tap Number of PSA Bias, Average PSA Bias, Sensitization of PSA Bias, Habituation of PSA Bias, Spontaneous Recovery of PSA Bias, Memory Retention of PSA Bias, Initial PSA Angular Speed, Final PSA Angular Speed, Recovery PSA Angular Speed, Peak PSA Angular Speed, Peak Tap Number of PSA Angular Speed, Average PSA Angular Speed, Sensitization of PSA Angular Speed, Habituation of PSA Angular Speed, Spontaneous Recovery of PSA Angular Speed, Memory Retention of PSA Angular Speed, Initial PSA Aspect Ratio, Final PSA Aspect Ratio, Recovery PSA Aspect Ratio, Peak PSA Aspect Ratio, Peak Tap Number of PSA Aspect Ratio, Average PSA Aspect Ratio, Sensitization of PSA Aspect Ratio, Habituation of PSA Aspect Ratio, Spontaneous Recovery of PSA Aspect Ratio, Memory Retention of PSA Aspect Ratio, Initial PSA Kink, Final PSA Kink, Recovery PSA Kink, Peak PSA Kink, Peak Tap Number of PSA Kink, Average PSA Kink, Sensitization of PSA Kink, Habituation of PSA Kink, Spontaneous Recovery of PSA Kink, Memory Retention of PSA Kink, Initial PSA Curve, Final PSA Curve, Recovery PSA Curve, Peak PSA Curve, Peak Tap Number of PSA Curve, Average PSA Curve, Sensitization of PSA Curve, Habituation of PSA Curve, Spontaneous Recovery of PSA Curve, Memory Retention of PSA Curve, Initial PSA Crab, Final PSA Crab, Recovery PSA Crab, Peak PSA Crab, Peak Tap Number of PSA Crab, Average PSA Crab, Sensitization of PSA Crab, Habituation of PSA Crab, Spontaneous Recovery of PSA Crab, Memory Retention of PSA Crab]\n",
       "Index: []\n",
       "\n",
       "[0 rows x 77 columns]"
      ]
     },
     "execution_count": 94,
     "metadata": {},
     "output_type": "execute_result"
    }
   ],
   "source": [
    "psa[psa['Peak Tap Number of PSA Angular Speed']=='inf']"
   ]
  },
  {
   "cell_type": "code",
   "execution_count": null,
   "id": "128a5df5",
   "metadata": {},
   "outputs": [
    {
     "data": {
      "text/html": [
       "<div>\n",
       "<style scoped>\n",
       "    .dataframe tbody tr th:only-of-type {\n",
       "        vertical-align: middle;\n",
       "    }\n",
       "\n",
       "    .dataframe tbody tr th {\n",
       "        vertical-align: top;\n",
       "    }\n",
       "\n",
       "    .dataframe thead th {\n",
       "        text-align: right;\n",
       "    }\n",
       "</style>\n",
       "<table border=\"1\" class=\"dataframe\">\n",
       "  <thead>\n",
       "    <tr style=\"text-align: right;\">\n",
       "      <th></th>\n",
       "      <th>index</th>\n",
       "      <th>Screen</th>\n",
       "      <th>Gene</th>\n",
       "      <th>Morphwidth</th>\n",
       "      <th>Midline</th>\n",
       "      <th>Area</th>\n",
       "      <th>Speed</th>\n",
       "      <th>Bias</th>\n",
       "      <th>Angular Speed</th>\n",
       "      <th>Aspect Ratio</th>\n",
       "      <th>...</th>\n",
       "      <th>Peak PSA Crab</th>\n",
       "      <th>Peak Tap Number of PSA Crab</th>\n",
       "      <th>Average PSA Crab</th>\n",
       "      <th>Sensitization of PSA Crab</th>\n",
       "      <th>Habituation of PSA Crab</th>\n",
       "      <th>Spontaneous Recovery of PSA Crab</th>\n",
       "      <th>Memory Retention of PSA Crab</th>\n",
       "      <th>Cluster</th>\n",
       "      <th>cluster</th>\n",
       "      <th>cluster2</th>\n",
       "    </tr>\n",
       "  </thead>\n",
       "  <tbody>\n",
       "  </tbody>\n",
       "</table>\n",
       "<p>0 rows × 102 columns</p>\n",
       "</div>"
      ],
      "text/plain": [
       "Empty DataFrame\n",
       "Columns: [index, Screen, Gene, Morphwidth, Midline, Area, Speed, Bias, Angular Speed, Aspect Ratio, Kink, Curve, Crab, Pathlength, Initial Response Duration, Initial Response Probability, Initial Response Speed, Final Response Duration, Final Response Probability, Final Response Speed, Habituation of Response Duration, Habituation of Response Probability, Habituation of Response Speed, Spontaneous Recovery of Response Duration, Spontaneous Recovery of Response Probability, Spontaneous Recovery of Response Speed, Memory Retention of Response Duration, Memory Retention of Response Probability, Memory Retention of Response Speed, Initial PSA Speed, Final PSA Speed, Recovery PSA Speed, Peak PSA Speed, Peak Tap Number of PSA Speed, Average PSA Speed, Sensitization of PSA Speed, Habituation of PSA Speed, Spontaneous Recovery of PSA Speed, Memory Retention of PSA Speed, Initial PSA Bias, Final PSA Bias, Recovery PSA Bias, Peak PSA Bias, Peak Tap Number of PSA Bias, Average PSA Bias, Sensitization of PSA Bias, Habituation of PSA Bias, Spontaneous Recovery of PSA Bias, Memory Retention of PSA Bias, Initial PSA Angular Speed, Final PSA Angular Speed, Recovery PSA Angular Speed, Peak PSA Angular Speed, Peak Tap Number of PSA Angular Speed, Average PSA Angular Speed, Sensitization of PSA Angular Speed, Habituation of PSA Angular Speed, Spontaneous Recovery of PSA Angular Speed, Memory Retention of PSA Angular Speed, Initial PSA Aspect Ratio, Final PSA Aspect Ratio, Recovery PSA Aspect Ratio, Peak PSA Aspect Ratio, Peak Tap Number of PSA Aspect Ratio, Average PSA Aspect Ratio, Sensitization of PSA Aspect Ratio, Habituation of PSA Aspect Ratio, Spontaneous Recovery of PSA Aspect Ratio, Memory Retention of PSA Aspect Ratio, Initial PSA Kink, Final PSA Kink, Recovery PSA Kink, Peak PSA Kink, Peak Tap Number of PSA Kink, Average PSA Kink, Sensitization of PSA Kink, Habituation of PSA Kink, Spontaneous Recovery of PSA Kink, Memory Retention of PSA Kink, Initial PSA Curve, Final PSA Curve, Recovery PSA Curve, Peak PSA Curve, Peak Tap Number of PSA Curve, Average PSA Curve, Sensitization of PSA Curve, Habituation of PSA Curve, Spontaneous Recovery of PSA Curve, Memory Retention of PSA Curve, Initial PSA Crab, Final PSA Crab, Recovery PSA Crab, Peak PSA Crab, Peak Tap Number of PSA Crab, Average PSA Crab, Sensitization of PSA Crab, Habituation of PSA Crab, Spontaneous Recovery of PSA Crab, Memory Retention of PSA Crab, Cluster, ...]\n",
       "Index: []\n",
       "\n",
       "[0 rows x 102 columns]"
      ]
     },
     "execution_count": 95,
     "metadata": {},
     "output_type": "execute_result"
    }
   ],
   "source": [
    "df[df['Peak Tap Number of PSA Angular Speed']=='inf']"
   ]
  },
  {
   "cell_type": "code",
   "execution_count": null,
   "id": "a64f740f",
   "metadata": {},
   "outputs": [
    {
     "data": {
      "text/plain": [
       "443    12.302763\n",
       "380    10.762241\n",
       "729    10.471754\n",
       "306    10.167823\n",
       "269    10.108568\n",
       "         ...    \n",
       "393    -3.415650\n",
       "274    -3.900067\n",
       "248    -3.900067\n",
       "88           NaN\n",
       "97           NaN\n",
       "Name: Peak Tap Number of PSA Angular Speed, Length: 731, dtype: float64"
      ]
     },
     "execution_count": 96,
     "metadata": {},
     "output_type": "execute_result"
    }
   ],
   "source": [
    "df['Peak Tap Number of PSA Angular Speed'].sort_values(ascending=False)"
   ]
  },
  {
   "cell_type": "code",
   "execution_count": 100,
   "id": "98534944",
   "metadata": {},
   "outputs": [
    {
     "data": {
      "text/plain": [
       "array([2, 3, 4, 5, 6])"
      ]
     },
     "execution_count": 100,
     "metadata": {},
     "output_type": "execute_result"
    }
   ],
   "source": [
    "np.arange(2,7)"
   ]
  },
  {
   "cell_type": "code",
   "execution_count": null,
   "id": "a12fe5a1",
   "metadata": {},
   "outputs": [],
   "source": []
  }
 ],
 "metadata": {
  "kernelspec": {
   "display_name": "rankinlab",
   "language": "python",
   "name": "python3"
  },
  "language_info": {
   "codemirror_mode": {
    "name": "ipython",
    "version": 3
   },
   "file_extension": ".py",
   "mimetype": "text/x-python",
   "name": "python",
   "nbconvert_exporter": "python",
   "pygments_lexer": "ipython3",
   "version": "3.11.12"
  }
 },
 "nbformat": 4,
 "nbformat_minor": 5
}
