{
 "cells": [
  {
   "cell_type": "markdown",
   "metadata": {
    "jp-MarkdownHeadingCollapsed": true,
    "tags": []
   },
   "source": [
    "# Jupyter Notebook UI to analyze baseline data from tap-habituation experiments!\n",
    "\n",
    "Version 1.3 - Joseph Liang, Rankin Lab\n",
    "Updated:\n",
    "1. Upgraded folder path selection application\n",
    "2. Upgraded dataset management (less moving parts for end-user)\n",
    "3. output changed from tif -> png\n",
    "\n",
    "## Known bug: Step 2 an empty windows displays in Mac. May also apply to linux/windows.\n",
    "\n",
    "### Beginner Essentials:\n",
    "1. Shift-Enter to run each cell. After you run, you should see an output \"done step #\". If not, an error has occured\n",
    "2. When inputting your own code/revising the code, make sure you close all your quotation marks '' and brackets (), [], {}.\n",
    "3. Don't leave any commas (,) hanging! (make sure an object always follows a comma. If there is nothing after a comma, remove the comma!\n",
    "4. Learning to code? Each line of code is annotated to help you understand how this code works!\n",
    "\n",
    "**Run all cells/steps sequentially, even the ones that do not need input**"
   ]
  },
  {
   "cell_type": "markdown",
   "metadata": {},
   "source": [
    "# 1. Importing Packages Required (No input required, just run)"
   ]
  },
  {
   "cell_type": "code",
   "execution_count": 1,
   "metadata": {},
   "outputs": [
    {
     "name": "stdout",
     "output_type": "stream",
     "text": [
      "done step 1\n"
     ]
    }
   ],
   "source": [
    "import pandas as pd #<- package used to import and organize data\n",
    "import numpy as np #<- package used to import and organize data\n",
    "import seaborn as sns #<- package used to plot graphs\n",
    "from matplotlib import pyplot as plt #<- package used to plot graphs\n",
    "import os #<- package used to work with system filepaths\n",
    "from ipywidgets import widgets #<- widget tool to generate button\n",
    "from IPython.display import display #<- displays button\n",
    "from ipyfilechooser import FileChooser\n",
    "# from tkinter import Tk, filedialog #<- Tkinter is a GUI package\n",
    "from tqdm.notebook import tqdm\n",
    "# import dask.dataframe as dd\n",
    "# import pingouin as pg\n",
    "pd.set_option('display.max_columns', 50)\n",
    "print(\"done step 1\")"
   ]
  },
  {
   "cell_type": "markdown",
   "metadata": {},
   "source": [
    "## 2. Pick filepath (just run and click button from output)\n",
    "\n",
    "Run the following cell and click the button 'Select Folder' to pick a filepath.\n",
    "\n",
    "**Important: Later on, this script uses the total file path for each file to import and group data. That means if your folder has whatever your strain is named, the script will not work.**\n",
    "\n",
    "(ex. if your folder has \"N2\" in it this script sees all files inside this folder as having the \"N2\" search key)\n",
    "\n",
    "**An easy fix is to just rename your folder to something else (make your strains lower-case, or just have the date)**"
   ]
  },
  {
   "cell_type": "code",
   "execution_count": 2,
   "metadata": {},
   "outputs": [
    {
     "data": {
      "application/vnd.jupyter.widget-view+json": {
       "model_id": "56170f35b79d4cf3a5ff5e83195e9c84",
       "version_major": 2,
       "version_minor": 0
      },
      "text/plain": [
       "FileChooser(path='/Users', filename='', title='', show_hidden=False, select_desc='Select', change_desc='Change…"
      ]
     },
     "metadata": {},
     "output_type": "display_data"
    }
   ],
   "source": [
    "starting_directory = '/Users'\n",
    "chooser = FileChooser(starting_directory)\n",
    "display(chooser)"
   ]
  },
  {
   "cell_type": "code",
   "execution_count": 3,
   "metadata": {},
   "outputs": [
    {
     "name": "stdout",
     "output_type": "stream",
     "text": [
      "/Users/gurmehak/Documents/RankinLab/Test_Datasets/PDScreen_TapHab_August15_2022\n"
     ]
    }
   ],
   "source": [
    "print(chooser.selected_path)\n",
    "folder_path=chooser.selected_path"
   ]
  },
  {
   "cell_type": "code",
   "execution_count": 4,
   "metadata": {},
   "outputs": [
    {
     "data": {
      "application/vnd.jupyter.widget-view+json": {
       "model_id": "d05664f10b9e47bbbb5b1bbc7204ea30",
       "version_major": 2,
       "version_minor": 0
      },
      "text/plain": [
       "Select(description='Screen:', options=('PD_Screen', 'ASD_Screen', 'G-Proteins_Screen', 'Glia_Genes_Screen', 'N…"
      ]
     },
     "metadata": {},
     "output_type": "display_data"
    }
   ],
   "source": [
    "screens = ['PD_Screen', 'ASD_Screen', 'G-Proteins_Screen', 'Glia_Genes_Screen', 'Neuron_Genes_Screen']\n",
    "\n",
    "screen_chooser = widgets.Select(options=screens, value=screens[0], description='Screen:')\n",
    "display(screen_chooser)"
   ]
  },
  {
   "cell_type": "code",
   "execution_count": 5,
   "metadata": {},
   "outputs": [],
   "source": [
    "Screen=screen_chooser.value"
   ]
  },
  {
   "cell_type": "markdown",
   "metadata": {},
   "source": [
    "# 3. User Defined Variables (Add input here)\n",
    "\n",
    "Here, we add some constants to help you blaze through this code.\n",
    "\n",
    "3.1: Setting time bins\n",
    "\n",
    "\n",
    "3.2: Setting view range for your graph\n",
    "- Top, bottom = y axis view range\n",
    "- left, right = x axis view range\n",
    "\n"
   ]
  },
  {
   "cell_type": "code",
   "execution_count": 6,
   "metadata": {},
   "outputs": [
    {
     "name": "stdout",
     "output_type": "stream",
     "text": [
      "[0.000e+00 1.000e+00 2.000e+00 ... 1.198e+03 1.199e+03 1.200e+03]\n",
      "done step 3\n"
     ]
    }
   ],
   "source": [
    "# Setting 1s Bins\n",
    "bins = np.linspace(0,1200,1201) # np.linspace(start, end, steps in between)\n",
    "print(bins)\n",
    "\n",
    "\n",
    "print(\"done step 3\")"
   ]
  },
  {
   "cell_type": "markdown",
   "metadata": {},
   "source": [
    "# 4. Construct filelist from folder path (No input required, just run)"
   ]
  },
  {
   "cell_type": "code",
   "execution_count": 24,
   "metadata": {},
   "outputs": [
    {
     "name": "stdout",
     "output_type": "stream",
     "text": [
      "Number of .dat files to process: 13\n",
      "done step 4\n"
     ]
    }
   ],
   "source": [
    "os.chdir(folder_path) # setting your working directory so that your images will be saved here\n",
    "\n",
    "filelist = list() # empty list\n",
    "for root, dirs, files in os.walk(folder_path): # this for loop goes through your folder \n",
    "    for name in files:\n",
    "        if name.endswith('.dat'): # and takes out all files with a .dat (file that contains your data)\n",
    "            if \"_\" in name.split(\".\")[-2]:\n",
    "                filepath = os.path.join(root, name) # Notes down the file path of each data file\n",
    "                filelist.append(filepath) # saves it into the list\n",
    "\n",
    "if not filelist:\n",
    "    raise FileNotFoundError(\"No .dat files found in the selected folder!\")\n",
    "else:\n",
    "    print(f\"Number of .dat files to process: {len(filelist)}\")\n",
    "    # print(f\"Example of first and last file saved: {filelist[0]}, {filelist[-1]}\") \n",
    "\n",
    "print('done step 4')"
   ]
  },
  {
   "cell_type": "markdown",
   "metadata": {},
   "source": [
    "# 5. Process Data Function (No input required, just run)"
   ]
  },
  {
   "cell_type": "code",
   "execution_count": 29,
   "metadata": {},
   "outputs": [
    {
     "name": "stdout",
     "output_type": "stream",
     "text": [
      "done step 5\n"
     ]
    }
   ],
   "source": [
    "def ProcessData(strain): \n",
    "    \"\"\"\n",
    "    Filters and processes .dat files matching the given strain.\n",
    "\n",
    "    Parameters: \n",
    "        strain (str): keyword to match in the files\n",
    "\n",
    "    Returns:\n",
    "        dict: N (Plate number) and Dataframe with required columns (\"time\", \"dura\", \"dist\", \"prob\", \"speed\", \"plate\", \"Date\",\"Plate_id\",\"Screen\")\n",
    "\n",
    "    \"\"\"\n",
    "    strain_filelist = [x for x in filelist if strain in x] # Goes through the list and filters for keyword\n",
    "    Strain_N = len(strain_filelist) # Finds the number of plates per strain\n",
    "    if Strain_N == 0:\n",
    "        raise AssertionError ('{} is not a good identifier'.format(strain))\n",
    "    else:\n",
    "        pass\n",
    "        print(f'Strain {strain}')\n",
    "        print(f'Number of plates: {Strain_N}') \n",
    "        \n",
    "        # visiting files in this strain\n",
    "        strain_filelist = [file for file in filelist if strain in file]\n",
    "        df_list=[]\n",
    "        for file in strain_filelist:\n",
    "            if file.split('/')[-1].startswith('._'):\n",
    "                pass\n",
    "            else:\n",
    "                try:\n",
    "                    print(f\"File: {file}\")\n",
    "                    df= pd.read_csv(file, sep=' ', header = None, encoding_errors='ignore')\n",
    "                    df['Plate_id'] = file.split('/')[-1].split('_')[-1].split('.')[0]\n",
    "                    df['Date'] = file.split('/')[-2].split('_')[0]\n",
    "                    df['Screen'] = file.split('/')[-4]\n",
    "                    df_list.append(df)\n",
    "                except:\n",
    "                    print(f\"error in file {file}\")\n",
    "                    pass\n",
    "        DF_Total = pd.concat(df_list, ignore_index = True)\n",
    "        DF_Total = DF_Total.rename( \n",
    "                    {0:'Time',\n",
    "                    1:'n',\n",
    "                    2:'Number',\n",
    "                    3:'Instantaneous Speed',\n",
    "                    4:'Interval Speed',\n",
    "                    5:'Bias',\n",
    "                    6:'Tap',\n",
    "                    7:'Puff',\n",
    "                    8:'x',\n",
    "                    9:'y',\n",
    "                    10:'Morphwidth',\n",
    "                    11:'Midline',\n",
    "                    12:'Area',\n",
    "                    13:'Angular Speed',\n",
    "                    14:'Aspect Ratio',\n",
    "                    15:'Kink',\n",
    "                    16:'Curve',\n",
    "                    17:'Crab',\n",
    "                    18:'Pathlength'}, axis=1)\n",
    "        \n",
    "        #check function here for NaN Columns\n",
    "        DF_Total['plate'] = 0\n",
    "\n",
    "        print(\"---------------------------------------------------------------------------------------------------------------------------------------------------------------------------\")\n",
    "\n",
    "    return{\n",
    "            'N': Strain_N,\n",
    "            'Confirm':DF_Total\n",
    "            # 'Final': DF_Final\n",
    "    }\n",
    "\n",
    "\n",
    "print('done step 5')"
   ]
  },
  {
   "cell_type": "markdown",
   "metadata": {},
   "source": [
    "# 6.1 Process Data\n",
    "Gurmehak - new annotation here"
   ]
  },
  {
   "cell_type": "code",
   "execution_count": 26,
   "metadata": {},
   "outputs": [
    {
     "name": "stdout",
     "output_type": "stream",
     "text": [
      "Number of genotypes/strains in the experiment: 3\n",
      "1: N2\n",
      "2: hipr-1_ok1081\n",
      "3: hipr-1_tm10120\n",
      "done step 6.1\n"
     ]
    }
   ],
   "source": [
    "genotype=[]\n",
    "for f in filelist:\n",
    "    genotype.append(f.split('/')[-3])\n",
    "\n",
    "genotypes=np.unique(genotype).tolist()\n",
    "\n",
    "if Screen ==\"Neuron_Genes_Screen\":\n",
    "    genotypes.insert(0, genotypes.pop(genotypes.index(\"N2_XJ1\")))\n",
    "    genotypes.insert(0, genotypes.pop(genotypes.index(\"N2_N2\")))\n",
    "else:\n",
    "    genotypes.insert(0, genotypes.pop(genotypes.index(\"N2\")))\n",
    "\n",
    "nstrains = list(range(1, len(genotypes) + 1))\n",
    "StrainNames = {nstrains[i]: genotypes[i] for i in range(len(nstrains))}\n",
    "\n",
    "print(f\"Number of genotypes/strains in the experiment: {len(genotypes)}\")\n",
    "\n",
    "# Display the first 5 Strain names in the experiment\n",
    "for k in list(StrainNames)[:5]:\n",
    "    print(f\"{k}: {StrainNames[k]}\")\n",
    "\n",
    "\n",
    "print(\"done step 6.1\")\n",
    "\n",
    "# <---------------- Test element to use for dictionary buidling -------------------\n",
    "# s = '/Users/Joseph/Desktop/OnFoodOffFoodTest/N2_OnFood/20220401_163048/N2_10x1_n96h20C_360sA0401_ka.00065.dat'\n",
    "# slist=s.split('/')[5]\n",
    "# print(slist)\n",
    "# print(list(range(1,5+1)))"
   ]
  },
  {
   "cell_type": "markdown",
   "metadata": {},
   "source": [
    "# 6.2 Process Data (just run this cell)"
   ]
  },
  {
   "cell_type": "code",
   "execution_count": 30,
   "metadata": {},
   "outputs": [
    {
     "data": {
      "application/vnd.jupyter.widget-view+json": {
       "model_id": "1f412e8b8b71418d81f8f71119d6e4f8",
       "version_major": 2,
       "version_minor": 0
      },
      "text/plain": [
       "  0%|          | 0/3 [00:00<?, ?it/s]"
      ]
     },
     "metadata": {},
     "output_type": "display_data"
    },
    {
     "name": "stdout",
     "output_type": "stream",
     "text": [
      "Strain N2\n",
      "Number of plates: 5\n",
      "File: /Users/gurmehak/Documents/RankinLab/Test_Datasets/PDScreen_TapHab_August15_2022/N2/20220815_101538/N2_10x2_f72h20C_600s31x10s10s_B0811ab.dat\n",
      "File: /Users/gurmehak/Documents/RankinLab/Test_Datasets/PDScreen_TapHab_August15_2022/N2/20220815_102652/N2_10x2_f96h20C_600s31x10s10s_A0811aa.dat\n",
      "File: /Users/gurmehak/Documents/RankinLab/Test_Datasets/PDScreen_TapHab_August15_2022/N2/20220815_122801/N2_10x2_f96h20C_600s31x10s10s_A0811ad.dat\n",
      "File: /Users/gurmehak/Documents/RankinLab/Test_Datasets/PDScreen_TapHab_August15_2022/N2/20220815_121502/N2_10x2_f72h20C_600s31x10s10s_B0811ae.dat\n",
      "File: /Users/gurmehak/Documents/RankinLab/Test_Datasets/PDScreen_TapHab_August15_2022/N2/20220815_103433/N2_10x2_f72h20C_600s31x10s10s_C0811ac.dat\n",
      "---------------------------------------------------------------------------------------------------------------------------------------------------------------------------\n",
      "Strain hipr-1_ok1081\n",
      "Number of plates: 4\n",
      "File: /Users/gurmehak/Documents/RankinLab/Test_Datasets/PDScreen_TapHab_August15_2022/hipr-1_ok1081/20220815_114829_removed/RB1102_10x2_f96h20C_600s31x10s10s_A0811bc.dat\n",
      "File: /Users/gurmehak/Documents/RankinLab/Test_Datasets/PDScreen_TapHab_August15_2022/hipr-1_ok1081/20220815_100526/RB1102_10x2_f72h20C_600s31x10s10s_C0811bb.dat\n",
      "File: /Users/gurmehak/Documents/RankinLab/Test_Datasets/PDScreen_TapHab_August15_2022/hipr-1_ok1081/20220815_114931/RB1102_10x2_f72h20C_600s31x10s10s_B0811bd.dat\n",
      "File: /Users/gurmehak/Documents/RankinLab/Test_Datasets/PDScreen_TapHab_August15_2022/hipr-1_ok1081/20220815_120440/RB1102_10x2_f72h20C_600s31x10s10s_C0811be.dat\n",
      "---------------------------------------------------------------------------------------------------------------------------------------------------------------------------\n",
      "Strain hipr-1_tm10120\n",
      "Number of plates: 4\n",
      "File: /Users/gurmehak/Documents/RankinLab/Test_Datasets/PDScreen_TapHab_August15_2022/hipr-1_tm10120/20220815_111005/FX31344_10x2_f72h20C_600s31x10s10s_B0811cc.dat\n",
      "File: /Users/gurmehak/Documents/RankinLab/Test_Datasets/PDScreen_TapHab_August15_2022/hipr-1_tm10120/20220815_113906_removed/FX31344_10x2_f72h20C_600s31x10s10s_C0811cd.dat\n",
      "File: /Users/gurmehak/Documents/RankinLab/Test_Datasets/PDScreen_TapHab_August15_2022/hipr-1_tm10120/20220815_093805/FX31344_10x2_f72h20C_600s31x10s10s_C0811ca.dat\n",
      "File: /Users/gurmehak/Documents/RankinLab/Test_Datasets/PDScreen_TapHab_August15_2022/hipr-1_tm10120/20220815_112320/FX31344_10x2_f96h20C_600s31x10s10s_A0811cb.dat\n",
      "---------------------------------------------------------------------------------------------------------------------------------------------------------------------------\n",
      "done step 6.2\n"
     ]
    }
   ],
   "source": [
    "DataLists = [0] # generates empty list at index 0 because we want indexing to start at 1 \n",
    "                # when I say #1, I want the first point, not the second point\n",
    "\n",
    "# the loop below goes through the dictionary in step 6.1 and processes data\n",
    "for s in tqdm(StrainNames.values()): \n",
    "    if not s == '':\n",
    "        DataLists.append(ProcessData(s)['Confirm']) # appends all data into a list of dataframes\n",
    "\n",
    "print('done step 6.2')"
   ]
  },
  {
   "cell_type": "markdown",
   "metadata": {},
   "source": [
    "# Convert float64 data to float32 to reduce memory load (can also convert to 16 if needed)\n",
    "\n",
    "For plain english:\n",
    "\n",
    "float16 = 4 decimal points\n",
    "\n",
    "float32 = 8 decimal points\n",
    "\n",
    "float64 = 16 decimal points\n",
    "\n",
    "more decimal points = more data/memory that computer has to keep track of"
   ]
  },
  {
   "cell_type": "code",
   "execution_count": 1,
   "metadata": {},
   "outputs": [],
   "source": [
    "# commented out this section in case memory load needs to be reduced\n",
    "\n",
    "# for n in tqdm(DataLists[1:]:\n",
    "#     print(n)\n",
    "#     TestData=n\n",
    "#     TestData[TestData.select_dtypes(np.float64).columns]=TestData.select_dtypes(np.float64).astype(np.float16)\n",
    "    "
   ]
  },
  {
   "cell_type": "code",
   "execution_count": null,
   "metadata": {},
   "outputs": [
    {
     "name": "stdout",
     "output_type": "stream",
     "text": [
      "    Time   n  Number  Instantaneous Speed  Interval Speed  Bias  Tap  Puff  \\\n",
      "0  0.009  13       0                  0.0             0.0   0.0    0     0   \n",
      "1  0.061  13       0                  0.0             0.0   0.0    0     0   \n",
      "2  0.089  12       0                  0.0             0.0   0.0    0     0   \n",
      "3  0.136  12       0                  0.0             0.0   0.0    0     0   \n",
      "4  0.168  12       0                  0.0             0.0   0.0    0     0   \n",
      "\n",
      "     x    y  Morphwidth  Midline  Area  Angular Speed  Aspect Ratio  Kink  \\\n",
      "0  0.0  0.0         0.0      0.0   0.0            0.0           0.0   0.0   \n",
      "1  0.0  0.0         0.0      0.0   0.0            0.0           0.0   0.0   \n",
      "2  0.0  0.0         0.0      0.0   0.0            0.0           0.0   0.0   \n",
      "3  0.0  0.0         0.0      0.0   0.0            0.0           0.0   0.0   \n",
      "4  0.0  0.0         0.0      0.0   0.0            0.0           0.0   0.0   \n",
      "\n",
      "   Curve  Crab  Pathlength Plate_id      Date                         Screen  \\\n",
      "0    0.0   0.0         0.0  B0811ab  20220815  PDScreen_TapHab_August15_2022   \n",
      "1    0.0   0.0         0.0  B0811ab  20220815  PDScreen_TapHab_August15_2022   \n",
      "2    0.0   0.0         0.0  B0811ab  20220815  PDScreen_TapHab_August15_2022   \n",
      "3    0.0   0.0         0.0  B0811ab  20220815  PDScreen_TapHab_August15_2022   \n",
      "4    0.0   0.0         0.0  B0811ab  20220815  PDScreen_TapHab_August15_2022   \n",
      "\n",
      "   plate  \n",
      "0      0  \n",
      "1      0  \n",
      "2      0  \n",
      "3      0  \n",
      "4      0  \n"
     ]
    }
   ],
   "source": [
    "DataLists[1].head()"
   ]
  },
  {
   "cell_type": "markdown",
   "metadata": {},
   "source": [
    "# 7. Grouping Data and Naming\n",
    "\n",
    "For Gurmehak: I've removed outdated annotation here (user input is no longer required). Please annotate this section to better reflect what the below chunk does."
   ]
  },
  {
   "cell_type": "code",
   "execution_count": null,
   "metadata": {},
   "outputs": [
    {
     "name": "stdout",
     "output_type": "stream",
     "text": [
      "   index     Time   n  Number  Instantaneous Speed  Interval Speed  Bias  \\\n",
      "0   9775  490.016  14      12               0.0823          0.1195  0.25   \n",
      "1   9776  490.056  14      12               0.0736          0.1024  0.25   \n",
      "2   9777  490.103  14      12               0.0784          0.1024  0.25   \n",
      "3   9778  490.144  14      12               0.0970          0.1118  0.25   \n",
      "4   9779  490.186  14      12               0.0994          0.1197  0.25   \n",
      "\n",
      "   Morphwidth  Midline      Area  Angular Speed  Aspect Ratio  Kink  Curve  \\\n",
      "0      0.1078   1.0908  0.142641            6.1         0.225  31.1   25.0   \n",
      "1      0.1059   1.0880  0.140150            5.3         0.219  30.9   24.7   \n",
      "2      0.1050   1.0914  0.138935            5.2         0.219  31.0   24.6   \n",
      "3      0.1054   1.0935  0.140575            5.8         0.218  30.6   24.5   \n",
      "4      0.1110   1.1026  0.146894            5.6         0.227  31.4   24.4   \n",
      "\n",
      "     Crab  Pathlength Plate_id      Date                         Screen  \\\n",
      "0  0.0066      11.893  B0811ab  20220815  PDScreen_TapHab_August15_2022   \n",
      "1  0.0064      11.896  B0811ab  20220815  PDScreen_TapHab_August15_2022   \n",
      "2  0.0057      11.898  B0811ab  20220815  PDScreen_TapHab_August15_2022   \n",
      "3  0.0103      11.901  B0811ab  20220815  PDScreen_TapHab_August15_2022   \n",
      "4  0.0097      11.904  B0811ab  20220815  PDScreen_TapHab_August15_2022   \n",
      "\n",
      "  dataset Gene Allele  \n",
      "0      N2   N2     N2  \n",
      "1      N2   N2     N2  \n",
      "2      N2   N2     N2  \n",
      "3      N2   N2     N2  \n",
      "4      N2   N2     N2  \n",
      "   index     Time   n  Number  Instantaneous Speed  Interval Speed  Bias  \\\n",
      "0   9775  490.016  14      12               0.0823          0.1195  0.25   \n",
      "1   9776  490.056  14      12               0.0736          0.1024  0.25   \n",
      "2   9777  490.103  14      12               0.0784          0.1024  0.25   \n",
      "3   9778  490.144  14      12               0.0970          0.1118  0.25   \n",
      "4   9779  490.186  14      12               0.0994          0.1197  0.25   \n",
      "\n",
      "   Morphwidth  Midline      Area  Angular Speed  Aspect Ratio  Kink  Curve  \\\n",
      "0      0.1078   1.0908  0.142641            6.1         0.225  31.1   25.0   \n",
      "1      0.1059   1.0880  0.140150            5.3         0.219  30.9   24.7   \n",
      "2      0.1050   1.0914  0.138935            5.2         0.219  31.0   24.6   \n",
      "3      0.1054   1.0935  0.140575            5.8         0.218  30.6   24.5   \n",
      "4      0.1110   1.1026  0.146894            5.6         0.227  31.4   24.4   \n",
      "\n",
      "     Crab  Pathlength Plate_id      Date     Screen dataset Gene Allele  \n",
      "0  0.0066      11.893  B0811ab  20220815  PD_Screen      N2   N2     N2  \n",
      "1  0.0064      11.896  B0811ab  20220815  PD_Screen      N2   N2     N2  \n",
      "2  0.0057      11.898  B0811ab  20220815  PD_Screen      N2   N2     N2  \n",
      "3  0.0103      11.901  B0811ab  20220815  PD_Screen      N2   N2     N2  \n",
      "4  0.0097      11.904  B0811ab  20220815  PD_Screen      N2   N2     N2  \n",
      "done step 7\n"
     ]
    }
   ],
   "source": [
    "TotalConcatenated=pd.concat(df.assign(dataset=StrainNames.get(i+1)) for i,df in enumerate(DataLists[1:]))\n",
    "\n",
    "TotalConcatenated[['Gene', 'Allele']] = TotalConcatenated['dataset'].str.split('_', n=1, expand=True)\n",
    "\n",
    "TotalConcatenated['Allele']=TotalConcatenated['Allele'].fillna('N2')\n",
    "\n",
    "Baseline_data=TotalConcatenated[((TotalConcatenated.Time<=590)&(TotalConcatenated.Time >=490))] ### future changes to be made\n",
    "\n",
    "Baseline_data=Baseline_data.drop(columns=[\"plate\", \"Tap\", \"Puff\", \"x\",\"y\"]).dropna().reset_index(drop=True)\n",
    "\n",
    "print(Baseline_data.head())\n",
    "\n",
    "Baseline_data['Screen']=Screen\n",
    "\n",
    "Baseline_data.head()"
   ]
  },
  {
   "cell_type": "code",
   "execution_count": null,
   "metadata": {},
   "outputs": [],
   "source": [
    "print('done step 7')"
   ]
  },
  {
   "cell_type": "markdown",
   "metadata": {},
   "source": [
    "# Save dataframe as `.csv`"
   ]
  },
  {
   "cell_type": "code",
   "execution_count": 34,
   "metadata": {},
   "outputs": [
    {
     "name": "stdout",
     "output_type": "stream",
     "text": [
      "saved as .csv!\n"
     ]
    }
   ],
   "source": [
    "Baseline_data.to_csv(f\"{Baseline_data.Screen[0]}_baseline_output.csv\")\n",
    "print('saved as .csv!')"
   ]
  },
  {
   "cell_type": "markdown",
   "metadata": {},
   "source": [
    "# Done!"
   ]
  }
 ],
 "metadata": {
  "kernelspec": {
   "display_name": "Python 3 (ipykernel)",
   "language": "python",
   "name": "python3"
  },
  "language_info": {
   "codemirror_mode": {
    "name": "ipython",
    "version": 3
   },
   "file_extension": ".py",
   "mimetype": "text/x-python",
   "name": "python",
   "nbconvert_exporter": "python",
   "pygments_lexer": "ipython3",
   "version": "3.11.1"
  }
 },
 "nbformat": 4,
 "nbformat_minor": 4
}
